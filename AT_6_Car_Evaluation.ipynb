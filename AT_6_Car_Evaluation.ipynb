{
 "cells": [
  {
   "cell_type": "code",
   "execution_count": 1,
   "id": "f1010480",
   "metadata": {},
   "outputs": [],
   "source": [
    "import numpy as np\n",
    "import pandas as pd\n",
    "import matplotlib.pyplot as plt\n",
    "import seaborn as sns\n",
    "%matplotlib inline"
   ]
  },
  {
   "cell_type": "code",
   "execution_count": 2,
   "id": "488be504",
   "metadata": {},
   "outputs": [],
   "source": [
    "car = pd.read_csv('car.data', header = None)"
   ]
  },
  {
   "cell_type": "code",
   "execution_count": 3,
   "id": "b70ed34d",
   "metadata": {},
   "outputs": [
    {
     "data": {
      "text/html": [
       "<div>\n",
       "<style scoped>\n",
       "    .dataframe tbody tr th:only-of-type {\n",
       "        vertical-align: middle;\n",
       "    }\n",
       "\n",
       "    .dataframe tbody tr th {\n",
       "        vertical-align: top;\n",
       "    }\n",
       "\n",
       "    .dataframe thead th {\n",
       "        text-align: right;\n",
       "    }\n",
       "</style>\n",
       "<table border=\"1\" class=\"dataframe\">\n",
       "  <thead>\n",
       "    <tr style=\"text-align: right;\">\n",
       "      <th></th>\n",
       "      <th>0</th>\n",
       "      <th>1</th>\n",
       "      <th>2</th>\n",
       "      <th>3</th>\n",
       "      <th>4</th>\n",
       "      <th>5</th>\n",
       "      <th>6</th>\n",
       "    </tr>\n",
       "  </thead>\n",
       "  <tbody>\n",
       "    <tr>\n",
       "      <th>0</th>\n",
       "      <td>vhigh</td>\n",
       "      <td>vhigh</td>\n",
       "      <td>2</td>\n",
       "      <td>2</td>\n",
       "      <td>small</td>\n",
       "      <td>low</td>\n",
       "      <td>unacc</td>\n",
       "    </tr>\n",
       "    <tr>\n",
       "      <th>1</th>\n",
       "      <td>vhigh</td>\n",
       "      <td>vhigh</td>\n",
       "      <td>2</td>\n",
       "      <td>2</td>\n",
       "      <td>small</td>\n",
       "      <td>med</td>\n",
       "      <td>unacc</td>\n",
       "    </tr>\n",
       "    <tr>\n",
       "      <th>2</th>\n",
       "      <td>vhigh</td>\n",
       "      <td>vhigh</td>\n",
       "      <td>2</td>\n",
       "      <td>2</td>\n",
       "      <td>small</td>\n",
       "      <td>high</td>\n",
       "      <td>unacc</td>\n",
       "    </tr>\n",
       "    <tr>\n",
       "      <th>3</th>\n",
       "      <td>vhigh</td>\n",
       "      <td>vhigh</td>\n",
       "      <td>2</td>\n",
       "      <td>2</td>\n",
       "      <td>med</td>\n",
       "      <td>low</td>\n",
       "      <td>unacc</td>\n",
       "    </tr>\n",
       "    <tr>\n",
       "      <th>4</th>\n",
       "      <td>vhigh</td>\n",
       "      <td>vhigh</td>\n",
       "      <td>2</td>\n",
       "      <td>2</td>\n",
       "      <td>med</td>\n",
       "      <td>med</td>\n",
       "      <td>unacc</td>\n",
       "    </tr>\n",
       "  </tbody>\n",
       "</table>\n",
       "</div>"
      ],
      "text/plain": [
       "       0      1  2  3      4     5      6\n",
       "0  vhigh  vhigh  2  2  small   low  unacc\n",
       "1  vhigh  vhigh  2  2  small   med  unacc\n",
       "2  vhigh  vhigh  2  2  small  high  unacc\n",
       "3  vhigh  vhigh  2  2    med   low  unacc\n",
       "4  vhigh  vhigh  2  2    med   med  unacc"
      ]
     },
     "execution_count": 3,
     "metadata": {},
     "output_type": "execute_result"
    }
   ],
   "source": [
    "car.head()"
   ]
  },
  {
   "cell_type": "code",
   "execution_count": 4,
   "id": "c01145aa",
   "metadata": {},
   "outputs": [],
   "source": [
    "col_names = ['buying', 'maintenance', 'doors', 'persons', 'lug_boot', 'safety', 'class']"
   ]
  },
  {
   "cell_type": "code",
   "execution_count": 5,
   "id": "47484242",
   "metadata": {},
   "outputs": [],
   "source": [
    "car.columns = col_names"
   ]
  },
  {
   "cell_type": "code",
   "execution_count": 6,
   "id": "c2a56265",
   "metadata": {},
   "outputs": [
    {
     "data": {
      "text/html": [
       "<div>\n",
       "<style scoped>\n",
       "    .dataframe tbody tr th:only-of-type {\n",
       "        vertical-align: middle;\n",
       "    }\n",
       "\n",
       "    .dataframe tbody tr th {\n",
       "        vertical-align: top;\n",
       "    }\n",
       "\n",
       "    .dataframe thead th {\n",
       "        text-align: right;\n",
       "    }\n",
       "</style>\n",
       "<table border=\"1\" class=\"dataframe\">\n",
       "  <thead>\n",
       "    <tr style=\"text-align: right;\">\n",
       "      <th></th>\n",
       "      <th>buying</th>\n",
       "      <th>maintenance</th>\n",
       "      <th>doors</th>\n",
       "      <th>persons</th>\n",
       "      <th>lug_boot</th>\n",
       "      <th>safety</th>\n",
       "      <th>class</th>\n",
       "    </tr>\n",
       "  </thead>\n",
       "  <tbody>\n",
       "    <tr>\n",
       "      <th>0</th>\n",
       "      <td>vhigh</td>\n",
       "      <td>vhigh</td>\n",
       "      <td>2</td>\n",
       "      <td>2</td>\n",
       "      <td>small</td>\n",
       "      <td>low</td>\n",
       "      <td>unacc</td>\n",
       "    </tr>\n",
       "    <tr>\n",
       "      <th>1</th>\n",
       "      <td>vhigh</td>\n",
       "      <td>vhigh</td>\n",
       "      <td>2</td>\n",
       "      <td>2</td>\n",
       "      <td>small</td>\n",
       "      <td>med</td>\n",
       "      <td>unacc</td>\n",
       "    </tr>\n",
       "    <tr>\n",
       "      <th>2</th>\n",
       "      <td>vhigh</td>\n",
       "      <td>vhigh</td>\n",
       "      <td>2</td>\n",
       "      <td>2</td>\n",
       "      <td>small</td>\n",
       "      <td>high</td>\n",
       "      <td>unacc</td>\n",
       "    </tr>\n",
       "    <tr>\n",
       "      <th>3</th>\n",
       "      <td>vhigh</td>\n",
       "      <td>vhigh</td>\n",
       "      <td>2</td>\n",
       "      <td>2</td>\n",
       "      <td>med</td>\n",
       "      <td>low</td>\n",
       "      <td>unacc</td>\n",
       "    </tr>\n",
       "    <tr>\n",
       "      <th>4</th>\n",
       "      <td>vhigh</td>\n",
       "      <td>vhigh</td>\n",
       "      <td>2</td>\n",
       "      <td>2</td>\n",
       "      <td>med</td>\n",
       "      <td>med</td>\n",
       "      <td>unacc</td>\n",
       "    </tr>\n",
       "    <tr>\n",
       "      <th>...</th>\n",
       "      <td>...</td>\n",
       "      <td>...</td>\n",
       "      <td>...</td>\n",
       "      <td>...</td>\n",
       "      <td>...</td>\n",
       "      <td>...</td>\n",
       "      <td>...</td>\n",
       "    </tr>\n",
       "    <tr>\n",
       "      <th>1723</th>\n",
       "      <td>low</td>\n",
       "      <td>low</td>\n",
       "      <td>5more</td>\n",
       "      <td>more</td>\n",
       "      <td>med</td>\n",
       "      <td>med</td>\n",
       "      <td>good</td>\n",
       "    </tr>\n",
       "    <tr>\n",
       "      <th>1724</th>\n",
       "      <td>low</td>\n",
       "      <td>low</td>\n",
       "      <td>5more</td>\n",
       "      <td>more</td>\n",
       "      <td>med</td>\n",
       "      <td>high</td>\n",
       "      <td>vgood</td>\n",
       "    </tr>\n",
       "    <tr>\n",
       "      <th>1725</th>\n",
       "      <td>low</td>\n",
       "      <td>low</td>\n",
       "      <td>5more</td>\n",
       "      <td>more</td>\n",
       "      <td>big</td>\n",
       "      <td>low</td>\n",
       "      <td>unacc</td>\n",
       "    </tr>\n",
       "    <tr>\n",
       "      <th>1726</th>\n",
       "      <td>low</td>\n",
       "      <td>low</td>\n",
       "      <td>5more</td>\n",
       "      <td>more</td>\n",
       "      <td>big</td>\n",
       "      <td>med</td>\n",
       "      <td>good</td>\n",
       "    </tr>\n",
       "    <tr>\n",
       "      <th>1727</th>\n",
       "      <td>low</td>\n",
       "      <td>low</td>\n",
       "      <td>5more</td>\n",
       "      <td>more</td>\n",
       "      <td>big</td>\n",
       "      <td>high</td>\n",
       "      <td>vgood</td>\n",
       "    </tr>\n",
       "  </tbody>\n",
       "</table>\n",
       "<p>1728 rows × 7 columns</p>\n",
       "</div>"
      ],
      "text/plain": [
       "     buying maintenance  doors persons lug_boot safety  class\n",
       "0     vhigh       vhigh      2       2    small    low  unacc\n",
       "1     vhigh       vhigh      2       2    small    med  unacc\n",
       "2     vhigh       vhigh      2       2    small   high  unacc\n",
       "3     vhigh       vhigh      2       2      med    low  unacc\n",
       "4     vhigh       vhigh      2       2      med    med  unacc\n",
       "...     ...         ...    ...     ...      ...    ...    ...\n",
       "1723    low         low  5more    more      med    med   good\n",
       "1724    low         low  5more    more      med   high  vgood\n",
       "1725    low         low  5more    more      big    low  unacc\n",
       "1726    low         low  5more    more      big    med   good\n",
       "1727    low         low  5more    more      big   high  vgood\n",
       "\n",
       "[1728 rows x 7 columns]"
      ]
     },
     "execution_count": 6,
     "metadata": {},
     "output_type": "execute_result"
    }
   ],
   "source": [
    "car"
   ]
  },
  {
   "cell_type": "code",
   "execution_count": 7,
   "id": "962b12e7",
   "metadata": {},
   "outputs": [
    {
     "name": "stdout",
     "output_type": "stream",
     "text": [
      "<class 'pandas.core.frame.DataFrame'>\n",
      "RangeIndex: 1728 entries, 0 to 1727\n",
      "Data columns (total 7 columns):\n",
      " #   Column       Non-Null Count  Dtype \n",
      "---  ------       --------------  ----- \n",
      " 0   buying       1728 non-null   object\n",
      " 1   maintenance  1728 non-null   object\n",
      " 2   doors        1728 non-null   object\n",
      " 3   persons      1728 non-null   object\n",
      " 4   lug_boot     1728 non-null   object\n",
      " 5   safety       1728 non-null   object\n",
      " 6   class        1728 non-null   object\n",
      "dtypes: object(7)\n",
      "memory usage: 94.6+ KB\n"
     ]
    }
   ],
   "source": [
    "car.info()"
   ]
  },
  {
   "cell_type": "code",
   "execution_count": 8,
   "id": "02789ece",
   "metadata": {},
   "outputs": [
    {
     "data": {
      "text/plain": [
       "buying         0\n",
       "maintenance    0\n",
       "doors          0\n",
       "persons        0\n",
       "lug_boot       0\n",
       "safety         0\n",
       "class          0\n",
       "dtype: int64"
      ]
     },
     "execution_count": 8,
     "metadata": {},
     "output_type": "execute_result"
    }
   ],
   "source": [
    "car.isnull().sum()"
   ]
  },
  {
   "cell_type": "code",
   "execution_count": 9,
   "id": "b3923d7c",
   "metadata": {},
   "outputs": [
    {
     "data": {
      "text/plain": [
       "0"
      ]
     },
     "execution_count": 9,
     "metadata": {},
     "output_type": "execute_result"
    }
   ],
   "source": [
    "car.duplicated().sum()"
   ]
  },
  {
   "cell_type": "code",
   "execution_count": 10,
   "id": "b87b64db",
   "metadata": {},
   "outputs": [
    {
     "data": {
      "text/html": [
       "<div>\n",
       "<style scoped>\n",
       "    .dataframe tbody tr th:only-of-type {\n",
       "        vertical-align: middle;\n",
       "    }\n",
       "\n",
       "    .dataframe tbody tr th {\n",
       "        vertical-align: top;\n",
       "    }\n",
       "\n",
       "    .dataframe thead th {\n",
       "        text-align: right;\n",
       "    }\n",
       "</style>\n",
       "<table border=\"1\" class=\"dataframe\">\n",
       "  <thead>\n",
       "    <tr style=\"text-align: right;\">\n",
       "      <th></th>\n",
       "      <th>buying</th>\n",
       "      <th>maintenance</th>\n",
       "      <th>doors</th>\n",
       "      <th>persons</th>\n",
       "      <th>lug_boot</th>\n",
       "      <th>safety</th>\n",
       "      <th>class</th>\n",
       "    </tr>\n",
       "  </thead>\n",
       "  <tbody>\n",
       "    <tr>\n",
       "      <th>count</th>\n",
       "      <td>1728</td>\n",
       "      <td>1728</td>\n",
       "      <td>1728</td>\n",
       "      <td>1728</td>\n",
       "      <td>1728</td>\n",
       "      <td>1728</td>\n",
       "      <td>1728</td>\n",
       "    </tr>\n",
       "    <tr>\n",
       "      <th>unique</th>\n",
       "      <td>4</td>\n",
       "      <td>4</td>\n",
       "      <td>4</td>\n",
       "      <td>3</td>\n",
       "      <td>3</td>\n",
       "      <td>3</td>\n",
       "      <td>4</td>\n",
       "    </tr>\n",
       "    <tr>\n",
       "      <th>top</th>\n",
       "      <td>vhigh</td>\n",
       "      <td>vhigh</td>\n",
       "      <td>2</td>\n",
       "      <td>2</td>\n",
       "      <td>small</td>\n",
       "      <td>low</td>\n",
       "      <td>unacc</td>\n",
       "    </tr>\n",
       "    <tr>\n",
       "      <th>freq</th>\n",
       "      <td>432</td>\n",
       "      <td>432</td>\n",
       "      <td>432</td>\n",
       "      <td>576</td>\n",
       "      <td>576</td>\n",
       "      <td>576</td>\n",
       "      <td>1210</td>\n",
       "    </tr>\n",
       "  </tbody>\n",
       "</table>\n",
       "</div>"
      ],
      "text/plain": [
       "       buying maintenance doors persons lug_boot safety  class\n",
       "count    1728        1728  1728    1728     1728   1728   1728\n",
       "unique      4           4     4       3        3      3      4\n",
       "top     vhigh       vhigh     2       2    small    low  unacc\n",
       "freq      432         432   432     576      576    576   1210"
      ]
     },
     "execution_count": 10,
     "metadata": {},
     "output_type": "execute_result"
    }
   ],
   "source": [
    "car.describe()"
   ]
  },
  {
   "cell_type": "code",
   "execution_count": 11,
   "id": "d8132b32",
   "metadata": {},
   "outputs": [
    {
     "data": {
      "text/plain": [
       "vhigh    432\n",
       "high     432\n",
       "med      432\n",
       "low      432\n",
       "Name: buying, dtype: int64"
      ]
     },
     "execution_count": 11,
     "metadata": {},
     "output_type": "execute_result"
    }
   ],
   "source": [
    "car['buying'].value_counts()"
   ]
  },
  {
   "cell_type": "code",
   "execution_count": 12,
   "id": "7b4aa2be",
   "metadata": {},
   "outputs": [
    {
     "data": {
      "text/plain": [
       "vhigh    432\n",
       "high     432\n",
       "med      432\n",
       "low      432\n",
       "Name: maintenance, dtype: int64"
      ]
     },
     "execution_count": 12,
     "metadata": {},
     "output_type": "execute_result"
    }
   ],
   "source": [
    "car['maintenance'].value_counts()"
   ]
  },
  {
   "cell_type": "code",
   "execution_count": 13,
   "id": "26ca88c6",
   "metadata": {},
   "outputs": [
    {
     "data": {
      "text/plain": [
       "2        432\n",
       "3        432\n",
       "4        432\n",
       "5more    432\n",
       "Name: doors, dtype: int64"
      ]
     },
     "execution_count": 13,
     "metadata": {},
     "output_type": "execute_result"
    }
   ],
   "source": [
    "car['doors'].value_counts()"
   ]
  },
  {
   "cell_type": "code",
   "execution_count": 14,
   "id": "93c13d12",
   "metadata": {},
   "outputs": [
    {
     "data": {
      "text/plain": [
       "2       576\n",
       "4       576\n",
       "more    576\n",
       "Name: persons, dtype: int64"
      ]
     },
     "execution_count": 14,
     "metadata": {},
     "output_type": "execute_result"
    }
   ],
   "source": [
    "car['persons'].value_counts()"
   ]
  },
  {
   "cell_type": "code",
   "execution_count": 15,
   "id": "4a460116",
   "metadata": {},
   "outputs": [
    {
     "data": {
      "text/plain": [
       "small    576\n",
       "med      576\n",
       "big      576\n",
       "Name: lug_boot, dtype: int64"
      ]
     },
     "execution_count": 15,
     "metadata": {},
     "output_type": "execute_result"
    }
   ],
   "source": [
    "car['lug_boot'].value_counts()"
   ]
  },
  {
   "cell_type": "code",
   "execution_count": 16,
   "id": "627bc4c0",
   "metadata": {},
   "outputs": [
    {
     "data": {
      "text/plain": [
       "low     576\n",
       "med     576\n",
       "high    576\n",
       "Name: safety, dtype: int64"
      ]
     },
     "execution_count": 16,
     "metadata": {},
     "output_type": "execute_result"
    }
   ],
   "source": [
    "car['safety'].value_counts()"
   ]
  },
  {
   "cell_type": "code",
   "execution_count": 17,
   "id": "6c538adc",
   "metadata": {},
   "outputs": [
    {
     "data": {
      "text/plain": [
       "unacc    1210\n",
       "acc       384\n",
       "good       69\n",
       "vgood      65\n",
       "Name: class, dtype: int64"
      ]
     },
     "execution_count": 17,
     "metadata": {},
     "output_type": "execute_result"
    }
   ],
   "source": [
    "car['class'].value_counts()"
   ]
  },
  {
   "cell_type": "code",
   "execution_count": 18,
   "id": "89e4ad7d",
   "metadata": {},
   "outputs": [
    {
     "name": "stdout",
     "output_type": "stream",
     "text": [
      "['vhigh' 'high' 'med' 'low'] \t 4\n",
      "['vhigh' 'high' 'med' 'low'] \t 4\n",
      "['2' '3' '4' '5more'] \t 4\n",
      "['2' '4' 'more'] \t 3\n",
      "['small' 'med' 'big'] \t 3\n",
      "['low' 'med' 'high'] \t 3\n",
      "['unacc' 'acc' 'vgood' 'good'] \t 4\n"
     ]
    }
   ],
   "source": [
    "for i in car.columns:\n",
    "    print(car[i].unique(),\"\\t\",car[i].nunique())"
   ]
  },
  {
   "cell_type": "code",
   "execution_count": 19,
   "id": "87b67d6e",
   "metadata": {},
   "outputs": [
    {
     "name": "stdout",
     "output_type": "stream",
     "text": [
      "vhigh    432\n",
      "high     432\n",
      "med      432\n",
      "low      432\n",
      "Name: buying, dtype: int64\n",
      "\n",
      "vhigh    432\n",
      "high     432\n",
      "med      432\n",
      "low      432\n",
      "Name: maintenance, dtype: int64\n",
      "\n",
      "2        432\n",
      "3        432\n",
      "4        432\n",
      "5more    432\n",
      "Name: doors, dtype: int64\n",
      "\n",
      "2       576\n",
      "4       576\n",
      "more    576\n",
      "Name: persons, dtype: int64\n",
      "\n",
      "small    576\n",
      "med      576\n",
      "big      576\n",
      "Name: lug_boot, dtype: int64\n",
      "\n",
      "low     576\n",
      "med     576\n",
      "high    576\n",
      "Name: safety, dtype: int64\n",
      "\n",
      "unacc    1210\n",
      "acc       384\n",
      "good       69\n",
      "vgood      65\n",
      "Name: class, dtype: int64\n",
      "\n"
     ]
    }
   ],
   "source": [
    "for i in car.columns:\n",
    "    print(car[i].value_counts())\n",
    "    print()\n"
   ]
  },
  {
   "cell_type": "code",
   "execution_count": 20,
   "id": "72b37bb9",
   "metadata": {},
   "outputs": [
    {
     "name": "stderr",
     "output_type": "stream",
     "text": [
      "C:\\Users\\user\\anaconda3\\lib\\site-packages\\seaborn\\_decorators.py:36: FutureWarning: Pass the following variable as a keyword arg: x. From version 0.12, the only valid positional argument will be `data`, and passing other arguments without an explicit keyword will result in an error or misinterpretation.\n",
      "  warnings.warn(\n"
     ]
    },
    {
     "data": {
      "text/plain": [
       "<AxesSubplot:xlabel='class', ylabel='count'>"
      ]
     },
     "execution_count": 20,
     "metadata": {},
     "output_type": "execute_result"
    },
    {
     "data": {
      "image/png": "[encoded data removed]",
      "text/plain": [
       "<Figure size 432x288 with 1 Axes>"
      ]
     },
     "metadata": {
      "needs_background": "light"
     },
     "output_type": "display_data"
    }
   ],
   "source": [
    "sns.countplot(car['class'])"
   ]
  },
  {
   "cell_type": "code",
   "execution_count": 21,
   "id": "a816b0bb",
   "metadata": {},
   "outputs": [
    {
     "name": "stderr",
     "output_type": "stream",
     "text": [
      "C:\\Users\\user\\anaconda3\\lib\\site-packages\\seaborn\\_decorators.py:36: FutureWarning: Pass the following variable as a keyword arg: x. From version 0.12, the only valid positional argument will be `data`, and passing other arguments without an explicit keyword will result in an error or misinterpretation.\n",
      "  warnings.warn(\n",
      "C:\\Users\\user\\anaconda3\\lib\\site-packages\\seaborn\\_decorators.py:36: FutureWarning: Pass the following variable as a keyword arg: x. From version 0.12, the only valid positional argument will be `data`, and passing other arguments without an explicit keyword will result in an error or misinterpretation.\n",
      "  warnings.warn(\n",
      "C:\\Users\\user\\anaconda3\\lib\\site-packages\\seaborn\\_decorators.py:36: FutureWarning: Pass the following variable as a keyword arg: x. From version 0.12, the only valid positional argument will be `data`, and passing other arguments without an explicit keyword will result in an error or misinterpretation.\n",
      "  warnings.warn(\n",
      "C:\\Users\\user\\anaconda3\\lib\\site-packages\\seaborn\\_decorators.py:36: FutureWarning: Pass the following variable as a keyword arg: x. From version 0.12, the only valid positional argument will be `data`, and passing other arguments without an explicit keyword will result in an error or misinterpretation.\n",
      "  warnings.warn(\n",
      "C:\\Users\\user\\anaconda3\\lib\\site-packages\\seaborn\\_decorators.py:36: FutureWarning: Pass the following variable as a keyword arg: x. From version 0.12, the only valid positional argument will be `data`, and passing other arguments without an explicit keyword will result in an error or misinterpretation.\n",
      "  warnings.warn(\n",
      "C:\\Users\\user\\anaconda3\\lib\\site-packages\\seaborn\\_decorators.py:36: FutureWarning: Pass the following variable as a keyword arg: x. From version 0.12, the only valid positional argument will be `data`, and passing other arguments without an explicit keyword will result in an error or misinterpretation.\n",
      "  warnings.warn(\n"
     ]
    },
    {
     "data": {
      "image/png": "[encoded data removed]",
      "text/plain": [
       "<Figure size 864x432 with 1 Axes>"
      ]
     },
     "metadata": {
      "needs_background": "light"
     },
     "output_type": "display_data"
    },
    {
     "data": {
      "image/png": "[encoded data removed]",
      "text/plain": [
       "<Figure size 864x432 with 1 Axes>"
      ]
     },
     "metadata": {
      "needs_background": "light"
     },
     "output_type": "display_data"
    },
    {
     "data": {
      "image/png": "[encoded data removed]",
      "text/plain": [
       "<Figure size 864x432 with 1 Axes>"
      ]
     },
     "metadata": {
      "needs_background": "light"
     },
     "output_type": "display_data"
    },
    {
     "data": {
      "image/png": "[encoded data removed]",
      "text/plain": [
       "<Figure size 864x432 with 1 Axes>"
      ]
     },
     "metadata": {
      "needs_background": "light"
     },
     "output_type": "display_data"
    },
    {
     "data": {
      "image/png": "[encoded data removed]",
      "text/plain": [
       "<Figure size 864x432 with 1 Axes>"
      ]
     },
     "metadata": {
      "needs_background": "light"
     },
     "output_type": "display_data"
    },
    {
     "data": {
      "image/png": "[encoded data removed]",
      "text/plain": [
       "<Figure size 864x432 with 1 Axes>"
      ]
     },
     "metadata": {
      "needs_background": "light"
     },
     "output_type": "display_data"
    }
   ],
   "source": [
    "for i in car.columns[:-1]:\n",
    "    plt.figure(figsize=(12,6))\n",
    "    plt.title(\"For feature '%s'\"%i)\n",
    "    sns.countplot(car[i],hue=car['class'])"
   ]
  },
  {
   "cell_type": "code",
   "execution_count": 22,
   "id": "44638487",
   "metadata": {},
   "outputs": [],
   "source": [
    "#warnings\n",
    "import warnings\n",
    "warnings.simplefilter(action='ignore')"
   ]
  },
  {
   "cell_type": "code",
   "execution_count": 23,
   "id": "83d3def2",
   "metadata": {},
   "outputs": [],
   "source": [
    "from sklearn.preprocessing import LabelEncoder"
   ]
  },
  {
   "cell_type": "code",
   "execution_count": 24,
   "id": "07f93b34",
   "metadata": {},
   "outputs": [],
   "source": [
    "le=LabelEncoder()"
   ]
  },
  {
   "cell_type": "code",
   "execution_count": 25,
   "id": "6d06f294",
   "metadata": {},
   "outputs": [],
   "source": [
    "for i in car.columns:\n",
    "    car[i]=le.fit_transform(car[i])"
   ]
  },
  {
   "cell_type": "code",
   "execution_count": 26,
   "id": "55f0f03f",
   "metadata": {},
   "outputs": [
    {
     "data": {
      "text/html": [
       "<div>\n",
       "<style scoped>\n",
       "    .dataframe tbody tr th:only-of-type {\n",
       "        vertical-align: middle;\n",
       "    }\n",
       "\n",
       "    .dataframe tbody tr th {\n",
       "        vertical-align: top;\n",
       "    }\n",
       "\n",
       "    .dataframe thead th {\n",
       "        text-align: right;\n",
       "    }\n",
       "</style>\n",
       "<table border=\"1\" class=\"dataframe\">\n",
       "  <thead>\n",
       "    <tr style=\"text-align: right;\">\n",
       "      <th></th>\n",
       "      <th>buying</th>\n",
       "      <th>maintenance</th>\n",
       "      <th>doors</th>\n",
       "      <th>persons</th>\n",
       "      <th>lug_boot</th>\n",
       "      <th>safety</th>\n",
       "      <th>class</th>\n",
       "    </tr>\n",
       "  </thead>\n",
       "  <tbody>\n",
       "    <tr>\n",
       "      <th>0</th>\n",
       "      <td>3</td>\n",
       "      <td>3</td>\n",
       "      <td>0</td>\n",
       "      <td>0</td>\n",
       "      <td>2</td>\n",
       "      <td>1</td>\n",
       "      <td>2</td>\n",
       "    </tr>\n",
       "    <tr>\n",
       "      <th>1</th>\n",
       "      <td>3</td>\n",
       "      <td>3</td>\n",
       "      <td>0</td>\n",
       "      <td>0</td>\n",
       "      <td>2</td>\n",
       "      <td>2</td>\n",
       "      <td>2</td>\n",
       "    </tr>\n",
       "    <tr>\n",
       "      <th>2</th>\n",
       "      <td>3</td>\n",
       "      <td>3</td>\n",
       "      <td>0</td>\n",
       "      <td>0</td>\n",
       "      <td>2</td>\n",
       "      <td>0</td>\n",
       "      <td>2</td>\n",
       "    </tr>\n",
       "    <tr>\n",
       "      <th>3</th>\n",
       "      <td>3</td>\n",
       "      <td>3</td>\n",
       "      <td>0</td>\n",
       "      <td>0</td>\n",
       "      <td>1</td>\n",
       "      <td>1</td>\n",
       "      <td>2</td>\n",
       "    </tr>\n",
       "    <tr>\n",
       "      <th>4</th>\n",
       "      <td>3</td>\n",
       "      <td>3</td>\n",
       "      <td>0</td>\n",
       "      <td>0</td>\n",
       "      <td>1</td>\n",
       "      <td>2</td>\n",
       "      <td>2</td>\n",
       "    </tr>\n",
       "  </tbody>\n",
       "</table>\n",
       "</div>"
      ],
      "text/plain": [
       "   buying  maintenance  doors  persons  lug_boot  safety  class\n",
       "0       3            3      0        0         2       1      2\n",
       "1       3            3      0        0         2       2      2\n",
       "2       3            3      0        0         2       0      2\n",
       "3       3            3      0        0         1       1      2\n",
       "4       3            3      0        0         1       2      2"
      ]
     },
     "execution_count": 26,
     "metadata": {},
     "output_type": "execute_result"
    }
   ],
   "source": [
    "car.head()"
   ]
  },
  {
   "cell_type": "code",
   "execution_count": 27,
   "id": "f0b31458",
   "metadata": {},
   "outputs": [
    {
     "name": "stdout",
     "output_type": "stream",
     "text": [
      "[3 0 2 1] \t 4\n",
      "[3 0 2 1] \t 4\n",
      "[0 1 2 3] \t 4\n",
      "[0 1 2] \t 3\n",
      "[2 1 0] \t 3\n",
      "[1 2 0] \t 3\n",
      "[2 0 3 1] \t 4\n"
     ]
    }
   ],
   "source": [
    "for i in car.columns:\n",
    "    print(car[i].unique(),\"\\t\",car[i].nunique())"
   ]
  },
  {
   "cell_type": "code",
   "execution_count": 28,
   "id": "cbf1b280",
   "metadata": {},
   "outputs": [
    {
     "data": {
      "text/plain": [
       "<AxesSubplot:>"
      ]
     },
     "execution_count": 28,
     "metadata": {},
     "output_type": "execute_result"
    },
    {
     "data": {
      "image/png": "[encoded data removed]",
      "text/plain": [
       "<Figure size 720x432 with 2 Axes>"
      ]
     },
     "metadata": {
      "needs_background": "light"
     },
     "output_type": "display_data"
    }
   ],
   "source": [
    "fig=plt.figure(figsize=(10,6))\n",
    "sns.heatmap(car.corr(),annot=True)"
   ]
  },
  {
   "cell_type": "code",
   "execution_count": 29,
   "id": "ca8332e9",
   "metadata": {},
   "outputs": [
    {
     "data": {
      "text/html": [
       "<div>\n",
       "<style scoped>\n",
       "    .dataframe tbody tr th:only-of-type {\n",
       "        vertical-align: middle;\n",
       "    }\n",
       "\n",
       "    .dataframe tbody tr th {\n",
       "        vertical-align: top;\n",
       "    }\n",
       "\n",
       "    .dataframe thead th {\n",
       "        text-align: right;\n",
       "    }\n",
       "</style>\n",
       "<table border=\"1\" class=\"dataframe\">\n",
       "  <thead>\n",
       "    <tr style=\"text-align: right;\">\n",
       "      <th></th>\n",
       "      <th>VIF</th>\n",
       "      <th>Features</th>\n",
       "    </tr>\n",
       "  </thead>\n",
       "  <tbody>\n",
       "    <tr>\n",
       "      <th>0</th>\n",
       "      <td>2.537474</td>\n",
       "      <td>buying</td>\n",
       "    </tr>\n",
       "    <tr>\n",
       "      <th>1</th>\n",
       "      <td>2.522938</td>\n",
       "      <td>maintenance</td>\n",
       "    </tr>\n",
       "    <tr>\n",
       "      <th>2</th>\n",
       "      <td>2.443242</td>\n",
       "      <td>doors</td>\n",
       "    </tr>\n",
       "    <tr>\n",
       "      <th>3</th>\n",
       "      <td>2.165404</td>\n",
       "      <td>persons</td>\n",
       "    </tr>\n",
       "    <tr>\n",
       "      <th>4</th>\n",
       "      <td>2.290247</td>\n",
       "      <td>lug_boot</td>\n",
       "    </tr>\n",
       "    <tr>\n",
       "      <th>5</th>\n",
       "      <td>2.240569</td>\n",
       "      <td>safety</td>\n",
       "    </tr>\n",
       "    <tr>\n",
       "      <th>6</th>\n",
       "      <td>3.221251</td>\n",
       "      <td>class</td>\n",
       "    </tr>\n",
       "  </tbody>\n",
       "</table>\n",
       "</div>"
      ],
      "text/plain": [
       "        VIF     Features\n",
       "0  2.537474       buying\n",
       "1  2.522938  maintenance\n",
       "2  2.443242        doors\n",
       "3  2.165404      persons\n",
       "4  2.290247     lug_boot\n",
       "5  2.240569       safety\n",
       "6  3.221251        class"
      ]
     },
     "execution_count": 29,
     "metadata": {},
     "output_type": "execute_result"
    }
   ],
   "source": [
    "from statsmodels.stats.outliers_influence import variance_inflation_factor\n",
    "variables = car\n",
    "vif = pd.DataFrame()\n",
    "vif[\"VIF\"] = [variance_inflation_factor(variables, i) for i in range(variables.shape[1])]\n",
    "vif[\"Features\"] = car.columns\n",
    "vif"
   ]
  },
  {
   "cell_type": "code",
   "execution_count": 30,
   "id": "233ca359",
   "metadata": {},
   "outputs": [
    {
     "data": {
      "text/plain": [
       "<seaborn.axisgrid.PairGrid at 0x13b36b7a670>"
      ]
     },
     "execution_count": 30,
     "metadata": {},
     "output_type": "execute_result"
    },
    {
     "data": {
      "image/png": "[encoded data removed]",
      "text/plain": [
       "<Figure size 1260x1260 with 56 Axes>"
      ]
     },
     "metadata": {
      "needs_background": "light"
     },
     "output_type": "display_data"
    }
   ],
   "source": [
    "sns.pairplot(car)"
   ]
  },
  {
   "cell_type": "code",
   "execution_count": 31,
   "id": "f1a60221",
   "metadata": {},
   "outputs": [
    {
     "name": "stdout",
     "output_type": "stream",
     "text": [
      "Column buying outliers = 0.00%\n",
      "Column maintenance outliers = 0.00%\n",
      "Column doors outliers = 0.00%\n",
      "Column persons outliers = 0.00%\n",
      "Column lug_boot outliers = 0.00%\n",
      "Column safety outliers = 0.00%\n",
      "Column class outliers = 0.00%\n"
     ]
    }
   ],
   "source": [
    "for k, v in car.items():\n",
    "        q1 = v.quantile(0.25)\n",
    "        q3 = v.quantile(0.75)\n",
    "        irq = q3 - q1\n",
    "        v_col = v[(v <= q1 - 1.5 * irq) | (v >= q3 + 1.5 * irq)]\n",
    "        perc = np.shape(v_col)[0] * 100.0 / np.shape(car)[0]\n",
    "        print(\"Column %s outliers = %.2f%%\" % (k, perc))"
   ]
  },
  {
   "cell_type": "code",
   "execution_count": 32,
   "id": "83409cce",
   "metadata": {},
   "outputs": [
    {
     "data": {
      "image/png": "[encoded data removed]",
      "text/plain": [
       "<Figure size 1440x720 with 14 Axes>"
      ]
     },
     "metadata": {
      "needs_background": "light"
     },
     "output_type": "display_data"
    }
   ],
   "source": [
    "import seaborn as sns\n",
    "fig, axs = plt.subplots(ncols=7, nrows=2, figsize=(20, 10))\n",
    "index = 0\n",
    "axs = axs.flatten()\n",
    "for k,v in car.items():\n",
    "    sns.boxplot(y=k, data=car, ax=axs[index])\n",
    "    index += 1\n",
    "plt.tight_layout(pad=0.4, w_pad=0.5, h_pad=5.0)"
   ]
  },
  {
   "cell_type": "code",
   "execution_count": 33,
   "id": "b0e9a4d4",
   "metadata": {},
   "outputs": [],
   "source": [
    "from sklearn.model_selection import train_test_split"
   ]
  },
  {
   "cell_type": "code",
   "execution_count": 34,
   "id": "e2049e8e",
   "metadata": {},
   "outputs": [],
   "source": [
    "X = car.drop(columns ='class')\n",
    "Y = car['class']"
   ]
  },
  {
   "cell_type": "code",
   "execution_count": 35,
   "id": "77743232",
   "metadata": {},
   "outputs": [],
   "source": [
    "x_train, x_test, y_train, y_test = train_test_split(X, Y , test_size = 0.25, random_state = 42)"
   ]
  },
  {
   "cell_type": "code",
   "execution_count": 36,
   "id": "515b2510",
   "metadata": {},
   "outputs": [
    {
     "name": "stdout",
     "output_type": "stream",
     "text": [
      "X_train shape:  (1296, 6)\n",
      "Y_train shape:  (1296,)\n",
      "X_test shape:  (432, 6)\n",
      "Y_test shape:  (432,)\n"
     ]
    }
   ],
   "source": [
    "print(\"X_train shape: \", x_train.shape)\n",
    "print(\"Y_train shape: \", y_train.shape)\n",
    "print(\"X_test shape: \", x_test.shape)\n",
    "print(\"Y_test shape: \", y_test.shape)"
   ]
  },
  {
   "cell_type": "markdown",
   "id": "91ecf664",
   "metadata": {},
   "source": [
    "## Random Forest Regressor"
   ]
  },
  {
   "cell_type": "code",
   "execution_count": 37,
   "id": "c1f758b2",
   "metadata": {},
   "outputs": [
    {
     "data": {
      "text/plain": [
       "RandomForestRegressor()"
      ]
     },
     "execution_count": 37,
     "metadata": {},
     "output_type": "execute_result"
    }
   ],
   "source": [
    "# Import Random Forest Regressor\n",
    "from sklearn.ensemble import RandomForestRegressor\n",
    "\n",
    "# Create a Random Forest Regressor\n",
    "reg = RandomForestRegressor()\n",
    "\n",
    "# Train the model using the training sets \n",
    "reg.fit(x_train, y_train)"
   ]
  },
  {
   "cell_type": "code",
   "execution_count": 38,
   "id": "d2e03d70",
   "metadata": {},
   "outputs": [],
   "source": [
    "# Model prediction on train data\n",
    "y_pred = reg.predict(x_train)"
   ]
  },
  {
   "cell_type": "code",
   "execution_count": 39,
   "id": "2c29175b",
   "metadata": {},
   "outputs": [],
   "source": [
    "from sklearn import metrics"
   ]
  },
  {
   "cell_type": "code",
   "execution_count": 40,
   "id": "520832d0",
   "metadata": {},
   "outputs": [
    {
     "name": "stdout",
     "output_type": "stream",
     "text": [
      "R^2: 0.9888681079011602\n",
      "Adjusted R^2: 0.9888162914910803\n",
      "MAE: 0.03875000000000001\n",
      "MSE: 0.008343981481481482\n",
      "RMSE: 0.09134539660804743\n"
     ]
    }
   ],
   "source": [
    "# Model Evaluation\n",
    "print('R^2:',metrics.r2_score(y_train, y_pred))\n",
    "print('Adjusted R^2:',1 - (1-metrics.r2_score(y_train, y_pred))*(len(y_train)-1)/(len(y_train)-x_train.shape[1]-1))\n",
    "print('MAE:',metrics.mean_absolute_error(y_train, y_pred))\n",
    "print('MSE:',metrics.mean_squared_error(y_train, y_pred))\n",
    "print('RMSE:',np.sqrt(metrics.mean_squared_error(y_train, y_pred)))"
   ]
  },
  {
   "cell_type": "code",
   "execution_count": 41,
   "id": "08eac2fc",
   "metadata": {},
   "outputs": [],
   "source": [
    "# Predicting Test data with the model\n",
    "y_test_pred = reg.predict(x_test)"
   ]
  },
  {
   "cell_type": "code",
   "execution_count": 42,
   "id": "f99c0529",
   "metadata": {},
   "outputs": [
    {
     "name": "stdout",
     "output_type": "stream",
     "text": [
      "R^2: 0.8811661224730359\n",
      "Adjusted R^2: 0.8794884677314788\n",
      "MAE: 0.12979166666666664\n",
      "MSE: 0.09723449074074074\n",
      "RMSE: 0.3118244550075262\n"
     ]
    }
   ],
   "source": [
    "# Model Evaluation\n",
    "acc_rf = metrics.r2_score(y_test, y_test_pred)\n",
    "print('R^2:', acc_rf)\n",
    "print('Adjusted R^2:',1 - (1-metrics.r2_score(y_test, y_test_pred))*(len(y_test)-1)/(len(y_test)-x_test.shape[1]-1))\n",
    "print('MAE:',metrics.mean_absolute_error(y_test, y_test_pred))\n",
    "print('MSE:',metrics.mean_squared_error(y_test, y_test_pred))\n",
    "print('RMSE:',np.sqrt(metrics.mean_squared_error(y_test, y_test_pred)))"
   ]
  },
  {
   "cell_type": "code",
   "execution_count": 52,
   "id": "ba99ae48",
   "metadata": {},
   "outputs": [
    {
     "data": {
      "image/png": "[encoded data removed]",
      "text/plain": [
       "<Figure size 432x576 with 1 Axes>"
      ]
     },
     "metadata": {
      "needs_background": "light"
     },
     "output_type": "display_data"
    }
   ],
   "source": [
    "param_range=[10,25,50,100]\n",
    "curve=validation_curve(reg,x_train,y_train,cv=5,param_name='n_estimators',\n",
    "    param_range=param_range,n_jobs=-1)\n",
    "\n",
    "train_score=[curve[0][i].mean() for i in range (0,len(param_range))]\n",
    "test_score=[curve[1][i].mean() for i in range (0,len(param_range))]\n",
    "fig=plt.figure(figsize=(6,8))\n",
    "plt.plot(param_range,train_score)\n",
    "plt.plot(param_range,test_score)\n",
    "plt.xticks=param_range"
   ]
  },
  {
   "cell_type": "code",
   "execution_count": 53,
   "id": "f367095c",
   "metadata": {},
   "outputs": [
    {
     "data": {
      "image/png": "[encoded data removed]",
      "text/plain": [
       "<Figure size 432x576 with 1 Axes>"
      ]
     },
     "metadata": {
      "needs_background": "light"
     },
     "output_type": "display_data"
    }
   ],
   "source": [
    "\n",
    "from sklearn.ensemble import RandomForestClassifier\n",
    "param_range=range(1,len(X.columns)+1)\n",
    "curve=validation_curve(RandomForestClassifier(n_estimators=50,n_jobs=-1,random_state=51),x_train,y_train,cv=5,\n",
    "    param_name='max_features',param_range=param_range,n_jobs=-1)\n",
    "\n",
    "train_score=[curve[0][i].mean() for i in range (0,len(param_range))]\n",
    "test_score=[curve[1][i].mean() for i in range (0,len(param_range))]\n",
    "fig=plt.figure(figsize=(6,8))\n",
    "plt.plot(param_range,train_score)\n",
    "plt.plot(param_range,test_score)\n",
    "plt.xticks=param_range\n"
   ]
  },
  {
   "cell_type": "code",
   "execution_count": 48,
   "id": "c1e53ef3",
   "metadata": {},
   "outputs": [],
   "source": [
    "param_grid={'criterion':['gini','entropy'],\n",
    "           'max_depth':[2,5,10,20],\n",
    "           'max_features':[2,4,6,'auto'],\n",
    "           'max_leaf_nodes':[2,3,None],}"
   ]
  },
  {
   "cell_type": "code",
   "execution_count": 49,
   "id": "e4acd6a4",
   "metadata": {},
   "outputs": [],
   "source": [
    "grid=GridSearchCV(estimator=RandomForestClassifier(n_estimators=50,n_jobs=-1,random_state=51),\n",
    "                  param_grid=param_grid,cv=10,n_jobs=-1)"
   ]
  },
  {
   "cell_type": "code",
   "execution_count": 50,
   "id": "6a631a2c",
   "metadata": {},
   "outputs": [
    {
     "data": {
      "text/plain": [
       "GridSearchCV(cv=10,\n",
       "             estimator=RandomForestClassifier(n_estimators=50, n_jobs=-1,\n",
       "                                              random_state=51),\n",
       "             n_jobs=-1,\n",
       "             param_grid={'criterion': ['gini', 'entropy'],\n",
       "                         'max_depth': [2, 5, 10, 20],\n",
       "                         'max_features': [2, 4, 6, 'auto'],\n",
       "                         'max_leaf_nodes': [2, 3, None]})"
      ]
     },
     "execution_count": 50,
     "metadata": {},
     "output_type": "execute_result"
    }
   ],
   "source": [
    "grid.fit(x_train,y_train)"
   ]
  },
  {
   "cell_type": "code",
   "execution_count": 54,
   "id": "45305144",
   "metadata": {},
   "outputs": [
    {
     "name": "stdout",
     "output_type": "stream",
     "text": [
      "{'criterion': 'gini', 'max_depth': 20, 'max_features': 6, 'max_leaf_nodes': None}\n",
      "0.9784197972570066\n"
     ]
    }
   ],
   "source": [
    "print(grid.best_params_)\n",
    "print(grid.best_score_)"
   ]
  },
  {
   "cell_type": "code",
   "execution_count": 55,
   "id": "458aeb56",
   "metadata": {},
   "outputs": [
    {
     "data": {
      "text/plain": [
       "[<matplotlib.lines.Line2D at 0x13b3c9f79d0>]"
      ]
     },
     "execution_count": 55,
     "metadata": {},
     "output_type": "execute_result"
    },
    {
     "data": {
      "image/png": "[encoded data removed]",
      "text/plain": [
       "<Figure size 864x576 with 1 Axes>"
      ]
     },
     "metadata": {
      "needs_background": "light"
     },
     "output_type": "display_data"
    }
   ],
   "source": [
    "lc=learning_curve(RandomForestClassifier(n_estimators=50,criterion='entropy',max_features=6,max_depth=10,random_state=51,\n",
    "                                             max_leaf_nodes=None,n_jobs=-1,),x_train,y_train,cv=5,n_jobs=-1)\n",
    "size=lc[0]\n",
    "train_score=[lc[1][i].mean() for i in range (0,5)]\n",
    "test_score=[lc[2][i].mean() for i in range (0,5)]\n",
    "fig=plt.figure(figsize=(12,8))\n",
    "plt.plot(size,train_score)\n",
    "plt.plot(size,test_score)\n"
   ]
  },
  {
   "cell_type": "code",
   "execution_count": 56,
   "id": "c2494947",
   "metadata": {},
   "outputs": [
    {
     "name": "stdout",
     "output_type": "stream",
     "text": [
      "Index(['buying', 'maintenance', 'doors', 'persons', 'lug_boot', 'safety'], dtype='object')\n",
      "[0.22021977 0.24064195 0.06834166 0.15727146 0.11602819 0.19749697]\n"
     ]
    }
   ],
   "source": [
    "print(X.columns)\n",
    "print(reg.feature_importances_)"
   ]
  },
  {
   "cell_type": "markdown",
   "id": "0509916a",
   "metadata": {},
   "source": [
    "## Support Vector Machine Algorithm"
   ]
  },
  {
   "cell_type": "code",
   "execution_count": 57,
   "id": "e0802b95",
   "metadata": {},
   "outputs": [],
   "source": [
    "from sklearn import svm"
   ]
  },
  {
   "cell_type": "code",
   "execution_count": 58,
   "id": "70823951",
   "metadata": {},
   "outputs": [
    {
     "data": {
      "text/plain": [
       "0.9768518518518519"
      ]
     },
     "execution_count": 58,
     "metadata": {},
     "output_type": "execute_result"
    }
   ],
   "source": [
    "model = svm.SVC(kernel='rbf',C=30,gamma='auto')\n",
    "model.fit(x_train,y_train)\n",
    "svm_score = model.score(x_test, y_test)\n",
    "svm_score"
   ]
  },
  {
   "cell_type": "code",
   "execution_count": 59,
   "id": "cfe2e8b1",
   "metadata": {},
   "outputs": [],
   "source": [
    "from sklearn.linear_model import LogisticRegression\n",
    "from sklearn.model_selection import train_test_split,cross_val_score\n",
    "from sklearn.metrics import classification_report, confusion_matrix\n",
    "from sklearn.neighbors import KNeighborsClassifier\n",
    "from sklearn.model_selection import GridSearchCV"
   ]
  },
  {
   "cell_type": "markdown",
   "id": "256da911",
   "metadata": {},
   "source": [
    "## Logistic Regression"
   ]
  },
  {
   "cell_type": "code",
   "execution_count": 60,
   "id": "dd52622b",
   "metadata": {},
   "outputs": [],
   "source": [
    "log =LogisticRegression(solver='newton-cg',multi_class='multinomial')"
   ]
  },
  {
   "cell_type": "code",
   "execution_count": 61,
   "id": "862412f2",
   "metadata": {},
   "outputs": [
    {
     "data": {
      "text/plain": [
       "LogisticRegression(multi_class='multinomial', solver='newton-cg')"
      ]
     },
     "execution_count": 61,
     "metadata": {},
     "output_type": "execute_result"
    }
   ],
   "source": [
    "log.fit(x_train,y_train)"
   ]
  },
  {
   "cell_type": "code",
   "execution_count": 62,
   "id": "10d98cd4",
   "metadata": {},
   "outputs": [
    {
     "data": {
      "text/plain": [
       "0.7060185185185185"
      ]
     },
     "execution_count": 62,
     "metadata": {},
     "output_type": "execute_result"
    }
   ],
   "source": [
    "log.score(x_train,y_train)"
   ]
  },
  {
   "cell_type": "code",
   "execution_count": 63,
   "id": "d574c966",
   "metadata": {},
   "outputs": [
    {
     "data": {
      "text/plain": [
       "array([2, 2, 2, 2, 2, 2, 2, 2, 2, 2, 0, 2, 2, 2, 2, 2, 2, 2, 2, 0, 2, 2,\n",
       "       2, 2, 2, 2, 2, 2, 2, 2, 2, 2, 2, 2, 0, 2, 2, 0, 0, 2, 2, 0, 2, 2,\n",
       "       2, 0, 2, 2, 2, 2, 3, 2, 2, 2, 2, 2, 2, 2, 2, 2, 2, 2, 2, 2, 2, 0,\n",
       "       2, 2, 0, 2, 2, 2, 2, 2, 2, 0, 0, 2, 2, 2, 2, 2, 2, 2, 0, 2, 2, 2,\n",
       "       0, 3, 2, 0, 2, 2, 2, 0, 2, 2, 2, 2, 2, 2, 2, 2, 2, 2, 2, 2, 2, 0,\n",
       "       2, 0, 0, 2, 2, 2, 2, 2, 2, 2, 2, 2, 2, 0, 2, 2, 2, 2, 2, 2, 2, 2,\n",
       "       2, 2, 2, 0, 2, 0, 2, 2, 2, 2, 2, 2, 2, 2, 2, 2, 2, 2, 2, 2, 2, 2,\n",
       "       2, 2, 2, 2, 2, 2, 2, 3, 2, 2, 2, 2, 2, 2, 0, 2, 2, 2, 2, 0, 0, 0,\n",
       "       2, 2, 2, 0, 2, 2, 2, 2, 2, 2, 2, 2, 2, 2, 2, 2, 2, 2, 2, 2, 2, 2,\n",
       "       2, 2, 2, 2, 2, 2, 2, 2, 2, 2, 2, 2, 2, 2, 2, 2, 2, 2, 2, 2, 2, 2,\n",
       "       2, 2, 2, 2, 0, 2, 2, 2, 2, 2, 2, 2, 2, 2, 2, 2, 2, 0, 2, 0, 2, 0,\n",
       "       2, 2, 2, 2, 0, 2, 2, 2, 2, 2, 2, 2, 2, 2, 2, 2, 2, 2, 2, 2, 0, 2,\n",
       "       2, 2, 2, 0, 2, 2, 2, 2, 2, 2, 0, 2, 2, 2, 2, 2, 2, 2, 2, 2, 2, 2,\n",
       "       2, 2, 2, 2, 2, 2, 2, 2, 2, 0, 2, 2, 2, 2, 2, 2, 0, 2, 2, 2, 2, 2,\n",
       "       0, 2, 0, 3, 0, 2, 2, 2, 0, 0, 2, 3, 2, 2, 2, 2, 2, 2, 2, 2, 2, 2,\n",
       "       2, 2, 2, 2, 2, 0, 2, 2, 2, 2, 2, 2, 2, 2, 2, 2, 0, 2, 2, 2, 2, 0,\n",
       "       0, 2, 0, 2, 2, 2, 0, 2, 2, 2, 2, 2, 0, 0, 2, 2, 2, 2, 2, 0, 2, 2,\n",
       "       0, 2, 0, 0, 2, 2, 2, 2, 2, 2, 2, 2, 2, 2, 2, 2, 0, 2, 2, 2, 2, 2,\n",
       "       2, 2, 2, 2, 2, 0, 0, 2, 2, 2, 2, 2, 3, 2, 2, 2, 2, 2, 2, 2, 2, 2,\n",
       "       3, 2, 2, 2, 2, 0, 0, 2, 2, 2, 0, 0, 2, 0])"
      ]
     },
     "execution_count": 63,
     "metadata": {},
     "output_type": "execute_result"
    }
   ],
   "source": [
    "pred=log.predict(x_test)\n",
    "pred"
   ]
  },
  {
   "cell_type": "code",
   "execution_count": 64,
   "id": "a284c0a1",
   "metadata": {},
   "outputs": [
    {
     "data": {
      "text/plain": [
       "0.6620370370370371"
      ]
     },
     "execution_count": 64,
     "metadata": {},
     "output_type": "execute_result"
    }
   ],
   "source": [
    "log_score = log.score(x_test,y_test)\n",
    "log_score"
   ]
  },
  {
   "cell_type": "code",
   "execution_count": 65,
   "id": "f10d6276",
   "metadata": {},
   "outputs": [],
   "source": [
    "from sklearn.model_selection import learning_curve"
   ]
  },
  {
   "cell_type": "code",
   "execution_count": 66,
   "id": "f251fb5f",
   "metadata": {},
   "outputs": [
    {
     "data": {
      "text/plain": [
       "[<matplotlib.lines.Line2D at 0x13b3ca2be20>]"
      ]
     },
     "execution_count": 66,
     "metadata": {},
     "output_type": "execute_result"
    },
    {
     "data": {
      "image/png": "[encoded data removed]",
      "text/plain": [
       "<Figure size 864x576 with 1 Axes>"
      ]
     },
     "metadata": {
      "needs_background": "light"
     },
     "output_type": "display_data"
    }
   ],
   "source": [
    "lc=learning_curve(log,x_train,y_train,cv=10,n_jobs=-1)\n",
    "size=lc[0]\n",
    "train_score=[lc[1][i].mean() for i in range (0,5)]\n",
    "test_score=[lc[2][i].mean() for i in range (0,5)]\n",
    "fig=plt.figure(figsize=(12,8))\n",
    "plt.plot(size,train_score)\n",
    "plt.plot(size,test_score)"
   ]
  },
  {
   "cell_type": "code",
   "execution_count": 67,
   "id": "d7c88bd9",
   "metadata": {},
   "outputs": [],
   "source": [
    "from sklearn.model_selection import learning_curve,cross_val_score,validation_curve\n",
    "param_range=[0.0001,0.001,0.1,1]\n",
    "curve=validation_curve(log,x_train,y_train,cv=5,param_name='C',\n",
    "    param_range=param_range,n_jobs=-1,)"
   ]
  },
  {
   "cell_type": "code",
   "execution_count": 68,
   "id": "4a8260a3",
   "metadata": {},
   "outputs": [
    {
     "data": {
      "text/plain": [
       "(array([[0.70656371, 0.70684667, 0.70684667, 0.70684667, 0.70684667],\n",
       "        [0.70656371, 0.70684667, 0.70684667, 0.70684667, 0.70684667],\n",
       "        [0.7027027 , 0.70781099, 0.71263259, 0.70973963, 0.70491803],\n",
       "        [0.70656371, 0.70781099, 0.70395371, 0.70588235, 0.70588235]]),\n",
       " array([[0.70769231, 0.70656371, 0.70656371, 0.70656371, 0.70656371],\n",
       "        [0.70769231, 0.70656371, 0.70656371, 0.70656371, 0.70656371],\n",
       "        [0.72307692, 0.67953668, 0.69111969, 0.68725869, 0.7027027 ],\n",
       "        [0.70384615, 0.67181467, 0.70656371, 0.69498069, 0.71042471]]))"
      ]
     },
     "execution_count": 68,
     "metadata": {},
     "output_type": "execute_result"
    }
   ],
   "source": [
    "curve"
   ]
  },
  {
   "cell_type": "code",
   "execution_count": 69,
   "id": "1b4ce1d1",
   "metadata": {},
   "outputs": [
    {
     "data": {
      "image/png": "[encoded data removed]",
      "text/plain": [
       "<Figure size 576x432 with 1 Axes>"
      ]
     },
     "metadata": {
      "needs_background": "light"
     },
     "output_type": "display_data"
    }
   ],
   "source": [
    "n=len(param_range)\n",
    "train_score=[curve[0][i].mean() for i in range (0,n)]\n",
    "test_score=[curve[1][i].mean() for i in range (0,n)]\n",
    "fig=plt.figure(figsize=(8,6))\n",
    "plt.plot(param_range,train_score)\n",
    "plt.plot(param_range,test_score)\n",
    "plt.xticks=param_range"
   ]
  },
  {
   "cell_type": "code",
   "execution_count": 70,
   "id": "f15037e3",
   "metadata": {},
   "outputs": [],
   "source": [
    "param_grid={'C':[0.01,0.1,1,10],\n",
    "           'solver':['newton-cg', 'lbfgs', 'sag'],\n",
    "           'multi_class':['multinomial']}\n",
    "grid=GridSearchCV(estimator=LogisticRegression(n_jobs=-1),param_grid=param_grid,cv=5,n_jobs=-1)"
   ]
  },
  {
   "cell_type": "code",
   "execution_count": 71,
   "id": "d5aca500",
   "metadata": {},
   "outputs": [
    {
     "data": {
      "text/plain": [
       "GridSearchCV(cv=5, estimator=LogisticRegression(n_jobs=-1), n_jobs=-1,\n",
       "             param_grid={'C': [0.01, 0.1, 1, 10],\n",
       "                         'multi_class': ['multinomial'],\n",
       "                         'solver': ['newton-cg', 'lbfgs', 'sag']})"
      ]
     },
     "execution_count": 71,
     "metadata": {},
     "output_type": "execute_result"
    }
   ],
   "source": [
    "grid.fit(x_train,y_train)\n"
   ]
  },
  {
   "cell_type": "code",
   "execution_count": 72,
   "id": "de666065",
   "metadata": {},
   "outputs": [
    {
     "name": "stdout",
     "output_type": "stream",
     "text": [
      "{'C': 0.01, 'multi_class': 'multinomial', 'solver': 'newton-cg'}\n",
      "0.709097119097119\n"
     ]
    }
   ],
   "source": [
    "print(grid.best_params_)\n",
    "print(grid.best_score_)"
   ]
  },
  {
   "cell_type": "markdown",
   "id": "7a37b3fa",
   "metadata": {},
   "source": [
    "## KNN Classifier"
   ]
  },
  {
   "cell_type": "code",
   "execution_count": 73,
   "id": "177014cc",
   "metadata": {},
   "outputs": [
    {
     "data": {
      "text/plain": [
       "KNeighborsClassifier()"
      ]
     },
     "execution_count": 73,
     "metadata": {},
     "output_type": "execute_result"
    }
   ],
   "source": [
    "# let's fit the data into kNN model and see how well it performs:\n",
    "knn = KNeighborsClassifier()\n",
    "knn.fit(x_train,y_train)"
   ]
  },
  {
   "cell_type": "code",
   "execution_count": 74,
   "id": "bb0e450a",
   "metadata": {},
   "outputs": [],
   "source": [
    "y_pred = knn.predict(x_test)"
   ]
  },
  {
   "cell_type": "code",
   "execution_count": 75,
   "id": "990c45e5",
   "metadata": {},
   "outputs": [
    {
     "data": {
      "text/plain": [
       "0.9483024691358025"
      ]
     },
     "execution_count": 75,
     "metadata": {},
     "output_type": "execute_result"
    }
   ],
   "source": [
    "knn.score(x_train,y_train)"
   ]
  },
  {
   "cell_type": "code",
   "execution_count": 76,
   "id": "3dae23e5",
   "metadata": {},
   "outputs": [],
   "source": [
    "from sklearn.metrics import accuracy_score, confusion_matrix, roc_curve, roc_auc_score"
   ]
  },
  {
   "cell_type": "code",
   "execution_count": 77,
   "id": "8bfe3268",
   "metadata": {},
   "outputs": [
    {
     "name": "stdout",
     "output_type": "stream",
     "text": [
      "The accuracy score is :  0.8865740740740741\n"
     ]
    }
   ],
   "source": [
    "print(\"The accuracy score is : \", accuracy_score(y_test,y_pred))"
   ]
  },
  {
   "cell_type": "code",
   "execution_count": 78,
   "id": "91211282",
   "metadata": {},
   "outputs": [
    {
     "name": "stdout",
     "output_type": "stream",
     "text": [
      "              precision    recall  f1-score   support\n",
      "\n",
      "           0       0.84      0.71      0.77       103\n",
      "           1       0.50      0.40      0.44        15\n",
      "           2       0.91      1.00      0.95       294\n",
      "           3       1.00      0.55      0.71        20\n",
      "\n",
      "    accuracy                           0.89       432\n",
      "   macro avg       0.81      0.66      0.72       432\n",
      "weighted avg       0.88      0.89      0.88       432\n",
      "\n"
     ]
    }
   ],
   "source": [
    "print(classification_report(y_test,y_pred))"
   ]
  },
  {
   "cell_type": "code",
   "execution_count": 79,
   "id": "86c6f4b9",
   "metadata": {},
   "outputs": [],
   "source": [
    "avg_score=[]\n",
    "for k in range(2,30):\n",
    "    knn=KNeighborsClassifier(n_jobs=-1,n_neighbors=k)\n",
    "    score=cross_val_score(knn,x_train,y_train,cv=5,n_jobs=-1,scoring='accuracy')\n",
    "    avg_score.append(score.mean())\n"
   ]
  },
  {
   "cell_type": "code",
   "execution_count": 80,
   "id": "3e5aa4fa",
   "metadata": {},
   "outputs": [
    {
     "data": {
      "text/plain": [
       "Text(0, 0.5, 'accuracy')"
      ]
     },
     "execution_count": 80,
     "metadata": {},
     "output_type": "execute_result"
    },
    {
     "data": {
      "image/png": "[encoded data removed]",
      "text/plain": [
       "<Figure size 864x576 with 1 Axes>"
      ]
     },
     "metadata": {
      "needs_background": "light"
     },
     "output_type": "display_data"
    }
   ],
   "source": [
    "plt.figure(figsize=(12,8))\n",
    "plt.plot(range(2,30),avg_score)\n",
    "plt.xlabel(\"n_neighbours\")\n",
    "plt.ylabel(\"accuracy\")\n",
    "#plt.xticks(range(2,30,2))\n"
   ]
  },
  {
   "cell_type": "code",
   "execution_count": 81,
   "id": "5075c5ef",
   "metadata": {},
   "outputs": [],
   "source": [
    "param_grid = { 'algorithm' : ['ball_tree', 'kd_tree', 'brute'],\n",
    "               'leaf_size' : [18,20,25,27,30,32,34],\n",
    "               'n_neighbors' : [3,5,7,9,10,11,12,13]\n",
    "              }"
   ]
  },
  {
   "cell_type": "code",
   "execution_count": 82,
   "id": "14ae6ee9",
   "metadata": {},
   "outputs": [],
   "source": [
    "gridsearch = GridSearchCV(knn, param_grid,verbose=3)"
   ]
  },
  {
   "cell_type": "code",
   "execution_count": 83,
   "id": "4def1f99",
   "metadata": {},
   "outputs": [
    {
     "name": "stdout",
     "output_type": "stream",
     "text": [
      "Fitting 5 folds for each of 168 candidates, totalling 840 fits\n",
      "[CV 1/5] END algorithm=ball_tree, leaf_size=18, n_neighbors=3;, score=0.858 total time=   0.0s\n",
      "[CV 2/5] END algorithm=ball_tree, leaf_size=18, n_neighbors=3;, score=0.865 total time=   0.0s\n",
      "[CV 3/5] END algorithm=ball_tree, leaf_size=18, n_neighbors=3;, score=0.846 total time=   0.0s\n",
      "[CV 4/5] END algorithm=ball_tree, leaf_size=18, n_neighbors=3;, score=0.903 total time=   0.0s\n",
      "[CV 5/5] END algorithm=ball_tree, leaf_size=18, n_neighbors=3;, score=0.896 total time=   0.0s\n",
      "[CV 1/5] END algorithm=ball_tree, leaf_size=18, n_neighbors=5;, score=0.915 total time=   0.0s\n",
      "[CV 2/5] END algorithm=ball_tree, leaf_size=18, n_neighbors=5;, score=0.907 total time=   0.0s\n",
      "[CV 3/5] END algorithm=ball_tree, leaf_size=18, n_neighbors=5;, score=0.892 total time=   0.0s\n",
      "[CV 4/5] END algorithm=ball_tree, leaf_size=18, n_neighbors=5;, score=0.903 total time=   0.0s\n",
      "[CV 5/5] END algorithm=ball_tree, leaf_size=18, n_neighbors=5;, score=0.931 total time=   0.0s\n",
      "[CV 1/5] END algorithm=ball_tree, leaf_size=18, n_neighbors=7;, score=0.912 total time=   0.0s\n",
      "[CV 2/5] END algorithm=ball_tree, leaf_size=18, n_neighbors=7;, score=0.896 total time=   0.0s\n",
      "[CV 3/5] END algorithm=ball_tree, leaf_size=18, n_neighbors=7;, score=0.861 total time=   0.0s\n",
      "[CV 4/5] END algorithm=ball_tree, leaf_size=18, n_neighbors=7;, score=0.919 total time=   0.0s\n",
      "[CV 5/5] END algorithm=ball_tree, leaf_size=18, n_neighbors=7;, score=0.927 total time=   0.0s\n",
      "[CV 1/5] END algorithm=ball_tree, leaf_size=18, n_neighbors=9;, score=0.896 total time=   0.0s\n",
      "[CV 2/5] END algorithm=ball_tree, leaf_size=18, n_neighbors=9;, score=0.857 total time=   0.0s\n",
      "[CV 3/5] END algorithm=ball_tree, leaf_size=18, n_neighbors=9;, score=0.842 total time=   0.0s\n",
      "[CV 4/5] END algorithm=ball_tree, leaf_size=18, n_neighbors=9;, score=0.900 total time=   0.0s\n",
      "[CV 5/5] END algorithm=ball_tree, leaf_size=18, n_neighbors=9;, score=0.903 total time=   0.0s\n",
      "[CV 1/5] END algorithm=ball_tree, leaf_size=18, n_neighbors=10;, score=0.877 total time=   0.0s\n",
      "[CV 2/5] END algorithm=ball_tree, leaf_size=18, n_neighbors=10;, score=0.846 total time=   0.0s\n",
      "[CV 3/5] END algorithm=ball_tree, leaf_size=18, n_neighbors=10;, score=0.830 total time=   0.0s\n",
      "[CV 4/5] END algorithm=ball_tree, leaf_size=18, n_neighbors=10;, score=0.873 total time=   0.0s\n",
      "[CV 5/5] END algorithm=ball_tree, leaf_size=18, n_neighbors=10;, score=0.896 total time=   0.0s\n",
      "[CV 1/5] END algorithm=ball_tree, leaf_size=18, n_neighbors=11;, score=0.862 total time=   0.0s\n",
      "[CV 2/5] END algorithm=ball_tree, leaf_size=18, n_neighbors=11;, score=0.846 total time=   0.0s\n",
      "[CV 3/5] END algorithm=ball_tree, leaf_size=18, n_neighbors=11;, score=0.830 total time=   0.0s\n",
      "[CV 4/5] END algorithm=ball_tree, leaf_size=18, n_neighbors=11;, score=0.861 total time=   0.0s\n",
      "[CV 5/5] END algorithm=ball_tree, leaf_size=18, n_neighbors=11;, score=0.880 total time=   0.0s\n",
      "[CV 1/5] END algorithm=ball_tree, leaf_size=18, n_neighbors=12;, score=0.842 total time=   0.0s\n",
      "[CV 2/5] END algorithm=ball_tree, leaf_size=18, n_neighbors=12;, score=0.830 total time=   0.0s\n",
      "[CV 3/5] END algorithm=ball_tree, leaf_size=18, n_neighbors=12;, score=0.819 total time=   0.0s\n",
      "[CV 4/5] END algorithm=ball_tree, leaf_size=18, n_neighbors=12;, score=0.869 total time=   0.0s\n",
      "[CV 5/5] END algorithm=ball_tree, leaf_size=18, n_neighbors=12;, score=0.880 total time=   0.0s\n",
      "[CV 1/5] END algorithm=ball_tree, leaf_size=18, n_neighbors=13;, score=0.854 total time=   0.0s\n",
      "[CV 2/5] END algorithm=ball_tree, leaf_size=18, n_neighbors=13;, score=0.822 total time=   0.0s\n",
      "[CV 3/5] END algorithm=ball_tree, leaf_size=18, n_neighbors=13;, score=0.822 total time=   0.0s\n",
      "[CV 4/5] END algorithm=ball_tree, leaf_size=18, n_neighbors=13;, score=0.869 total time=   0.0s\n",
      "[CV 5/5] END algorithm=ball_tree, leaf_size=18, n_neighbors=13;, score=0.884 total time=   0.0s\n",
      "[CV 1/5] END algorithm=ball_tree, leaf_size=20, n_neighbors=3;, score=0.858 total time=   0.0s\n",
      "[CV 2/5] END algorithm=ball_tree, leaf_size=20, n_neighbors=3;, score=0.865 total time=   0.0s\n",
      "[CV 3/5] END algorithm=ball_tree, leaf_size=20, n_neighbors=3;, score=0.846 total time=   0.0s\n",
      "[CV 4/5] END algorithm=ball_tree, leaf_size=20, n_neighbors=3;, score=0.903 total time=   0.0s\n",
      "[CV 5/5] END algorithm=ball_tree, leaf_size=20, n_neighbors=3;, score=0.896 total time=   0.0s\n",
      "[CV 1/5] END algorithm=ball_tree, leaf_size=20, n_neighbors=5;, score=0.915 total time=   0.0s\n",
      "[CV 2/5] END algorithm=ball_tree, leaf_size=20, n_neighbors=5;, score=0.907 total time=   0.0s\n",
      "[CV 3/5] END algorithm=ball_tree, leaf_size=20, n_neighbors=5;, score=0.892 total time=   0.0s\n",
      "[CV 4/5] END algorithm=ball_tree, leaf_size=20, n_neighbors=5;, score=0.903 total time=   0.0s\n",
      "[CV 5/5] END algorithm=ball_tree, leaf_size=20, n_neighbors=5;, score=0.931 total time=   0.0s\n",
      "[CV 1/5] END algorithm=ball_tree, leaf_size=20, n_neighbors=7;, score=0.912 total time=   0.0s\n",
      "[CV 2/5] END algorithm=ball_tree, leaf_size=20, n_neighbors=7;, score=0.896 total time=   0.0s\n",
      "[CV 3/5] END algorithm=ball_tree, leaf_size=20, n_neighbors=7;, score=0.861 total time=   0.0s\n",
      "[CV 4/5] END algorithm=ball_tree, leaf_size=20, n_neighbors=7;, score=0.919 total time=   0.0s\n",
      "[CV 5/5] END algorithm=ball_tree, leaf_size=20, n_neighbors=7;, score=0.927 total time=   0.0s\n",
      "[CV 1/5] END algorithm=ball_tree, leaf_size=20, n_neighbors=9;, score=0.896 total time=   0.0s\n",
      "[CV 2/5] END algorithm=ball_tree, leaf_size=20, n_neighbors=9;, score=0.857 total time=   0.0s\n",
      "[CV 3/5] END algorithm=ball_tree, leaf_size=20, n_neighbors=9;, score=0.842 total time=   0.0s\n",
      "[CV 4/5] END algorithm=ball_tree, leaf_size=20, n_neighbors=9;, score=0.900 total time=   0.0s\n",
      "[CV 5/5] END algorithm=ball_tree, leaf_size=20, n_neighbors=9;, score=0.903 total time=   0.0s\n",
      "[CV 1/5] END algorithm=ball_tree, leaf_size=20, n_neighbors=10;, score=0.877 total time=   0.0s\n",
      "[CV 2/5] END algorithm=ball_tree, leaf_size=20, n_neighbors=10;, score=0.846 total time=   0.0s\n",
      "[CV 3/5] END algorithm=ball_tree, leaf_size=20, n_neighbors=10;, score=0.830 total time=   0.0s\n",
      "[CV 4/5] END algorithm=ball_tree, leaf_size=20, n_neighbors=10;, score=0.873 total time=   0.0s\n",
      "[CV 5/5] END algorithm=ball_tree, leaf_size=20, n_neighbors=10;, score=0.896 total time=   0.0s\n",
      "[CV 1/5] END algorithm=ball_tree, leaf_size=20, n_neighbors=11;, score=0.862 total time=   0.0s\n",
      "[CV 2/5] END algorithm=ball_tree, leaf_size=20, n_neighbors=11;, score=0.846 total time=   0.0s\n",
      "[CV 3/5] END algorithm=ball_tree, leaf_size=20, n_neighbors=11;, score=0.830 total time=   0.0s\n",
      "[CV 4/5] END algorithm=ball_tree, leaf_size=20, n_neighbors=11;, score=0.861 total time=   0.0s\n",
      "[CV 5/5] END algorithm=ball_tree, leaf_size=20, n_neighbors=11;, score=0.880 total time=   0.0s\n",
      "[CV 1/5] END algorithm=ball_tree, leaf_size=20, n_neighbors=12;, score=0.842 total time=   0.0s\n",
      "[CV 2/5] END algorithm=ball_tree, leaf_size=20, n_neighbors=12;, score=0.830 total time=   0.0s\n",
      "[CV 3/5] END algorithm=ball_tree, leaf_size=20, n_neighbors=12;, score=0.819 total time=   0.0s\n",
      "[CV 4/5] END algorithm=ball_tree, leaf_size=20, n_neighbors=12;, score=0.869 total time=   0.0s\n",
      "[CV 5/5] END algorithm=ball_tree, leaf_size=20, n_neighbors=12;, score=0.880 total time=   0.0s\n",
      "[CV 1/5] END algorithm=ball_tree, leaf_size=20, n_neighbors=13;, score=0.854 total time=   0.0s\n",
      "[CV 2/5] END algorithm=ball_tree, leaf_size=20, n_neighbors=13;, score=0.822 total time=   0.0s\n",
      "[CV 3/5] END algorithm=ball_tree, leaf_size=20, n_neighbors=13;, score=0.822 total time=   0.0s\n",
      "[CV 4/5] END algorithm=ball_tree, leaf_size=20, n_neighbors=13;, score=0.869 total time=   0.0s\n",
      "[CV 5/5] END algorithm=ball_tree, leaf_size=20, n_neighbors=13;, score=0.884 total time=   0.0s\n",
      "[CV 1/5] END algorithm=ball_tree, leaf_size=25, n_neighbors=3;, score=0.858 total time=   0.0s\n",
      "[CV 2/5] END algorithm=ball_tree, leaf_size=25, n_neighbors=3;, score=0.865 total time=   0.0s\n",
      "[CV 3/5] END algorithm=ball_tree, leaf_size=25, n_neighbors=3;, score=0.846 total time=   0.0s\n",
      "[CV 4/5] END algorithm=ball_tree, leaf_size=25, n_neighbors=3;, score=0.903 total time=   0.0s\n",
      "[CV 5/5] END algorithm=ball_tree, leaf_size=25, n_neighbors=3;, score=0.896 total time=   0.0s\n",
      "[CV 1/5] END algorithm=ball_tree, leaf_size=25, n_neighbors=5;, score=0.915 total time=   0.0s\n",
      "[CV 2/5] END algorithm=ball_tree, leaf_size=25, n_neighbors=5;, score=0.907 total time=   0.0s\n",
      "[CV 3/5] END algorithm=ball_tree, leaf_size=25, n_neighbors=5;, score=0.892 total time=   0.0s\n",
      "[CV 4/5] END algorithm=ball_tree, leaf_size=25, n_neighbors=5;, score=0.903 total time=   0.0s\n"
     ]
    },
    {
     "name": "stdout",
     "output_type": "stream",
     "text": [
      "[CV 5/5] END algorithm=ball_tree, leaf_size=25, n_neighbors=5;, score=0.931 total time=   0.0s\n",
      "[CV 1/5] END algorithm=ball_tree, leaf_size=25, n_neighbors=7;, score=0.912 total time=   0.0s\n",
      "[CV 2/5] END algorithm=ball_tree, leaf_size=25, n_neighbors=7;, score=0.896 total time=   0.0s\n",
      "[CV 3/5] END algorithm=ball_tree, leaf_size=25, n_neighbors=7;, score=0.861 total time=   0.0s\n",
      "[CV 4/5] END algorithm=ball_tree, leaf_size=25, n_neighbors=7;, score=0.919 total time=   0.0s\n",
      "[CV 5/5] END algorithm=ball_tree, leaf_size=25, n_neighbors=7;, score=0.927 total time=   0.0s\n",
      "[CV 1/5] END algorithm=ball_tree, leaf_size=25, n_neighbors=9;, score=0.896 total time=   0.0s\n",
      "[CV 2/5] END algorithm=ball_tree, leaf_size=25, n_neighbors=9;, score=0.857 total time=   0.0s\n",
      "[CV 3/5] END algorithm=ball_tree, leaf_size=25, n_neighbors=9;, score=0.842 total time=   0.0s\n",
      "[CV 4/5] END algorithm=ball_tree, leaf_size=25, n_neighbors=9;, score=0.900 total time=   0.0s\n",
      "[CV 5/5] END algorithm=ball_tree, leaf_size=25, n_neighbors=9;, score=0.903 total time=   0.0s\n",
      "[CV 1/5] END algorithm=ball_tree, leaf_size=25, n_neighbors=10;, score=0.877 total time=   0.0s\n",
      "[CV 2/5] END algorithm=ball_tree, leaf_size=25, n_neighbors=10;, score=0.846 total time=   0.0s\n",
      "[CV 3/5] END algorithm=ball_tree, leaf_size=25, n_neighbors=10;, score=0.830 total time=   0.0s\n",
      "[CV 4/5] END algorithm=ball_tree, leaf_size=25, n_neighbors=10;, score=0.873 total time=   0.0s\n",
      "[CV 5/5] END algorithm=ball_tree, leaf_size=25, n_neighbors=10;, score=0.896 total time=   0.0s\n",
      "[CV 1/5] END algorithm=ball_tree, leaf_size=25, n_neighbors=11;, score=0.862 total time=   0.0s\n",
      "[CV 2/5] END algorithm=ball_tree, leaf_size=25, n_neighbors=11;, score=0.846 total time=   0.0s\n",
      "[CV 3/5] END algorithm=ball_tree, leaf_size=25, n_neighbors=11;, score=0.830 total time=   0.0s\n",
      "[CV 4/5] END algorithm=ball_tree, leaf_size=25, n_neighbors=11;, score=0.861 total time=   0.0s\n",
      "[CV 5/5] END algorithm=ball_tree, leaf_size=25, n_neighbors=11;, score=0.880 total time=   0.0s\n",
      "[CV 1/5] END algorithm=ball_tree, leaf_size=25, n_neighbors=12;, score=0.842 total time=   0.0s\n",
      "[CV 2/5] END algorithm=ball_tree, leaf_size=25, n_neighbors=12;, score=0.830 total time=   0.0s\n",
      "[CV 3/5] END algorithm=ball_tree, leaf_size=25, n_neighbors=12;, score=0.819 total time=   0.0s\n",
      "[CV 4/5] END algorithm=ball_tree, leaf_size=25, n_neighbors=12;, score=0.869 total time=   0.0s\n",
      "[CV 5/5] END algorithm=ball_tree, leaf_size=25, n_neighbors=12;, score=0.880 total time=   0.0s\n",
      "[CV 1/5] END algorithm=ball_tree, leaf_size=25, n_neighbors=13;, score=0.854 total time=   0.0s\n",
      "[CV 2/5] END algorithm=ball_tree, leaf_size=25, n_neighbors=13;, score=0.822 total time=   0.0s\n",
      "[CV 3/5] END algorithm=ball_tree, leaf_size=25, n_neighbors=13;, score=0.822 total time=   0.0s\n",
      "[CV 4/5] END algorithm=ball_tree, leaf_size=25, n_neighbors=13;, score=0.869 total time=   0.0s\n",
      "[CV 5/5] END algorithm=ball_tree, leaf_size=25, n_neighbors=13;, score=0.884 total time=   0.0s\n",
      "[CV 1/5] END algorithm=ball_tree, leaf_size=27, n_neighbors=3;, score=0.858 total time=   0.0s\n",
      "[CV 2/5] END algorithm=ball_tree, leaf_size=27, n_neighbors=3;, score=0.865 total time=   0.0s\n",
      "[CV 3/5] END algorithm=ball_tree, leaf_size=27, n_neighbors=3;, score=0.846 total time=   0.0s\n",
      "[CV 4/5] END algorithm=ball_tree, leaf_size=27, n_neighbors=3;, score=0.903 total time=   0.0s\n",
      "[CV 5/5] END algorithm=ball_tree, leaf_size=27, n_neighbors=3;, score=0.896 total time=   0.0s\n",
      "[CV 1/5] END algorithm=ball_tree, leaf_size=27, n_neighbors=5;, score=0.915 total time=   0.0s\n",
      "[CV 2/5] END algorithm=ball_tree, leaf_size=27, n_neighbors=5;, score=0.907 total time=   0.0s\n",
      "[CV 3/5] END algorithm=ball_tree, leaf_size=27, n_neighbors=5;, score=0.892 total time=   0.0s\n",
      "[CV 4/5] END algorithm=ball_tree, leaf_size=27, n_neighbors=5;, score=0.903 total time=   0.0s\n",
      "[CV 5/5] END algorithm=ball_tree, leaf_size=27, n_neighbors=5;, score=0.931 total time=   0.0s\n",
      "[CV 1/5] END algorithm=ball_tree, leaf_size=27, n_neighbors=7;, score=0.912 total time=   0.0s\n",
      "[CV 2/5] END algorithm=ball_tree, leaf_size=27, n_neighbors=7;, score=0.896 total time=   0.0s\n",
      "[CV 3/5] END algorithm=ball_tree, leaf_size=27, n_neighbors=7;, score=0.861 total time=   0.0s\n",
      "[CV 4/5] END algorithm=ball_tree, leaf_size=27, n_neighbors=7;, score=0.919 total time=   0.0s\n",
      "[CV 5/5] END algorithm=ball_tree, leaf_size=27, n_neighbors=7;, score=0.927 total time=   0.0s\n",
      "[CV 1/5] END algorithm=ball_tree, leaf_size=27, n_neighbors=9;, score=0.896 total time=   0.0s\n",
      "[CV 2/5] END algorithm=ball_tree, leaf_size=27, n_neighbors=9;, score=0.857 total time=   0.0s\n",
      "[CV 3/5] END algorithm=ball_tree, leaf_size=27, n_neighbors=9;, score=0.842 total time=   0.0s\n",
      "[CV 4/5] END algorithm=ball_tree, leaf_size=27, n_neighbors=9;, score=0.900 total time=   0.0s\n",
      "[CV 5/5] END algorithm=ball_tree, leaf_size=27, n_neighbors=9;, score=0.903 total time=   0.0s\n",
      "[CV 1/5] END algorithm=ball_tree, leaf_size=27, n_neighbors=10;, score=0.877 total time=   0.0s\n",
      "[CV 2/5] END algorithm=ball_tree, leaf_size=27, n_neighbors=10;, score=0.846 total time=   0.0s\n",
      "[CV 3/5] END algorithm=ball_tree, leaf_size=27, n_neighbors=10;, score=0.830 total time=   0.0s\n",
      "[CV 4/5] END algorithm=ball_tree, leaf_size=27, n_neighbors=10;, score=0.873 total time=   0.0s\n",
      "[CV 5/5] END algorithm=ball_tree, leaf_size=27, n_neighbors=10;, score=0.896 total time=   0.0s\n",
      "[CV 1/5] END algorithm=ball_tree, leaf_size=27, n_neighbors=11;, score=0.862 total time=   0.0s\n",
      "[CV 2/5] END algorithm=ball_tree, leaf_size=27, n_neighbors=11;, score=0.846 total time=   0.0s\n",
      "[CV 3/5] END algorithm=ball_tree, leaf_size=27, n_neighbors=11;, score=0.830 total time=   0.0s\n",
      "[CV 4/5] END algorithm=ball_tree, leaf_size=27, n_neighbors=11;, score=0.861 total time=   0.0s\n",
      "[CV 5/5] END algorithm=ball_tree, leaf_size=27, n_neighbors=11;, score=0.880 total time=   0.0s\n",
      "[CV 1/5] END algorithm=ball_tree, leaf_size=27, n_neighbors=12;, score=0.842 total time=   0.0s\n",
      "[CV 2/5] END algorithm=ball_tree, leaf_size=27, n_neighbors=12;, score=0.830 total time=   0.0s\n",
      "[CV 3/5] END algorithm=ball_tree, leaf_size=27, n_neighbors=12;, score=0.819 total time=   0.0s\n",
      "[CV 4/5] END algorithm=ball_tree, leaf_size=27, n_neighbors=12;, score=0.869 total time=   0.0s\n",
      "[CV 5/5] END algorithm=ball_tree, leaf_size=27, n_neighbors=12;, score=0.880 total time=   0.0s\n",
      "[CV 1/5] END algorithm=ball_tree, leaf_size=27, n_neighbors=13;, score=0.854 total time=   0.0s\n",
      "[CV 2/5] END algorithm=ball_tree, leaf_size=27, n_neighbors=13;, score=0.822 total time=   0.0s\n",
      "[CV 3/5] END algorithm=ball_tree, leaf_size=27, n_neighbors=13;, score=0.822 total time=   0.0s\n",
      "[CV 4/5] END algorithm=ball_tree, leaf_size=27, n_neighbors=13;, score=0.869 total time=   0.0s\n",
      "[CV 5/5] END algorithm=ball_tree, leaf_size=27, n_neighbors=13;, score=0.884 total time=   0.0s\n",
      "[CV 1/5] END algorithm=ball_tree, leaf_size=30, n_neighbors=3;, score=0.858 total time=   0.0s\n",
      "[CV 2/5] END algorithm=ball_tree, leaf_size=30, n_neighbors=3;, score=0.865 total time=   0.0s\n",
      "[CV 3/5] END algorithm=ball_tree, leaf_size=30, n_neighbors=3;, score=0.846 total time=   0.0s\n",
      "[CV 4/5] END algorithm=ball_tree, leaf_size=30, n_neighbors=3;, score=0.903 total time=   0.0s\n",
      "[CV 5/5] END algorithm=ball_tree, leaf_size=30, n_neighbors=3;, score=0.896 total time=   0.0s\n",
      "[CV 1/5] END algorithm=ball_tree, leaf_size=30, n_neighbors=5;, score=0.915 total time=   0.0s\n",
      "[CV 2/5] END algorithm=ball_tree, leaf_size=30, n_neighbors=5;, score=0.907 total time=   0.0s\n",
      "[CV 3/5] END algorithm=ball_tree, leaf_size=30, n_neighbors=5;, score=0.892 total time=   0.0s\n",
      "[CV 4/5] END algorithm=ball_tree, leaf_size=30, n_neighbors=5;, score=0.903 total time=   0.0s\n",
      "[CV 5/5] END algorithm=ball_tree, leaf_size=30, n_neighbors=5;, score=0.931 total time=   0.0s\n",
      "[CV 1/5] END algorithm=ball_tree, leaf_size=30, n_neighbors=7;, score=0.912 total time=   0.0s\n",
      "[CV 2/5] END algorithm=ball_tree, leaf_size=30, n_neighbors=7;, score=0.896 total time=   0.0s\n",
      "[CV 3/5] END algorithm=ball_tree, leaf_size=30, n_neighbors=7;, score=0.861 total time=   0.0s\n",
      "[CV 4/5] END algorithm=ball_tree, leaf_size=30, n_neighbors=7;, score=0.919 total time=   0.0s\n",
      "[CV 5/5] END algorithm=ball_tree, leaf_size=30, n_neighbors=7;, score=0.927 total time=   0.0s\n",
      "[CV 1/5] END algorithm=ball_tree, leaf_size=30, n_neighbors=9;, score=0.896 total time=   0.0s\n",
      "[CV 2/5] END algorithm=ball_tree, leaf_size=30, n_neighbors=9;, score=0.857 total time=   0.0s\n",
      "[CV 3/5] END algorithm=ball_tree, leaf_size=30, n_neighbors=9;, score=0.842 total time=   0.0s\n",
      "[CV 4/5] END algorithm=ball_tree, leaf_size=30, n_neighbors=9;, score=0.900 total time=   0.0s\n",
      "[CV 5/5] END algorithm=ball_tree, leaf_size=30, n_neighbors=9;, score=0.903 total time=   0.0s\n",
      "[CV 1/5] END algorithm=ball_tree, leaf_size=30, n_neighbors=10;, score=0.877 total time=   0.0s\n"
     ]
    },
    {
     "name": "stdout",
     "output_type": "stream",
     "text": [
      "[CV 2/5] END algorithm=ball_tree, leaf_size=30, n_neighbors=10;, score=0.846 total time=   0.0s\n",
      "[CV 3/5] END algorithm=ball_tree, leaf_size=30, n_neighbors=10;, score=0.830 total time=   0.0s\n",
      "[CV 4/5] END algorithm=ball_tree, leaf_size=30, n_neighbors=10;, score=0.873 total time=   0.0s\n",
      "[CV 5/5] END algorithm=ball_tree, leaf_size=30, n_neighbors=10;, score=0.896 total time=   0.0s\n",
      "[CV 1/5] END algorithm=ball_tree, leaf_size=30, n_neighbors=11;, score=0.862 total time=   0.0s\n",
      "[CV 2/5] END algorithm=ball_tree, leaf_size=30, n_neighbors=11;, score=0.846 total time=   0.0s\n",
      "[CV 3/5] END algorithm=ball_tree, leaf_size=30, n_neighbors=11;, score=0.830 total time=   0.0s\n",
      "[CV 4/5] END algorithm=ball_tree, leaf_size=30, n_neighbors=11;, score=0.861 total time=   0.0s\n",
      "[CV 5/5] END algorithm=ball_tree, leaf_size=30, n_neighbors=11;, score=0.880 total time=   0.0s\n",
      "[CV 1/5] END algorithm=ball_tree, leaf_size=30, n_neighbors=12;, score=0.842 total time=   0.0s\n",
      "[CV 2/5] END algorithm=ball_tree, leaf_size=30, n_neighbors=12;, score=0.830 total time=   0.0s\n",
      "[CV 3/5] END algorithm=ball_tree, leaf_size=30, n_neighbors=12;, score=0.819 total time=   0.0s\n",
      "[CV 4/5] END algorithm=ball_tree, leaf_size=30, n_neighbors=12;, score=0.869 total time=   0.0s\n",
      "[CV 5/5] END algorithm=ball_tree, leaf_size=30, n_neighbors=12;, score=0.880 total time=   0.0s\n",
      "[CV 1/5] END algorithm=ball_tree, leaf_size=30, n_neighbors=13;, score=0.854 total time=   0.0s\n",
      "[CV 2/5] END algorithm=ball_tree, leaf_size=30, n_neighbors=13;, score=0.822 total time=   0.0s\n",
      "[CV 3/5] END algorithm=ball_tree, leaf_size=30, n_neighbors=13;, score=0.822 total time=   0.0s\n",
      "[CV 4/5] END algorithm=ball_tree, leaf_size=30, n_neighbors=13;, score=0.869 total time=   0.0s\n",
      "[CV 5/5] END algorithm=ball_tree, leaf_size=30, n_neighbors=13;, score=0.884 total time=   0.0s\n",
      "[CV 1/5] END algorithm=ball_tree, leaf_size=32, n_neighbors=3;, score=0.858 total time=   0.0s\n",
      "[CV 2/5] END algorithm=ball_tree, leaf_size=32, n_neighbors=3;, score=0.865 total time=   0.0s\n",
      "[CV 3/5] END algorithm=ball_tree, leaf_size=32, n_neighbors=3;, score=0.846 total time=   0.0s\n",
      "[CV 4/5] END algorithm=ball_tree, leaf_size=32, n_neighbors=3;, score=0.903 total time=   0.0s\n",
      "[CV 5/5] END algorithm=ball_tree, leaf_size=32, n_neighbors=3;, score=0.896 total time=   0.0s\n",
      "[CV 1/5] END algorithm=ball_tree, leaf_size=32, n_neighbors=5;, score=0.915 total time=   0.0s\n",
      "[CV 2/5] END algorithm=ball_tree, leaf_size=32, n_neighbors=5;, score=0.907 total time=   0.0s\n",
      "[CV 3/5] END algorithm=ball_tree, leaf_size=32, n_neighbors=5;, score=0.892 total time=   0.0s\n",
      "[CV 4/5] END algorithm=ball_tree, leaf_size=32, n_neighbors=5;, score=0.903 total time=   0.0s\n",
      "[CV 5/5] END algorithm=ball_tree, leaf_size=32, n_neighbors=5;, score=0.931 total time=   0.0s\n",
      "[CV 1/5] END algorithm=ball_tree, leaf_size=32, n_neighbors=7;, score=0.912 total time=   0.0s\n",
      "[CV 2/5] END algorithm=ball_tree, leaf_size=32, n_neighbors=7;, score=0.896 total time=   0.0s\n",
      "[CV 3/5] END algorithm=ball_tree, leaf_size=32, n_neighbors=7;, score=0.861 total time=   0.0s\n",
      "[CV 4/5] END algorithm=ball_tree, leaf_size=32, n_neighbors=7;, score=0.919 total time=   0.0s\n",
      "[CV 5/5] END algorithm=ball_tree, leaf_size=32, n_neighbors=7;, score=0.927 total time=   0.0s\n",
      "[CV 1/5] END algorithm=ball_tree, leaf_size=32, n_neighbors=9;, score=0.896 total time=   0.0s\n",
      "[CV 2/5] END algorithm=ball_tree, leaf_size=32, n_neighbors=9;, score=0.857 total time=   0.0s\n",
      "[CV 3/5] END algorithm=ball_tree, leaf_size=32, n_neighbors=9;, score=0.842 total time=   0.0s\n",
      "[CV 4/5] END algorithm=ball_tree, leaf_size=32, n_neighbors=9;, score=0.900 total time=   0.0s\n",
      "[CV 5/5] END algorithm=ball_tree, leaf_size=32, n_neighbors=9;, score=0.903 total time=   0.0s\n",
      "[CV 1/5] END algorithm=ball_tree, leaf_size=32, n_neighbors=10;, score=0.877 total time=   0.0s\n",
      "[CV 2/5] END algorithm=ball_tree, leaf_size=32, n_neighbors=10;, score=0.846 total time=   0.0s\n",
      "[CV 3/5] END algorithm=ball_tree, leaf_size=32, n_neighbors=10;, score=0.830 total time=   0.0s\n",
      "[CV 4/5] END algorithm=ball_tree, leaf_size=32, n_neighbors=10;, score=0.873 total time=   0.0s\n",
      "[CV 5/5] END algorithm=ball_tree, leaf_size=32, n_neighbors=10;, score=0.896 total time=   0.0s\n",
      "[CV 1/5] END algorithm=ball_tree, leaf_size=32, n_neighbors=11;, score=0.862 total time=   0.0s\n",
      "[CV 2/5] END algorithm=ball_tree, leaf_size=32, n_neighbors=11;, score=0.846 total time=   0.0s\n",
      "[CV 3/5] END algorithm=ball_tree, leaf_size=32, n_neighbors=11;, score=0.830 total time=   0.0s\n",
      "[CV 4/5] END algorithm=ball_tree, leaf_size=32, n_neighbors=11;, score=0.861 total time=   0.0s\n",
      "[CV 5/5] END algorithm=ball_tree, leaf_size=32, n_neighbors=11;, score=0.880 total time=   0.0s\n",
      "[CV 1/5] END algorithm=ball_tree, leaf_size=32, n_neighbors=12;, score=0.842 total time=   0.0s\n",
      "[CV 2/5] END algorithm=ball_tree, leaf_size=32, n_neighbors=12;, score=0.830 total time=   0.0s\n",
      "[CV 3/5] END algorithm=ball_tree, leaf_size=32, n_neighbors=12;, score=0.819 total time=   0.0s\n",
      "[CV 4/5] END algorithm=ball_tree, leaf_size=32, n_neighbors=12;, score=0.869 total time=   0.0s\n",
      "[CV 5/5] END algorithm=ball_tree, leaf_size=32, n_neighbors=12;, score=0.880 total time=   0.0s\n",
      "[CV 1/5] END algorithm=ball_tree, leaf_size=32, n_neighbors=13;, score=0.854 total time=   0.0s\n",
      "[CV 2/5] END algorithm=ball_tree, leaf_size=32, n_neighbors=13;, score=0.822 total time=   0.0s\n",
      "[CV 3/5] END algorithm=ball_tree, leaf_size=32, n_neighbors=13;, score=0.822 total time=   0.0s\n",
      "[CV 4/5] END algorithm=ball_tree, leaf_size=32, n_neighbors=13;, score=0.869 total time=   0.0s\n",
      "[CV 5/5] END algorithm=ball_tree, leaf_size=32, n_neighbors=13;, score=0.884 total time=   0.0s\n",
      "[CV 1/5] END algorithm=ball_tree, leaf_size=34, n_neighbors=3;, score=0.858 total time=   0.0s\n",
      "[CV 2/5] END algorithm=ball_tree, leaf_size=34, n_neighbors=3;, score=0.880 total time=   0.0s\n",
      "[CV 3/5] END algorithm=ball_tree, leaf_size=34, n_neighbors=3;, score=0.865 total time=   0.0s\n",
      "[CV 4/5] END algorithm=ball_tree, leaf_size=34, n_neighbors=3;, score=0.880 total time=   0.0s\n",
      "[CV 5/5] END algorithm=ball_tree, leaf_size=34, n_neighbors=3;, score=0.888 total time=   0.0s\n",
      "[CV 1/5] END algorithm=ball_tree, leaf_size=34, n_neighbors=5;, score=0.919 total time=   0.0s\n",
      "[CV 2/5] END algorithm=ball_tree, leaf_size=34, n_neighbors=5;, score=0.911 total time=   0.0s\n",
      "[CV 3/5] END algorithm=ball_tree, leaf_size=34, n_neighbors=5;, score=0.888 total time=   0.0s\n",
      "[CV 4/5] END algorithm=ball_tree, leaf_size=34, n_neighbors=5;, score=0.915 total time=   0.0s\n",
      "[CV 5/5] END algorithm=ball_tree, leaf_size=34, n_neighbors=5;, score=0.931 total time=   0.0s\n",
      "[CV 1/5] END algorithm=ball_tree, leaf_size=34, n_neighbors=7;, score=0.923 total time=   0.0s\n",
      "[CV 2/5] END algorithm=ball_tree, leaf_size=34, n_neighbors=7;, score=0.896 total time=   0.0s\n",
      "[CV 3/5] END algorithm=ball_tree, leaf_size=34, n_neighbors=7;, score=0.869 total time=   0.0s\n",
      "[CV 4/5] END algorithm=ball_tree, leaf_size=34, n_neighbors=7;, score=0.927 total time=   0.0s\n",
      "[CV 5/5] END algorithm=ball_tree, leaf_size=34, n_neighbors=7;, score=0.911 total time=   0.0s\n",
      "[CV 1/5] END algorithm=ball_tree, leaf_size=34, n_neighbors=9;, score=0.862 total time=   0.0s\n",
      "[CV 2/5] END algorithm=ball_tree, leaf_size=34, n_neighbors=9;, score=0.857 total time=   0.0s\n",
      "[CV 3/5] END algorithm=ball_tree, leaf_size=34, n_neighbors=9;, score=0.849 total time=   0.0s\n",
      "[CV 4/5] END algorithm=ball_tree, leaf_size=34, n_neighbors=9;, score=0.896 total time=   0.0s\n",
      "[CV 5/5] END algorithm=ball_tree, leaf_size=34, n_neighbors=9;, score=0.884 total time=   0.0s\n",
      "[CV 1/5] END algorithm=ball_tree, leaf_size=34, n_neighbors=10;, score=0.892 total time=   0.0s\n",
      "[CV 2/5] END algorithm=ball_tree, leaf_size=34, n_neighbors=10;, score=0.861 total time=   0.0s\n",
      "[CV 3/5] END algorithm=ball_tree, leaf_size=34, n_neighbors=10;, score=0.861 total time=   0.0s\n",
      "[CV 4/5] END algorithm=ball_tree, leaf_size=34, n_neighbors=10;, score=0.892 total time=   0.0s\n",
      "[CV 5/5] END algorithm=ball_tree, leaf_size=34, n_neighbors=10;, score=0.888 total time=   0.0s\n",
      "[CV 1/5] END algorithm=ball_tree, leaf_size=34, n_neighbors=11;, score=0.877 total time=   0.0s\n",
      "[CV 2/5] END algorithm=ball_tree, leaf_size=34, n_neighbors=11;, score=0.830 total time=   0.0s\n",
      "[CV 3/5] END algorithm=ball_tree, leaf_size=34, n_neighbors=11;, score=0.853 total time=   0.0s\n",
      "[CV 4/5] END algorithm=ball_tree, leaf_size=34, n_neighbors=11;, score=0.857 total time=   0.0s\n",
      "[CV 5/5] END algorithm=ball_tree, leaf_size=34, n_neighbors=11;, score=0.861 total time=   0.0s\n",
      "[CV 1/5] END algorithm=ball_tree, leaf_size=34, n_neighbors=12;, score=0.854 total time=   0.0s\n",
      "[CV 2/5] END algorithm=ball_tree, leaf_size=34, n_neighbors=12;, score=0.834 total time=   0.0s\n"
     ]
    },
    {
     "name": "stdout",
     "output_type": "stream",
     "text": [
      "[CV 3/5] END algorithm=ball_tree, leaf_size=34, n_neighbors=12;, score=0.819 total time=   0.0s\n",
      "[CV 4/5] END algorithm=ball_tree, leaf_size=34, n_neighbors=12;, score=0.869 total time=   0.0s\n",
      "[CV 5/5] END algorithm=ball_tree, leaf_size=34, n_neighbors=12;, score=0.861 total time=   0.0s\n",
      "[CV 1/5] END algorithm=ball_tree, leaf_size=34, n_neighbors=13;, score=0.846 total time=   0.0s\n",
      "[CV 2/5] END algorithm=ball_tree, leaf_size=34, n_neighbors=13;, score=0.819 total time=   0.0s\n",
      "[CV 3/5] END algorithm=ball_tree, leaf_size=34, n_neighbors=13;, score=0.826 total time=   0.0s\n",
      "[CV 4/5] END algorithm=ball_tree, leaf_size=34, n_neighbors=13;, score=0.846 total time=   0.0s\n",
      "[CV 5/5] END algorithm=ball_tree, leaf_size=34, n_neighbors=13;, score=0.876 total time=   0.0s\n",
      "[CV 1/5] END algorithm=kd_tree, leaf_size=18, n_neighbors=3;, score=0.873 total time=   0.0s\n",
      "[CV 2/5] END algorithm=kd_tree, leaf_size=18, n_neighbors=3;, score=0.846 total time=   0.0s\n",
      "[CV 3/5] END algorithm=kd_tree, leaf_size=18, n_neighbors=3;, score=0.834 total time=   0.0s\n",
      "[CV 4/5] END algorithm=kd_tree, leaf_size=18, n_neighbors=3;, score=0.869 total time=   0.0s\n",
      "[CV 5/5] END algorithm=kd_tree, leaf_size=18, n_neighbors=3;, score=0.896 total time=   0.0s\n",
      "[CV 1/5] END algorithm=kd_tree, leaf_size=18, n_neighbors=5;, score=0.919 total time=   0.0s\n",
      "[CV 2/5] END algorithm=kd_tree, leaf_size=18, n_neighbors=5;, score=0.896 total time=   0.0s\n",
      "[CV 3/5] END algorithm=kd_tree, leaf_size=18, n_neighbors=5;, score=0.892 total time=   0.0s\n",
      "[CV 4/5] END algorithm=kd_tree, leaf_size=18, n_neighbors=5;, score=0.900 total time=   0.0s\n",
      "[CV 5/5] END algorithm=kd_tree, leaf_size=18, n_neighbors=5;, score=0.927 total time=   0.0s\n",
      "[CV 1/5] END algorithm=kd_tree, leaf_size=18, n_neighbors=7;, score=0.923 total time=   0.0s\n",
      "[CV 2/5] END algorithm=kd_tree, leaf_size=18, n_neighbors=7;, score=0.869 total time=   0.0s\n",
      "[CV 3/5] END algorithm=kd_tree, leaf_size=18, n_neighbors=7;, score=0.838 total time=   0.0s\n",
      "[CV 4/5] END algorithm=kd_tree, leaf_size=18, n_neighbors=7;, score=0.923 total time=   0.0s\n",
      "[CV 5/5] END algorithm=kd_tree, leaf_size=18, n_neighbors=7;, score=0.934 total time=   0.0s\n",
      "[CV 1/5] END algorithm=kd_tree, leaf_size=18, n_neighbors=9;, score=0.881 total time=   0.0s\n",
      "[CV 2/5] END algorithm=kd_tree, leaf_size=18, n_neighbors=9;, score=0.830 total time=   0.0s\n",
      "[CV 3/5] END algorithm=kd_tree, leaf_size=18, n_neighbors=9;, score=0.826 total time=   0.0s\n",
      "[CV 4/5] END algorithm=kd_tree, leaf_size=18, n_neighbors=9;, score=0.884 total time=   0.0s\n",
      "[CV 5/5] END algorithm=kd_tree, leaf_size=18, n_neighbors=9;, score=0.903 total time=   0.0s\n",
      "[CV 1/5] END algorithm=kd_tree, leaf_size=18, n_neighbors=10;, score=0.881 total time=   0.0s\n",
      "[CV 2/5] END algorithm=kd_tree, leaf_size=18, n_neighbors=10;, score=0.822 total time=   0.0s\n",
      "[CV 3/5] END algorithm=kd_tree, leaf_size=18, n_neighbors=10;, score=0.803 total time=   0.0s\n",
      "[CV 4/5] END algorithm=kd_tree, leaf_size=18, n_neighbors=10;, score=0.873 total time=   0.0s\n",
      "[CV 5/5] END algorithm=kd_tree, leaf_size=18, n_neighbors=10;, score=0.880 total time=   0.0s\n",
      "[CV 1/5] END algorithm=kd_tree, leaf_size=18, n_neighbors=11;, score=0.885 total time=   0.0s\n",
      "[CV 2/5] END algorithm=kd_tree, leaf_size=18, n_neighbors=11;, score=0.830 total time=   0.0s\n",
      "[CV 3/5] END algorithm=kd_tree, leaf_size=18, n_neighbors=11;, score=0.795 total time=   0.0s\n",
      "[CV 4/5] END algorithm=kd_tree, leaf_size=18, n_neighbors=11;, score=0.861 total time=   0.0s\n",
      "[CV 5/5] END algorithm=kd_tree, leaf_size=18, n_neighbors=11;, score=0.869 total time=   0.0s\n",
      "[CV 1/5] END algorithm=kd_tree, leaf_size=18, n_neighbors=12;, score=0.865 total time=   0.0s\n",
      "[CV 2/5] END algorithm=kd_tree, leaf_size=18, n_neighbors=12;, score=0.815 total time=   0.0s\n",
      "[CV 3/5] END algorithm=kd_tree, leaf_size=18, n_neighbors=12;, score=0.780 total time=   0.0s\n",
      "[CV 4/5] END algorithm=kd_tree, leaf_size=18, n_neighbors=12;, score=0.857 total time=   0.0s\n",
      "[CV 5/5] END algorithm=kd_tree, leaf_size=18, n_neighbors=12;, score=0.873 total time=   0.0s\n",
      "[CV 1/5] END algorithm=kd_tree, leaf_size=18, n_neighbors=13;, score=0.854 total time=   0.0s\n",
      "[CV 2/5] END algorithm=kd_tree, leaf_size=18, n_neighbors=13;, score=0.788 total time=   0.0s\n",
      "[CV 3/5] END algorithm=kd_tree, leaf_size=18, n_neighbors=13;, score=0.768 total time=   0.0s\n",
      "[CV 4/5] END algorithm=kd_tree, leaf_size=18, n_neighbors=13;, score=0.861 total time=   0.0s\n",
      "[CV 5/5] END algorithm=kd_tree, leaf_size=18, n_neighbors=13;, score=0.869 total time=   0.0s\n",
      "[CV 1/5] END algorithm=kd_tree, leaf_size=20, n_neighbors=3;, score=0.873 total time=   0.0s\n",
      "[CV 2/5] END algorithm=kd_tree, leaf_size=20, n_neighbors=3;, score=0.846 total time=   0.0s\n",
      "[CV 3/5] END algorithm=kd_tree, leaf_size=20, n_neighbors=3;, score=0.834 total time=   0.0s\n",
      "[CV 4/5] END algorithm=kd_tree, leaf_size=20, n_neighbors=3;, score=0.869 total time=   0.0s\n",
      "[CV 5/5] END algorithm=kd_tree, leaf_size=20, n_neighbors=3;, score=0.896 total time=   0.0s\n",
      "[CV 1/5] END algorithm=kd_tree, leaf_size=20, n_neighbors=5;, score=0.919 total time=   0.0s\n",
      "[CV 2/5] END algorithm=kd_tree, leaf_size=20, n_neighbors=5;, score=0.896 total time=   0.0s\n",
      "[CV 3/5] END algorithm=kd_tree, leaf_size=20, n_neighbors=5;, score=0.892 total time=   0.0s\n",
      "[CV 4/5] END algorithm=kd_tree, leaf_size=20, n_neighbors=5;, score=0.900 total time=   0.0s\n",
      "[CV 5/5] END algorithm=kd_tree, leaf_size=20, n_neighbors=5;, score=0.927 total time=   0.0s\n",
      "[CV 1/5] END algorithm=kd_tree, leaf_size=20, n_neighbors=7;, score=0.923 total time=   0.0s\n",
      "[CV 2/5] END algorithm=kd_tree, leaf_size=20, n_neighbors=7;, score=0.869 total time=   0.0s\n",
      "[CV 3/5] END algorithm=kd_tree, leaf_size=20, n_neighbors=7;, score=0.838 total time=   0.0s\n",
      "[CV 4/5] END algorithm=kd_tree, leaf_size=20, n_neighbors=7;, score=0.923 total time=   0.0s\n",
      "[CV 5/5] END algorithm=kd_tree, leaf_size=20, n_neighbors=7;, score=0.934 total time=   0.0s\n",
      "[CV 1/5] END algorithm=kd_tree, leaf_size=20, n_neighbors=9;, score=0.881 total time=   0.0s\n",
      "[CV 2/5] END algorithm=kd_tree, leaf_size=20, n_neighbors=9;, score=0.830 total time=   0.0s\n",
      "[CV 3/5] END algorithm=kd_tree, leaf_size=20, n_neighbors=9;, score=0.826 total time=   0.0s\n",
      "[CV 4/5] END algorithm=kd_tree, leaf_size=20, n_neighbors=9;, score=0.884 total time=   0.0s\n",
      "[CV 5/5] END algorithm=kd_tree, leaf_size=20, n_neighbors=9;, score=0.903 total time=   0.0s\n",
      "[CV 1/5] END algorithm=kd_tree, leaf_size=20, n_neighbors=10;, score=0.881 total time=   0.0s\n",
      "[CV 2/5] END algorithm=kd_tree, leaf_size=20, n_neighbors=10;, score=0.822 total time=   0.0s\n",
      "[CV 3/5] END algorithm=kd_tree, leaf_size=20, n_neighbors=10;, score=0.803 total time=   0.0s\n",
      "[CV 4/5] END algorithm=kd_tree, leaf_size=20, n_neighbors=10;, score=0.873 total time=   0.0s\n",
      "[CV 5/5] END algorithm=kd_tree, leaf_size=20, n_neighbors=10;, score=0.880 total time=   0.0s\n",
      "[CV 1/5] END algorithm=kd_tree, leaf_size=20, n_neighbors=11;, score=0.885 total time=   0.0s\n",
      "[CV 2/5] END algorithm=kd_tree, leaf_size=20, n_neighbors=11;, score=0.830 total time=   0.0s\n",
      "[CV 3/5] END algorithm=kd_tree, leaf_size=20, n_neighbors=11;, score=0.795 total time=   0.0s\n",
      "[CV 4/5] END algorithm=kd_tree, leaf_size=20, n_neighbors=11;, score=0.861 total time=   0.0s\n",
      "[CV 5/5] END algorithm=kd_tree, leaf_size=20, n_neighbors=11;, score=0.869 total time=   0.0s\n",
      "[CV 1/5] END algorithm=kd_tree, leaf_size=20, n_neighbors=12;, score=0.865 total time=   0.0s\n",
      "[CV 2/5] END algorithm=kd_tree, leaf_size=20, n_neighbors=12;, score=0.815 total time=   0.0s\n",
      "[CV 3/5] END algorithm=kd_tree, leaf_size=20, n_neighbors=12;, score=0.780 total time=   0.0s\n",
      "[CV 4/5] END algorithm=kd_tree, leaf_size=20, n_neighbors=12;, score=0.857 total time=   0.0s\n",
      "[CV 5/5] END algorithm=kd_tree, leaf_size=20, n_neighbors=12;, score=0.873 total time=   0.0s\n",
      "[CV 1/5] END algorithm=kd_tree, leaf_size=20, n_neighbors=13;, score=0.854 total time=   0.0s\n",
      "[CV 2/5] END algorithm=kd_tree, leaf_size=20, n_neighbors=13;, score=0.788 total time=   0.0s\n",
      "[CV 3/5] END algorithm=kd_tree, leaf_size=20, n_neighbors=13;, score=0.768 total time=   0.0s\n",
      "[CV 4/5] END algorithm=kd_tree, leaf_size=20, n_neighbors=13;, score=0.861 total time=   0.0s\n",
      "[CV 5/5] END algorithm=kd_tree, leaf_size=20, n_neighbors=13;, score=0.869 total time=   0.0s\n",
      "[CV 1/5] END algorithm=kd_tree, leaf_size=25, n_neighbors=3;, score=0.873 total time=   0.0s\n"
     ]
    },
    {
     "name": "stdout",
     "output_type": "stream",
     "text": [
      "[CV 2/5] END algorithm=kd_tree, leaf_size=25, n_neighbors=3;, score=0.846 total time=   0.0s\n",
      "[CV 3/5] END algorithm=kd_tree, leaf_size=25, n_neighbors=3;, score=0.834 total time=   0.0s\n",
      "[CV 4/5] END algorithm=kd_tree, leaf_size=25, n_neighbors=3;, score=0.869 total time=   0.0s\n",
      "[CV 5/5] END algorithm=kd_tree, leaf_size=25, n_neighbors=3;, score=0.896 total time=   0.0s\n",
      "[CV 1/5] END algorithm=kd_tree, leaf_size=25, n_neighbors=5;, score=0.919 total time=   0.0s\n",
      "[CV 2/5] END algorithm=kd_tree, leaf_size=25, n_neighbors=5;, score=0.896 total time=   0.0s\n",
      "[CV 3/5] END algorithm=kd_tree, leaf_size=25, n_neighbors=5;, score=0.892 total time=   0.0s\n",
      "[CV 4/5] END algorithm=kd_tree, leaf_size=25, n_neighbors=5;, score=0.900 total time=   0.0s\n",
      "[CV 5/5] END algorithm=kd_tree, leaf_size=25, n_neighbors=5;, score=0.927 total time=   0.0s\n",
      "[CV 1/5] END algorithm=kd_tree, leaf_size=25, n_neighbors=7;, score=0.923 total time=   0.0s\n",
      "[CV 2/5] END algorithm=kd_tree, leaf_size=25, n_neighbors=7;, score=0.869 total time=   0.0s\n",
      "[CV 3/5] END algorithm=kd_tree, leaf_size=25, n_neighbors=7;, score=0.838 total time=   0.0s\n",
      "[CV 4/5] END algorithm=kd_tree, leaf_size=25, n_neighbors=7;, score=0.923 total time=   0.0s\n",
      "[CV 5/5] END algorithm=kd_tree, leaf_size=25, n_neighbors=7;, score=0.934 total time=   0.0s\n",
      "[CV 1/5] END algorithm=kd_tree, leaf_size=25, n_neighbors=9;, score=0.881 total time=   0.0s\n",
      "[CV 2/5] END algorithm=kd_tree, leaf_size=25, n_neighbors=9;, score=0.830 total time=   0.0s\n",
      "[CV 3/5] END algorithm=kd_tree, leaf_size=25, n_neighbors=9;, score=0.826 total time=   0.0s\n",
      "[CV 4/5] END algorithm=kd_tree, leaf_size=25, n_neighbors=9;, score=0.884 total time=   0.0s\n",
      "[CV 5/5] END algorithm=kd_tree, leaf_size=25, n_neighbors=9;, score=0.903 total time=   0.0s\n",
      "[CV 1/5] END algorithm=kd_tree, leaf_size=25, n_neighbors=10;, score=0.881 total time=   0.0s\n",
      "[CV 2/5] END algorithm=kd_tree, leaf_size=25, n_neighbors=10;, score=0.822 total time=   0.0s\n",
      "[CV 3/5] END algorithm=kd_tree, leaf_size=25, n_neighbors=10;, score=0.803 total time=   0.0s\n",
      "[CV 4/5] END algorithm=kd_tree, leaf_size=25, n_neighbors=10;, score=0.873 total time=   0.0s\n",
      "[CV 5/5] END algorithm=kd_tree, leaf_size=25, n_neighbors=10;, score=0.880 total time=   0.0s\n",
      "[CV 1/5] END algorithm=kd_tree, leaf_size=25, n_neighbors=11;, score=0.885 total time=   0.0s\n",
      "[CV 2/5] END algorithm=kd_tree, leaf_size=25, n_neighbors=11;, score=0.830 total time=   0.0s\n",
      "[CV 3/5] END algorithm=kd_tree, leaf_size=25, n_neighbors=11;, score=0.795 total time=   0.0s\n",
      "[CV 4/5] END algorithm=kd_tree, leaf_size=25, n_neighbors=11;, score=0.861 total time=   0.0s\n",
      "[CV 5/5] END algorithm=kd_tree, leaf_size=25, n_neighbors=11;, score=0.869 total time=   0.0s\n",
      "[CV 1/5] END algorithm=kd_tree, leaf_size=25, n_neighbors=12;, score=0.865 total time=   0.0s\n",
      "[CV 2/5] END algorithm=kd_tree, leaf_size=25, n_neighbors=12;, score=0.815 total time=   0.0s\n",
      "[CV 3/5] END algorithm=kd_tree, leaf_size=25, n_neighbors=12;, score=0.780 total time=   0.0s\n",
      "[CV 4/5] END algorithm=kd_tree, leaf_size=25, n_neighbors=12;, score=0.857 total time=   0.0s\n",
      "[CV 5/5] END algorithm=kd_tree, leaf_size=25, n_neighbors=12;, score=0.873 total time=   0.0s\n",
      "[CV 1/5] END algorithm=kd_tree, leaf_size=25, n_neighbors=13;, score=0.854 total time=   0.0s\n",
      "[CV 2/5] END algorithm=kd_tree, leaf_size=25, n_neighbors=13;, score=0.788 total time=   0.0s\n",
      "[CV 3/5] END algorithm=kd_tree, leaf_size=25, n_neighbors=13;, score=0.768 total time=   0.0s\n",
      "[CV 4/5] END algorithm=kd_tree, leaf_size=25, n_neighbors=13;, score=0.861 total time=   0.0s\n",
      "[CV 5/5] END algorithm=kd_tree, leaf_size=25, n_neighbors=13;, score=0.869 total time=   0.0s\n",
      "[CV 1/5] END algorithm=kd_tree, leaf_size=27, n_neighbors=3;, score=0.873 total time=   0.0s\n",
      "[CV 2/5] END algorithm=kd_tree, leaf_size=27, n_neighbors=3;, score=0.846 total time=   0.0s\n",
      "[CV 3/5] END algorithm=kd_tree, leaf_size=27, n_neighbors=3;, score=0.834 total time=   0.0s\n",
      "[CV 4/5] END algorithm=kd_tree, leaf_size=27, n_neighbors=3;, score=0.869 total time=   0.0s\n",
      "[CV 5/5] END algorithm=kd_tree, leaf_size=27, n_neighbors=3;, score=0.896 total time=   0.0s\n",
      "[CV 1/5] END algorithm=kd_tree, leaf_size=27, n_neighbors=5;, score=0.919 total time=   0.0s\n",
      "[CV 2/5] END algorithm=kd_tree, leaf_size=27, n_neighbors=5;, score=0.896 total time=   0.0s\n",
      "[CV 3/5] END algorithm=kd_tree, leaf_size=27, n_neighbors=5;, score=0.892 total time=   0.0s\n",
      "[CV 4/5] END algorithm=kd_tree, leaf_size=27, n_neighbors=5;, score=0.900 total time=   0.0s\n",
      "[CV 5/5] END algorithm=kd_tree, leaf_size=27, n_neighbors=5;, score=0.927 total time=   0.0s\n",
      "[CV 1/5] END algorithm=kd_tree, leaf_size=27, n_neighbors=7;, score=0.923 total time=   0.0s\n",
      "[CV 2/5] END algorithm=kd_tree, leaf_size=27, n_neighbors=7;, score=0.869 total time=   0.0s\n",
      "[CV 3/5] END algorithm=kd_tree, leaf_size=27, n_neighbors=7;, score=0.838 total time=   0.0s\n",
      "[CV 4/5] END algorithm=kd_tree, leaf_size=27, n_neighbors=7;, score=0.923 total time=   0.0s\n",
      "[CV 5/5] END algorithm=kd_tree, leaf_size=27, n_neighbors=7;, score=0.934 total time=   0.0s\n",
      "[CV 1/5] END algorithm=kd_tree, leaf_size=27, n_neighbors=9;, score=0.881 total time=   0.0s\n",
      "[CV 2/5] END algorithm=kd_tree, leaf_size=27, n_neighbors=9;, score=0.830 total time=   0.0s\n",
      "[CV 3/5] END algorithm=kd_tree, leaf_size=27, n_neighbors=9;, score=0.826 total time=   0.0s\n",
      "[CV 4/5] END algorithm=kd_tree, leaf_size=27, n_neighbors=9;, score=0.884 total time=   0.0s\n",
      "[CV 5/5] END algorithm=kd_tree, leaf_size=27, n_neighbors=9;, score=0.903 total time=   0.0s\n",
      "[CV 1/5] END algorithm=kd_tree, leaf_size=27, n_neighbors=10;, score=0.881 total time=   0.0s\n",
      "[CV 2/5] END algorithm=kd_tree, leaf_size=27, n_neighbors=10;, score=0.822 total time=   0.0s\n",
      "[CV 3/5] END algorithm=kd_tree, leaf_size=27, n_neighbors=10;, score=0.803 total time=   0.0s\n",
      "[CV 4/5] END algorithm=kd_tree, leaf_size=27, n_neighbors=10;, score=0.873 total time=   0.0s\n",
      "[CV 5/5] END algorithm=kd_tree, leaf_size=27, n_neighbors=10;, score=0.880 total time=   0.0s\n",
      "[CV 1/5] END algorithm=kd_tree, leaf_size=27, n_neighbors=11;, score=0.885 total time=   0.0s\n",
      "[CV 2/5] END algorithm=kd_tree, leaf_size=27, n_neighbors=11;, score=0.830 total time=   0.0s\n",
      "[CV 3/5] END algorithm=kd_tree, leaf_size=27, n_neighbors=11;, score=0.795 total time=   0.0s\n",
      "[CV 4/5] END algorithm=kd_tree, leaf_size=27, n_neighbors=11;, score=0.861 total time=   0.0s\n",
      "[CV 5/5] END algorithm=kd_tree, leaf_size=27, n_neighbors=11;, score=0.869 total time=   0.0s\n",
      "[CV 1/5] END algorithm=kd_tree, leaf_size=27, n_neighbors=12;, score=0.865 total time=   0.0s\n",
      "[CV 2/5] END algorithm=kd_tree, leaf_size=27, n_neighbors=12;, score=0.815 total time=   0.0s\n",
      "[CV 3/5] END algorithm=kd_tree, leaf_size=27, n_neighbors=12;, score=0.780 total time=   0.0s\n",
      "[CV 4/5] END algorithm=kd_tree, leaf_size=27, n_neighbors=12;, score=0.857 total time=   0.0s\n",
      "[CV 5/5] END algorithm=kd_tree, leaf_size=27, n_neighbors=12;, score=0.873 total time=   0.0s\n",
      "[CV 1/5] END algorithm=kd_tree, leaf_size=27, n_neighbors=13;, score=0.854 total time=   0.0s\n",
      "[CV 2/5] END algorithm=kd_tree, leaf_size=27, n_neighbors=13;, score=0.788 total time=   0.0s\n",
      "[CV 3/5] END algorithm=kd_tree, leaf_size=27, n_neighbors=13;, score=0.768 total time=   0.0s\n",
      "[CV 4/5] END algorithm=kd_tree, leaf_size=27, n_neighbors=13;, score=0.861 total time=   0.0s\n",
      "[CV 5/5] END algorithm=kd_tree, leaf_size=27, n_neighbors=13;, score=0.869 total time=   0.0s\n",
      "[CV 1/5] END algorithm=kd_tree, leaf_size=30, n_neighbors=3;, score=0.873 total time=   0.0s\n",
      "[CV 2/5] END algorithm=kd_tree, leaf_size=30, n_neighbors=3;, score=0.846 total time=   0.0s\n",
      "[CV 3/5] END algorithm=kd_tree, leaf_size=30, n_neighbors=3;, score=0.834 total time=   0.0s\n",
      "[CV 4/5] END algorithm=kd_tree, leaf_size=30, n_neighbors=3;, score=0.869 total time=   0.0s\n",
      "[CV 5/5] END algorithm=kd_tree, leaf_size=30, n_neighbors=3;, score=0.896 total time=   0.0s\n",
      "[CV 1/5] END algorithm=kd_tree, leaf_size=30, n_neighbors=5;, score=0.919 total time=   0.0s\n",
      "[CV 2/5] END algorithm=kd_tree, leaf_size=30, n_neighbors=5;, score=0.896 total time=   0.0s\n",
      "[CV 3/5] END algorithm=kd_tree, leaf_size=30, n_neighbors=5;, score=0.892 total time=   0.0s\n",
      "[CV 4/5] END algorithm=kd_tree, leaf_size=30, n_neighbors=5;, score=0.900 total time=   0.0s\n",
      "[CV 5/5] END algorithm=kd_tree, leaf_size=30, n_neighbors=5;, score=0.927 total time=   0.0s\n",
      "[CV 1/5] END algorithm=kd_tree, leaf_size=30, n_neighbors=7;, score=0.923 total time=   0.0s\n",
      "[CV 2/5] END algorithm=kd_tree, leaf_size=30, n_neighbors=7;, score=0.869 total time=   0.0s\n",
      "[CV 3/5] END algorithm=kd_tree, leaf_size=30, n_neighbors=7;, score=0.838 total time=   0.0s\n"
     ]
    },
    {
     "name": "stdout",
     "output_type": "stream",
     "text": [
      "[CV 4/5] END algorithm=kd_tree, leaf_size=30, n_neighbors=7;, score=0.923 total time=   0.0s\n",
      "[CV 5/5] END algorithm=kd_tree, leaf_size=30, n_neighbors=7;, score=0.934 total time=   0.0s\n",
      "[CV 1/5] END algorithm=kd_tree, leaf_size=30, n_neighbors=9;, score=0.881 total time=   0.0s\n",
      "[CV 2/5] END algorithm=kd_tree, leaf_size=30, n_neighbors=9;, score=0.830 total time=   0.0s\n",
      "[CV 3/5] END algorithm=kd_tree, leaf_size=30, n_neighbors=9;, score=0.826 total time=   0.0s\n",
      "[CV 4/5] END algorithm=kd_tree, leaf_size=30, n_neighbors=9;, score=0.884 total time=   0.0s\n",
      "[CV 5/5] END algorithm=kd_tree, leaf_size=30, n_neighbors=9;, score=0.903 total time=   0.0s\n",
      "[CV 1/5] END algorithm=kd_tree, leaf_size=30, n_neighbors=10;, score=0.881 total time=   0.0s\n",
      "[CV 2/5] END algorithm=kd_tree, leaf_size=30, n_neighbors=10;, score=0.822 total time=   0.0s\n",
      "[CV 3/5] END algorithm=kd_tree, leaf_size=30, n_neighbors=10;, score=0.803 total time=   0.0s\n",
      "[CV 4/5] END algorithm=kd_tree, leaf_size=30, n_neighbors=10;, score=0.873 total time=   0.0s\n",
      "[CV 5/5] END algorithm=kd_tree, leaf_size=30, n_neighbors=10;, score=0.880 total time=   0.0s\n",
      "[CV 1/5] END algorithm=kd_tree, leaf_size=30, n_neighbors=11;, score=0.885 total time=   0.0s\n",
      "[CV 2/5] END algorithm=kd_tree, leaf_size=30, n_neighbors=11;, score=0.830 total time=   0.0s\n",
      "[CV 3/5] END algorithm=kd_tree, leaf_size=30, n_neighbors=11;, score=0.795 total time=   0.0s\n",
      "[CV 4/5] END algorithm=kd_tree, leaf_size=30, n_neighbors=11;, score=0.861 total time=   0.0s\n",
      "[CV 5/5] END algorithm=kd_tree, leaf_size=30, n_neighbors=11;, score=0.869 total time=   0.0s\n",
      "[CV 1/5] END algorithm=kd_tree, leaf_size=30, n_neighbors=12;, score=0.865 total time=   0.0s\n",
      "[CV 2/5] END algorithm=kd_tree, leaf_size=30, n_neighbors=12;, score=0.815 total time=   0.0s\n",
      "[CV 3/5] END algorithm=kd_tree, leaf_size=30, n_neighbors=12;, score=0.780 total time=   0.0s\n",
      "[CV 4/5] END algorithm=kd_tree, leaf_size=30, n_neighbors=12;, score=0.857 total time=   0.0s\n",
      "[CV 5/5] END algorithm=kd_tree, leaf_size=30, n_neighbors=12;, score=0.873 total time=   0.0s\n",
      "[CV 1/5] END algorithm=kd_tree, leaf_size=30, n_neighbors=13;, score=0.854 total time=   0.0s\n",
      "[CV 2/5] END algorithm=kd_tree, leaf_size=30, n_neighbors=13;, score=0.788 total time=   0.0s\n",
      "[CV 3/5] END algorithm=kd_tree, leaf_size=30, n_neighbors=13;, score=0.768 total time=   0.0s\n",
      "[CV 4/5] END algorithm=kd_tree, leaf_size=30, n_neighbors=13;, score=0.861 total time=   0.0s\n",
      "[CV 5/5] END algorithm=kd_tree, leaf_size=30, n_neighbors=13;, score=0.869 total time=   0.0s\n",
      "[CV 1/5] END algorithm=kd_tree, leaf_size=32, n_neighbors=3;, score=0.873 total time=   0.0s\n",
      "[CV 2/5] END algorithm=kd_tree, leaf_size=32, n_neighbors=3;, score=0.846 total time=   0.0s\n",
      "[CV 3/5] END algorithm=kd_tree, leaf_size=32, n_neighbors=3;, score=0.834 total time=   0.0s\n",
      "[CV 4/5] END algorithm=kd_tree, leaf_size=32, n_neighbors=3;, score=0.869 total time=   0.0s\n",
      "[CV 5/5] END algorithm=kd_tree, leaf_size=32, n_neighbors=3;, score=0.896 total time=   0.0s\n",
      "[CV 1/5] END algorithm=kd_tree, leaf_size=32, n_neighbors=5;, score=0.919 total time=   0.0s\n",
      "[CV 2/5] END algorithm=kd_tree, leaf_size=32, n_neighbors=5;, score=0.896 total time=   0.0s\n",
      "[CV 3/5] END algorithm=kd_tree, leaf_size=32, n_neighbors=5;, score=0.892 total time=   0.0s\n",
      "[CV 4/5] END algorithm=kd_tree, leaf_size=32, n_neighbors=5;, score=0.900 total time=   0.0s\n",
      "[CV 5/5] END algorithm=kd_tree, leaf_size=32, n_neighbors=5;, score=0.927 total time=   0.0s\n",
      "[CV 1/5] END algorithm=kd_tree, leaf_size=32, n_neighbors=7;, score=0.923 total time=   0.0s\n",
      "[CV 2/5] END algorithm=kd_tree, leaf_size=32, n_neighbors=7;, score=0.869 total time=   0.0s\n",
      "[CV 3/5] END algorithm=kd_tree, leaf_size=32, n_neighbors=7;, score=0.838 total time=   0.0s\n",
      "[CV 4/5] END algorithm=kd_tree, leaf_size=32, n_neighbors=7;, score=0.923 total time=   0.0s\n",
      "[CV 5/5] END algorithm=kd_tree, leaf_size=32, n_neighbors=7;, score=0.934 total time=   0.0s\n",
      "[CV 1/5] END algorithm=kd_tree, leaf_size=32, n_neighbors=9;, score=0.881 total time=   0.0s\n",
      "[CV 2/5] END algorithm=kd_tree, leaf_size=32, n_neighbors=9;, score=0.830 total time=   0.0s\n",
      "[CV 3/5] END algorithm=kd_tree, leaf_size=32, n_neighbors=9;, score=0.826 total time=   0.0s\n",
      "[CV 4/5] END algorithm=kd_tree, leaf_size=32, n_neighbors=9;, score=0.884 total time=   0.0s\n",
      "[CV 5/5] END algorithm=kd_tree, leaf_size=32, n_neighbors=9;, score=0.903 total time=   0.0s\n",
      "[CV 1/5] END algorithm=kd_tree, leaf_size=32, n_neighbors=10;, score=0.881 total time=   0.0s\n",
      "[CV 2/5] END algorithm=kd_tree, leaf_size=32, n_neighbors=10;, score=0.822 total time=   0.0s\n",
      "[CV 3/5] END algorithm=kd_tree, leaf_size=32, n_neighbors=10;, score=0.803 total time=   0.0s\n",
      "[CV 4/5] END algorithm=kd_tree, leaf_size=32, n_neighbors=10;, score=0.873 total time=   0.0s\n",
      "[CV 5/5] END algorithm=kd_tree, leaf_size=32, n_neighbors=10;, score=0.880 total time=   0.0s\n",
      "[CV 1/5] END algorithm=kd_tree, leaf_size=32, n_neighbors=11;, score=0.885 total time=   0.0s\n",
      "[CV 2/5] END algorithm=kd_tree, leaf_size=32, n_neighbors=11;, score=0.830 total time=   0.0s\n",
      "[CV 3/5] END algorithm=kd_tree, leaf_size=32, n_neighbors=11;, score=0.795 total time=   0.0s\n",
      "[CV 4/5] END algorithm=kd_tree, leaf_size=32, n_neighbors=11;, score=0.861 total time=   0.0s\n",
      "[CV 5/5] END algorithm=kd_tree, leaf_size=32, n_neighbors=11;, score=0.869 total time=   0.0s\n",
      "[CV 1/5] END algorithm=kd_tree, leaf_size=32, n_neighbors=12;, score=0.865 total time=   0.0s\n",
      "[CV 2/5] END algorithm=kd_tree, leaf_size=32, n_neighbors=12;, score=0.815 total time=   0.0s\n",
      "[CV 3/5] END algorithm=kd_tree, leaf_size=32, n_neighbors=12;, score=0.780 total time=   0.0s\n",
      "[CV 4/5] END algorithm=kd_tree, leaf_size=32, n_neighbors=12;, score=0.857 total time=   0.0s\n",
      "[CV 5/5] END algorithm=kd_tree, leaf_size=32, n_neighbors=12;, score=0.873 total time=   0.0s\n",
      "[CV 1/5] END algorithm=kd_tree, leaf_size=32, n_neighbors=13;, score=0.854 total time=   0.0s\n",
      "[CV 2/5] END algorithm=kd_tree, leaf_size=32, n_neighbors=13;, score=0.788 total time=   0.0s\n",
      "[CV 3/5] END algorithm=kd_tree, leaf_size=32, n_neighbors=13;, score=0.768 total time=   0.0s\n",
      "[CV 4/5] END algorithm=kd_tree, leaf_size=32, n_neighbors=13;, score=0.861 total time=   0.0s\n",
      "[CV 5/5] END algorithm=kd_tree, leaf_size=32, n_neighbors=13;, score=0.869 total time=   0.0s\n",
      "[CV 1/5] END algorithm=kd_tree, leaf_size=34, n_neighbors=3;, score=0.873 total time=   0.0s\n",
      "[CV 2/5] END algorithm=kd_tree, leaf_size=34, n_neighbors=3;, score=0.846 total time=   0.0s\n",
      "[CV 3/5] END algorithm=kd_tree, leaf_size=34, n_neighbors=3;, score=0.834 total time=   0.0s\n",
      "[CV 4/5] END algorithm=kd_tree, leaf_size=34, n_neighbors=3;, score=0.865 total time=   0.0s\n",
      "[CV 5/5] END algorithm=kd_tree, leaf_size=34, n_neighbors=3;, score=0.884 total time=   0.0s\n",
      "[CV 1/5] END algorithm=kd_tree, leaf_size=34, n_neighbors=5;, score=0.927 total time=   0.0s\n",
      "[CV 2/5] END algorithm=kd_tree, leaf_size=34, n_neighbors=5;, score=0.896 total time=   0.0s\n",
      "[CV 3/5] END algorithm=kd_tree, leaf_size=34, n_neighbors=5;, score=0.880 total time=   0.0s\n",
      "[CV 4/5] END algorithm=kd_tree, leaf_size=34, n_neighbors=5;, score=0.903 total time=   0.0s\n",
      "[CV 5/5] END algorithm=kd_tree, leaf_size=34, n_neighbors=5;, score=0.934 total time=   0.0s\n",
      "[CV 1/5] END algorithm=kd_tree, leaf_size=34, n_neighbors=7;, score=0.923 total time=   0.0s\n",
      "[CV 2/5] END algorithm=kd_tree, leaf_size=34, n_neighbors=7;, score=0.884 total time=   0.0s\n",
      "[CV 3/5] END algorithm=kd_tree, leaf_size=34, n_neighbors=7;, score=0.846 total time=   0.0s\n",
      "[CV 4/5] END algorithm=kd_tree, leaf_size=34, n_neighbors=7;, score=0.911 total time=   0.0s\n",
      "[CV 5/5] END algorithm=kd_tree, leaf_size=34, n_neighbors=7;, score=0.927 total time=   0.0s\n",
      "[CV 1/5] END algorithm=kd_tree, leaf_size=34, n_neighbors=9;, score=0.877 total time=   0.0s\n",
      "[CV 2/5] END algorithm=kd_tree, leaf_size=34, n_neighbors=9;, score=0.846 total time=   0.0s\n",
      "[CV 3/5] END algorithm=kd_tree, leaf_size=34, n_neighbors=9;, score=0.822 total time=   0.0s\n",
      "[CV 4/5] END algorithm=kd_tree, leaf_size=34, n_neighbors=9;, score=0.903 total time=   0.0s\n",
      "[CV 5/5] END algorithm=kd_tree, leaf_size=34, n_neighbors=9;, score=0.896 total time=   0.0s\n",
      "[CV 1/5] END algorithm=kd_tree, leaf_size=34, n_neighbors=10;, score=0.885 total time=   0.0s\n",
      "[CV 2/5] END algorithm=kd_tree, leaf_size=34, n_neighbors=10;, score=0.846 total time=   0.0s\n"
     ]
    },
    {
     "name": "stdout",
     "output_type": "stream",
     "text": [
      "[CV 3/5] END algorithm=kd_tree, leaf_size=34, n_neighbors=10;, score=0.815 total time=   0.0s\n",
      "[CV 4/5] END algorithm=kd_tree, leaf_size=34, n_neighbors=10;, score=0.880 total time=   0.0s\n",
      "[CV 5/5] END algorithm=kd_tree, leaf_size=34, n_neighbors=10;, score=0.880 total time=   0.0s\n",
      "[CV 1/5] END algorithm=kd_tree, leaf_size=34, n_neighbors=11;, score=0.885 total time=   0.0s\n",
      "[CV 2/5] END algorithm=kd_tree, leaf_size=34, n_neighbors=11;, score=0.822 total time=   0.0s\n",
      "[CV 3/5] END algorithm=kd_tree, leaf_size=34, n_neighbors=11;, score=0.784 total time=   0.0s\n",
      "[CV 4/5] END algorithm=kd_tree, leaf_size=34, n_neighbors=11;, score=0.853 total time=   0.0s\n",
      "[CV 5/5] END algorithm=kd_tree, leaf_size=34, n_neighbors=11;, score=0.865 total time=   0.0s\n",
      "[CV 1/5] END algorithm=kd_tree, leaf_size=34, n_neighbors=12;, score=0.877 total time=   0.0s\n",
      "[CV 2/5] END algorithm=kd_tree, leaf_size=34, n_neighbors=12;, score=0.811 total time=   0.0s\n",
      "[CV 3/5] END algorithm=kd_tree, leaf_size=34, n_neighbors=12;, score=0.780 total time=   0.0s\n",
      "[CV 4/5] END algorithm=kd_tree, leaf_size=34, n_neighbors=12;, score=0.869 total time=   0.0s\n",
      "[CV 5/5] END algorithm=kd_tree, leaf_size=34, n_neighbors=12;, score=0.861 total time=   0.0s\n",
      "[CV 1/5] END algorithm=kd_tree, leaf_size=34, n_neighbors=13;, score=0.862 total time=   0.0s\n",
      "[CV 2/5] END algorithm=kd_tree, leaf_size=34, n_neighbors=13;, score=0.788 total time=   0.0s\n",
      "[CV 3/5] END algorithm=kd_tree, leaf_size=34, n_neighbors=13;, score=0.772 total time=   0.0s\n",
      "[CV 4/5] END algorithm=kd_tree, leaf_size=34, n_neighbors=13;, score=0.849 total time=   0.0s\n",
      "[CV 5/5] END algorithm=kd_tree, leaf_size=34, n_neighbors=13;, score=0.873 total time=   0.0s\n",
      "[CV 1/5] END algorithm=brute, leaf_size=18, n_neighbors=3;, score=0.873 total time=   0.0s\n",
      "[CV 2/5] END algorithm=brute, leaf_size=18, n_neighbors=3;, score=0.900 total time=   0.0s\n",
      "[CV 3/5] END algorithm=brute, leaf_size=18, n_neighbors=3;, score=0.838 total time=   0.0s\n",
      "[CV 4/5] END algorithm=brute, leaf_size=18, n_neighbors=3;, score=0.876 total time=   0.0s\n",
      "[CV 5/5] END algorithm=brute, leaf_size=18, n_neighbors=3;, score=0.888 total time=   0.0s\n",
      "[CV 1/5] END algorithm=brute, leaf_size=18, n_neighbors=5;, score=0.946 total time=   0.0s\n",
      "[CV 2/5] END algorithm=brute, leaf_size=18, n_neighbors=5;, score=0.903 total time=   0.0s\n",
      "[CV 3/5] END algorithm=brute, leaf_size=18, n_neighbors=5;, score=0.903 total time=   0.0s\n",
      "[CV 4/5] END algorithm=brute, leaf_size=18, n_neighbors=5;, score=0.911 total time=   0.0s\n",
      "[CV 5/5] END algorithm=brute, leaf_size=18, n_neighbors=5;, score=0.931 total time=   0.0s\n",
      "[CV 1/5] END algorithm=brute, leaf_size=18, n_neighbors=7;, score=0.935 total time=   0.0s\n",
      "[CV 2/5] END algorithm=brute, leaf_size=18, n_neighbors=7;, score=0.857 total time=   0.0s\n",
      "[CV 3/5] END algorithm=brute, leaf_size=18, n_neighbors=7;, score=0.873 total time=   0.0s\n",
      "[CV 4/5] END algorithm=brute, leaf_size=18, n_neighbors=7;, score=0.884 total time=   0.0s\n",
      "[CV 5/5] END algorithm=brute, leaf_size=18, n_neighbors=7;, score=0.923 total time=   0.0s\n",
      "[CV 1/5] END algorithm=brute, leaf_size=18, n_neighbors=9;, score=0.908 total time=   0.0s\n",
      "[CV 2/5] END algorithm=brute, leaf_size=18, n_neighbors=9;, score=0.853 total time=   0.0s\n",
      "[CV 3/5] END algorithm=brute, leaf_size=18, n_neighbors=9;, score=0.869 total time=   0.0s\n",
      "[CV 4/5] END algorithm=brute, leaf_size=18, n_neighbors=9;, score=0.873 total time=   0.0s\n",
      "[CV 5/5] END algorithm=brute, leaf_size=18, n_neighbors=9;, score=0.903 total time=   0.0s\n",
      "[CV 1/5] END algorithm=brute, leaf_size=18, n_neighbors=10;, score=0.896 total time=   0.0s\n",
      "[CV 2/5] END algorithm=brute, leaf_size=18, n_neighbors=10;, score=0.830 total time=   0.0s\n",
      "[CV 3/5] END algorithm=brute, leaf_size=18, n_neighbors=10;, score=0.826 total time=   0.0s\n",
      "[CV 4/5] END algorithm=brute, leaf_size=18, n_neighbors=10;, score=0.861 total time=   0.0s\n",
      "[CV 5/5] END algorithm=brute, leaf_size=18, n_neighbors=10;, score=0.880 total time=   0.0s\n",
      "[CV 1/5] END algorithm=brute, leaf_size=18, n_neighbors=11;, score=0.888 total time=   0.0s\n",
      "[CV 2/5] END algorithm=brute, leaf_size=18, n_neighbors=11;, score=0.846 total time=   0.0s\n",
      "[CV 3/5] END algorithm=brute, leaf_size=18, n_neighbors=11;, score=0.849 total time=   0.0s\n",
      "[CV 4/5] END algorithm=brute, leaf_size=18, n_neighbors=11;, score=0.853 total time=   0.0s\n",
      "[CV 5/5] END algorithm=brute, leaf_size=18, n_neighbors=11;, score=0.876 total time=   0.0s\n",
      "[CV 1/5] END algorithm=brute, leaf_size=18, n_neighbors=12;, score=0.881 total time=   0.0s\n",
      "[CV 2/5] END algorithm=brute, leaf_size=18, n_neighbors=12;, score=0.834 total time=   0.0s\n",
      "[CV 3/5] END algorithm=brute, leaf_size=18, n_neighbors=12;, score=0.834 total time=   0.0s\n",
      "[CV 4/5] END algorithm=brute, leaf_size=18, n_neighbors=12;, score=0.861 total time=   0.0s\n",
      "[CV 5/5] END algorithm=brute, leaf_size=18, n_neighbors=12;, score=0.876 total time=   0.0s\n",
      "[CV 1/5] END algorithm=brute, leaf_size=18, n_neighbors=13;, score=0.850 total time=   0.0s\n",
      "[CV 2/5] END algorithm=brute, leaf_size=18, n_neighbors=13;, score=0.822 total time=   0.0s\n",
      "[CV 3/5] END algorithm=brute, leaf_size=18, n_neighbors=13;, score=0.822 total time=   0.0s\n",
      "[CV 4/5] END algorithm=brute, leaf_size=18, n_neighbors=13;, score=0.846 total time=   0.0s\n",
      "[CV 5/5] END algorithm=brute, leaf_size=18, n_neighbors=13;, score=0.865 total time=   0.0s\n",
      "[CV 1/5] END algorithm=brute, leaf_size=20, n_neighbors=3;, score=0.873 total time=   0.0s\n",
      "[CV 2/5] END algorithm=brute, leaf_size=20, n_neighbors=3;, score=0.900 total time=   0.0s\n",
      "[CV 3/5] END algorithm=brute, leaf_size=20, n_neighbors=3;, score=0.838 total time=   0.0s\n",
      "[CV 4/5] END algorithm=brute, leaf_size=20, n_neighbors=3;, score=0.876 total time=   0.0s\n",
      "[CV 5/5] END algorithm=brute, leaf_size=20, n_neighbors=3;, score=0.888 total time=   0.0s\n",
      "[CV 1/5] END algorithm=brute, leaf_size=20, n_neighbors=5;, score=0.946 total time=   0.0s\n",
      "[CV 2/5] END algorithm=brute, leaf_size=20, n_neighbors=5;, score=0.903 total time=   0.0s\n",
      "[CV 3/5] END algorithm=brute, leaf_size=20, n_neighbors=5;, score=0.903 total time=   0.0s\n",
      "[CV 4/5] END algorithm=brute, leaf_size=20, n_neighbors=5;, score=0.911 total time=   0.0s\n",
      "[CV 5/5] END algorithm=brute, leaf_size=20, n_neighbors=5;, score=0.931 total time=   0.0s\n",
      "[CV 1/5] END algorithm=brute, leaf_size=20, n_neighbors=7;, score=0.935 total time=   0.0s\n",
      "[CV 2/5] END algorithm=brute, leaf_size=20, n_neighbors=7;, score=0.857 total time=   0.0s\n",
      "[CV 3/5] END algorithm=brute, leaf_size=20, n_neighbors=7;, score=0.873 total time=   0.0s\n",
      "[CV 4/5] END algorithm=brute, leaf_size=20, n_neighbors=7;, score=0.884 total time=   0.0s\n",
      "[CV 5/5] END algorithm=brute, leaf_size=20, n_neighbors=7;, score=0.923 total time=   0.0s\n",
      "[CV 1/5] END algorithm=brute, leaf_size=20, n_neighbors=9;, score=0.908 total time=   0.0s\n",
      "[CV 2/5] END algorithm=brute, leaf_size=20, n_neighbors=9;, score=0.853 total time=   0.0s\n",
      "[CV 3/5] END algorithm=brute, leaf_size=20, n_neighbors=9;, score=0.869 total time=   0.0s\n",
      "[CV 4/5] END algorithm=brute, leaf_size=20, n_neighbors=9;, score=0.873 total time=   0.0s\n",
      "[CV 5/5] END algorithm=brute, leaf_size=20, n_neighbors=9;, score=0.903 total time=   0.0s\n",
      "[CV 1/5] END algorithm=brute, leaf_size=20, n_neighbors=10;, score=0.896 total time=   0.0s\n",
      "[CV 2/5] END algorithm=brute, leaf_size=20, n_neighbors=10;, score=0.830 total time=   0.0s\n",
      "[CV 3/5] END algorithm=brute, leaf_size=20, n_neighbors=10;, score=0.826 total time=   0.0s\n",
      "[CV 4/5] END algorithm=brute, leaf_size=20, n_neighbors=10;, score=0.861 total time=   0.0s\n",
      "[CV 5/5] END algorithm=brute, leaf_size=20, n_neighbors=10;, score=0.880 total time=   0.0s\n",
      "[CV 1/5] END algorithm=brute, leaf_size=20, n_neighbors=11;, score=0.888 total time=   0.0s\n",
      "[CV 2/5] END algorithm=brute, leaf_size=20, n_neighbors=11;, score=0.846 total time=   0.0s\n",
      "[CV 3/5] END algorithm=brute, leaf_size=20, n_neighbors=11;, score=0.849 total time=   0.0s\n",
      "[CV 4/5] END algorithm=brute, leaf_size=20, n_neighbors=11;, score=0.853 total time=   0.0s\n",
      "[CV 5/5] END algorithm=brute, leaf_size=20, n_neighbors=11;, score=0.876 total time=   0.0s\n",
      "[CV 1/5] END algorithm=brute, leaf_size=20, n_neighbors=12;, score=0.881 total time=   0.0s\n",
      "[CV 2/5] END algorithm=brute, leaf_size=20, n_neighbors=12;, score=0.834 total time=   0.0s\n",
      "[CV 3/5] END algorithm=brute, leaf_size=20, n_neighbors=12;, score=0.834 total time=   0.0s\n",
      "[CV 4/5] END algorithm=brute, leaf_size=20, n_neighbors=12;, score=0.861 total time=   0.0s\n",
      "[CV 5/5] END algorithm=brute, leaf_size=20, n_neighbors=12;, score=0.876 total time=   0.0s\n",
      "[CV 1/5] END algorithm=brute, leaf_size=20, n_neighbors=13;, score=0.850 total time=   0.0s\n"
     ]
    },
    {
     "name": "stdout",
     "output_type": "stream",
     "text": [
      "[CV 2/5] END algorithm=brute, leaf_size=20, n_neighbors=13;, score=0.822 total time=   0.0s\n",
      "[CV 3/5] END algorithm=brute, leaf_size=20, n_neighbors=13;, score=0.822 total time=   0.0s\n",
      "[CV 4/5] END algorithm=brute, leaf_size=20, n_neighbors=13;, score=0.846 total time=   0.0s\n",
      "[CV 5/5] END algorithm=brute, leaf_size=20, n_neighbors=13;, score=0.865 total time=   0.0s\n",
      "[CV 1/5] END algorithm=brute, leaf_size=25, n_neighbors=3;, score=0.873 total time=   0.0s\n",
      "[CV 2/5] END algorithm=brute, leaf_size=25, n_neighbors=3;, score=0.900 total time=   0.0s\n",
      "[CV 3/5] END algorithm=brute, leaf_size=25, n_neighbors=3;, score=0.838 total time=   0.0s\n",
      "[CV 4/5] END algorithm=brute, leaf_size=25, n_neighbors=3;, score=0.876 total time=   0.0s\n",
      "[CV 5/5] END algorithm=brute, leaf_size=25, n_neighbors=3;, score=0.888 total time=   0.0s\n",
      "[CV 1/5] END algorithm=brute, leaf_size=25, n_neighbors=5;, score=0.946 total time=   0.0s\n",
      "[CV 2/5] END algorithm=brute, leaf_size=25, n_neighbors=5;, score=0.903 total time=   0.0s\n",
      "[CV 3/5] END algorithm=brute, leaf_size=25, n_neighbors=5;, score=0.903 total time=   0.0s\n",
      "[CV 4/5] END algorithm=brute, leaf_size=25, n_neighbors=5;, score=0.911 total time=   0.0s\n",
      "[CV 5/5] END algorithm=brute, leaf_size=25, n_neighbors=5;, score=0.931 total time=   0.0s\n",
      "[CV 1/5] END algorithm=brute, leaf_size=25, n_neighbors=7;, score=0.935 total time=   0.0s\n",
      "[CV 2/5] END algorithm=brute, leaf_size=25, n_neighbors=7;, score=0.857 total time=   0.0s\n",
      "[CV 3/5] END algorithm=brute, leaf_size=25, n_neighbors=7;, score=0.873 total time=   0.0s\n",
      "[CV 4/5] END algorithm=brute, leaf_size=25, n_neighbors=7;, score=0.884 total time=   0.0s\n",
      "[CV 5/5] END algorithm=brute, leaf_size=25, n_neighbors=7;, score=0.923 total time=   0.0s\n",
      "[CV 1/5] END algorithm=brute, leaf_size=25, n_neighbors=9;, score=0.908 total time=   0.0s\n",
      "[CV 2/5] END algorithm=brute, leaf_size=25, n_neighbors=9;, score=0.853 total time=   0.0s\n",
      "[CV 3/5] END algorithm=brute, leaf_size=25, n_neighbors=9;, score=0.869 total time=   0.0s\n",
      "[CV 4/5] END algorithm=brute, leaf_size=25, n_neighbors=9;, score=0.873 total time=   0.0s\n",
      "[CV 5/5] END algorithm=brute, leaf_size=25, n_neighbors=9;, score=0.903 total time=   0.0s\n",
      "[CV 1/5] END algorithm=brute, leaf_size=25, n_neighbors=10;, score=0.896 total time=   0.0s\n",
      "[CV 2/5] END algorithm=brute, leaf_size=25, n_neighbors=10;, score=0.830 total time=   0.0s\n",
      "[CV 3/5] END algorithm=brute, leaf_size=25, n_neighbors=10;, score=0.826 total time=   0.0s\n",
      "[CV 4/5] END algorithm=brute, leaf_size=25, n_neighbors=10;, score=0.861 total time=   0.0s\n",
      "[CV 5/5] END algorithm=brute, leaf_size=25, n_neighbors=10;, score=0.880 total time=   0.0s\n",
      "[CV 1/5] END algorithm=brute, leaf_size=25, n_neighbors=11;, score=0.888 total time=   0.0s\n",
      "[CV 2/5] END algorithm=brute, leaf_size=25, n_neighbors=11;, score=0.846 total time=   0.0s\n",
      "[CV 3/5] END algorithm=brute, leaf_size=25, n_neighbors=11;, score=0.849 total time=   0.0s\n",
      "[CV 4/5] END algorithm=brute, leaf_size=25, n_neighbors=11;, score=0.853 total time=   0.0s\n",
      "[CV 5/5] END algorithm=brute, leaf_size=25, n_neighbors=11;, score=0.876 total time=   0.0s\n",
      "[CV 1/5] END algorithm=brute, leaf_size=25, n_neighbors=12;, score=0.881 total time=   0.0s\n",
      "[CV 2/5] END algorithm=brute, leaf_size=25, n_neighbors=12;, score=0.834 total time=   0.0s\n",
      "[CV 3/5] END algorithm=brute, leaf_size=25, n_neighbors=12;, score=0.834 total time=   0.0s\n",
      "[CV 4/5] END algorithm=brute, leaf_size=25, n_neighbors=12;, score=0.861 total time=   0.0s\n",
      "[CV 5/5] END algorithm=brute, leaf_size=25, n_neighbors=12;, score=0.876 total time=   0.0s\n",
      "[CV 1/5] END algorithm=brute, leaf_size=25, n_neighbors=13;, score=0.850 total time=   0.0s\n",
      "[CV 2/5] END algorithm=brute, leaf_size=25, n_neighbors=13;, score=0.822 total time=   0.0s\n",
      "[CV 3/5] END algorithm=brute, leaf_size=25, n_neighbors=13;, score=0.822 total time=   0.0s\n",
      "[CV 4/5] END algorithm=brute, leaf_size=25, n_neighbors=13;, score=0.846 total time=   0.0s\n",
      "[CV 5/5] END algorithm=brute, leaf_size=25, n_neighbors=13;, score=0.865 total time=   0.0s\n",
      "[CV 1/5] END algorithm=brute, leaf_size=27, n_neighbors=3;, score=0.873 total time=   0.0s\n",
      "[CV 2/5] END algorithm=brute, leaf_size=27, n_neighbors=3;, score=0.900 total time=   0.0s\n",
      "[CV 3/5] END algorithm=brute, leaf_size=27, n_neighbors=3;, score=0.838 total time=   0.0s\n",
      "[CV 4/5] END algorithm=brute, leaf_size=27, n_neighbors=3;, score=0.876 total time=   0.0s\n",
      "[CV 5/5] END algorithm=brute, leaf_size=27, n_neighbors=3;, score=0.888 total time=   0.0s\n",
      "[CV 1/5] END algorithm=brute, leaf_size=27, n_neighbors=5;, score=0.946 total time=   0.0s\n",
      "[CV 2/5] END algorithm=brute, leaf_size=27, n_neighbors=5;, score=0.903 total time=   0.0s\n",
      "[CV 3/5] END algorithm=brute, leaf_size=27, n_neighbors=5;, score=0.903 total time=   0.0s\n",
      "[CV 4/5] END algorithm=brute, leaf_size=27, n_neighbors=5;, score=0.911 total time=   0.0s\n",
      "[CV 5/5] END algorithm=brute, leaf_size=27, n_neighbors=5;, score=0.931 total time=   0.0s\n",
      "[CV 1/5] END algorithm=brute, leaf_size=27, n_neighbors=7;, score=0.935 total time=   0.0s\n",
      "[CV 2/5] END algorithm=brute, leaf_size=27, n_neighbors=7;, score=0.857 total time=   0.0s\n",
      "[CV 3/5] END algorithm=brute, leaf_size=27, n_neighbors=7;, score=0.873 total time=   0.0s\n",
      "[CV 4/5] END algorithm=brute, leaf_size=27, n_neighbors=7;, score=0.884 total time=   0.0s\n",
      "[CV 5/5] END algorithm=brute, leaf_size=27, n_neighbors=7;, score=0.923 total time=   0.0s\n",
      "[CV 1/5] END algorithm=brute, leaf_size=27, n_neighbors=9;, score=0.908 total time=   0.0s\n",
      "[CV 2/5] END algorithm=brute, leaf_size=27, n_neighbors=9;, score=0.853 total time=   0.0s\n",
      "[CV 3/5] END algorithm=brute, leaf_size=27, n_neighbors=9;, score=0.869 total time=   0.0s\n",
      "[CV 4/5] END algorithm=brute, leaf_size=27, n_neighbors=9;, score=0.873 total time=   0.0s\n",
      "[CV 5/5] END algorithm=brute, leaf_size=27, n_neighbors=9;, score=0.903 total time=   0.0s\n",
      "[CV 1/5] END algorithm=brute, leaf_size=27, n_neighbors=10;, score=0.896 total time=   0.0s\n",
      "[CV 2/5] END algorithm=brute, leaf_size=27, n_neighbors=10;, score=0.830 total time=   0.0s\n",
      "[CV 3/5] END algorithm=brute, leaf_size=27, n_neighbors=10;, score=0.826 total time=   0.0s\n",
      "[CV 4/5] END algorithm=brute, leaf_size=27, n_neighbors=10;, score=0.861 total time=   0.0s\n",
      "[CV 5/5] END algorithm=brute, leaf_size=27, n_neighbors=10;, score=0.880 total time=   0.0s\n",
      "[CV 1/5] END algorithm=brute, leaf_size=27, n_neighbors=11;, score=0.888 total time=   0.0s\n",
      "[CV 2/5] END algorithm=brute, leaf_size=27, n_neighbors=11;, score=0.846 total time=   0.0s\n",
      "[CV 3/5] END algorithm=brute, leaf_size=27, n_neighbors=11;, score=0.849 total time=   0.0s\n",
      "[CV 4/5] END algorithm=brute, leaf_size=27, n_neighbors=11;, score=0.853 total time=   0.0s\n",
      "[CV 5/5] END algorithm=brute, leaf_size=27, n_neighbors=11;, score=0.876 total time=   0.0s\n",
      "[CV 1/5] END algorithm=brute, leaf_size=27, n_neighbors=12;, score=0.881 total time=   0.0s\n",
      "[CV 2/5] END algorithm=brute, leaf_size=27, n_neighbors=12;, score=0.834 total time=   0.0s\n",
      "[CV 3/5] END algorithm=brute, leaf_size=27, n_neighbors=12;, score=0.834 total time=   0.0s\n",
      "[CV 4/5] END algorithm=brute, leaf_size=27, n_neighbors=12;, score=0.861 total time=   0.0s\n",
      "[CV 5/5] END algorithm=brute, leaf_size=27, n_neighbors=12;, score=0.876 total time=   0.0s\n",
      "[CV 1/5] END algorithm=brute, leaf_size=27, n_neighbors=13;, score=0.850 total time=   0.0s\n",
      "[CV 2/5] END algorithm=brute, leaf_size=27, n_neighbors=13;, score=0.822 total time=   0.0s\n",
      "[CV 3/5] END algorithm=brute, leaf_size=27, n_neighbors=13;, score=0.822 total time=   0.0s\n",
      "[CV 4/5] END algorithm=brute, leaf_size=27, n_neighbors=13;, score=0.846 total time=   0.0s\n",
      "[CV 5/5] END algorithm=brute, leaf_size=27, n_neighbors=13;, score=0.865 total time=   0.0s\n",
      "[CV 1/5] END algorithm=brute, leaf_size=30, n_neighbors=3;, score=0.873 total time=   0.0s\n",
      "[CV 2/5] END algorithm=brute, leaf_size=30, n_neighbors=3;, score=0.900 total time=   0.0s\n",
      "[CV 3/5] END algorithm=brute, leaf_size=30, n_neighbors=3;, score=0.838 total time=   0.0s\n",
      "[CV 4/5] END algorithm=brute, leaf_size=30, n_neighbors=3;, score=0.876 total time=   0.0s\n",
      "[CV 5/5] END algorithm=brute, leaf_size=30, n_neighbors=3;, score=0.888 total time=   0.0s\n",
      "[CV 1/5] END algorithm=brute, leaf_size=30, n_neighbors=5;, score=0.946 total time=   0.0s\n"
     ]
    },
    {
     "name": "stdout",
     "output_type": "stream",
     "text": [
      "[CV 2/5] END algorithm=brute, leaf_size=30, n_neighbors=5;, score=0.903 total time=   0.0s\n",
      "[CV 3/5] END algorithm=brute, leaf_size=30, n_neighbors=5;, score=0.903 total time=   0.0s\n",
      "[CV 4/5] END algorithm=brute, leaf_size=30, n_neighbors=5;, score=0.911 total time=   0.0s\n",
      "[CV 5/5] END algorithm=brute, leaf_size=30, n_neighbors=5;, score=0.931 total time=   0.0s\n",
      "[CV 1/5] END algorithm=brute, leaf_size=30, n_neighbors=7;, score=0.935 total time=   0.0s\n",
      "[CV 2/5] END algorithm=brute, leaf_size=30, n_neighbors=7;, score=0.857 total time=   0.0s\n",
      "[CV 3/5] END algorithm=brute, leaf_size=30, n_neighbors=7;, score=0.873 total time=   0.0s\n",
      "[CV 4/5] END algorithm=brute, leaf_size=30, n_neighbors=7;, score=0.884 total time=   0.0s\n",
      "[CV 5/5] END algorithm=brute, leaf_size=30, n_neighbors=7;, score=0.923 total time=   0.0s\n",
      "[CV 1/5] END algorithm=brute, leaf_size=30, n_neighbors=9;, score=0.908 total time=   0.0s\n",
      "[CV 2/5] END algorithm=brute, leaf_size=30, n_neighbors=9;, score=0.853 total time=   0.0s\n",
      "[CV 3/5] END algorithm=brute, leaf_size=30, n_neighbors=9;, score=0.869 total time=   0.0s\n",
      "[CV 4/5] END algorithm=brute, leaf_size=30, n_neighbors=9;, score=0.873 total time=   0.0s\n",
      "[CV 5/5] END algorithm=brute, leaf_size=30, n_neighbors=9;, score=0.903 total time=   0.0s\n",
      "[CV 1/5] END algorithm=brute, leaf_size=30, n_neighbors=10;, score=0.896 total time=   0.0s\n",
      "[CV 2/5] END algorithm=brute, leaf_size=30, n_neighbors=10;, score=0.830 total time=   0.0s\n",
      "[CV 3/5] END algorithm=brute, leaf_size=30, n_neighbors=10;, score=0.826 total time=   0.0s\n",
      "[CV 4/5] END algorithm=brute, leaf_size=30, n_neighbors=10;, score=0.861 total time=   0.0s\n",
      "[CV 5/5] END algorithm=brute, leaf_size=30, n_neighbors=10;, score=0.880 total time=   0.0s\n",
      "[CV 1/5] END algorithm=brute, leaf_size=30, n_neighbors=11;, score=0.888 total time=   0.0s\n",
      "[CV 2/5] END algorithm=brute, leaf_size=30, n_neighbors=11;, score=0.846 total time=   0.0s\n",
      "[CV 3/5] END algorithm=brute, leaf_size=30, n_neighbors=11;, score=0.849 total time=   0.0s\n",
      "[CV 4/5] END algorithm=brute, leaf_size=30, n_neighbors=11;, score=0.853 total time=   0.0s\n",
      "[CV 5/5] END algorithm=brute, leaf_size=30, n_neighbors=11;, score=0.876 total time=   0.0s\n",
      "[CV 1/5] END algorithm=brute, leaf_size=30, n_neighbors=12;, score=0.881 total time=   0.0s\n",
      "[CV 2/5] END algorithm=brute, leaf_size=30, n_neighbors=12;, score=0.834 total time=   0.0s\n",
      "[CV 3/5] END algorithm=brute, leaf_size=30, n_neighbors=12;, score=0.834 total time=   0.0s\n",
      "[CV 4/5] END algorithm=brute, leaf_size=30, n_neighbors=12;, score=0.861 total time=   0.0s\n",
      "[CV 5/5] END algorithm=brute, leaf_size=30, n_neighbors=12;, score=0.876 total time=   0.0s\n",
      "[CV 1/5] END algorithm=brute, leaf_size=30, n_neighbors=13;, score=0.850 total time=   0.0s\n",
      "[CV 2/5] END algorithm=brute, leaf_size=30, n_neighbors=13;, score=0.822 total time=   0.0s\n",
      "[CV 3/5] END algorithm=brute, leaf_size=30, n_neighbors=13;, score=0.822 total time=   0.0s\n",
      "[CV 4/5] END algorithm=brute, leaf_size=30, n_neighbors=13;, score=0.846 total time=   0.0s\n",
      "[CV 5/5] END algorithm=brute, leaf_size=30, n_neighbors=13;, score=0.865 total time=   0.0s\n",
      "[CV 1/5] END algorithm=brute, leaf_size=32, n_neighbors=3;, score=0.873 total time=   0.0s\n",
      "[CV 2/5] END algorithm=brute, leaf_size=32, n_neighbors=3;, score=0.900 total time=   0.0s\n",
      "[CV 3/5] END algorithm=brute, leaf_size=32, n_neighbors=3;, score=0.838 total time=   0.0s\n",
      "[CV 4/5] END algorithm=brute, leaf_size=32, n_neighbors=3;, score=0.876 total time=   0.0s\n",
      "[CV 5/5] END algorithm=brute, leaf_size=32, n_neighbors=3;, score=0.888 total time=   0.0s\n",
      "[CV 1/5] END algorithm=brute, leaf_size=32, n_neighbors=5;, score=0.946 total time=   0.0s\n",
      "[CV 2/5] END algorithm=brute, leaf_size=32, n_neighbors=5;, score=0.903 total time=   0.0s\n",
      "[CV 3/5] END algorithm=brute, leaf_size=32, n_neighbors=5;, score=0.903 total time=   0.0s\n",
      "[CV 4/5] END algorithm=brute, leaf_size=32, n_neighbors=5;, score=0.911 total time=   0.0s\n",
      "[CV 5/5] END algorithm=brute, leaf_size=32, n_neighbors=5;, score=0.931 total time=   0.0s\n",
      "[CV 1/5] END algorithm=brute, leaf_size=32, n_neighbors=7;, score=0.935 total time=   0.0s\n",
      "[CV 2/5] END algorithm=brute, leaf_size=32, n_neighbors=7;, score=0.857 total time=   0.0s\n",
      "[CV 3/5] END algorithm=brute, leaf_size=32, n_neighbors=7;, score=0.873 total time=   0.0s\n",
      "[CV 4/5] END algorithm=brute, leaf_size=32, n_neighbors=7;, score=0.884 total time=   0.0s\n",
      "[CV 5/5] END algorithm=brute, leaf_size=32, n_neighbors=7;, score=0.923 total time=   0.0s\n",
      "[CV 1/5] END algorithm=brute, leaf_size=32, n_neighbors=9;, score=0.908 total time=   0.0s\n",
      "[CV 2/5] END algorithm=brute, leaf_size=32, n_neighbors=9;, score=0.853 total time=   0.0s\n",
      "[CV 3/5] END algorithm=brute, leaf_size=32, n_neighbors=9;, score=0.869 total time=   0.0s\n",
      "[CV 4/5] END algorithm=brute, leaf_size=32, n_neighbors=9;, score=0.873 total time=   0.0s\n",
      "[CV 5/5] END algorithm=brute, leaf_size=32, n_neighbors=9;, score=0.903 total time=   0.0s\n",
      "[CV 1/5] END algorithm=brute, leaf_size=32, n_neighbors=10;, score=0.896 total time=   0.0s\n",
      "[CV 2/5] END algorithm=brute, leaf_size=32, n_neighbors=10;, score=0.830 total time=   0.0s\n",
      "[CV 3/5] END algorithm=brute, leaf_size=32, n_neighbors=10;, score=0.826 total time=   0.0s\n",
      "[CV 4/5] END algorithm=brute, leaf_size=32, n_neighbors=10;, score=0.861 total time=   0.0s\n",
      "[CV 5/5] END algorithm=brute, leaf_size=32, n_neighbors=10;, score=0.880 total time=   0.0s\n",
      "[CV 1/5] END algorithm=brute, leaf_size=32, n_neighbors=11;, score=0.888 total time=   0.0s\n",
      "[CV 2/5] END algorithm=brute, leaf_size=32, n_neighbors=11;, score=0.846 total time=   0.0s\n",
      "[CV 3/5] END algorithm=brute, leaf_size=32, n_neighbors=11;, score=0.849 total time=   0.0s\n",
      "[CV 4/5] END algorithm=brute, leaf_size=32, n_neighbors=11;, score=0.853 total time=   0.0s\n",
      "[CV 5/5] END algorithm=brute, leaf_size=32, n_neighbors=11;, score=0.876 total time=   0.0s\n",
      "[CV 1/5] END algorithm=brute, leaf_size=32, n_neighbors=12;, score=0.881 total time=   0.0s\n",
      "[CV 2/5] END algorithm=brute, leaf_size=32, n_neighbors=12;, score=0.834 total time=   0.0s\n",
      "[CV 3/5] END algorithm=brute, leaf_size=32, n_neighbors=12;, score=0.834 total time=   0.0s\n",
      "[CV 4/5] END algorithm=brute, leaf_size=32, n_neighbors=12;, score=0.861 total time=   0.0s\n",
      "[CV 5/5] END algorithm=brute, leaf_size=32, n_neighbors=12;, score=0.876 total time=   0.0s\n",
      "[CV 1/5] END algorithm=brute, leaf_size=32, n_neighbors=13;, score=0.850 total time=   0.0s\n",
      "[CV 2/5] END algorithm=brute, leaf_size=32, n_neighbors=13;, score=0.822 total time=   0.0s\n",
      "[CV 3/5] END algorithm=brute, leaf_size=32, n_neighbors=13;, score=0.822 total time=   0.0s\n",
      "[CV 4/5] END algorithm=brute, leaf_size=32, n_neighbors=13;, score=0.846 total time=   0.0s\n",
      "[CV 5/5] END algorithm=brute, leaf_size=32, n_neighbors=13;, score=0.865 total time=   0.0s\n",
      "[CV 1/5] END algorithm=brute, leaf_size=34, n_neighbors=3;, score=0.873 total time=   0.0s\n",
      "[CV 2/5] END algorithm=brute, leaf_size=34, n_neighbors=3;, score=0.900 total time=   0.0s\n",
      "[CV 3/5] END algorithm=brute, leaf_size=34, n_neighbors=3;, score=0.838 total time=   0.0s\n",
      "[CV 4/5] END algorithm=brute, leaf_size=34, n_neighbors=3;, score=0.876 total time=   0.0s\n",
      "[CV 5/5] END algorithm=brute, leaf_size=34, n_neighbors=3;, score=0.888 total time=   0.0s\n",
      "[CV 1/5] END algorithm=brute, leaf_size=34, n_neighbors=5;, score=0.946 total time=   0.0s\n",
      "[CV 2/5] END algorithm=brute, leaf_size=34, n_neighbors=5;, score=0.903 total time=   0.0s\n",
      "[CV 3/5] END algorithm=brute, leaf_size=34, n_neighbors=5;, score=0.903 total time=   0.0s\n",
      "[CV 4/5] END algorithm=brute, leaf_size=34, n_neighbors=5;, score=0.911 total time=   0.0s\n",
      "[CV 5/5] END algorithm=brute, leaf_size=34, n_neighbors=5;, score=0.931 total time=   0.0s\n",
      "[CV 1/5] END algorithm=brute, leaf_size=34, n_neighbors=7;, score=0.935 total time=   0.0s\n",
      "[CV 2/5] END algorithm=brute, leaf_size=34, n_neighbors=7;, score=0.857 total time=   0.0s\n",
      "[CV 3/5] END algorithm=brute, leaf_size=34, n_neighbors=7;, score=0.873 total time=   0.0s\n",
      "[CV 4/5] END algorithm=brute, leaf_size=34, n_neighbors=7;, score=0.884 total time=   0.0s\n",
      "[CV 5/5] END algorithm=brute, leaf_size=34, n_neighbors=7;, score=0.923 total time=   0.0s\n",
      "[CV 1/5] END algorithm=brute, leaf_size=34, n_neighbors=9;, score=0.908 total time=   0.0s\n",
      "[CV 2/5] END algorithm=brute, leaf_size=34, n_neighbors=9;, score=0.853 total time=   0.0s\n",
      "[CV 3/5] END algorithm=brute, leaf_size=34, n_neighbors=9;, score=0.869 total time=   0.0s\n",
      "[CV 4/5] END algorithm=brute, leaf_size=34, n_neighbors=9;, score=0.873 total time=   0.0s\n"
     ]
    },
    {
     "name": "stdout",
     "output_type": "stream",
     "text": [
      "[CV 5/5] END algorithm=brute, leaf_size=34, n_neighbors=9;, score=0.903 total time=   0.0s\n",
      "[CV 1/5] END algorithm=brute, leaf_size=34, n_neighbors=10;, score=0.896 total time=   0.0s\n",
      "[CV 2/5] END algorithm=brute, leaf_size=34, n_neighbors=10;, score=0.830 total time=   0.0s\n",
      "[CV 3/5] END algorithm=brute, leaf_size=34, n_neighbors=10;, score=0.826 total time=   0.0s\n",
      "[CV 4/5] END algorithm=brute, leaf_size=34, n_neighbors=10;, score=0.861 total time=   0.0s\n",
      "[CV 5/5] END algorithm=brute, leaf_size=34, n_neighbors=10;, score=0.880 total time=   0.0s\n",
      "[CV 1/5] END algorithm=brute, leaf_size=34, n_neighbors=11;, score=0.888 total time=   0.0s\n",
      "[CV 2/5] END algorithm=brute, leaf_size=34, n_neighbors=11;, score=0.846 total time=   0.0s\n",
      "[CV 3/5] END algorithm=brute, leaf_size=34, n_neighbors=11;, score=0.849 total time=   0.0s\n",
      "[CV 4/5] END algorithm=brute, leaf_size=34, n_neighbors=11;, score=0.853 total time=   0.0s\n",
      "[CV 5/5] END algorithm=brute, leaf_size=34, n_neighbors=11;, score=0.876 total time=   0.0s\n",
      "[CV 1/5] END algorithm=brute, leaf_size=34, n_neighbors=12;, score=0.881 total time=   0.0s\n",
      "[CV 2/5] END algorithm=brute, leaf_size=34, n_neighbors=12;, score=0.834 total time=   0.0s\n",
      "[CV 3/5] END algorithm=brute, leaf_size=34, n_neighbors=12;, score=0.834 total time=   0.0s\n",
      "[CV 4/5] END algorithm=brute, leaf_size=34, n_neighbors=12;, score=0.861 total time=   0.0s\n",
      "[CV 5/5] END algorithm=brute, leaf_size=34, n_neighbors=12;, score=0.876 total time=   0.0s\n",
      "[CV 1/5] END algorithm=brute, leaf_size=34, n_neighbors=13;, score=0.850 total time=   0.0s\n",
      "[CV 2/5] END algorithm=brute, leaf_size=34, n_neighbors=13;, score=0.822 total time=   0.0s\n",
      "[CV 3/5] END algorithm=brute, leaf_size=34, n_neighbors=13;, score=0.822 total time=   0.0s\n",
      "[CV 4/5] END algorithm=brute, leaf_size=34, n_neighbors=13;, score=0.846 total time=   0.0s\n",
      "[CV 5/5] END algorithm=brute, leaf_size=34, n_neighbors=13;, score=0.865 total time=   0.0s\n"
     ]
    },
    {
     "data": {
      "text/plain": [
       "GridSearchCV(estimator=KNeighborsClassifier(n_jobs=-1, n_neighbors=29),\n",
       "             param_grid={'algorithm': ['ball_tree', 'kd_tree', 'brute'],\n",
       "                         'leaf_size': [18, 20, 25, 27, 30, 32, 34],\n",
       "                         'n_neighbors': [3, 5, 7, 9, 10, 11, 12, 13]},\n",
       "             verbose=3)"
      ]
     },
     "execution_count": 83,
     "metadata": {},
     "output_type": "execute_result"
    }
   ],
   "source": [
    "gridsearch.fit(x_train,y_train)"
   ]
  },
  {
   "cell_type": "code",
   "execution_count": null,
   "id": "1bc3fc42",
   "metadata": {},
   "outputs": [],
   "source": [
    "# let's see the  best parameters according to gridsearch\n",
    "gridsearch.best_params_"
   ]
  },
  {
   "cell_type": "code",
   "execution_count": null,
   "id": "17a406ef",
   "metadata": {},
   "outputs": [],
   "source": [
    "# we will use the best parameters in our k-NN algorithm and check if accuracy is increasing.\n",
    "knn = KNeighborsClassifier(algorithm = 'ball_tree', leaf_size =18, n_neighbors =11)"
   ]
  },
  {
   "cell_type": "code",
   "execution_count": null,
   "id": "7b478dd8",
   "metadata": {},
   "outputs": [],
   "source": [
    "knn.fit(x_train,y_train)"
   ]
  },
  {
   "cell_type": "code",
   "execution_count": null,
   "id": "6925592f",
   "metadata": {},
   "outputs": [],
   "source": [
    "knn.score(x_train,y_train)"
   ]
  },
  {
   "cell_type": "code",
   "execution_count": null,
   "id": "7e26228e",
   "metadata": {},
   "outputs": [],
   "source": [
    "knn_score = knn.score(x_test,y_test)\n",
    "knn_score"
   ]
  },
  {
   "cell_type": "code",
   "execution_count": null,
   "id": "c7bc5260",
   "metadata": {},
   "outputs": [],
   "source": [
    "from sklearn.model_selection import KFold"
   ]
  },
  {
   "cell_type": "code",
   "execution_count": null,
   "id": "50e011c3",
   "metadata": {},
   "outputs": [],
   "source": [
    "#k-fold cross validation\n",
    "kfold = KFold(n_splits=12)\n",
    "kfold.get_n_splits(X)"
   ]
  },
  {
   "cell_type": "code",
   "execution_count": 88,
   "id": "66fc9d28",
   "metadata": {},
   "outputs": [
    {
     "ename": "TypeError",
     "evalue": "split() missing 1 required positional argument: 'X'",
     "output_type": "error",
     "traceback": [
      "\u001b[1;31m---------------------------------------------------------------------------\u001b[0m",
      "\u001b[1;31mTypeError\u001b[0m                                 Traceback (most recent call last)",
      "Cell \u001b[1;32mIn [88], line 9\u001b[0m\n\u001b[0;32m      6\u001b[0m train_score \u001b[38;5;241m=\u001b[39m[]\n\u001b[0;32m      7\u001b[0m test_score \u001b[38;5;241m=\u001b[39m []\n\u001b[1;32m----> 9\u001b[0m \u001b[38;5;28;01mfor\u001b[39;00m train_index,test_index \u001b[38;5;129;01min\u001b[39;00m \u001b[43mKFold\u001b[49m\u001b[38;5;241;43m.\u001b[39;49m\u001b[43msplit\u001b[49m\u001b[43m(\u001b[49m\u001b[43mX\u001b[49m\u001b[43m)\u001b[49m:\n\u001b[0;32m     10\u001b[0m     X_train, X_test \u001b[38;5;241m=\u001b[39m X[train_index], X[test_index] \u001b[38;5;66;03m# our scaled data is an array so it can work on x[value]\u001b[39;00m\n\u001b[0;32m     11\u001b[0m     y_train, y_test \u001b[38;5;241m=\u001b[39m y\u001b[38;5;241m.\u001b[39miloc[train_index], y\u001b[38;5;241m.\u001b[39miloc[test_index] \u001b[38;5;66;03m# y is a dataframe so we have to use \"iloc\" to retreive data\u001b[39;00m\n",
      "\u001b[1;31mTypeError\u001b[0m: split() missing 1 required positional argument: 'X'"
     ]
    }
   ],
   "source": [
    "from sklearn.model_selection import KFold\n",
    "from statistics import mean\n",
    "knn = KNeighborsClassifier(algorithm = 'ball_tree', leaf_size =18, n_neighbors =11)\n",
    "cnt =0\n",
    "count=[]\n",
    "train_score =[]\n",
    "test_score = []\n",
    "\n",
    "for train_index,test_index in KFold.split(X):\n",
    "    X_train, X_test = X[train_index], X[test_index] # our scaled data is an array so it can work on x[value]\n",
    "    y_train, y_test = y.iloc[train_index], y.iloc[test_index] # y is a dataframe so we have to use \"iloc\" to retreive data\n",
    "    knn.fit(X_train,y_train)\n",
    "    train_score_ = knn.score(x_train,y_train)\n",
    "    test_score_ =  knn.score(x_test,y_test)\n",
    "    cnt+=1\n",
    "    count.append(cnt)\n",
    "    train_score.append(train_score_)\n",
    "    test_score.append(test_score_)\n",
    "    \n",
    "    print(\"for k = \", cnt)\n",
    "    print(\"train_score is :  \", train_score_, \"and test score is :  \", test_score_)\n",
    "print(\"************************************************\")\n",
    "print(\"************************************************\")\n",
    "print(\"Average train score is :  \", mean(train_score))\n",
    "print(\"Average test score is :  \", mean(test_score))"
   ]
  },
  {
   "cell_type": "markdown",
   "id": "8fcd38fd",
   "metadata": {},
   "source": [
    "## Decision Tree Classifier with criterion gini index "
   ]
  },
  {
   "cell_type": "code",
   "execution_count": 89,
   "id": "0326ce4b",
   "metadata": {},
   "outputs": [],
   "source": [
    "# import DecisionTreeClassifier\n",
    "\n",
    "from sklearn.tree import DecisionTreeClassifier"
   ]
  },
  {
   "cell_type": "code",
   "execution_count": 90,
   "id": "cff04a6e",
   "metadata": {},
   "outputs": [
    {
     "data": {
      "text/plain": [
       "DecisionTreeClassifier(max_depth=3, random_state=0)"
      ]
     },
     "execution_count": 90,
     "metadata": {},
     "output_type": "execute_result"
    }
   ],
   "source": [
    "clf_gini = DecisionTreeClassifier(criterion='gini', max_depth=3, random_state=0)\n",
    "\n",
    "\n",
    "# fit the model\n",
    "clf_gini.fit(x_train, y_train)"
   ]
  },
  {
   "cell_type": "code",
   "execution_count": 91,
   "id": "ac0ded34",
   "metadata": {},
   "outputs": [],
   "source": [
    "y_pred_gini = clf_gini.predict(x_test)"
   ]
  },
  {
   "cell_type": "code",
   "execution_count": 92,
   "id": "77db53c6",
   "metadata": {},
   "outputs": [
    {
     "name": "stdout",
     "output_type": "stream",
     "text": [
      "Model accuracy score with criterion gini index: 0.7569\n"
     ]
    }
   ],
   "source": [
    "from sklearn.metrics import accuracy_score\n",
    "\n",
    "print('Model accuracy score with criterion gini index: {0:0.4f}'. format(accuracy_score(y_test, y_pred_gini)))"
   ]
  },
  {
   "cell_type": "code",
   "execution_count": 93,
   "id": "a512eee9",
   "metadata": {},
   "outputs": [
    {
     "data": {
      "text/plain": [
       "array([2, 2, 2, ..., 0, 2, 2])"
      ]
     },
     "execution_count": 93,
     "metadata": {},
     "output_type": "execute_result"
    }
   ],
   "source": [
    "y_pred_train_gini = clf_gini.predict(x_train)\n",
    "\n",
    "y_pred_train_gini"
   ]
  },
  {
   "cell_type": "code",
   "execution_count": 94,
   "id": "b00ebd44",
   "metadata": {},
   "outputs": [
    {
     "name": "stdout",
     "output_type": "stream",
     "text": [
      "Training-set accuracy score: 0.7762\n"
     ]
    }
   ],
   "source": [
    "print('Training-set accuracy score: {0:0.4f}'. format(accuracy_score(y_train, y_pred_train_gini)))"
   ]
  },
  {
   "cell_type": "code",
   "execution_count": 95,
   "id": "010edbc2",
   "metadata": {},
   "outputs": [
    {
     "name": "stdout",
     "output_type": "stream",
     "text": [
      "Training set score: 0.7762\n",
      "Test set score: 0.7569\n"
     ]
    }
   ],
   "source": [
    "# print the scores on training and test set\n",
    "\n",
    "print('Training set score: {:.4f}'.format(clf_gini.score(x_train, y_train)))\n",
    "\n",
    "print('Test set score: {:.4f}'.format(clf_gini.score(x_test, y_test)))"
   ]
  },
  {
   "cell_type": "code",
   "execution_count": 96,
   "id": "ddc874b8",
   "metadata": {},
   "outputs": [
    {
     "data": {
      "text/plain": [
       "[Text(0.375, 0.875, 'X[3] <= 0.5\\ngini = 0.45\\nsamples = 1296\\nvalue = [281, 54, 916, 45]'),\n",
       " Text(0.25, 0.625, 'gini = 0.0\\nsamples = 426\\nvalue = [0, 0, 426, 0]'),\n",
       " Text(0.5, 0.625, 'X[5] <= 0.5\\ngini = 0.572\\nsamples = 870\\nvalue = [281, 54, 490, 45]'),\n",
       " Text(0.25, 0.375, 'X[0] <= 2.5\\ngini = 0.63\\nsamples = 284\\nvalue = [152, 22, 65, 45]'),\n",
       " Text(0.125, 0.125, 'gini = 0.62\\nsamples = 211\\nvalue = [117, 22, 27, 45]'),\n",
       " Text(0.375, 0.125, 'gini = 0.499\\nsamples = 73\\nvalue = [35, 0, 38, 0]'),\n",
       " Text(0.75, 0.375, 'X[5] <= 1.5\\ngini = 0.423\\nsamples = 586\\nvalue = [129, 32, 425, 0]'),\n",
       " Text(0.625, 0.125, 'gini = 0.0\\nsamples = 294\\nvalue = [0, 0, 294, 0]'),\n",
       " Text(0.875, 0.125, 'gini = 0.592\\nsamples = 292\\nvalue = [129, 32, 131, 0]')]"
      ]
     },
     "execution_count": 96,
     "metadata": {},
     "output_type": "execute_result"
    },
    {
     "data": {
      "image/png": "[encoded data removed]",
      "text/plain": [
       "<Figure size 864x576 with 1 Axes>"
      ]
     },
     "metadata": {
      "needs_background": "light"
     },
     "output_type": "display_data"
    }
   ],
   "source": [
    "plt.figure(figsize=(12,8))\n",
    "\n",
    "from sklearn import tree\n",
    "\n",
    "tree.plot_tree(clf_gini.fit(x_train, y_train)) "
   ]
  },
  {
   "cell_type": "code",
   "execution_count": 97,
   "id": "2abadf79",
   "metadata": {},
   "outputs": [
    {
     "ename": "TypeError",
     "evalue": "can only concatenate str (not \"numpy.int32\") to str",
     "output_type": "error",
     "traceback": [
      "\u001b[1;31m---------------------------------------------------------------------------\u001b[0m",
      "\u001b[1;31mTypeError\u001b[0m                                 Traceback (most recent call last)",
      "Cell \u001b[1;32mIn [97], line 2\u001b[0m\n\u001b[0;32m      1\u001b[0m \u001b[38;5;28;01mimport\u001b[39;00m \u001b[38;5;21;01mgraphviz\u001b[39;00m \n\u001b[1;32m----> 2\u001b[0m dot_data \u001b[38;5;241m=\u001b[39m \u001b[43mtree\u001b[49m\u001b[38;5;241;43m.\u001b[39;49m\u001b[43mexport_graphviz\u001b[49m\u001b[43m(\u001b[49m\u001b[43mclf_gini\u001b[49m\u001b[43m,\u001b[49m\u001b[43m \u001b[49m\u001b[43mout_file\u001b[49m\u001b[38;5;241;43m=\u001b[39;49m\u001b[38;5;28;43;01mNone\u001b[39;49;00m\u001b[43m,\u001b[49m\u001b[43m \u001b[49m\n\u001b[0;32m      3\u001b[0m \u001b[43m                              \u001b[49m\u001b[43mfeature_names\u001b[49m\u001b[38;5;241;43m=\u001b[39;49m\u001b[43mx_train\u001b[49m\u001b[38;5;241;43m.\u001b[39;49m\u001b[43mcolumns\u001b[49m\u001b[43m,\u001b[49m\u001b[43m  \u001b[49m\n\u001b[0;32m      4\u001b[0m \u001b[43m                              \u001b[49m\u001b[43mclass_names\u001b[49m\u001b[38;5;241;43m=\u001b[39;49m\u001b[43my_train\u001b[49m\u001b[43m,\u001b[49m\u001b[43m  \u001b[49m\n\u001b[0;32m      5\u001b[0m \u001b[43m                              \u001b[49m\u001b[43mfilled\u001b[49m\u001b[38;5;241;43m=\u001b[39;49m\u001b[38;5;28;43;01mTrue\u001b[39;49;00m\u001b[43m,\u001b[49m\u001b[43m \u001b[49m\u001b[43mrounded\u001b[49m\u001b[38;5;241;43m=\u001b[39;49m\u001b[38;5;28;43;01mTrue\u001b[39;49;00m\u001b[43m,\u001b[49m\u001b[43m  \u001b[49m\n\u001b[0;32m      6\u001b[0m \u001b[43m                              \u001b[49m\u001b[43mspecial_characters\u001b[49m\u001b[38;5;241;43m=\u001b[39;49m\u001b[38;5;28;43;01mTrue\u001b[39;49;00m\u001b[43m)\u001b[49m\n\u001b[0;32m      8\u001b[0m graph \u001b[38;5;241m=\u001b[39m graphviz\u001b[38;5;241m.\u001b[39mSource(dot_data) \n\u001b[0;32m     10\u001b[0m graph\n",
      "File \u001b[1;32m~\\anaconda3\\lib\\site-packages\\sklearn\\tree\\_export.py:889\u001b[0m, in \u001b[0;36mexport_graphviz\u001b[1;34m(decision_tree, out_file, max_depth, feature_names, class_names, label, filled, leaves_parallel, impurity, node_ids, proportion, rotate, rounded, special_characters, precision, fontname)\u001b[0m\n\u001b[0;32m    870\u001b[0m     out_file \u001b[38;5;241m=\u001b[39m StringIO()\n\u001b[0;32m    872\u001b[0m exporter \u001b[38;5;241m=\u001b[39m _DOTTreeExporter(\n\u001b[0;32m    873\u001b[0m     out_file\u001b[38;5;241m=\u001b[39mout_file,\n\u001b[0;32m    874\u001b[0m     max_depth\u001b[38;5;241m=\u001b[39mmax_depth,\n\u001b[1;32m   (...)\u001b[0m\n\u001b[0;32m    887\u001b[0m     fontname\u001b[38;5;241m=\u001b[39mfontname,\n\u001b[0;32m    888\u001b[0m )\n\u001b[1;32m--> 889\u001b[0m \u001b[43mexporter\u001b[49m\u001b[38;5;241;43m.\u001b[39;49m\u001b[43mexport\u001b[49m\u001b[43m(\u001b[49m\u001b[43mdecision_tree\u001b[49m\u001b[43m)\u001b[49m\n\u001b[0;32m    891\u001b[0m \u001b[38;5;28;01mif\u001b[39;00m return_string:\n\u001b[0;32m    892\u001b[0m     \u001b[38;5;28;01mreturn\u001b[39;00m exporter\u001b[38;5;241m.\u001b[39mout_file\u001b[38;5;241m.\u001b[39mgetvalue()\n",
      "File \u001b[1;32m~\\anaconda3\\lib\\site-packages\\sklearn\\tree\\_export.py:462\u001b[0m, in \u001b[0;36m_DOTTreeExporter.export\u001b[1;34m(self, decision_tree)\u001b[0m\n\u001b[0;32m    460\u001b[0m     \u001b[38;5;28mself\u001b[39m\u001b[38;5;241m.\u001b[39mrecurse(decision_tree, \u001b[38;5;241m0\u001b[39m, criterion\u001b[38;5;241m=\u001b[39m\u001b[38;5;124m\"\u001b[39m\u001b[38;5;124mimpurity\u001b[39m\u001b[38;5;124m\"\u001b[39m)\n\u001b[0;32m    461\u001b[0m \u001b[38;5;28;01melse\u001b[39;00m:\n\u001b[1;32m--> 462\u001b[0m     \u001b[38;5;28;43mself\u001b[39;49m\u001b[38;5;241;43m.\u001b[39;49m\u001b[43mrecurse\u001b[49m\u001b[43m(\u001b[49m\u001b[43mdecision_tree\u001b[49m\u001b[38;5;241;43m.\u001b[39;49m\u001b[43mtree_\u001b[49m\u001b[43m,\u001b[49m\u001b[43m \u001b[49m\u001b[38;5;241;43m0\u001b[39;49m\u001b[43m,\u001b[49m\u001b[43m \u001b[49m\u001b[43mcriterion\u001b[49m\u001b[38;5;241;43m=\u001b[39;49m\u001b[43mdecision_tree\u001b[49m\u001b[38;5;241;43m.\u001b[39;49m\u001b[43mcriterion\u001b[49m\u001b[43m)\u001b[49m\n\u001b[0;32m    464\u001b[0m \u001b[38;5;28mself\u001b[39m\u001b[38;5;241m.\u001b[39mtail()\n",
      "File \u001b[1;32m~\\anaconda3\\lib\\site-packages\\sklearn\\tree\\_export.py:521\u001b[0m, in \u001b[0;36m_DOTTreeExporter.recurse\u001b[1;34m(self, tree, node_id, criterion, parent, depth)\u001b[0m\n\u001b[0;32m    517\u001b[0m \u001b[38;5;28;01melse\u001b[39;00m:\n\u001b[0;32m    518\u001b[0m     \u001b[38;5;28mself\u001b[39m\u001b[38;5;241m.\u001b[39mranks[\u001b[38;5;28mstr\u001b[39m(depth)]\u001b[38;5;241m.\u001b[39mappend(\u001b[38;5;28mstr\u001b[39m(node_id))\n\u001b[0;32m    520\u001b[0m \u001b[38;5;28mself\u001b[39m\u001b[38;5;241m.\u001b[39mout_file\u001b[38;5;241m.\u001b[39mwrite(\n\u001b[1;32m--> 521\u001b[0m     \u001b[38;5;124m\"\u001b[39m\u001b[38;5;132;01m%d\u001b[39;00m\u001b[38;5;124m [label=\u001b[39m\u001b[38;5;132;01m%s\u001b[39;00m\u001b[38;5;124m\"\u001b[39m \u001b[38;5;241m%\u001b[39m (node_id, \u001b[38;5;28;43mself\u001b[39;49m\u001b[38;5;241;43m.\u001b[39;49m\u001b[43mnode_to_str\u001b[49m\u001b[43m(\u001b[49m\u001b[43mtree\u001b[49m\u001b[43m,\u001b[49m\u001b[43m \u001b[49m\u001b[43mnode_id\u001b[49m\u001b[43m,\u001b[49m\u001b[43m \u001b[49m\u001b[43mcriterion\u001b[49m\u001b[43m)\u001b[49m)\n\u001b[0;32m    522\u001b[0m )\n\u001b[0;32m    524\u001b[0m \u001b[38;5;28;01mif\u001b[39;00m \u001b[38;5;28mself\u001b[39m\u001b[38;5;241m.\u001b[39mfilled:\n\u001b[0;32m    525\u001b[0m     \u001b[38;5;28mself\u001b[39m\u001b[38;5;241m.\u001b[39mout_file\u001b[38;5;241m.\u001b[39mwrite(\n\u001b[0;32m    526\u001b[0m         \u001b[38;5;124m'\u001b[39m\u001b[38;5;124m, fillcolor=\u001b[39m\u001b[38;5;124m\"\u001b[39m\u001b[38;5;132;01m%s\u001b[39;00m\u001b[38;5;124m\"\u001b[39m\u001b[38;5;124m'\u001b[39m \u001b[38;5;241m%\u001b[39m \u001b[38;5;28mself\u001b[39m\u001b[38;5;241m.\u001b[39mget_fill_color(tree, node_id)\n\u001b[0;32m    527\u001b[0m     )\n",
      "File \u001b[1;32m~\\anaconda3\\lib\\site-packages\\sklearn\\tree\\_export.py:374\u001b[0m, in \u001b[0;36m_BaseTreeExporter.node_to_str\u001b[1;34m(self, tree, node_id, criterion)\u001b[0m\n\u001b[0;32m    368\u001b[0m     \u001b[38;5;28;01melse\u001b[39;00m:\n\u001b[0;32m    369\u001b[0m         class_name \u001b[38;5;241m=\u001b[39m \u001b[38;5;124m\"\u001b[39m\u001b[38;5;124my\u001b[39m\u001b[38;5;132;01m%s\u001b[39;00m\u001b[38;5;132;01m%s\u001b[39;00m\u001b[38;5;132;01m%s\u001b[39;00m\u001b[38;5;124m\"\u001b[39m \u001b[38;5;241m%\u001b[39m (\n\u001b[0;32m    370\u001b[0m             characters[\u001b[38;5;241m1\u001b[39m],\n\u001b[0;32m    371\u001b[0m             np\u001b[38;5;241m.\u001b[39margmax(value),\n\u001b[0;32m    372\u001b[0m             characters[\u001b[38;5;241m2\u001b[39m],\n\u001b[0;32m    373\u001b[0m         )\n\u001b[1;32m--> 374\u001b[0m     node_string \u001b[38;5;241m+\u001b[39m\u001b[38;5;241m=\u001b[39m class_name\n\u001b[0;32m    376\u001b[0m \u001b[38;5;66;03m# Clean up any trailing newlines\u001b[39;00m\n\u001b[0;32m    377\u001b[0m \u001b[38;5;28;01mif\u001b[39;00m node_string\u001b[38;5;241m.\u001b[39mendswith(characters[\u001b[38;5;241m4\u001b[39m]):\n",
      "\u001b[1;31mTypeError\u001b[0m: can only concatenate str (not \"numpy.int32\") to str"
     ]
    }
   ],
   "source": [
    "import graphviz \n",
    "dot_data = tree.export_graphviz(clf_gini, out_file=None, \n",
    "                              feature_names=x_train.columns,  \n",
    "                              class_names=y_train,  \n",
    "                              filled=True, rounded=True,  \n",
    "                              special_characters=True)\n",
    "\n",
    "graph = graphviz.Source(dot_data) \n",
    "\n",
    "graph "
   ]
  },
  {
   "cell_type": "markdown",
   "id": "2b99c80a",
   "metadata": {},
   "source": [
    "## Decision Tree Classifier with criterion entropy"
   ]
  },
  {
   "cell_type": "code",
   "execution_count": 98,
   "id": "6b72d5c8",
   "metadata": {},
   "outputs": [
    {
     "data": {
      "text/plain": [
       "DecisionTreeClassifier(criterion='entropy', max_depth=3, random_state=0)"
      ]
     },
     "execution_count": 98,
     "metadata": {},
     "output_type": "execute_result"
    }
   ],
   "source": [
    "clf_en = DecisionTreeClassifier(criterion='entropy', max_depth=3, random_state=0)\n",
    "\n",
    "\n",
    "# fit the model\n",
    "clf_en.fit(x_train, y_train)"
   ]
  },
  {
   "cell_type": "code",
   "execution_count": 99,
   "id": "bc895b76",
   "metadata": {},
   "outputs": [],
   "source": [
    "y_pred_en = clf_en.predict(x_test)"
   ]
  },
  {
   "cell_type": "code",
   "execution_count": 100,
   "id": "25f0add3",
   "metadata": {},
   "outputs": [
    {
     "name": "stdout",
     "output_type": "stream",
     "text": [
      "Model accuracy score with criterion entropy: 0.7569\n"
     ]
    }
   ],
   "source": [
    "from sklearn.metrics import accuracy_score\n",
    "\n",
    "print('Model accuracy score with criterion entropy: {0:0.4f}'. format(accuracy_score(y_test, y_pred_en)))"
   ]
  },
  {
   "cell_type": "code",
   "execution_count": 101,
   "id": "394c3c9c",
   "metadata": {},
   "outputs": [
    {
     "data": {
      "text/plain": [
       "array([2, 2, 2, ..., 0, 2, 2])"
      ]
     },
     "execution_count": 101,
     "metadata": {},
     "output_type": "execute_result"
    }
   ],
   "source": [
    "y_pred_train_en = clf_en.predict(x_train)\n",
    "\n",
    "y_pred_train_en"
   ]
  },
  {
   "cell_type": "code",
   "execution_count": 102,
   "id": "4346bfb4",
   "metadata": {},
   "outputs": [
    {
     "name": "stdout",
     "output_type": "stream",
     "text": [
      "Training-set accuracy score: 0.7762\n"
     ]
    }
   ],
   "source": [
    "print('Training-set accuracy score: {0:0.4f}'. format(accuracy_score(y_train, y_pred_train_en)))"
   ]
  },
  {
   "cell_type": "code",
   "execution_count": 103,
   "id": "037d13e8",
   "metadata": {},
   "outputs": [
    {
     "name": "stdout",
     "output_type": "stream",
     "text": [
      "Training set score: 0.7762\n",
      "Test set score: 0.7569\n"
     ]
    }
   ],
   "source": [
    "# print the scores on training and test set\n",
    "\n",
    "print('Training set score: {:.4f}'.format(clf_en.score(x_train, y_train)))\n",
    "\n",
    "print('Test set score: {:.4f}'.format(clf_en.score(x_test, y_test)))"
   ]
  },
  {
   "cell_type": "code",
   "execution_count": 104,
   "id": "3426472c",
   "metadata": {},
   "outputs": [
    {
     "data": {
      "text/plain": [
       "[Text(0.375, 0.875, 'X[3] <= 0.5\\nentropy = 1.191\\nsamples = 1296\\nvalue = [281, 54, 916, 45]'),\n",
       " Text(0.25, 0.625, 'entropy = 0.0\\nsamples = 426\\nvalue = [0, 0, 426, 0]'),\n",
       " Text(0.5, 0.625, 'X[5] <= 0.5\\nentropy = 1.463\\nsamples = 870\\nvalue = [281, 54, 490, 45]'),\n",
       " Text(0.25, 0.375, 'X[0] <= 2.5\\nentropy = 1.677\\nsamples = 284\\nvalue = [152, 22, 65, 45]'),\n",
       " Text(0.125, 0.125, 'entropy = 1.667\\nsamples = 211\\nvalue = [117, 22, 27, 45]'),\n",
       " Text(0.375, 0.125, 'entropy = 0.999\\nsamples = 73\\nvalue = [35, 0, 38, 0]'),\n",
       " Text(0.75, 0.375, 'X[5] <= 1.5\\nentropy = 1.046\\nsamples = 586\\nvalue = [129, 32, 425, 0]'),\n",
       " Text(0.625, 0.125, 'entropy = 0.0\\nsamples = 294\\nvalue = [0, 0, 294, 0]'),\n",
       " Text(0.875, 0.125, 'entropy = 1.389\\nsamples = 292\\nvalue = [129, 32, 131, 0]')]"
      ]
     },
     "execution_count": 104,
     "metadata": {},
     "output_type": "execute_result"
    },
    {
     "data": {
      "image/png": "[encoded data removed]",
      "text/plain": [
       "<Figure size 864x576 with 1 Axes>"
      ]
     },
     "metadata": {
      "needs_background": "light"
     },
     "output_type": "display_data"
    }
   ],
   "source": [
    "plt.figure(figsize=(12,8))\n",
    "\n",
    "from sklearn import tree\n",
    "\n",
    "tree.plot_tree(clf_en.fit(x_train, y_train)) "
   ]
  },
  {
   "cell_type": "code",
   "execution_count": 105,
   "id": "dbf3cff1",
   "metadata": {},
   "outputs": [
    {
     "name": "stdout",
     "output_type": "stream",
     "text": [
      "Confusion matrix\n",
      "\n",
      " [[ 41   0  62   0]\n",
      " [  8   0   7   0]\n",
      " [  8   0 286   0]\n",
      " [ 20   0   0   0]]\n"
     ]
    }
   ],
   "source": [
    "# Print the Confusion Matrix and slice it into four pieces\n",
    "\n",
    "from sklearn.metrics import confusion_matrix\n",
    "\n",
    "cm = confusion_matrix(y_test, y_pred_en)\n",
    "\n",
    "print('Confusion matrix\\n\\n', cm)"
   ]
  },
  {
   "cell_type": "code",
   "execution_count": 106,
   "id": "7e3c86f9",
   "metadata": {},
   "outputs": [
    {
     "name": "stdout",
     "output_type": "stream",
     "text": [
      "              precision    recall  f1-score   support\n",
      "\n",
      "           0       0.53      0.40      0.46       103\n",
      "           1       0.00      0.00      0.00        15\n",
      "           2       0.81      0.97      0.88       294\n",
      "           3       0.00      0.00      0.00        20\n",
      "\n",
      "    accuracy                           0.76       432\n",
      "   macro avg       0.33      0.34      0.33       432\n",
      "weighted avg       0.68      0.76      0.71       432\n",
      "\n"
     ]
    }
   ],
   "source": [
    "from sklearn.metrics import classification_report\n",
    "\n",
    "print(classification_report(y_test, y_pred_en))"
   ]
  },
  {
   "cell_type": "code",
   "execution_count": 107,
   "id": "9136a6bb",
   "metadata": {},
   "outputs": [],
   "source": [
    "model_params = {\n",
    "    'svm': {\n",
    "        'model': svm.SVC(gamma='auto'),\n",
    "        'params' : {\n",
    "            'C': [1,10,20],\n",
    "            'kernel': ['rbf','linear']\n",
    "        }  \n",
    "    },\n",
    "    'random_forest': {\n",
    "        'model': RandomForestClassifier(),\n",
    "        'params' : {\n",
    "            'n_estimators': [1,5,10]\n",
    "        }\n",
    "    },\n",
    "    'logistic_regression' : {\n",
    "        'model': LogisticRegression(solver='liblinear',multi_class='auto'),\n",
    "        'params': {\n",
    "            'C': [1,5,10]\n",
    "        }\n",
    "    },\n",
    "    'knn' : {\n",
    "        'model' : KNeighborsClassifier(),\n",
    "        'params' : {\n",
    "             'algorithm' : ['ball_tree', 'kd_tree', 'brute'],\n",
    "             'leaf_size' : [18,20,25,27,30,32,34],\n",
    "             'n_neighbors' : [3,5,7,9,10,11,12,13]\n",
    "        }\n",
    "    },\n",
    "    'Decision_Tree' : {\n",
    "        'model' : DecisionTreeClassifier(),\n",
    "        'params' : {\n",
    "            'criterion': ['gini', 'entropy'],\n",
    "            'max_depth' : range(2,32,1),\n",
    "            'min_samples_leaf' : range(1,10,1),\n",
    "            'min_samples_split': range(2,10,1),\n",
    "            'splitter' : ['best', 'random']\n",
    "        }\n",
    "    }\n",
    "}"
   ]
  },
  {
   "cell_type": "code",
   "execution_count": 109,
   "id": "28771dbe",
   "metadata": {},
   "outputs": [
    {
     "data": {
      "text/html": [
       "<div>\n",
       "<style scoped>\n",
       "    .dataframe tbody tr th:only-of-type {\n",
       "        vertical-align: middle;\n",
       "    }\n",
       "\n",
       "    .dataframe tbody tr th {\n",
       "        vertical-align: top;\n",
       "    }\n",
       "\n",
       "    .dataframe thead th {\n",
       "        text-align: right;\n",
       "    }\n",
       "</style>\n",
       "<table border=\"1\" class=\"dataframe\">\n",
       "  <thead>\n",
       "    <tr style=\"text-align: right;\">\n",
       "      <th></th>\n",
       "      <th>model</th>\n",
       "      <th>best_score</th>\n",
       "      <th>best_params</th>\n",
       "    </tr>\n",
       "  </thead>\n",
       "  <tbody>\n",
       "    <tr>\n",
       "      <th>0</th>\n",
       "      <td>svm</td>\n",
       "      <td>0.983787</td>\n",
       "      <td>{'C': 20, 'kernel': 'rbf'}</td>\n",
       "    </tr>\n",
       "    <tr>\n",
       "      <th>1</th>\n",
       "      <td>random_forest</td>\n",
       "      <td>0.949831</td>\n",
       "      <td>{'n_estimators': 10}</td>\n",
       "    </tr>\n",
       "    <tr>\n",
       "      <th>2</th>\n",
       "      <td>logistic_regression</td>\n",
       "      <td>0.699064</td>\n",
       "      <td>{'C': 1}</td>\n",
       "    </tr>\n",
       "    <tr>\n",
       "      <th>3</th>\n",
       "      <td>knn</td>\n",
       "      <td>0.918960</td>\n",
       "      <td>{'algorithm': 'brute', 'leaf_size': 18, 'n_nei...</td>\n",
       "    </tr>\n",
       "    <tr>\n",
       "      <th>4</th>\n",
       "      <td>Decision_Tree</td>\n",
       "      <td>0.980710</td>\n",
       "      <td>{'criterion': 'entropy', 'max_depth': 19, 'min...</td>\n",
       "    </tr>\n",
       "  </tbody>\n",
       "</table>\n",
       "</div>"
      ],
      "text/plain": [
       "                 model  best_score  \\\n",
       "0                  svm    0.983787   \n",
       "1        random_forest    0.949831   \n",
       "2  logistic_regression    0.699064   \n",
       "3                  knn    0.918960   \n",
       "4        Decision_Tree    0.980710   \n",
       "\n",
       "                                         best_params  \n",
       "0                         {'C': 20, 'kernel': 'rbf'}  \n",
       "1                               {'n_estimators': 10}  \n",
       "2                                           {'C': 1}  \n",
       "3  {'algorithm': 'brute', 'leaf_size': 18, 'n_nei...  \n",
       "4  {'criterion': 'entropy', 'max_depth': 19, 'min...  "
      ]
     },
     "execution_count": 109,
     "metadata": {},
     "output_type": "execute_result"
    }
   ],
   "source": [
    "scores = []\n",
    "\n",
    "for model_name, mp in model_params.items():\n",
    "    clf =  GridSearchCV(mp['model'], mp['params'], cv=5, return_train_score=False)\n",
    "    clf.fit(x_train, y_train)\n",
    "    scores.append({\n",
    "        'model': model_name,\n",
    "        'best_score': clf.best_score_,\n",
    "        'best_params': clf.best_params_\n",
    "    })\n",
    "    \n",
    "df = pd.DataFrame(scores,columns=['model','best_score','best_params'])\n",
    "df"
   ]
  },
  {
   "cell_type": "code",
   "execution_count": 110,
   "id": "1ce7a80d",
   "metadata": {},
   "outputs": [
    {
     "data": {
      "text/html": [
       "<div>\n",
       "<style scoped>\n",
       "    .dataframe tbody tr th:only-of-type {\n",
       "        vertical-align: middle;\n",
       "    }\n",
       "\n",
       "    .dataframe tbody tr th {\n",
       "        vertical-align: top;\n",
       "    }\n",
       "\n",
       "    .dataframe thead th {\n",
       "        text-align: right;\n",
       "    }\n",
       "</style>\n",
       "<table border=\"1\" class=\"dataframe\">\n",
       "  <thead>\n",
       "    <tr style=\"text-align: right;\">\n",
       "      <th></th>\n",
       "      <th>model</th>\n",
       "      <th>best_score</th>\n",
       "      <th>best_params</th>\n",
       "    </tr>\n",
       "  </thead>\n",
       "  <tbody>\n",
       "    <tr>\n",
       "      <th>0</th>\n",
       "      <td>svm</td>\n",
       "      <td>0.932879</td>\n",
       "      <td>{'C': 20, 'kernel': 'rbf'}</td>\n",
       "    </tr>\n",
       "    <tr>\n",
       "      <th>1</th>\n",
       "      <td>random_forest</td>\n",
       "      <td>0.872895</td>\n",
       "      <td>{'n_estimators': 5}</td>\n",
       "    </tr>\n",
       "    <tr>\n",
       "      <th>2</th>\n",
       "      <td>logistic_regression</td>\n",
       "      <td>0.657338</td>\n",
       "      <td>{'C': 1}</td>\n",
       "    </tr>\n",
       "    <tr>\n",
       "      <th>3</th>\n",
       "      <td>knn</td>\n",
       "      <td>0.826250</td>\n",
       "      <td>{'algorithm': 'ball_tree', 'leaf_size': 25, 'n...</td>\n",
       "    </tr>\n",
       "    <tr>\n",
       "      <th>4</th>\n",
       "      <td>Decision_Tree</td>\n",
       "      <td>0.930553</td>\n",
       "      <td>{'criterion': 'entropy', 'max_depth': 23, 'min...</td>\n",
       "    </tr>\n",
       "  </tbody>\n",
       "</table>\n",
       "</div>"
      ],
      "text/plain": [
       "                 model  best_score  \\\n",
       "0                  svm    0.932879   \n",
       "1        random_forest    0.872895   \n",
       "2  logistic_regression    0.657338   \n",
       "3                  knn    0.826250   \n",
       "4        Decision_Tree    0.930553   \n",
       "\n",
       "                                         best_params  \n",
       "0                         {'C': 20, 'kernel': 'rbf'}  \n",
       "1                                {'n_estimators': 5}  \n",
       "2                                           {'C': 1}  \n",
       "3  {'algorithm': 'ball_tree', 'leaf_size': 25, 'n...  \n",
       "4  {'criterion': 'entropy', 'max_depth': 23, 'min...  "
      ]
     },
     "execution_count": 110,
     "metadata": {},
     "output_type": "execute_result"
    }
   ],
   "source": [
    "scores = []\n",
    "\n",
    "for model_name, mp in model_params.items():\n",
    "    clf =  GridSearchCV(mp['model'], mp['params'], cv=5, return_train_score=False)\n",
    "    clf.fit(x_test, y_test)\n",
    "    scores.append({\n",
    "        'model': model_name,\n",
    "        'best_score': clf.best_score_,\n",
    "        'best_params': clf.best_params_\n",
    "    })\n",
    "    \n",
    "df = pd.DataFrame(scores,columns=['model','best_score','best_params'])\n",
    "df"
   ]
  },
  {
   "cell_type": "code",
   "execution_count": 113,
   "id": "edea4608",
   "metadata": {},
   "outputs": [
    {
     "ename": "NameError",
     "evalue": "name 'best_score' is not defined",
     "output_type": "error",
     "traceback": [
      "\u001b[1;31m---------------------------------------------------------------------------\u001b[0m",
      "\u001b[1;31mNameError\u001b[0m                                 Traceback (most recent call last)",
      "Cell \u001b[1;32mIn [113], line 2\u001b[0m\n\u001b[0;32m      1\u001b[0m models \u001b[38;5;241m=\u001b[39m [\u001b[38;5;124m'\u001b[39m\u001b[38;5;124mSVM\u001b[39m\u001b[38;5;124m'\u001b[39m, \u001b[38;5;124m'\u001b[39m\u001b[38;5;124mrandom_forest\u001b[39m\u001b[38;5;124m'\u001b[39m, \u001b[38;5;124m'\u001b[39m\u001b[38;5;124mlogistic_regression\u001b[39m\u001b[38;5;124m'\u001b[39m, \u001b[38;5;124m'\u001b[39m\u001b[38;5;124mknn\u001b[39m\u001b[38;5;124m'\u001b[39m, \u001b[38;5;124m'\u001b[39m\u001b[38;5;124mDecision_Tree\u001b[39m\u001b[38;5;124m'\u001b[39m]\n\u001b[1;32m----> 2\u001b[0m model_accuracy \u001b[38;5;241m=\u001b[39m [\u001b[43mbest_score\u001b[49m]\n\u001b[0;32m      4\u001b[0m fig \u001b[38;5;241m=\u001b[39m plt\u001b[38;5;241m.\u001b[39mfigure(figsize\u001b[38;5;241m=\u001b[39m(\u001b[38;5;241m7\u001b[39m, \u001b[38;5;241m4\u001b[39m))\n\u001b[0;32m      5\u001b[0m plt\u001b[38;5;241m.\u001b[39mbar(models, model_accuracy, width\u001b[38;5;241m=\u001b[39m\u001b[38;5;241m0.4\u001b[39m)\n",
      "\u001b[1;31mNameError\u001b[0m: name 'best_score' is not defined"
     ]
    }
   ],
   "source": [
    "models = ['SVM', 'random_forest', 'logistic_regression', 'knn', 'Decision_Tree']\n",
    "model_accuracy = [best_score]\n",
    "\n",
    "fig = plt.figure(figsize=(7, 4))\n",
    "plt.bar(models, model_accuracy, width=0.4)\n",
    "plt.title('Most Accurate Model for Predictions')\n",
    "plt.xlabel('Models Implemented on the Dataset')\n",
    "plt.ylabel('Accuracy for the Implemented Model')\n",
    "plt.show()"
   ]
  },
  {
   "cell_type": "code",
   "execution_count": null,
   "id": "626e6ba9",
   "metadata": {},
   "outputs": [],
   "source": []
  }
 ],
 "metadata": {
  "kernelspec": {
   "display_name": "Python 3 (ipykernel)",
   "language": "python",
   "name": "python3"
  },
  "language_info": {
   "codemirror_mode": {
    "name": "ipython",
    "version": 3
   },
   "file_extension": ".py",
   "mimetype": "text/x-python",
   "name": "python",
   "nbconvert_exporter": "python",
   "pygments_lexer": "ipython3",
   "version": "3.9.12"
  }
 },
 "nbformat": 4,
 "nbformat_minor": 5
}
