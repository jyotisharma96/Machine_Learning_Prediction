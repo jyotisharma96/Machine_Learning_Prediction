{
 "cells": [
  {
   "cell_type": "code",
   "execution_count": 1,
   "id": "5803a935",
   "metadata": {},
   "outputs": [],
   "source": [
    "import numpy as np\n",
    "import pandas as pd\n",
    "import matplotlib.pyplot as plt\n",
    "import seaborn as sns\n",
    "%matplotlib inline"
   ]
  },
  {
   "cell_type": "code",
   "execution_count": 2,
   "id": "b6a4a222",
   "metadata": {},
   "outputs": [],
   "source": [
    "cancer = pd.read_csv('data.csv')"
   ]
  },
  {
   "cell_type": "code",
   "execution_count": 3,
   "id": "89e39a1c",
   "metadata": {},
   "outputs": [
    {
     "data": {
      "text/html": [
       "<div>\n",
       "<style scoped>\n",
       "    .dataframe tbody tr th:only-of-type {\n",
       "        vertical-align: middle;\n",
       "    }\n",
       "\n",
       "    .dataframe tbody tr th {\n",
       "        vertical-align: top;\n",
       "    }\n",
       "\n",
       "    .dataframe thead th {\n",
       "        text-align: right;\n",
       "    }\n",
       "</style>\n",
       "<table border=\"1\" class=\"dataframe\">\n",
       "  <thead>\n",
       "    <tr style=\"text-align: right;\">\n",
       "      <th></th>\n",
       "      <th>id</th>\n",
       "      <th>diagnosis</th>\n",
       "      <th>radius_mean</th>\n",
       "      <th>texture_mean</th>\n",
       "      <th>perimeter_mean</th>\n",
       "      <th>area_mean</th>\n",
       "      <th>smoothness_mean</th>\n",
       "      <th>compactness_mean</th>\n",
       "      <th>concavity_mean</th>\n",
       "      <th>concave points_mean</th>\n",
       "      <th>...</th>\n",
       "      <th>texture_worst</th>\n",
       "      <th>perimeter_worst</th>\n",
       "      <th>area_worst</th>\n",
       "      <th>smoothness_worst</th>\n",
       "      <th>compactness_worst</th>\n",
       "      <th>concavity_worst</th>\n",
       "      <th>concave points_worst</th>\n",
       "      <th>symmetry_worst</th>\n",
       "      <th>fractal_dimension_worst</th>\n",
       "      <th>Unnamed: 32</th>\n",
       "    </tr>\n",
       "  </thead>\n",
       "  <tbody>\n",
       "    <tr>\n",
       "      <th>0</th>\n",
       "      <td>842302</td>\n",
       "      <td>M</td>\n",
       "      <td>17.99</td>\n",
       "      <td>10.38</td>\n",
       "      <td>122.80</td>\n",
       "      <td>1001.0</td>\n",
       "      <td>0.11840</td>\n",
       "      <td>0.27760</td>\n",
       "      <td>0.3001</td>\n",
       "      <td>0.14710</td>\n",
       "      <td>...</td>\n",
       "      <td>17.33</td>\n",
       "      <td>184.60</td>\n",
       "      <td>2019.0</td>\n",
       "      <td>0.1622</td>\n",
       "      <td>0.6656</td>\n",
       "      <td>0.7119</td>\n",
       "      <td>0.2654</td>\n",
       "      <td>0.4601</td>\n",
       "      <td>0.11890</td>\n",
       "      <td>NaN</td>\n",
       "    </tr>\n",
       "    <tr>\n",
       "      <th>1</th>\n",
       "      <td>842517</td>\n",
       "      <td>M</td>\n",
       "      <td>20.57</td>\n",
       "      <td>17.77</td>\n",
       "      <td>132.90</td>\n",
       "      <td>1326.0</td>\n",
       "      <td>0.08474</td>\n",
       "      <td>0.07864</td>\n",
       "      <td>0.0869</td>\n",
       "      <td>0.07017</td>\n",
       "      <td>...</td>\n",
       "      <td>23.41</td>\n",
       "      <td>158.80</td>\n",
       "      <td>1956.0</td>\n",
       "      <td>0.1238</td>\n",
       "      <td>0.1866</td>\n",
       "      <td>0.2416</td>\n",
       "      <td>0.1860</td>\n",
       "      <td>0.2750</td>\n",
       "      <td>0.08902</td>\n",
       "      <td>NaN</td>\n",
       "    </tr>\n",
       "    <tr>\n",
       "      <th>2</th>\n",
       "      <td>84300903</td>\n",
       "      <td>M</td>\n",
       "      <td>19.69</td>\n",
       "      <td>21.25</td>\n",
       "      <td>130.00</td>\n",
       "      <td>1203.0</td>\n",
       "      <td>0.10960</td>\n",
       "      <td>0.15990</td>\n",
       "      <td>0.1974</td>\n",
       "      <td>0.12790</td>\n",
       "      <td>...</td>\n",
       "      <td>25.53</td>\n",
       "      <td>152.50</td>\n",
       "      <td>1709.0</td>\n",
       "      <td>0.1444</td>\n",
       "      <td>0.4245</td>\n",
       "      <td>0.4504</td>\n",
       "      <td>0.2430</td>\n",
       "      <td>0.3613</td>\n",
       "      <td>0.08758</td>\n",
       "      <td>NaN</td>\n",
       "    </tr>\n",
       "    <tr>\n",
       "      <th>3</th>\n",
       "      <td>84348301</td>\n",
       "      <td>M</td>\n",
       "      <td>11.42</td>\n",
       "      <td>20.38</td>\n",
       "      <td>77.58</td>\n",
       "      <td>386.1</td>\n",
       "      <td>0.14250</td>\n",
       "      <td>0.28390</td>\n",
       "      <td>0.2414</td>\n",
       "      <td>0.10520</td>\n",
       "      <td>...</td>\n",
       "      <td>26.50</td>\n",
       "      <td>98.87</td>\n",
       "      <td>567.7</td>\n",
       "      <td>0.2098</td>\n",
       "      <td>0.8663</td>\n",
       "      <td>0.6869</td>\n",
       "      <td>0.2575</td>\n",
       "      <td>0.6638</td>\n",
       "      <td>0.17300</td>\n",
       "      <td>NaN</td>\n",
       "    </tr>\n",
       "    <tr>\n",
       "      <th>4</th>\n",
       "      <td>84358402</td>\n",
       "      <td>M</td>\n",
       "      <td>20.29</td>\n",
       "      <td>14.34</td>\n",
       "      <td>135.10</td>\n",
       "      <td>1297.0</td>\n",
       "      <td>0.10030</td>\n",
       "      <td>0.13280</td>\n",
       "      <td>0.1980</td>\n",
       "      <td>0.10430</td>\n",
       "      <td>...</td>\n",
       "      <td>16.67</td>\n",
       "      <td>152.20</td>\n",
       "      <td>1575.0</td>\n",
       "      <td>0.1374</td>\n",
       "      <td>0.2050</td>\n",
       "      <td>0.4000</td>\n",
       "      <td>0.1625</td>\n",
       "      <td>0.2364</td>\n",
       "      <td>0.07678</td>\n",
       "      <td>NaN</td>\n",
       "    </tr>\n",
       "  </tbody>\n",
       "</table>\n",
       "<p>5 rows × 33 columns</p>\n",
       "</div>"
      ],
      "text/plain": [
       "         id diagnosis  radius_mean  texture_mean  perimeter_mean  area_mean  \\\n",
       "0    842302         M        17.99         10.38          122.80     1001.0   \n",
       "1    842517         M        20.57         17.77          132.90     1326.0   \n",
       "2  84300903         M        19.69         21.25          130.00     1203.0   \n",
       "3  84348301         M        11.42         20.38           77.58      386.1   \n",
       "4  84358402         M        20.29         14.34          135.10     1297.0   \n",
       "\n",
       "   smoothness_mean  compactness_mean  concavity_mean  concave points_mean  \\\n",
       "0          0.11840           0.27760          0.3001              0.14710   \n",
       "1          0.08474           0.07864          0.0869              0.07017   \n",
       "2          0.10960           0.15990          0.1974              0.12790   \n",
       "3          0.14250           0.28390          0.2414              0.10520   \n",
       "4          0.10030           0.13280          0.1980              0.10430   \n",
       "\n",
       "   ...  texture_worst  perimeter_worst  area_worst  smoothness_worst  \\\n",
       "0  ...          17.33           184.60      2019.0            0.1622   \n",
       "1  ...          23.41           158.80      1956.0            0.1238   \n",
       "2  ...          25.53           152.50      1709.0            0.1444   \n",
       "3  ...          26.50            98.87       567.7            0.2098   \n",
       "4  ...          16.67           152.20      1575.0            0.1374   \n",
       "\n",
       "   compactness_worst  concavity_worst  concave points_worst  symmetry_worst  \\\n",
       "0             0.6656           0.7119                0.2654          0.4601   \n",
       "1             0.1866           0.2416                0.1860          0.2750   \n",
       "2             0.4245           0.4504                0.2430          0.3613   \n",
       "3             0.8663           0.6869                0.2575          0.6638   \n",
       "4             0.2050           0.4000                0.1625          0.2364   \n",
       "\n",
       "   fractal_dimension_worst  Unnamed: 32  \n",
       "0                  0.11890          NaN  \n",
       "1                  0.08902          NaN  \n",
       "2                  0.08758          NaN  \n",
       "3                  0.17300          NaN  \n",
       "4                  0.07678          NaN  \n",
       "\n",
       "[5 rows x 33 columns]"
      ]
     },
     "execution_count": 3,
     "metadata": {},
     "output_type": "execute_result"
    }
   ],
   "source": [
    "cancer.head()"
   ]
  },
  {
   "cell_type": "code",
   "execution_count": 4,
   "id": "ab91e6ce",
   "metadata": {},
   "outputs": [
    {
     "data": {
      "text/plain": [
       "(569, 33)"
      ]
     },
     "execution_count": 4,
     "metadata": {},
     "output_type": "execute_result"
    }
   ],
   "source": [
    "cancer.shape"
   ]
  },
  {
   "cell_type": "code",
   "execution_count": 5,
   "id": "95172a96",
   "metadata": {},
   "outputs": [],
   "source": [
    "cancer = cancer.drop(['id','Unnamed: 32'],axis=1)"
   ]
  },
  {
   "cell_type": "code",
   "execution_count": 6,
   "id": "0b0d1a64",
   "metadata": {},
   "outputs": [
    {
     "data": {
      "text/html": [
       "<div>\n",
       "<style scoped>\n",
       "    .dataframe tbody tr th:only-of-type {\n",
       "        vertical-align: middle;\n",
       "    }\n",
       "\n",
       "    .dataframe tbody tr th {\n",
       "        vertical-align: top;\n",
       "    }\n",
       "\n",
       "    .dataframe thead th {\n",
       "        text-align: right;\n",
       "    }\n",
       "</style>\n",
       "<table border=\"1\" class=\"dataframe\">\n",
       "  <thead>\n",
       "    <tr style=\"text-align: right;\">\n",
       "      <th></th>\n",
       "      <th>diagnosis</th>\n",
       "      <th>radius_mean</th>\n",
       "      <th>texture_mean</th>\n",
       "      <th>perimeter_mean</th>\n",
       "      <th>area_mean</th>\n",
       "      <th>smoothness_mean</th>\n",
       "      <th>compactness_mean</th>\n",
       "      <th>concavity_mean</th>\n",
       "      <th>concave points_mean</th>\n",
       "      <th>symmetry_mean</th>\n",
       "      <th>...</th>\n",
       "      <th>radius_worst</th>\n",
       "      <th>texture_worst</th>\n",
       "      <th>perimeter_worst</th>\n",
       "      <th>area_worst</th>\n",
       "      <th>smoothness_worst</th>\n",
       "      <th>compactness_worst</th>\n",
       "      <th>concavity_worst</th>\n",
       "      <th>concave points_worst</th>\n",
       "      <th>symmetry_worst</th>\n",
       "      <th>fractal_dimension_worst</th>\n",
       "    </tr>\n",
       "  </thead>\n",
       "  <tbody>\n",
       "    <tr>\n",
       "      <th>0</th>\n",
       "      <td>M</td>\n",
       "      <td>17.99</td>\n",
       "      <td>10.38</td>\n",
       "      <td>122.80</td>\n",
       "      <td>1001.0</td>\n",
       "      <td>0.11840</td>\n",
       "      <td>0.27760</td>\n",
       "      <td>0.3001</td>\n",
       "      <td>0.14710</td>\n",
       "      <td>0.2419</td>\n",
       "      <td>...</td>\n",
       "      <td>25.38</td>\n",
       "      <td>17.33</td>\n",
       "      <td>184.60</td>\n",
       "      <td>2019.0</td>\n",
       "      <td>0.1622</td>\n",
       "      <td>0.6656</td>\n",
       "      <td>0.7119</td>\n",
       "      <td>0.2654</td>\n",
       "      <td>0.4601</td>\n",
       "      <td>0.11890</td>\n",
       "    </tr>\n",
       "    <tr>\n",
       "      <th>1</th>\n",
       "      <td>M</td>\n",
       "      <td>20.57</td>\n",
       "      <td>17.77</td>\n",
       "      <td>132.90</td>\n",
       "      <td>1326.0</td>\n",
       "      <td>0.08474</td>\n",
       "      <td>0.07864</td>\n",
       "      <td>0.0869</td>\n",
       "      <td>0.07017</td>\n",
       "      <td>0.1812</td>\n",
       "      <td>...</td>\n",
       "      <td>24.99</td>\n",
       "      <td>23.41</td>\n",
       "      <td>158.80</td>\n",
       "      <td>1956.0</td>\n",
       "      <td>0.1238</td>\n",
       "      <td>0.1866</td>\n",
       "      <td>0.2416</td>\n",
       "      <td>0.1860</td>\n",
       "      <td>0.2750</td>\n",
       "      <td>0.08902</td>\n",
       "    </tr>\n",
       "    <tr>\n",
       "      <th>2</th>\n",
       "      <td>M</td>\n",
       "      <td>19.69</td>\n",
       "      <td>21.25</td>\n",
       "      <td>130.00</td>\n",
       "      <td>1203.0</td>\n",
       "      <td>0.10960</td>\n",
       "      <td>0.15990</td>\n",
       "      <td>0.1974</td>\n",
       "      <td>0.12790</td>\n",
       "      <td>0.2069</td>\n",
       "      <td>...</td>\n",
       "      <td>23.57</td>\n",
       "      <td>25.53</td>\n",
       "      <td>152.50</td>\n",
       "      <td>1709.0</td>\n",
       "      <td>0.1444</td>\n",
       "      <td>0.4245</td>\n",
       "      <td>0.4504</td>\n",
       "      <td>0.2430</td>\n",
       "      <td>0.3613</td>\n",
       "      <td>0.08758</td>\n",
       "    </tr>\n",
       "    <tr>\n",
       "      <th>3</th>\n",
       "      <td>M</td>\n",
       "      <td>11.42</td>\n",
       "      <td>20.38</td>\n",
       "      <td>77.58</td>\n",
       "      <td>386.1</td>\n",
       "      <td>0.14250</td>\n",
       "      <td>0.28390</td>\n",
       "      <td>0.2414</td>\n",
       "      <td>0.10520</td>\n",
       "      <td>0.2597</td>\n",
       "      <td>...</td>\n",
       "      <td>14.91</td>\n",
       "      <td>26.50</td>\n",
       "      <td>98.87</td>\n",
       "      <td>567.7</td>\n",
       "      <td>0.2098</td>\n",
       "      <td>0.8663</td>\n",
       "      <td>0.6869</td>\n",
       "      <td>0.2575</td>\n",
       "      <td>0.6638</td>\n",
       "      <td>0.17300</td>\n",
       "    </tr>\n",
       "    <tr>\n",
       "      <th>4</th>\n",
       "      <td>M</td>\n",
       "      <td>20.29</td>\n",
       "      <td>14.34</td>\n",
       "      <td>135.10</td>\n",
       "      <td>1297.0</td>\n",
       "      <td>0.10030</td>\n",
       "      <td>0.13280</td>\n",
       "      <td>0.1980</td>\n",
       "      <td>0.10430</td>\n",
       "      <td>0.1809</td>\n",
       "      <td>...</td>\n",
       "      <td>22.54</td>\n",
       "      <td>16.67</td>\n",
       "      <td>152.20</td>\n",
       "      <td>1575.0</td>\n",
       "      <td>0.1374</td>\n",
       "      <td>0.2050</td>\n",
       "      <td>0.4000</td>\n",
       "      <td>0.1625</td>\n",
       "      <td>0.2364</td>\n",
       "      <td>0.07678</td>\n",
       "    </tr>\n",
       "  </tbody>\n",
       "</table>\n",
       "<p>5 rows × 31 columns</p>\n",
       "</div>"
      ],
      "text/plain": [
       "  diagnosis  radius_mean  texture_mean  perimeter_mean  area_mean  \\\n",
       "0         M        17.99         10.38          122.80     1001.0   \n",
       "1         M        20.57         17.77          132.90     1326.0   \n",
       "2         M        19.69         21.25          130.00     1203.0   \n",
       "3         M        11.42         20.38           77.58      386.1   \n",
       "4         M        20.29         14.34          135.10     1297.0   \n",
       "\n",
       "   smoothness_mean  compactness_mean  concavity_mean  concave points_mean  \\\n",
       "0          0.11840           0.27760          0.3001              0.14710   \n",
       "1          0.08474           0.07864          0.0869              0.07017   \n",
       "2          0.10960           0.15990          0.1974              0.12790   \n",
       "3          0.14250           0.28390          0.2414              0.10520   \n",
       "4          0.10030           0.13280          0.1980              0.10430   \n",
       "\n",
       "   symmetry_mean  ...  radius_worst  texture_worst  perimeter_worst  \\\n",
       "0         0.2419  ...         25.38          17.33           184.60   \n",
       "1         0.1812  ...         24.99          23.41           158.80   \n",
       "2         0.2069  ...         23.57          25.53           152.50   \n",
       "3         0.2597  ...         14.91          26.50            98.87   \n",
       "4         0.1809  ...         22.54          16.67           152.20   \n",
       "\n",
       "   area_worst  smoothness_worst  compactness_worst  concavity_worst  \\\n",
       "0      2019.0            0.1622             0.6656           0.7119   \n",
       "1      1956.0            0.1238             0.1866           0.2416   \n",
       "2      1709.0            0.1444             0.4245           0.4504   \n",
       "3       567.7            0.2098             0.8663           0.6869   \n",
       "4      1575.0            0.1374             0.2050           0.4000   \n",
       "\n",
       "   concave points_worst  symmetry_worst  fractal_dimension_worst  \n",
       "0                0.2654          0.4601                  0.11890  \n",
       "1                0.1860          0.2750                  0.08902  \n",
       "2                0.2430          0.3613                  0.08758  \n",
       "3                0.2575          0.6638                  0.17300  \n",
       "4                0.1625          0.2364                  0.07678  \n",
       "\n",
       "[5 rows x 31 columns]"
      ]
     },
     "execution_count": 6,
     "metadata": {},
     "output_type": "execute_result"
    }
   ],
   "source": [
    "cancer.head()"
   ]
  },
  {
   "cell_type": "code",
   "execution_count": 7,
   "id": "940eb664",
   "metadata": {},
   "outputs": [
    {
     "data": {
      "text/plain": [
       "(569, 31)"
      ]
     },
     "execution_count": 7,
     "metadata": {},
     "output_type": "execute_result"
    }
   ],
   "source": [
    "cancer.shape"
   ]
  },
  {
   "cell_type": "code",
   "execution_count": 8,
   "id": "dd966bdc",
   "metadata": {},
   "outputs": [
    {
     "name": "stdout",
     "output_type": "stream",
     "text": [
      "<class 'pandas.core.frame.DataFrame'>\n",
      "RangeIndex: 569 entries, 0 to 568\n",
      "Data columns (total 31 columns):\n",
      " #   Column                   Non-Null Count  Dtype  \n",
      "---  ------                   --------------  -----  \n",
      " 0   diagnosis                569 non-null    object \n",
      " 1   radius_mean              569 non-null    float64\n",
      " 2   texture_mean             569 non-null    float64\n",
      " 3   perimeter_mean           569 non-null    float64\n",
      " 4   area_mean                569 non-null    float64\n",
      " 5   smoothness_mean          569 non-null    float64\n",
      " 6   compactness_mean         569 non-null    float64\n",
      " 7   concavity_mean           569 non-null    float64\n",
      " 8   concave points_mean      569 non-null    float64\n",
      " 9   symmetry_mean            569 non-null    float64\n",
      " 10  fractal_dimension_mean   569 non-null    float64\n",
      " 11  radius_se                569 non-null    float64\n",
      " 12  texture_se               569 non-null    float64\n",
      " 13  perimeter_se             569 non-null    float64\n",
      " 14  area_se                  569 non-null    float64\n",
      " 15  smoothness_se            569 non-null    float64\n",
      " 16  compactness_se           569 non-null    float64\n",
      " 17  concavity_se             569 non-null    float64\n",
      " 18  concave points_se        569 non-null    float64\n",
      " 19  symmetry_se              569 non-null    float64\n",
      " 20  fractal_dimension_se     569 non-null    float64\n",
      " 21  radius_worst             569 non-null    float64\n",
      " 22  texture_worst            569 non-null    float64\n",
      " 23  perimeter_worst          569 non-null    float64\n",
      " 24  area_worst               569 non-null    float64\n",
      " 25  smoothness_worst         569 non-null    float64\n",
      " 26  compactness_worst        569 non-null    float64\n",
      " 27  concavity_worst          569 non-null    float64\n",
      " 28  concave points_worst     569 non-null    float64\n",
      " 29  symmetry_worst           569 non-null    float64\n",
      " 30  fractal_dimension_worst  569 non-null    float64\n",
      "dtypes: float64(30), object(1)\n",
      "memory usage: 137.9+ KB\n"
     ]
    }
   ],
   "source": [
    "cancer.info()"
   ]
  },
  {
   "cell_type": "code",
   "execution_count": 9,
   "id": "9cce7281",
   "metadata": {},
   "outputs": [
    {
     "data": {
      "text/plain": [
       "diagnosis                  0\n",
       "radius_mean                0\n",
       "texture_mean               0\n",
       "perimeter_mean             0\n",
       "area_mean                  0\n",
       "smoothness_mean            0\n",
       "compactness_mean           0\n",
       "concavity_mean             0\n",
       "concave points_mean        0\n",
       "symmetry_mean              0\n",
       "fractal_dimension_mean     0\n",
       "radius_se                  0\n",
       "texture_se                 0\n",
       "perimeter_se               0\n",
       "area_se                    0\n",
       "smoothness_se              0\n",
       "compactness_se             0\n",
       "concavity_se               0\n",
       "concave points_se          0\n",
       "symmetry_se                0\n",
       "fractal_dimension_se       0\n",
       "radius_worst               0\n",
       "texture_worst              0\n",
       "perimeter_worst            0\n",
       "area_worst                 0\n",
       "smoothness_worst           0\n",
       "compactness_worst          0\n",
       "concavity_worst            0\n",
       "concave points_worst       0\n",
       "symmetry_worst             0\n",
       "fractal_dimension_worst    0\n",
       "dtype: int64"
      ]
     },
     "execution_count": 9,
     "metadata": {},
     "output_type": "execute_result"
    }
   ],
   "source": [
    "cancer.isnull().sum()"
   ]
  },
  {
   "cell_type": "code",
   "execution_count": 10,
   "id": "268720de",
   "metadata": {},
   "outputs": [
    {
     "data": {
      "text/plain": [
       "0"
      ]
     },
     "execution_count": 10,
     "metadata": {},
     "output_type": "execute_result"
    }
   ],
   "source": [
    "cancer.duplicated().sum()"
   ]
  },
  {
   "cell_type": "code",
   "execution_count": 11,
   "id": "f4d3fb8f",
   "metadata": {},
   "outputs": [
    {
     "data": {
      "text/html": [
       "<div>\n",
       "<style scoped>\n",
       "    .dataframe tbody tr th:only-of-type {\n",
       "        vertical-align: middle;\n",
       "    }\n",
       "\n",
       "    .dataframe tbody tr th {\n",
       "        vertical-align: top;\n",
       "    }\n",
       "\n",
       "    .dataframe thead th {\n",
       "        text-align: right;\n",
       "    }\n",
       "</style>\n",
       "<table border=\"1\" class=\"dataframe\">\n",
       "  <thead>\n",
       "    <tr style=\"text-align: right;\">\n",
       "      <th></th>\n",
       "      <th>radius_mean</th>\n",
       "      <th>texture_mean</th>\n",
       "      <th>perimeter_mean</th>\n",
       "      <th>area_mean</th>\n",
       "      <th>smoothness_mean</th>\n",
       "      <th>compactness_mean</th>\n",
       "      <th>concavity_mean</th>\n",
       "      <th>concave points_mean</th>\n",
       "      <th>symmetry_mean</th>\n",
       "      <th>fractal_dimension_mean</th>\n",
       "      <th>...</th>\n",
       "      <th>radius_worst</th>\n",
       "      <th>texture_worst</th>\n",
       "      <th>perimeter_worst</th>\n",
       "      <th>area_worst</th>\n",
       "      <th>smoothness_worst</th>\n",
       "      <th>compactness_worst</th>\n",
       "      <th>concavity_worst</th>\n",
       "      <th>concave points_worst</th>\n",
       "      <th>symmetry_worst</th>\n",
       "      <th>fractal_dimension_worst</th>\n",
       "    </tr>\n",
       "  </thead>\n",
       "  <tbody>\n",
       "    <tr>\n",
       "      <th>count</th>\n",
       "      <td>569.000000</td>\n",
       "      <td>569.000000</td>\n",
       "      <td>569.000000</td>\n",
       "      <td>569.000000</td>\n",
       "      <td>569.000000</td>\n",
       "      <td>569.000000</td>\n",
       "      <td>569.000000</td>\n",
       "      <td>569.000000</td>\n",
       "      <td>569.000000</td>\n",
       "      <td>569.000000</td>\n",
       "      <td>...</td>\n",
       "      <td>569.000000</td>\n",
       "      <td>569.000000</td>\n",
       "      <td>569.000000</td>\n",
       "      <td>569.000000</td>\n",
       "      <td>569.000000</td>\n",
       "      <td>569.000000</td>\n",
       "      <td>569.000000</td>\n",
       "      <td>569.000000</td>\n",
       "      <td>569.000000</td>\n",
       "      <td>569.000000</td>\n",
       "    </tr>\n",
       "    <tr>\n",
       "      <th>mean</th>\n",
       "      <td>14.127292</td>\n",
       "      <td>19.289649</td>\n",
       "      <td>91.969033</td>\n",
       "      <td>654.889104</td>\n",
       "      <td>0.096360</td>\n",
       "      <td>0.104341</td>\n",
       "      <td>0.088799</td>\n",
       "      <td>0.048919</td>\n",
       "      <td>0.181162</td>\n",
       "      <td>0.062798</td>\n",
       "      <td>...</td>\n",
       "      <td>16.269190</td>\n",
       "      <td>25.677223</td>\n",
       "      <td>107.261213</td>\n",
       "      <td>880.583128</td>\n",
       "      <td>0.132369</td>\n",
       "      <td>0.254265</td>\n",
       "      <td>0.272188</td>\n",
       "      <td>0.114606</td>\n",
       "      <td>0.290076</td>\n",
       "      <td>0.083946</td>\n",
       "    </tr>\n",
       "    <tr>\n",
       "      <th>std</th>\n",
       "      <td>3.524049</td>\n",
       "      <td>4.301036</td>\n",
       "      <td>24.298981</td>\n",
       "      <td>351.914129</td>\n",
       "      <td>0.014064</td>\n",
       "      <td>0.052813</td>\n",
       "      <td>0.079720</td>\n",
       "      <td>0.038803</td>\n",
       "      <td>0.027414</td>\n",
       "      <td>0.007060</td>\n",
       "      <td>...</td>\n",
       "      <td>4.833242</td>\n",
       "      <td>6.146258</td>\n",
       "      <td>33.602542</td>\n",
       "      <td>569.356993</td>\n",
       "      <td>0.022832</td>\n",
       "      <td>0.157336</td>\n",
       "      <td>0.208624</td>\n",
       "      <td>0.065732</td>\n",
       "      <td>0.061867</td>\n",
       "      <td>0.018061</td>\n",
       "    </tr>\n",
       "    <tr>\n",
       "      <th>min</th>\n",
       "      <td>6.981000</td>\n",
       "      <td>9.710000</td>\n",
       "      <td>43.790000</td>\n",
       "      <td>143.500000</td>\n",
       "      <td>0.052630</td>\n",
       "      <td>0.019380</td>\n",
       "      <td>0.000000</td>\n",
       "      <td>0.000000</td>\n",
       "      <td>0.106000</td>\n",
       "      <td>0.049960</td>\n",
       "      <td>...</td>\n",
       "      <td>7.930000</td>\n",
       "      <td>12.020000</td>\n",
       "      <td>50.410000</td>\n",
       "      <td>185.200000</td>\n",
       "      <td>0.071170</td>\n",
       "      <td>0.027290</td>\n",
       "      <td>0.000000</td>\n",
       "      <td>0.000000</td>\n",
       "      <td>0.156500</td>\n",
       "      <td>0.055040</td>\n",
       "    </tr>\n",
       "    <tr>\n",
       "      <th>25%</th>\n",
       "      <td>11.700000</td>\n",
       "      <td>16.170000</td>\n",
       "      <td>75.170000</td>\n",
       "      <td>420.300000</td>\n",
       "      <td>0.086370</td>\n",
       "      <td>0.064920</td>\n",
       "      <td>0.029560</td>\n",
       "      <td>0.020310</td>\n",
       "      <td>0.161900</td>\n",
       "      <td>0.057700</td>\n",
       "      <td>...</td>\n",
       "      <td>13.010000</td>\n",
       "      <td>21.080000</td>\n",
       "      <td>84.110000</td>\n",
       "      <td>515.300000</td>\n",
       "      <td>0.116600</td>\n",
       "      <td>0.147200</td>\n",
       "      <td>0.114500</td>\n",
       "      <td>0.064930</td>\n",
       "      <td>0.250400</td>\n",
       "      <td>0.071460</td>\n",
       "    </tr>\n",
       "    <tr>\n",
       "      <th>50%</th>\n",
       "      <td>13.370000</td>\n",
       "      <td>18.840000</td>\n",
       "      <td>86.240000</td>\n",
       "      <td>551.100000</td>\n",
       "      <td>0.095870</td>\n",
       "      <td>0.092630</td>\n",
       "      <td>0.061540</td>\n",
       "      <td>0.033500</td>\n",
       "      <td>0.179200</td>\n",
       "      <td>0.061540</td>\n",
       "      <td>...</td>\n",
       "      <td>14.970000</td>\n",
       "      <td>25.410000</td>\n",
       "      <td>97.660000</td>\n",
       "      <td>686.500000</td>\n",
       "      <td>0.131300</td>\n",
       "      <td>0.211900</td>\n",
       "      <td>0.226700</td>\n",
       "      <td>0.099930</td>\n",
       "      <td>0.282200</td>\n",
       "      <td>0.080040</td>\n",
       "    </tr>\n",
       "    <tr>\n",
       "      <th>75%</th>\n",
       "      <td>15.780000</td>\n",
       "      <td>21.800000</td>\n",
       "      <td>104.100000</td>\n",
       "      <td>782.700000</td>\n",
       "      <td>0.105300</td>\n",
       "      <td>0.130400</td>\n",
       "      <td>0.130700</td>\n",
       "      <td>0.074000</td>\n",
       "      <td>0.195700</td>\n",
       "      <td>0.066120</td>\n",
       "      <td>...</td>\n",
       "      <td>18.790000</td>\n",
       "      <td>29.720000</td>\n",
       "      <td>125.400000</td>\n",
       "      <td>1084.000000</td>\n",
       "      <td>0.146000</td>\n",
       "      <td>0.339100</td>\n",
       "      <td>0.382900</td>\n",
       "      <td>0.161400</td>\n",
       "      <td>0.317900</td>\n",
       "      <td>0.092080</td>\n",
       "    </tr>\n",
       "    <tr>\n",
       "      <th>max</th>\n",
       "      <td>28.110000</td>\n",
       "      <td>39.280000</td>\n",
       "      <td>188.500000</td>\n",
       "      <td>2501.000000</td>\n",
       "      <td>0.163400</td>\n",
       "      <td>0.345400</td>\n",
       "      <td>0.426800</td>\n",
       "      <td>0.201200</td>\n",
       "      <td>0.304000</td>\n",
       "      <td>0.097440</td>\n",
       "      <td>...</td>\n",
       "      <td>36.040000</td>\n",
       "      <td>49.540000</td>\n",
       "      <td>251.200000</td>\n",
       "      <td>4254.000000</td>\n",
       "      <td>0.222600</td>\n",
       "      <td>1.058000</td>\n",
       "      <td>1.252000</td>\n",
       "      <td>0.291000</td>\n",
       "      <td>0.663800</td>\n",
       "      <td>0.207500</td>\n",
       "    </tr>\n",
       "  </tbody>\n",
       "</table>\n",
       "<p>8 rows × 30 columns</p>\n",
       "</div>"
      ],
      "text/plain": [
       "       radius_mean  texture_mean  perimeter_mean    area_mean  \\\n",
       "count   569.000000    569.000000      569.000000   569.000000   \n",
       "mean     14.127292     19.289649       91.969033   654.889104   \n",
       "std       3.524049      4.301036       24.298981   351.914129   \n",
       "min       6.981000      9.710000       43.790000   143.500000   \n",
       "25%      11.700000     16.170000       75.170000   420.300000   \n",
       "50%      13.370000     18.840000       86.240000   551.100000   \n",
       "75%      15.780000     21.800000      104.100000   782.700000   \n",
       "max      28.110000     39.280000      188.500000  2501.000000   \n",
       "\n",
       "       smoothness_mean  compactness_mean  concavity_mean  concave points_mean  \\\n",
       "count       569.000000        569.000000      569.000000           569.000000   \n",
       "mean          0.096360          0.104341        0.088799             0.048919   \n",
       "std           0.014064          0.052813        0.079720             0.038803   \n",
       "min           0.052630          0.019380        0.000000             0.000000   \n",
       "25%           0.086370          0.064920        0.029560             0.020310   \n",
       "50%           0.095870          0.092630        0.061540             0.033500   \n",
       "75%           0.105300          0.130400        0.130700             0.074000   \n",
       "max           0.163400          0.345400        0.426800             0.201200   \n",
       "\n",
       "       symmetry_mean  fractal_dimension_mean  ...  radius_worst  \\\n",
       "count     569.000000              569.000000  ...    569.000000   \n",
       "mean        0.181162                0.062798  ...     16.269190   \n",
       "std         0.027414                0.007060  ...      4.833242   \n",
       "min         0.106000                0.049960  ...      7.930000   \n",
       "25%         0.161900                0.057700  ...     13.010000   \n",
       "50%         0.179200                0.061540  ...     14.970000   \n",
       "75%         0.195700                0.066120  ...     18.790000   \n",
       "max         0.304000                0.097440  ...     36.040000   \n",
       "\n",
       "       texture_worst  perimeter_worst   area_worst  smoothness_worst  \\\n",
       "count     569.000000       569.000000   569.000000        569.000000   \n",
       "mean       25.677223       107.261213   880.583128          0.132369   \n",
       "std         6.146258        33.602542   569.356993          0.022832   \n",
       "min        12.020000        50.410000   185.200000          0.071170   \n",
       "25%        21.080000        84.110000   515.300000          0.116600   \n",
       "50%        25.410000        97.660000   686.500000          0.131300   \n",
       "75%        29.720000       125.400000  1084.000000          0.146000   \n",
       "max        49.540000       251.200000  4254.000000          0.222600   \n",
       "\n",
       "       compactness_worst  concavity_worst  concave points_worst  \\\n",
       "count         569.000000       569.000000            569.000000   \n",
       "mean            0.254265         0.272188              0.114606   \n",
       "std             0.157336         0.208624              0.065732   \n",
       "min             0.027290         0.000000              0.000000   \n",
       "25%             0.147200         0.114500              0.064930   \n",
       "50%             0.211900         0.226700              0.099930   \n",
       "75%             0.339100         0.382900              0.161400   \n",
       "max             1.058000         1.252000              0.291000   \n",
       "\n",
       "       symmetry_worst  fractal_dimension_worst  \n",
       "count      569.000000               569.000000  \n",
       "mean         0.290076                 0.083946  \n",
       "std          0.061867                 0.018061  \n",
       "min          0.156500                 0.055040  \n",
       "25%          0.250400                 0.071460  \n",
       "50%          0.282200                 0.080040  \n",
       "75%          0.317900                 0.092080  \n",
       "max          0.663800                 0.207500  \n",
       "\n",
       "[8 rows x 30 columns]"
      ]
     },
     "execution_count": 11,
     "metadata": {},
     "output_type": "execute_result"
    }
   ],
   "source": [
    "cancer.describe()"
   ]
  },
  {
   "cell_type": "code",
   "execution_count": 12,
   "id": "79016418",
   "metadata": {},
   "outputs": [],
   "source": [
    "#warnings\n",
    "import warnings\n",
    "warnings.simplefilter(action='ignore')"
   ]
  },
  {
   "cell_type": "code",
   "execution_count": 13,
   "id": "190538c4",
   "metadata": {},
   "outputs": [
    {
     "data": {
      "text/plain": [
       "B    357\n",
       "M    212\n",
       "Name: diagnosis, dtype: int64"
      ]
     },
     "execution_count": 13,
     "metadata": {},
     "output_type": "execute_result"
    }
   ],
   "source": [
    "cancer['diagnosis'].value_counts()"
   ]
  },
  {
   "cell_type": "code",
   "execution_count": 14,
   "id": "d01d14d0",
   "metadata": {},
   "outputs": [
    {
     "data": {
      "text/plain": [
       "<AxesSubplot:xlabel='diagnosis', ylabel='count'>"
      ]
     },
     "execution_count": 14,
     "metadata": {},
     "output_type": "execute_result"
    },
    {
     "data": {
      "image/png": "[encoded data removed]",
      "text/plain": [
       "<Figure size 432x288 with 1 Axes>"
      ]
     },
     "metadata": {
      "needs_background": "light"
     },
     "output_type": "display_data"
    }
   ],
   "source": [
    "sns.countplot(cancer['diagnosis'])"
   ]
  },
  {
   "cell_type": "code",
   "execution_count": 17,
   "id": "78c38758",
   "metadata": {},
   "outputs": [
    {
     "data": {
      "text/html": [
       "<div>\n",
       "<style scoped>\n",
       "    .dataframe tbody tr th:only-of-type {\n",
       "        vertical-align: middle;\n",
       "    }\n",
       "\n",
       "    .dataframe tbody tr th {\n",
       "        vertical-align: top;\n",
       "    }\n",
       "\n",
       "    .dataframe thead th {\n",
       "        text-align: right;\n",
       "    }\n",
       "</style>\n",
       "<table border=\"1\" class=\"dataframe\">\n",
       "  <thead>\n",
       "    <tr style=\"text-align: right;\">\n",
       "      <th></th>\n",
       "      <th>diagnosis</th>\n",
       "      <th>radius_mean</th>\n",
       "      <th>texture_mean</th>\n",
       "      <th>perimeter_mean</th>\n",
       "      <th>area_mean</th>\n",
       "      <th>smoothness_mean</th>\n",
       "      <th>compactness_mean</th>\n",
       "      <th>concavity_mean</th>\n",
       "      <th>concave points_mean</th>\n",
       "      <th>symmetry_mean</th>\n",
       "      <th>...</th>\n",
       "      <th>radius_worst</th>\n",
       "      <th>texture_worst</th>\n",
       "      <th>perimeter_worst</th>\n",
       "      <th>area_worst</th>\n",
       "      <th>smoothness_worst</th>\n",
       "      <th>compactness_worst</th>\n",
       "      <th>concavity_worst</th>\n",
       "      <th>concave points_worst</th>\n",
       "      <th>symmetry_worst</th>\n",
       "      <th>fractal_dimension_worst</th>\n",
       "    </tr>\n",
       "  </thead>\n",
       "  <tbody>\n",
       "    <tr>\n",
       "      <th>0</th>\n",
       "      <td>1</td>\n",
       "      <td>17.99</td>\n",
       "      <td>10.38</td>\n",
       "      <td>122.80</td>\n",
       "      <td>1001.0</td>\n",
       "      <td>0.11840</td>\n",
       "      <td>0.27760</td>\n",
       "      <td>0.3001</td>\n",
       "      <td>0.14710</td>\n",
       "      <td>0.2419</td>\n",
       "      <td>...</td>\n",
       "      <td>25.38</td>\n",
       "      <td>17.33</td>\n",
       "      <td>184.60</td>\n",
       "      <td>2019.0</td>\n",
       "      <td>0.1622</td>\n",
       "      <td>0.6656</td>\n",
       "      <td>0.7119</td>\n",
       "      <td>0.2654</td>\n",
       "      <td>0.4601</td>\n",
       "      <td>0.11890</td>\n",
       "    </tr>\n",
       "    <tr>\n",
       "      <th>1</th>\n",
       "      <td>1</td>\n",
       "      <td>20.57</td>\n",
       "      <td>17.77</td>\n",
       "      <td>132.90</td>\n",
       "      <td>1326.0</td>\n",
       "      <td>0.08474</td>\n",
       "      <td>0.07864</td>\n",
       "      <td>0.0869</td>\n",
       "      <td>0.07017</td>\n",
       "      <td>0.1812</td>\n",
       "      <td>...</td>\n",
       "      <td>24.99</td>\n",
       "      <td>23.41</td>\n",
       "      <td>158.80</td>\n",
       "      <td>1956.0</td>\n",
       "      <td>0.1238</td>\n",
       "      <td>0.1866</td>\n",
       "      <td>0.2416</td>\n",
       "      <td>0.1860</td>\n",
       "      <td>0.2750</td>\n",
       "      <td>0.08902</td>\n",
       "    </tr>\n",
       "    <tr>\n",
       "      <th>2</th>\n",
       "      <td>1</td>\n",
       "      <td>19.69</td>\n",
       "      <td>21.25</td>\n",
       "      <td>130.00</td>\n",
       "      <td>1203.0</td>\n",
       "      <td>0.10960</td>\n",
       "      <td>0.15990</td>\n",
       "      <td>0.1974</td>\n",
       "      <td>0.12790</td>\n",
       "      <td>0.2069</td>\n",
       "      <td>...</td>\n",
       "      <td>23.57</td>\n",
       "      <td>25.53</td>\n",
       "      <td>152.50</td>\n",
       "      <td>1709.0</td>\n",
       "      <td>0.1444</td>\n",
       "      <td>0.4245</td>\n",
       "      <td>0.4504</td>\n",
       "      <td>0.2430</td>\n",
       "      <td>0.3613</td>\n",
       "      <td>0.08758</td>\n",
       "    </tr>\n",
       "    <tr>\n",
       "      <th>3</th>\n",
       "      <td>1</td>\n",
       "      <td>11.42</td>\n",
       "      <td>20.38</td>\n",
       "      <td>77.58</td>\n",
       "      <td>386.1</td>\n",
       "      <td>0.14250</td>\n",
       "      <td>0.28390</td>\n",
       "      <td>0.2414</td>\n",
       "      <td>0.10520</td>\n",
       "      <td>0.2597</td>\n",
       "      <td>...</td>\n",
       "      <td>14.91</td>\n",
       "      <td>26.50</td>\n",
       "      <td>98.87</td>\n",
       "      <td>567.7</td>\n",
       "      <td>0.2098</td>\n",
       "      <td>0.8663</td>\n",
       "      <td>0.6869</td>\n",
       "      <td>0.2575</td>\n",
       "      <td>0.6638</td>\n",
       "      <td>0.17300</td>\n",
       "    </tr>\n",
       "    <tr>\n",
       "      <th>4</th>\n",
       "      <td>1</td>\n",
       "      <td>20.29</td>\n",
       "      <td>14.34</td>\n",
       "      <td>135.10</td>\n",
       "      <td>1297.0</td>\n",
       "      <td>0.10030</td>\n",
       "      <td>0.13280</td>\n",
       "      <td>0.1980</td>\n",
       "      <td>0.10430</td>\n",
       "      <td>0.1809</td>\n",
       "      <td>...</td>\n",
       "      <td>22.54</td>\n",
       "      <td>16.67</td>\n",
       "      <td>152.20</td>\n",
       "      <td>1575.0</td>\n",
       "      <td>0.1374</td>\n",
       "      <td>0.2050</td>\n",
       "      <td>0.4000</td>\n",
       "      <td>0.1625</td>\n",
       "      <td>0.2364</td>\n",
       "      <td>0.07678</td>\n",
       "    </tr>\n",
       "  </tbody>\n",
       "</table>\n",
       "<p>5 rows × 31 columns</p>\n",
       "</div>"
      ],
      "text/plain": [
       "   diagnosis  radius_mean  texture_mean  perimeter_mean  area_mean  \\\n",
       "0          1        17.99         10.38          122.80     1001.0   \n",
       "1          1        20.57         17.77          132.90     1326.0   \n",
       "2          1        19.69         21.25          130.00     1203.0   \n",
       "3          1        11.42         20.38           77.58      386.1   \n",
       "4          1        20.29         14.34          135.10     1297.0   \n",
       "\n",
       "   smoothness_mean  compactness_mean  concavity_mean  concave points_mean  \\\n",
       "0          0.11840           0.27760          0.3001              0.14710   \n",
       "1          0.08474           0.07864          0.0869              0.07017   \n",
       "2          0.10960           0.15990          0.1974              0.12790   \n",
       "3          0.14250           0.28390          0.2414              0.10520   \n",
       "4          0.10030           0.13280          0.1980              0.10430   \n",
       "\n",
       "   symmetry_mean  ...  radius_worst  texture_worst  perimeter_worst  \\\n",
       "0         0.2419  ...         25.38          17.33           184.60   \n",
       "1         0.1812  ...         24.99          23.41           158.80   \n",
       "2         0.2069  ...         23.57          25.53           152.50   \n",
       "3         0.2597  ...         14.91          26.50            98.87   \n",
       "4         0.1809  ...         22.54          16.67           152.20   \n",
       "\n",
       "   area_worst  smoothness_worst  compactness_worst  concavity_worst  \\\n",
       "0      2019.0            0.1622             0.6656           0.7119   \n",
       "1      1956.0            0.1238             0.1866           0.2416   \n",
       "2      1709.0            0.1444             0.4245           0.4504   \n",
       "3       567.7            0.2098             0.8663           0.6869   \n",
       "4      1575.0            0.1374             0.2050           0.4000   \n",
       "\n",
       "   concave points_worst  symmetry_worst  fractal_dimension_worst  \n",
       "0                0.2654          0.4601                  0.11890  \n",
       "1                0.1860          0.2750                  0.08902  \n",
       "2                0.2430          0.3613                  0.08758  \n",
       "3                0.2575          0.6638                  0.17300  \n",
       "4                0.1625          0.2364                  0.07678  \n",
       "\n",
       "[5 rows x 31 columns]"
      ]
     },
     "execution_count": 17,
     "metadata": {},
     "output_type": "execute_result"
    }
   ],
   "source": [
    "le = LabelEncoder()\n",
    "cancer['diagnosis'] = le.fit_transform(cancer['diagnosis'])\n",
    "cancer.head()"
   ]
  },
  {
   "cell_type": "code",
   "execution_count": 16,
   "id": "b682501e",
   "metadata": {},
   "outputs": [],
   "source": [
    "from sklearn.preprocessing import  LabelEncoder"
   ]
  },
  {
   "cell_type": "code",
   "execution_count": 18,
   "id": "7af1ced4",
   "metadata": {},
   "outputs": [
    {
     "data": {
      "text/plain": [
       "0    357\n",
       "1    212\n",
       "Name: diagnosis, dtype: int64"
      ]
     },
     "execution_count": 18,
     "metadata": {},
     "output_type": "execute_result"
    }
   ],
   "source": [
    "cancer['diagnosis'].value_counts()"
   ]
  },
  {
   "cell_type": "code",
   "execution_count": 19,
   "id": "25127f24",
   "metadata": {},
   "outputs": [
    {
     "name": "stdout",
     "output_type": "stream",
     "text": [
      "<class 'pandas.core.frame.DataFrame'>\n",
      "RangeIndex: 569 entries, 0 to 568\n",
      "Data columns (total 31 columns):\n",
      " #   Column                   Non-Null Count  Dtype  \n",
      "---  ------                   --------------  -----  \n",
      " 0   diagnosis                569 non-null    int32  \n",
      " 1   radius_mean              569 non-null    float64\n",
      " 2   texture_mean             569 non-null    float64\n",
      " 3   perimeter_mean           569 non-null    float64\n",
      " 4   area_mean                569 non-null    float64\n",
      " 5   smoothness_mean          569 non-null    float64\n",
      " 6   compactness_mean         569 non-null    float64\n",
      " 7   concavity_mean           569 non-null    float64\n",
      " 8   concave points_mean      569 non-null    float64\n",
      " 9   symmetry_mean            569 non-null    float64\n",
      " 10  fractal_dimension_mean   569 non-null    float64\n",
      " 11  radius_se                569 non-null    float64\n",
      " 12  texture_se               569 non-null    float64\n",
      " 13  perimeter_se             569 non-null    float64\n",
      " 14  area_se                  569 non-null    float64\n",
      " 15  smoothness_se            569 non-null    float64\n",
      " 16  compactness_se           569 non-null    float64\n",
      " 17  concavity_se             569 non-null    float64\n",
      " 18  concave points_se        569 non-null    float64\n",
      " 19  symmetry_se              569 non-null    float64\n",
      " 20  fractal_dimension_se     569 non-null    float64\n",
      " 21  radius_worst             569 non-null    float64\n",
      " 22  texture_worst            569 non-null    float64\n",
      " 23  perimeter_worst          569 non-null    float64\n",
      " 24  area_worst               569 non-null    float64\n",
      " 25  smoothness_worst         569 non-null    float64\n",
      " 26  compactness_worst        569 non-null    float64\n",
      " 27  concavity_worst          569 non-null    float64\n",
      " 28  concave points_worst     569 non-null    float64\n",
      " 29  symmetry_worst           569 non-null    float64\n",
      " 30  fractal_dimension_worst  569 non-null    float64\n",
      "dtypes: float64(30), int32(1)\n",
      "memory usage: 135.7 KB\n"
     ]
    }
   ],
   "source": [
    "cancer.info()"
   ]
  },
  {
   "cell_type": "code",
   "execution_count": 20,
   "id": "9cf25596",
   "metadata": {},
   "outputs": [
    {
     "data": {
      "text/html": [
       "<div>\n",
       "<style scoped>\n",
       "    .dataframe tbody tr th:only-of-type {\n",
       "        vertical-align: middle;\n",
       "    }\n",
       "\n",
       "    .dataframe tbody tr th {\n",
       "        vertical-align: top;\n",
       "    }\n",
       "\n",
       "    .dataframe thead th {\n",
       "        text-align: right;\n",
       "    }\n",
       "</style>\n",
       "<table border=\"1\" class=\"dataframe\">\n",
       "  <thead>\n",
       "    <tr style=\"text-align: right;\">\n",
       "      <th></th>\n",
       "      <th>unique count</th>\n",
       "    </tr>\n",
       "  </thead>\n",
       "  <tbody>\n",
       "    <tr>\n",
       "      <th>diagnosis</th>\n",
       "      <td>2</td>\n",
       "    </tr>\n",
       "    <tr>\n",
       "      <th>radius_mean</th>\n",
       "      <td>456</td>\n",
       "    </tr>\n",
       "    <tr>\n",
       "      <th>texture_mean</th>\n",
       "      <td>479</td>\n",
       "    </tr>\n",
       "    <tr>\n",
       "      <th>perimeter_mean</th>\n",
       "      <td>522</td>\n",
       "    </tr>\n",
       "    <tr>\n",
       "      <th>area_mean</th>\n",
       "      <td>539</td>\n",
       "    </tr>\n",
       "    <tr>\n",
       "      <th>smoothness_mean</th>\n",
       "      <td>474</td>\n",
       "    </tr>\n",
       "    <tr>\n",
       "      <th>compactness_mean</th>\n",
       "      <td>537</td>\n",
       "    </tr>\n",
       "    <tr>\n",
       "      <th>concavity_mean</th>\n",
       "      <td>537</td>\n",
       "    </tr>\n",
       "    <tr>\n",
       "      <th>concave points_mean</th>\n",
       "      <td>542</td>\n",
       "    </tr>\n",
       "    <tr>\n",
       "      <th>symmetry_mean</th>\n",
       "      <td>432</td>\n",
       "    </tr>\n",
       "    <tr>\n",
       "      <th>fractal_dimension_mean</th>\n",
       "      <td>499</td>\n",
       "    </tr>\n",
       "    <tr>\n",
       "      <th>radius_se</th>\n",
       "      <td>540</td>\n",
       "    </tr>\n",
       "    <tr>\n",
       "      <th>texture_se</th>\n",
       "      <td>519</td>\n",
       "    </tr>\n",
       "    <tr>\n",
       "      <th>perimeter_se</th>\n",
       "      <td>533</td>\n",
       "    </tr>\n",
       "    <tr>\n",
       "      <th>area_se</th>\n",
       "      <td>528</td>\n",
       "    </tr>\n",
       "    <tr>\n",
       "      <th>smoothness_se</th>\n",
       "      <td>547</td>\n",
       "    </tr>\n",
       "    <tr>\n",
       "      <th>compactness_se</th>\n",
       "      <td>541</td>\n",
       "    </tr>\n",
       "    <tr>\n",
       "      <th>concavity_se</th>\n",
       "      <td>533</td>\n",
       "    </tr>\n",
       "    <tr>\n",
       "      <th>concave points_se</th>\n",
       "      <td>507</td>\n",
       "    </tr>\n",
       "    <tr>\n",
       "      <th>symmetry_se</th>\n",
       "      <td>498</td>\n",
       "    </tr>\n",
       "    <tr>\n",
       "      <th>fractal_dimension_se</th>\n",
       "      <td>545</td>\n",
       "    </tr>\n",
       "    <tr>\n",
       "      <th>radius_worst</th>\n",
       "      <td>457</td>\n",
       "    </tr>\n",
       "    <tr>\n",
       "      <th>texture_worst</th>\n",
       "      <td>511</td>\n",
       "    </tr>\n",
       "    <tr>\n",
       "      <th>perimeter_worst</th>\n",
       "      <td>514</td>\n",
       "    </tr>\n",
       "    <tr>\n",
       "      <th>area_worst</th>\n",
       "      <td>544</td>\n",
       "    </tr>\n",
       "    <tr>\n",
       "      <th>smoothness_worst</th>\n",
       "      <td>411</td>\n",
       "    </tr>\n",
       "    <tr>\n",
       "      <th>compactness_worst</th>\n",
       "      <td>529</td>\n",
       "    </tr>\n",
       "    <tr>\n",
       "      <th>concavity_worst</th>\n",
       "      <td>539</td>\n",
       "    </tr>\n",
       "    <tr>\n",
       "      <th>concave points_worst</th>\n",
       "      <td>492</td>\n",
       "    </tr>\n",
       "    <tr>\n",
       "      <th>symmetry_worst</th>\n",
       "      <td>500</td>\n",
       "    </tr>\n",
       "    <tr>\n",
       "      <th>fractal_dimension_worst</th>\n",
       "      <td>535</td>\n",
       "    </tr>\n",
       "  </tbody>\n",
       "</table>\n",
       "</div>"
      ],
      "text/plain": [
       "                         unique count\n",
       "diagnosis                           2\n",
       "radius_mean                       456\n",
       "texture_mean                      479\n",
       "perimeter_mean                    522\n",
       "area_mean                         539\n",
       "smoothness_mean                   474\n",
       "compactness_mean                  537\n",
       "concavity_mean                    537\n",
       "concave points_mean               542\n",
       "symmetry_mean                     432\n",
       "fractal_dimension_mean            499\n",
       "radius_se                         540\n",
       "texture_se                        519\n",
       "perimeter_se                      533\n",
       "area_se                           528\n",
       "smoothness_se                     547\n",
       "compactness_se                    541\n",
       "concavity_se                      533\n",
       "concave points_se                 507\n",
       "symmetry_se                       498\n",
       "fractal_dimension_se              545\n",
       "radius_worst                      457\n",
       "texture_worst                     511\n",
       "perimeter_worst                   514\n",
       "area_worst                        544\n",
       "smoothness_worst                  411\n",
       "compactness_worst                 529\n",
       "concavity_worst                   539\n",
       "concave points_worst              492\n",
       "symmetry_worst                    500\n",
       "fractal_dimension_worst           535"
      ]
     },
     "execution_count": 20,
     "metadata": {},
     "output_type": "execute_result"
    }
   ],
   "source": [
    "dict = {}\n",
    "for i in list(cancer.columns):\n",
    "    dict[i] = cancer[i].value_counts().shape[0]\n",
    "\n",
    "pd.DataFrame(dict,index=['unique count']).transpose()"
   ]
  },
  {
   "cell_type": "code",
   "execution_count": 21,
   "id": "5c55f0ff",
   "metadata": {},
   "outputs": [
    {
     "data": {
      "image/png": "[encoded data removed]",
      "text/plain": [
       "<Figure size 720x288 with 1 Axes>"
      ]
     },
     "metadata": {
      "needs_background": "light"
     },
     "output_type": "display_data"
    },
    {
     "data": {
      "image/png": "[encoded data removed]",
      "text/plain": [
       "<Figure size 720x288 with 1 Axes>"
      ]
     },
     "metadata": {
      "needs_background": "light"
     },
     "output_type": "display_data"
    },
    {
     "data": {
      "image/png": "[encoded data removed]",
      "text/plain": [
       "<Figure size 720x288 with 1 Axes>"
      ]
     },
     "metadata": {
      "needs_background": "light"
     },
     "output_type": "display_data"
    },
    {
     "data": {
      "image/png": "[encoded data removed]",
      "text/plain": [
       "<Figure size 720x288 with 1 Axes>"
      ]
     },
     "metadata": {
      "needs_background": "light"
     },
     "output_type": "display_data"
    },
    {
     "data": {
      "image/png": "[encoded data removed]",
      "text/plain": [
       "<Figure size 720x288 with 1 Axes>"
      ]
     },
     "metadata": {
      "needs_background": "light"
     },
     "output_type": "display_data"
    },
    {
     "data": {
      "image/png": "[encoded data removed]",
      "text/plain": [
       "<Figure size 720x288 with 1 Axes>"
      ]
     },
     "metadata": {
      "needs_background": "light"
     },
     "output_type": "display_data"
    },
    {
     "data": {
      "image/png": "[encoded data removed]",
      "text/plain": [
       "<Figure size 720x288 with 1 Axes>"
      ]
     },
     "metadata": {
      "needs_background": "light"
     },
     "output_type": "display_data"
    },
    {
     "data": {
      "image/png": "[encoded data removed]",
      "text/plain": [
       "<Figure size 720x288 with 1 Axes>"
      ]
     },
     "metadata": {
      "needs_background": "light"
     },
     "output_type": "display_data"
    },
    {
     "data": {
      "image/png": "[encoded data removed]",
      "text/plain": [
       "<Figure size 720x288 with 1 Axes>"
      ]
     },
     "metadata": {
      "needs_background": "light"
     },
     "output_type": "display_data"
    },
    {
     "data": {
      "image/png": "[encoded data removed]",
      "text/plain": [
       "<Figure size 720x288 with 1 Axes>"
      ]
     },
     "metadata": {
      "needs_background": "light"
     },
     "output_type": "display_data"
    },
    {
     "data": {
      "image/png": "[encoded data removed]",
      "text/plain": [
       "<Figure size 720x288 with 1 Axes>"
      ]
     },
     "metadata": {
      "needs_background": "light"
     },
     "output_type": "display_data"
    },
    {
     "data": {
      "image/png": "[encoded data removed]",
      "text/plain": [
       "<Figure size 720x288 with 1 Axes>"
      ]
     },
     "metadata": {
      "needs_background": "light"
     },
     "output_type": "display_data"
    },
    {
     "data": {
      "image/png": "[encoded data removed]",
      "text/plain": [
       "<Figure size 720x288 with 1 Axes>"
      ]
     },
     "metadata": {
      "needs_background": "light"
     },
     "output_type": "display_data"
    },
    {
     "data": {
      "image/png": "[encoded data removed]",
      "text/plain": [
       "<Figure size 720x288 with 1 Axes>"
      ]
     },
     "metadata": {
      "needs_background": "light"
     },
     "output_type": "display_data"
    },
    {
     "data": {
      "image/png": "[encoded data removed]",
      "text/plain": [
       "<Figure size 720x288 with 1 Axes>"
      ]
     },
     "metadata": {
      "needs_background": "light"
     },
     "output_type": "display_data"
    },
    {
     "data": {
      "image/png": "[encoded data removed]",
      "text/plain": [
       "<Figure size 720x288 with 1 Axes>"
      ]
     },
     "metadata": {
      "needs_background": "light"
     },
     "output_type": "display_data"
    },
    {
     "data": {
      "image/png": "[encoded data removed]",
      "text/plain": [
       "<Figure size 720x288 with 1 Axes>"
      ]
     },
     "metadata": {
      "needs_background": "light"
     },
     "output_type": "display_data"
    },
    {
     "data": {
      "image/png": "[encoded data removed]",
      "text/plain": [
       "<Figure size 720x288 with 1 Axes>"
      ]
     },
     "metadata": {
      "needs_background": "light"
     },
     "output_type": "display_data"
    },
    {
     "data": {
      "image/png": "[encoded data removed]",
      "text/plain": [
       "<Figure size 720x288 with 1 Axes>"
      ]
     },
     "metadata": {
      "needs_background": "light"
     },
     "output_type": "display_data"
    },
    {
     "data": {
      "image/png": "[encoded data removed]",
      "text/plain": [
       "<Figure size 720x288 with 1 Axes>"
      ]
     },
     "metadata": {
      "needs_background": "light"
     },
     "output_type": "display_data"
    },
    {
     "data": {
      "image/png": "[encoded data removed]",
      "text/plain": [
       "<Figure size 720x288 with 1 Axes>"
      ]
     },
     "metadata": {
      "needs_background": "light"
     },
     "output_type": "display_data"
    },
    {
     "data": {
      "image/png": "[encoded data removed]",
      "text/plain": [
       "<Figure size 720x288 with 1 Axes>"
      ]
     },
     "metadata": {
      "needs_background": "light"
     },
     "output_type": "display_data"
    },
    {
     "data": {
      "image/png": "[encoded data removed]",
      "text/plain": [
       "<Figure size 720x288 with 1 Axes>"
      ]
     },
     "metadata": {
      "needs_background": "light"
     },
     "output_type": "display_data"
    },
    {
     "data": {
      "image/png": "[encoded data removed]",
      "text/plain": [
       "<Figure size 720x288 with 1 Axes>"
      ]
     },
     "metadata": {
      "needs_background": "light"
     },
     "output_type": "display_data"
    },
    {
     "data": {
      "image/png": "[encoded data removed]",
      "text/plain": [
       "<Figure size 720x288 with 1 Axes>"
      ]
     },
     "metadata": {
      "needs_background": "light"
     },
     "output_type": "display_data"
    },
    {
     "data": {
      "image/png": "[encoded data removed]",
      "text/plain": [
       "<Figure size 720x288 with 1 Axes>"
      ]
     },
     "metadata": {
      "needs_background": "light"
     },
     "output_type": "display_data"
    },
    {
     "data": {
      "image/png": "[encoded data removed]",
      "text/plain": [
       "<Figure size 720x288 with 1 Axes>"
      ]
     },
     "metadata": {
      "needs_background": "light"
     },
     "output_type": "display_data"
    },
    {
     "data": {
      "image/png": "[encoded data removed]",
      "text/plain": [
       "<Figure size 720x288 with 1 Axes>"
      ]
     },
     "metadata": {
      "needs_background": "light"
     },
     "output_type": "display_data"
    },
    {
     "data": {
      "image/png": "[encoded data removed]",
      "text/plain": [
       "<Figure size 720x288 with 1 Axes>"
      ]
     },
     "metadata": {
      "needs_background": "light"
     },
     "output_type": "display_data"
    },
    {
     "data": {
      "image/png": "[encoded data removed]",
      "text/plain": [
       "<Figure size 720x288 with 1 Axes>"
      ]
     },
     "metadata": {
      "needs_background": "light"
     },
     "output_type": "display_data"
    },
    {
     "data": {
      "image/png": "[encoded data removed]",
      "text/plain": [
       "<Figure size 720x288 with 1 Axes>"
      ]
     },
     "metadata": {
      "needs_background": "light"
     },
     "output_type": "display_data"
    }
   ],
   "source": [
    "def Box_plots(cancer):\n",
    "    plt.figure(figsize=(10, 4))\n",
    "    plt.title(\"Box Plot\")\n",
    "    sns.boxplot(cancer)\n",
    "    plt.show()\n",
    "\n",
    "\n",
    "for i in list(cancer.columns):\n",
    "    Box_plots(cancer[i])"
   ]
  },
  {
   "cell_type": "code",
   "execution_count": 22,
   "id": "1b687c46",
   "metadata": {},
   "outputs": [
    {
     "name": "stdout",
     "output_type": "stream",
     "text": [
      "Column diagnosis outliers = 0.00%\n",
      "Column radius_mean outliers = 2.46%\n",
      "Column texture_mean outliers = 1.23%\n",
      "Column perimeter_mean outliers = 2.28%\n",
      "Column area_mean outliers = 4.39%\n",
      "Column smoothness_mean outliers = 1.05%\n",
      "Column compactness_mean outliers = 2.81%\n",
      "Column concavity_mean outliers = 3.16%\n",
      "Column concave points_mean outliers = 1.76%\n",
      "Column symmetry_mean outliers = 2.64%\n",
      "Column fractal_dimension_mean outliers = 2.64%\n",
      "Column radius_se outliers = 6.68%\n",
      "Column texture_se outliers = 3.51%\n",
      "Column perimeter_se outliers = 6.68%\n",
      "Column area_se outliers = 11.42%\n",
      "Column smoothness_se outliers = 5.27%\n",
      "Column compactness_se outliers = 4.92%\n",
      "Column concavity_se outliers = 3.87%\n",
      "Column concave points_se outliers = 3.34%\n",
      "Column symmetry_se outliers = 4.75%\n",
      "Column fractal_dimension_se outliers = 4.92%\n",
      "Column radius_worst outliers = 2.99%\n",
      "Column texture_worst outliers = 0.88%\n",
      "Column perimeter_worst outliers = 2.64%\n",
      "Column area_worst outliers = 6.15%\n",
      "Column smoothness_worst outliers = 1.23%\n",
      "Column compactness_worst outliers = 2.81%\n",
      "Column concavity_worst outliers = 2.11%\n",
      "Column concave points_worst outliers = 0.00%\n",
      "Column symmetry_worst outliers = 4.04%\n",
      "Column fractal_dimension_worst outliers = 4.22%\n"
     ]
    }
   ],
   "source": [
    "for k, v in cancer.items():\n",
    "        q1 = v.quantile(0.25)\n",
    "        q3 = v.quantile(0.75)\n",
    "        irq = q3 - q1\n",
    "        v_col = v[(v <= q1 - 1.5 * irq) | (v >= q3 + 1.5 * irq)]\n",
    "        perc = np.shape(v_col)[0] * 100.0 / np.shape(cancer)[0]\n",
    "        print(\"Column %s outliers = %.2f%%\" % (k, perc))"
   ]
  },
  {
   "cell_type": "code",
   "execution_count": 23,
   "id": "dcfd79b6",
   "metadata": {},
   "outputs": [
    {
     "data": {
      "image/png": "[encoded data removed]",
      "text/plain": [
       "<Figure size 1440x1080 with 30 Axes>"
      ]
     },
     "metadata": {
      "needs_background": "light"
     },
     "output_type": "display_data"
    }
   ],
   "source": [
    "plt.figure(figsize = (20, 15))\n",
    "plotnumber = 1\n",
    "\n",
    "for column in cancer:\n",
    "    if plotnumber <= 30:\n",
    "        ax = plt.subplot(5, 6, plotnumber)\n",
    "        sns.distplot(cancer[column])\n",
    "        plt.xlabel(column)\n",
    "        \n",
    "    plotnumber += 1\n",
    "\n",
    "plt.tight_layout()\n",
    "plt.show()"
   ]
  },
  {
   "cell_type": "code",
   "execution_count": 24,
   "id": "9698b1c5",
   "metadata": {},
   "outputs": [
    {
     "data": {
      "text/plain": [
       "<AxesSubplot:>"
      ]
     },
     "execution_count": 24,
     "metadata": {},
     "output_type": "execute_result"
    },
    {
     "data": {
      "image/png": "[encoded data removed]",
      "text/plain": [
       "<Figure size 720x432 with 2 Axes>"
      ]
     },
     "metadata": {
      "needs_background": "light"
     },
     "output_type": "display_data"
    }
   ],
   "source": [
    "fig=plt.figure(figsize=(10,6))\n",
    "sns.heatmap(cancer.corr())"
   ]
  },
  {
   "cell_type": "code",
   "execution_count": 25,
   "id": "9423c0b9",
   "metadata": {},
   "outputs": [
    {
     "data": {
      "text/html": [
       "<div>\n",
       "<style scoped>\n",
       "    .dataframe tbody tr th:only-of-type {\n",
       "        vertical-align: middle;\n",
       "    }\n",
       "\n",
       "    .dataframe tbody tr th {\n",
       "        vertical-align: top;\n",
       "    }\n",
       "\n",
       "    .dataframe thead th {\n",
       "        text-align: right;\n",
       "    }\n",
       "</style>\n",
       "<table border=\"1\" class=\"dataframe\">\n",
       "  <thead>\n",
       "    <tr style=\"text-align: right;\">\n",
       "      <th></th>\n",
       "      <th>VIF</th>\n",
       "      <th>Features</th>\n",
       "    </tr>\n",
       "  </thead>\n",
       "  <tbody>\n",
       "    <tr>\n",
       "      <th>0</th>\n",
       "      <td>6.781264</td>\n",
       "      <td>diagnosis</td>\n",
       "    </tr>\n",
       "    <tr>\n",
       "      <th>1</th>\n",
       "      <td>63787.228031</td>\n",
       "      <td>radius_mean</td>\n",
       "    </tr>\n",
       "    <tr>\n",
       "      <th>2</th>\n",
       "      <td>251.122570</td>\n",
       "      <td>texture_mean</td>\n",
       "    </tr>\n",
       "    <tr>\n",
       "      <th>3</th>\n",
       "      <td>58217.307016</td>\n",
       "      <td>perimeter_mean</td>\n",
       "    </tr>\n",
       "    <tr>\n",
       "      <th>4</th>\n",
       "      <td>1305.508785</td>\n",
       "      <td>area_mean</td>\n",
       "    </tr>\n",
       "    <tr>\n",
       "      <th>5</th>\n",
       "      <td>393.410071</td>\n",
       "      <td>smoothness_mean</td>\n",
       "    </tr>\n",
       "    <tr>\n",
       "      <th>6</th>\n",
       "      <td>201.524726</td>\n",
       "      <td>compactness_mean</td>\n",
       "    </tr>\n",
       "    <tr>\n",
       "      <th>7</th>\n",
       "      <td>158.130682</td>\n",
       "      <td>concavity_mean</td>\n",
       "    </tr>\n",
       "    <tr>\n",
       "      <th>8</th>\n",
       "      <td>154.891431</td>\n",
       "      <td>concave points_mean</td>\n",
       "    </tr>\n",
       "    <tr>\n",
       "      <th>9</th>\n",
       "      <td>184.542087</td>\n",
       "      <td>symmetry_mean</td>\n",
       "    </tr>\n",
       "    <tr>\n",
       "      <th>10</th>\n",
       "      <td>654.870560</td>\n",
       "      <td>fractal_dimension_mean</td>\n",
       "    </tr>\n",
       "    <tr>\n",
       "      <th>11</th>\n",
       "      <td>237.352381</td>\n",
       "      <td>radius_se</td>\n",
       "    </tr>\n",
       "    <tr>\n",
       "      <th>12</th>\n",
       "      <td>24.675389</td>\n",
       "      <td>texture_se</td>\n",
       "    </tr>\n",
       "    <tr>\n",
       "      <th>13</th>\n",
       "      <td>211.429834</td>\n",
       "      <td>perimeter_se</td>\n",
       "    </tr>\n",
       "    <tr>\n",
       "      <th>14</th>\n",
       "      <td>72.669276</td>\n",
       "      <td>area_se</td>\n",
       "    </tr>\n",
       "    <tr>\n",
       "      <th>15</th>\n",
       "      <td>26.395387</td>\n",
       "      <td>smoothness_se</td>\n",
       "    </tr>\n",
       "    <tr>\n",
       "      <th>16</th>\n",
       "      <td>44.979263</td>\n",
       "      <td>compactness_se</td>\n",
       "    </tr>\n",
       "    <tr>\n",
       "      <th>17</th>\n",
       "      <td>33.676991</td>\n",
       "      <td>concavity_se</td>\n",
       "    </tr>\n",
       "    <tr>\n",
       "      <th>18</th>\n",
       "      <td>54.072023</td>\n",
       "      <td>concave points_se</td>\n",
       "    </tr>\n",
       "    <tr>\n",
       "      <th>19</th>\n",
       "      <td>37.194742</td>\n",
       "      <td>symmetry_se</td>\n",
       "    </tr>\n",
       "    <tr>\n",
       "      <th>20</th>\n",
       "      <td>27.556836</td>\n",
       "      <td>fractal_dimension_se</td>\n",
       "    </tr>\n",
       "    <tr>\n",
       "      <th>21</th>\n",
       "      <td>9960.892269</td>\n",
       "      <td>radius_worst</td>\n",
       "    </tr>\n",
       "    <tr>\n",
       "      <th>22</th>\n",
       "      <td>343.506199</td>\n",
       "      <td>texture_worst</td>\n",
       "    </tr>\n",
       "    <tr>\n",
       "      <th>23</th>\n",
       "      <td>4494.531141</td>\n",
       "      <td>perimeter_worst</td>\n",
       "    </tr>\n",
       "    <tr>\n",
       "      <th>24</th>\n",
       "      <td>1164.089106</td>\n",
       "      <td>area_worst</td>\n",
       "    </tr>\n",
       "    <tr>\n",
       "      <th>25</th>\n",
       "      <td>375.598751</td>\n",
       "      <td>smoothness_worst</td>\n",
       "    </tr>\n",
       "    <tr>\n",
       "      <th>26</th>\n",
       "      <td>132.894041</td>\n",
       "      <td>compactness_worst</td>\n",
       "    </tr>\n",
       "    <tr>\n",
       "      <th>27</th>\n",
       "      <td>86.721758</td>\n",
       "      <td>concavity_worst</td>\n",
       "    </tr>\n",
       "    <tr>\n",
       "      <th>28</th>\n",
       "      <td>148.765592</td>\n",
       "      <td>concave points_worst</td>\n",
       "    </tr>\n",
       "    <tr>\n",
       "      <th>29</th>\n",
       "      <td>219.571466</td>\n",
       "      <td>symmetry_worst</td>\n",
       "    </tr>\n",
       "    <tr>\n",
       "      <th>30</th>\n",
       "      <td>427.226418</td>\n",
       "      <td>fractal_dimension_worst</td>\n",
       "    </tr>\n",
       "  </tbody>\n",
       "</table>\n",
       "</div>"
      ],
      "text/plain": [
       "             VIF                 Features\n",
       "0       6.781264                diagnosis\n",
       "1   63787.228031              radius_mean\n",
       "2     251.122570             texture_mean\n",
       "3   58217.307016           perimeter_mean\n",
       "4    1305.508785                area_mean\n",
       "5     393.410071          smoothness_mean\n",
       "6     201.524726         compactness_mean\n",
       "7     158.130682           concavity_mean\n",
       "8     154.891431      concave points_mean\n",
       "9     184.542087            symmetry_mean\n",
       "10    654.870560   fractal_dimension_mean\n",
       "11    237.352381                radius_se\n",
       "12     24.675389               texture_se\n",
       "13    211.429834             perimeter_se\n",
       "14     72.669276                  area_se\n",
       "15     26.395387            smoothness_se\n",
       "16     44.979263           compactness_se\n",
       "17     33.676991             concavity_se\n",
       "18     54.072023        concave points_se\n",
       "19     37.194742              symmetry_se\n",
       "20     27.556836     fractal_dimension_se\n",
       "21   9960.892269             radius_worst\n",
       "22    343.506199            texture_worst\n",
       "23   4494.531141          perimeter_worst\n",
       "24   1164.089106               area_worst\n",
       "25    375.598751         smoothness_worst\n",
       "26    132.894041        compactness_worst\n",
       "27     86.721758          concavity_worst\n",
       "28    148.765592     concave points_worst\n",
       "29    219.571466           symmetry_worst\n",
       "30    427.226418  fractal_dimension_worst"
      ]
     },
     "execution_count": 25,
     "metadata": {},
     "output_type": "execute_result"
    }
   ],
   "source": [
    "from statsmodels.stats.outliers_influence import variance_inflation_factor\n",
    "variables = cancer\n",
    "vif = pd.DataFrame()\n",
    "vif[\"VIF\"] = [variance_inflation_factor(variables, i) for i in range(variables.shape[1])]\n",
    "vif[\"Features\"] = cancer.columns\n",
    "vif"
   ]
  },
  {
   "cell_type": "code",
   "execution_count": 44,
   "id": "da524ee9",
   "metadata": {},
   "outputs": [],
   "source": [
    "outlier = ['area_mean', 'radius_se', 'area_se']"
   ]
  },
  {
   "cell_type": "code",
   "execution_count": 49,
   "id": "dfc78aa4",
   "metadata": {},
   "outputs": [],
   "source": [
    "def remove_outlier(outlier):\n",
    "    sorted(outlier)\n",
    "    Q1,Q3=np.percentile(outlier,[25,75])\n",
    "    IQR=Q3-Q1\n",
    "    lower_range= Q1-(1.5* IQR)\n",
    "    upper_range= Q3+(1.5* IQR)\n",
    "    return lower_range, upper_range"
   ]
  },
  {
   "cell_type": "code",
   "execution_count": 50,
   "id": "3838518c",
   "metadata": {},
   "outputs": [],
   "source": [
    "for column in cancer[outlier].columns:\n",
    "    lr,ur=remove_outlier(cancer[column])\n",
    "    cancer[column]=np.where(cancer[column]>ur,ur,cancer[column])\n",
    "    cancer[column]=np.where(cancer[column]<lr,lr,cancer[column])"
   ]
  },
  {
   "cell_type": "code",
   "execution_count": 54,
   "id": "970afb28",
   "metadata": {},
   "outputs": [],
   "source": [
    "X = cancer.drop('diagnosis', axis = 1)\n",
    "Y = cancer['diagnosis']"
   ]
  },
  {
   "cell_type": "code",
   "execution_count": 57,
   "id": "927bd436",
   "metadata": {},
   "outputs": [],
   "source": [
    "# splitting data into training and test set\n",
    "\n",
    "from sklearn.model_selection import train_test_split\n",
    "\n",
    "X_train, X_test, y_train, y_test = train_test_split(X, Y, test_size = 0.30, random_state = 0)"
   ]
  },
  {
   "cell_type": "code",
   "execution_count": 58,
   "id": "17430464",
   "metadata": {},
   "outputs": [],
   "source": [
    "# scaling data\n",
    "\n",
    "from sklearn.preprocessing import StandardScaler\n",
    "\n",
    "scaler = StandardScaler()\n",
    "\n",
    "X_train = scaler.fit_transform(X_train)\n",
    "X_test = scaler.transform(X_test)"
   ]
  },
  {
   "cell_type": "code",
   "execution_count": 98,
   "id": "a1abaeae",
   "metadata": {},
   "outputs": [
    {
     "data": {
      "text/plain": [
       "LogisticRegression()"
      ]
     },
     "execution_count": 98,
     "metadata": {},
     "output_type": "execute_result"
    }
   ],
   "source": [
    "# fitting data to model\n",
    "\n",
    "from sklearn.linear_model import LogisticRegression\n",
    "\n",
    "log_reg = LogisticRegression()\n",
    "log_reg.fit(X_train, y_train)"
   ]
  },
  {
   "cell_type": "code",
   "execution_count": 99,
   "id": "e6a64206",
   "metadata": {},
   "outputs": [],
   "source": [
    "# model predictions\n",
    "\n",
    "y_pred = log_reg.predict(X_test)"
   ]
  },
  {
   "cell_type": "code",
   "execution_count": 100,
   "id": "84344b1d",
   "metadata": {},
   "outputs": [
    {
     "name": "stdout",
     "output_type": "stream",
     "text": [
      "0.9899497487437185\n",
      "0.9707602339181286\n"
     ]
    }
   ],
   "source": [
    "# accuracy score\n",
    "\n",
    "from sklearn.metrics import accuracy_score, confusion_matrix, classification_report\n",
    "\n",
    "print(accuracy_score(y_train, log_reg.predict(X_train)))\n",
    "\n",
    "log_reg_acc = accuracy_score(y_test, y_pred)\n",
    "print(log_reg_acc)\n"
   ]
  },
  {
   "cell_type": "code",
   "execution_count": 101,
   "id": "b01ab636",
   "metadata": {},
   "outputs": [
    {
     "name": "stdout",
     "output_type": "stream",
     "text": [
      "[[105   3]\n",
      " [  2  61]]\n"
     ]
    }
   ],
   "source": [
    "# confusion matrix\n",
    "\n",
    "print(confusion_matrix(y_test, y_pred))"
   ]
  },
  {
   "cell_type": "code",
   "execution_count": 102,
   "id": "8b416da2",
   "metadata": {},
   "outputs": [
    {
     "name": "stdout",
     "output_type": "stream",
     "text": [
      "              precision    recall  f1-score   support\n",
      "\n",
      "           0       0.98      0.97      0.98       108\n",
      "           1       0.95      0.97      0.96        63\n",
      "\n",
      "    accuracy                           0.97       171\n",
      "   macro avg       0.97      0.97      0.97       171\n",
      "weighted avg       0.97      0.97      0.97       171\n",
      "\n"
     ]
    }
   ],
   "source": [
    "# classification report\n",
    "\n",
    "print(classification_report(y_test, y_pred))"
   ]
  },
  {
   "cell_type": "code",
   "execution_count": 103,
   "id": "845c8026",
   "metadata": {},
   "outputs": [
    {
     "data": {
      "text/plain": [
       "array([[105,   3],\n",
       "       [  2,  61]], dtype=int64)"
      ]
     },
     "execution_count": 103,
     "metadata": {},
     "output_type": "execute_result"
    }
   ],
   "source": [
    "# Confusion Matrix\n",
    "conf_mat = confusion_matrix(y_test,y_pred)\n",
    "conf_mat"
   ]
  },
  {
   "cell_type": "code",
   "execution_count": 104,
   "id": "b7792ff1",
   "metadata": {},
   "outputs": [],
   "source": [
    "true_positive = conf_mat[0][0]\n",
    "false_positive = conf_mat[0][1]\n",
    "false_negative = conf_mat[1][0]\n",
    "true_negative = conf_mat[1][1]"
   ]
  },
  {
   "cell_type": "code",
   "execution_count": 105,
   "id": "db2ee06e",
   "metadata": {},
   "outputs": [
    {
     "data": {
      "text/plain": [
       "0.9707602339181286"
      ]
     },
     "execution_count": 105,
     "metadata": {},
     "output_type": "execute_result"
    }
   ],
   "source": [
    "# Breaking down the formula for Accuracy\n",
    "Accuracy = (true_positive + true_negative) / (true_positive +false_positive + false_negative + true_negative)\n",
    "Accuracy"
   ]
  },
  {
   "cell_type": "code",
   "execution_count": 106,
   "id": "757148cc",
   "metadata": {},
   "outputs": [
    {
     "data": {
      "text/plain": [
       "0.9722222222222222"
      ]
     },
     "execution_count": 106,
     "metadata": {},
     "output_type": "execute_result"
    }
   ],
   "source": [
    "# Precison\n",
    "Precision = true_positive/(true_positive+false_positive)\n",
    "Precision"
   ]
  },
  {
   "cell_type": "code",
   "execution_count": 107,
   "id": "e7c11590",
   "metadata": {},
   "outputs": [
    {
     "data": {
      "text/plain": [
       "0.9813084112149533"
      ]
     },
     "execution_count": 107,
     "metadata": {},
     "output_type": "execute_result"
    }
   ],
   "source": [
    "# Recall\n",
    "Recall = true_positive/(true_positive+false_negative)\n",
    "Recall"
   ]
  },
  {
   "cell_type": "code",
   "execution_count": 108,
   "id": "743292a3",
   "metadata": {},
   "outputs": [
    {
     "data": {
      "text/plain": [
       "0.9767441860465117"
      ]
     },
     "execution_count": 108,
     "metadata": {},
     "output_type": "execute_result"
    }
   ],
   "source": [
    "# F1 Score\n",
    "F1_Score = 2*(Recall * Precision) / (Recall + Precision)\n",
    "F1_Score"
   ]
  },
  {
   "cell_type": "code",
   "execution_count": 110,
   "id": "85db0e25",
   "metadata": {},
   "outputs": [
    {
     "data": {
      "text/plain": [
       "0.9702380952380952"
      ]
     },
     "execution_count": 110,
     "metadata": {},
     "output_type": "execute_result"
    }
   ],
   "source": [
    "from sklearn.metrics import accuracy_score, confusion_matrix, roc_curve, roc_auc_score\n",
    "# Area Under Curve\n",
    "auc = roc_auc_score(y_test, y_pred)\n",
    "auc"
   ]
  },
  {
   "cell_type": "markdown",
   "id": "399ca884",
   "metadata": {},
   "source": [
    "#### ROC"
   ]
  },
  {
   "cell_type": "code",
   "execution_count": 111,
   "id": "437694d9",
   "metadata": {},
   "outputs": [],
   "source": [
    "fpr, tpr, thresholds = roc_curve(y_test, y_pred)"
   ]
  },
  {
   "cell_type": "code",
   "execution_count": 112,
   "id": "ad6fb83a",
   "metadata": {},
   "outputs": [
    {
     "data": {
      "image/png": "[encoded data removed]",
      "text/plain": [
       "<Figure size 432x288 with 1 Axes>"
      ]
     },
     "metadata": {
      "needs_background": "light"
     },
     "output_type": "display_data"
    }
   ],
   "source": [
    "plt.plot(fpr, tpr, color='orange', label='ROC')\n",
    "plt.plot([0, 1], [0, 1], color='darkblue', linestyle='--',label='ROC curve (area = %0.2f)' % auc)\n",
    "plt.xlabel('False Positive Rate')\n",
    "plt.ylabel('True Positive Rate')\n",
    "plt.title('Receiver Operating Characteristic (ROC) Curve')\n",
    "plt.legend()\n",
    "plt.show()"
   ]
  },
  {
   "cell_type": "markdown",
   "id": "a8f2019d",
   "metadata": {},
   "source": [
    "## KNN Classifier"
   ]
  },
  {
   "cell_type": "code",
   "execution_count": 65,
   "id": "2f912ac1",
   "metadata": {},
   "outputs": [
    {
     "data": {
      "text/plain": [
       "KNeighborsClassifier()"
      ]
     },
     "execution_count": 65,
     "metadata": {},
     "output_type": "execute_result"
    }
   ],
   "source": [
    "from sklearn.neighbors import KNeighborsClassifier\n",
    "\n",
    "knn = KNeighborsClassifier()\n",
    "knn.fit(X_train, y_train)"
   ]
  },
  {
   "cell_type": "code",
   "execution_count": 67,
   "id": "dae231a1",
   "metadata": {},
   "outputs": [],
   "source": [
    "y_train_pred = knn.predict(X_train)"
   ]
  },
  {
   "cell_type": "code",
   "execution_count": 69,
   "id": "cfd16096",
   "metadata": {},
   "outputs": [],
   "source": [
    "# model predictions \n",
    "y_pred = knn.predict(X_test)"
   ]
  },
  {
   "cell_type": "code",
   "execution_count": 71,
   "id": "22d75024",
   "metadata": {},
   "outputs": [
    {
     "name": "stdout",
     "output_type": "stream",
     "text": [
      "0.9748743718592965\n",
      "0.9707602339181286\n"
     ]
    }
   ],
   "source": [
    "# accuracy score\n",
    "\n",
    "print(accuracy_score(y_train, y_train_pred))\n",
    "\n",
    "knn_acc = accuracy_score(y_test, y_pred)\n",
    "print(knn_acc)"
   ]
  },
  {
   "cell_type": "code",
   "execution_count": 72,
   "id": "ef377ae2",
   "metadata": {},
   "outputs": [
    {
     "name": "stdout",
     "output_type": "stream",
     "text": [
      "[[107   1]\n",
      " [  4  59]]\n"
     ]
    }
   ],
   "source": [
    "# confusion matrix\n",
    "\n",
    "print(confusion_matrix(y_test, y_pred))"
   ]
  },
  {
   "cell_type": "code",
   "execution_count": 73,
   "id": "9cf360a1",
   "metadata": {},
   "outputs": [
    {
     "name": "stdout",
     "output_type": "stream",
     "text": [
      "              precision    recall  f1-score   support\n",
      "\n",
      "           0       0.96      0.99      0.98       108\n",
      "           1       0.98      0.94      0.96        63\n",
      "\n",
      "    accuracy                           0.97       171\n",
      "   macro avg       0.97      0.96      0.97       171\n",
      "weighted avg       0.97      0.97      0.97       171\n",
      "\n"
     ]
    }
   ],
   "source": [
    "# classification report\n",
    "\n",
    "print(classification_report(y_test, y_pred))"
   ]
  },
  {
   "cell_type": "code",
   "execution_count": 74,
   "id": "d5711e5c",
   "metadata": {},
   "outputs": [],
   "source": [
    "from sklearn.model_selection import train_test_split, GridSearchCV\n",
    "from sklearn.model_selection import KFold"
   ]
  },
  {
   "cell_type": "code",
   "execution_count": 75,
   "id": "841295e5",
   "metadata": {},
   "outputs": [],
   "source": [
    "param_grid = { 'algorithm' : ['ball_tree', 'kd_tree', 'brute'],\n",
    "               'leaf_size' : [18,20,25,27,30,32,34],\n",
    "               'n_neighbors' : [3,5,7,9,10,11,12,13]\n",
    "              }"
   ]
  },
  {
   "cell_type": "code",
   "execution_count": 76,
   "id": "8a5d6dd5",
   "metadata": {},
   "outputs": [],
   "source": [
    "gridsearch = GridSearchCV(knn, param_grid,verbose=3)"
   ]
  },
  {
   "cell_type": "code",
   "execution_count": 78,
   "id": "d7a6a909",
   "metadata": {},
   "outputs": [
    {
     "name": "stdout",
     "output_type": "stream",
     "text": [
      "Fitting 5 folds for each of 168 candidates, totalling 840 fits\n",
      "[CV 1/5] END algorithm=ball_tree, leaf_size=18, n_neighbors=3;, score=0.975 total time=   0.0s\n",
      "[CV 2/5] END algorithm=ball_tree, leaf_size=18, n_neighbors=3;, score=0.938 total time=   0.0s\n",
      "[CV 3/5] END algorithm=ball_tree, leaf_size=18, n_neighbors=3;, score=0.950 total time=   0.0s\n",
      "[CV 4/5] END algorithm=ball_tree, leaf_size=18, n_neighbors=3;, score=0.987 total time=   0.0s\n",
      "[CV 5/5] END algorithm=ball_tree, leaf_size=18, n_neighbors=3;, score=0.975 total time=   0.0s\n",
      "[CV 1/5] END algorithm=ball_tree, leaf_size=18, n_neighbors=5;, score=0.950 total time=   0.0s\n",
      "[CV 2/5] END algorithm=ball_tree, leaf_size=18, n_neighbors=5;, score=0.938 total time=   0.0s\n",
      "[CV 3/5] END algorithm=ball_tree, leaf_size=18, n_neighbors=5;, score=0.950 total time=   0.0s\n",
      "[CV 4/5] END algorithm=ball_tree, leaf_size=18, n_neighbors=5;, score=0.975 total time=   0.0s\n",
      "[CV 5/5] END algorithm=ball_tree, leaf_size=18, n_neighbors=5;, score=0.937 total time=   0.0s\n",
      "[CV 1/5] END algorithm=ball_tree, leaf_size=18, n_neighbors=7;, score=0.950 total time=   0.0s\n",
      "[CV 2/5] END algorithm=ball_tree, leaf_size=18, n_neighbors=7;, score=0.938 total time=   0.0s\n",
      "[CV 3/5] END algorithm=ball_tree, leaf_size=18, n_neighbors=7;, score=0.963 total time=   0.0s\n",
      "[CV 4/5] END algorithm=ball_tree, leaf_size=18, n_neighbors=7;, score=0.987 total time=   0.0s\n",
      "[CV 5/5] END algorithm=ball_tree, leaf_size=18, n_neighbors=7;, score=0.962 total time=   0.0s\n",
      "[CV 1/5] END algorithm=ball_tree, leaf_size=18, n_neighbors=9;, score=0.950 total time=   0.0s\n",
      "[CV 2/5] END algorithm=ball_tree, leaf_size=18, n_neighbors=9;, score=0.938 total time=   0.0s\n",
      "[CV 3/5] END algorithm=ball_tree, leaf_size=18, n_neighbors=9;, score=0.963 total time=   0.0s\n",
      "[CV 4/5] END algorithm=ball_tree, leaf_size=18, n_neighbors=9;, score=0.987 total time=   0.0s\n",
      "[CV 5/5] END algorithm=ball_tree, leaf_size=18, n_neighbors=9;, score=0.975 total time=   0.0s\n",
      "[CV 1/5] END algorithm=ball_tree, leaf_size=18, n_neighbors=10;, score=0.950 total time=   0.0s\n",
      "[CV 2/5] END algorithm=ball_tree, leaf_size=18, n_neighbors=10;, score=0.925 total time=   0.0s\n",
      "[CV 3/5] END algorithm=ball_tree, leaf_size=18, n_neighbors=10;, score=0.963 total time=   0.0s\n",
      "[CV 4/5] END algorithm=ball_tree, leaf_size=18, n_neighbors=10;, score=0.975 total time=   0.0s\n",
      "[CV 5/5] END algorithm=ball_tree, leaf_size=18, n_neighbors=10;, score=0.962 total time=   0.0s\n",
      "[CV 1/5] END algorithm=ball_tree, leaf_size=18, n_neighbors=11;, score=0.950 total time=   0.0s\n",
      "[CV 2/5] END algorithm=ball_tree, leaf_size=18, n_neighbors=11;, score=0.925 total time=   0.0s\n",
      "[CV 3/5] END algorithm=ball_tree, leaf_size=18, n_neighbors=11;, score=0.963 total time=   0.0s\n",
      "[CV 4/5] END algorithm=ball_tree, leaf_size=18, n_neighbors=11;, score=0.975 total time=   0.0s\n",
      "[CV 5/5] END algorithm=ball_tree, leaf_size=18, n_neighbors=11;, score=0.962 total time=   0.0s\n",
      "[CV 1/5] END algorithm=ball_tree, leaf_size=18, n_neighbors=12;, score=0.938 total time=   0.0s\n",
      "[CV 2/5] END algorithm=ball_tree, leaf_size=18, n_neighbors=12;, score=0.912 total time=   0.0s\n",
      "[CV 3/5] END algorithm=ball_tree, leaf_size=18, n_neighbors=12;, score=0.963 total time=   0.0s\n",
      "[CV 4/5] END algorithm=ball_tree, leaf_size=18, n_neighbors=12;, score=0.975 total time=   0.0s\n",
      "[CV 5/5] END algorithm=ball_tree, leaf_size=18, n_neighbors=12;, score=0.962 total time=   0.0s\n",
      "[CV 1/5] END algorithm=ball_tree, leaf_size=18, n_neighbors=13;, score=0.938 total time=   0.0s\n",
      "[CV 2/5] END algorithm=ball_tree, leaf_size=18, n_neighbors=13;, score=0.912 total time=   0.0s\n",
      "[CV 3/5] END algorithm=ball_tree, leaf_size=18, n_neighbors=13;, score=0.963 total time=   0.0s\n",
      "[CV 4/5] END algorithm=ball_tree, leaf_size=18, n_neighbors=13;, score=0.975 total time=   0.0s\n",
      "[CV 5/5] END algorithm=ball_tree, leaf_size=18, n_neighbors=13;, score=0.975 total time=   0.0s\n",
      "[CV 1/5] END algorithm=ball_tree, leaf_size=20, n_neighbors=3;, score=0.975 total time=   0.0s\n",
      "[CV 2/5] END algorithm=ball_tree, leaf_size=20, n_neighbors=3;, score=0.938 total time=   0.0s\n",
      "[CV 3/5] END algorithm=ball_tree, leaf_size=20, n_neighbors=3;, score=0.950 total time=   0.0s\n",
      "[CV 4/5] END algorithm=ball_tree, leaf_size=20, n_neighbors=3;, score=0.987 total time=   0.0s\n",
      "[CV 5/5] END algorithm=ball_tree, leaf_size=20, n_neighbors=3;, score=0.975 total time=   0.0s\n",
      "[CV 1/5] END algorithm=ball_tree, leaf_size=20, n_neighbors=5;, score=0.950 total time=   0.0s\n",
      "[CV 2/5] END algorithm=ball_tree, leaf_size=20, n_neighbors=5;, score=0.938 total time=   0.0s\n",
      "[CV 3/5] END algorithm=ball_tree, leaf_size=20, n_neighbors=5;, score=0.950 total time=   0.0s\n",
      "[CV 4/5] END algorithm=ball_tree, leaf_size=20, n_neighbors=5;, score=0.975 total time=   0.0s\n",
      "[CV 5/5] END algorithm=ball_tree, leaf_size=20, n_neighbors=5;, score=0.937 total time=   0.0s\n",
      "[CV 1/5] END algorithm=ball_tree, leaf_size=20, n_neighbors=7;, score=0.950 total time=   0.0s\n",
      "[CV 2/5] END algorithm=ball_tree, leaf_size=20, n_neighbors=7;, score=0.938 total time=   0.0s\n",
      "[CV 3/5] END algorithm=ball_tree, leaf_size=20, n_neighbors=7;, score=0.963 total time=   0.0s\n",
      "[CV 4/5] END algorithm=ball_tree, leaf_size=20, n_neighbors=7;, score=0.987 total time=   0.0s\n",
      "[CV 5/5] END algorithm=ball_tree, leaf_size=20, n_neighbors=7;, score=0.962 total time=   0.0s\n",
      "[CV 1/5] END algorithm=ball_tree, leaf_size=20, n_neighbors=9;, score=0.950 total time=   0.0s\n",
      "[CV 2/5] END algorithm=ball_tree, leaf_size=20, n_neighbors=9;, score=0.938 total time=   0.0s\n",
      "[CV 3/5] END algorithm=ball_tree, leaf_size=20, n_neighbors=9;, score=0.963 total time=   0.0s\n",
      "[CV 4/5] END algorithm=ball_tree, leaf_size=20, n_neighbors=9;, score=0.987 total time=   0.0s\n",
      "[CV 5/5] END algorithm=ball_tree, leaf_size=20, n_neighbors=9;, score=0.975 total time=   0.0s\n",
      "[CV 1/5] END algorithm=ball_tree, leaf_size=20, n_neighbors=10;, score=0.950 total time=   0.0s\n",
      "[CV 2/5] END algorithm=ball_tree, leaf_size=20, n_neighbors=10;, score=0.925 total time=   0.0s\n",
      "[CV 3/5] END algorithm=ball_tree, leaf_size=20, n_neighbors=10;, score=0.963 total time=   0.0s\n",
      "[CV 4/5] END algorithm=ball_tree, leaf_size=20, n_neighbors=10;, score=0.975 total time=   0.0s\n",
      "[CV 5/5] END algorithm=ball_tree, leaf_size=20, n_neighbors=10;, score=0.962 total time=   0.0s\n",
      "[CV 1/5] END algorithm=ball_tree, leaf_size=20, n_neighbors=11;, score=0.950 total time=   0.0s\n",
      "[CV 2/5] END algorithm=ball_tree, leaf_size=20, n_neighbors=11;, score=0.925 total time=   0.0s\n",
      "[CV 3/5] END algorithm=ball_tree, leaf_size=20, n_neighbors=11;, score=0.963 total time=   0.0s\n",
      "[CV 4/5] END algorithm=ball_tree, leaf_size=20, n_neighbors=11;, score=0.975 total time=   0.0s\n",
      "[CV 5/5] END algorithm=ball_tree, leaf_size=20, n_neighbors=11;, score=0.962 total time=   0.0s\n",
      "[CV 1/5] END algorithm=ball_tree, leaf_size=20, n_neighbors=12;, score=0.938 total time=   0.0s\n",
      "[CV 2/5] END algorithm=ball_tree, leaf_size=20, n_neighbors=12;, score=0.912 total time=   0.0s\n",
      "[CV 3/5] END algorithm=ball_tree, leaf_size=20, n_neighbors=12;, score=0.963 total time=   0.0s\n",
      "[CV 4/5] END algorithm=ball_tree, leaf_size=20, n_neighbors=12;, score=0.975 total time=   0.0s\n",
      "[CV 5/5] END algorithm=ball_tree, leaf_size=20, n_neighbors=12;, score=0.962 total time=   0.0s\n",
      "[CV 1/5] END algorithm=ball_tree, leaf_size=20, n_neighbors=13;, score=0.938 total time=   0.0s\n",
      "[CV 2/5] END algorithm=ball_tree, leaf_size=20, n_neighbors=13;, score=0.912 total time=   0.0s\n",
      "[CV 3/5] END algorithm=ball_tree, leaf_size=20, n_neighbors=13;, score=0.963 total time=   0.0s\n",
      "[CV 4/5] END algorithm=ball_tree, leaf_size=20, n_neighbors=13;, score=0.975 total time=   0.0s\n",
      "[CV 5/5] END algorithm=ball_tree, leaf_size=20, n_neighbors=13;, score=0.975 total time=   0.0s\n",
      "[CV 1/5] END algorithm=ball_tree, leaf_size=25, n_neighbors=3;, score=0.975 total time=   0.0s\n",
      "[CV 2/5] END algorithm=ball_tree, leaf_size=25, n_neighbors=3;, score=0.938 total time=   0.0s\n",
      "[CV 3/5] END algorithm=ball_tree, leaf_size=25, n_neighbors=3;, score=0.950 total time=   0.0s\n",
      "[CV 4/5] END algorithm=ball_tree, leaf_size=25, n_neighbors=3;, score=0.987 total time=   0.0s\n",
      "[CV 5/5] END algorithm=ball_tree, leaf_size=25, n_neighbors=3;, score=0.975 total time=   0.0s\n",
      "[CV 1/5] END algorithm=ball_tree, leaf_size=25, n_neighbors=5;, score=0.950 total time=   0.0s\n",
      "[CV 2/5] END algorithm=ball_tree, leaf_size=25, n_neighbors=5;, score=0.938 total time=   0.0s\n",
      "[CV 3/5] END algorithm=ball_tree, leaf_size=25, n_neighbors=5;, score=0.950 total time=   0.0s\n",
      "[CV 4/5] END algorithm=ball_tree, leaf_size=25, n_neighbors=5;, score=0.975 total time=   0.0s\n",
      "[CV 5/5] END algorithm=ball_tree, leaf_size=25, n_neighbors=5;, score=0.937 total time=   0.0s\n"
     ]
    },
    {
     "name": "stdout",
     "output_type": "stream",
     "text": [
      "[CV 1/5] END algorithm=ball_tree, leaf_size=25, n_neighbors=7;, score=0.950 total time=   0.0s\n",
      "[CV 2/5] END algorithm=ball_tree, leaf_size=25, n_neighbors=7;, score=0.938 total time=   0.0s\n",
      "[CV 3/5] END algorithm=ball_tree, leaf_size=25, n_neighbors=7;, score=0.963 total time=   0.0s\n",
      "[CV 4/5] END algorithm=ball_tree, leaf_size=25, n_neighbors=7;, score=0.987 total time=   0.0s\n",
      "[CV 5/5] END algorithm=ball_tree, leaf_size=25, n_neighbors=7;, score=0.962 total time=   0.0s\n",
      "[CV 1/5] END algorithm=ball_tree, leaf_size=25, n_neighbors=9;, score=0.950 total time=   0.0s\n",
      "[CV 2/5] END algorithm=ball_tree, leaf_size=25, n_neighbors=9;, score=0.938 total time=   0.0s\n",
      "[CV 3/5] END algorithm=ball_tree, leaf_size=25, n_neighbors=9;, score=0.963 total time=   0.0s\n",
      "[CV 4/5] END algorithm=ball_tree, leaf_size=25, n_neighbors=9;, score=0.987 total time=   0.0s\n",
      "[CV 5/5] END algorithm=ball_tree, leaf_size=25, n_neighbors=9;, score=0.975 total time=   0.0s\n",
      "[CV 1/5] END algorithm=ball_tree, leaf_size=25, n_neighbors=10;, score=0.950 total time=   0.0s\n",
      "[CV 2/5] END algorithm=ball_tree, leaf_size=25, n_neighbors=10;, score=0.925 total time=   0.0s\n",
      "[CV 3/5] END algorithm=ball_tree, leaf_size=25, n_neighbors=10;, score=0.963 total time=   0.0s\n",
      "[CV 4/5] END algorithm=ball_tree, leaf_size=25, n_neighbors=10;, score=0.975 total time=   0.0s\n",
      "[CV 5/5] END algorithm=ball_tree, leaf_size=25, n_neighbors=10;, score=0.962 total time=   0.0s\n",
      "[CV 1/5] END algorithm=ball_tree, leaf_size=25, n_neighbors=11;, score=0.950 total time=   0.0s\n",
      "[CV 2/5] END algorithm=ball_tree, leaf_size=25, n_neighbors=11;, score=0.925 total time=   0.0s\n",
      "[CV 3/5] END algorithm=ball_tree, leaf_size=25, n_neighbors=11;, score=0.963 total time=   0.0s\n",
      "[CV 4/5] END algorithm=ball_tree, leaf_size=25, n_neighbors=11;, score=0.975 total time=   0.0s\n",
      "[CV 5/5] END algorithm=ball_tree, leaf_size=25, n_neighbors=11;, score=0.962 total time=   0.0s\n",
      "[CV 1/5] END algorithm=ball_tree, leaf_size=25, n_neighbors=12;, score=0.938 total time=   0.0s\n",
      "[CV 2/5] END algorithm=ball_tree, leaf_size=25, n_neighbors=12;, score=0.912 total time=   0.0s\n",
      "[CV 3/5] END algorithm=ball_tree, leaf_size=25, n_neighbors=12;, score=0.963 total time=   0.0s\n",
      "[CV 4/5] END algorithm=ball_tree, leaf_size=25, n_neighbors=12;, score=0.975 total time=   0.0s\n",
      "[CV 5/5] END algorithm=ball_tree, leaf_size=25, n_neighbors=12;, score=0.962 total time=   0.0s\n",
      "[CV 1/5] END algorithm=ball_tree, leaf_size=25, n_neighbors=13;, score=0.938 total time=   0.0s\n",
      "[CV 2/5] END algorithm=ball_tree, leaf_size=25, n_neighbors=13;, score=0.912 total time=   0.0s\n",
      "[CV 3/5] END algorithm=ball_tree, leaf_size=25, n_neighbors=13;, score=0.963 total time=   0.0s\n",
      "[CV 4/5] END algorithm=ball_tree, leaf_size=25, n_neighbors=13;, score=0.975 total time=   0.0s\n",
      "[CV 5/5] END algorithm=ball_tree, leaf_size=25, n_neighbors=13;, score=0.975 total time=   0.0s\n",
      "[CV 1/5] END algorithm=ball_tree, leaf_size=27, n_neighbors=3;, score=0.975 total time=   0.0s\n",
      "[CV 2/5] END algorithm=ball_tree, leaf_size=27, n_neighbors=3;, score=0.938 total time=   0.0s\n",
      "[CV 3/5] END algorithm=ball_tree, leaf_size=27, n_neighbors=3;, score=0.950 total time=   0.0s\n",
      "[CV 4/5] END algorithm=ball_tree, leaf_size=27, n_neighbors=3;, score=0.987 total time=   0.0s\n",
      "[CV 5/5] END algorithm=ball_tree, leaf_size=27, n_neighbors=3;, score=0.975 total time=   0.0s\n",
      "[CV 1/5] END algorithm=ball_tree, leaf_size=27, n_neighbors=5;, score=0.950 total time=   0.0s\n",
      "[CV 2/5] END algorithm=ball_tree, leaf_size=27, n_neighbors=5;, score=0.938 total time=   0.0s\n",
      "[CV 3/5] END algorithm=ball_tree, leaf_size=27, n_neighbors=5;, score=0.950 total time=   0.0s\n",
      "[CV 4/5] END algorithm=ball_tree, leaf_size=27, n_neighbors=5;, score=0.975 total time=   0.0s\n",
      "[CV 5/5] END algorithm=ball_tree, leaf_size=27, n_neighbors=5;, score=0.937 total time=   0.0s\n",
      "[CV 1/5] END algorithm=ball_tree, leaf_size=27, n_neighbors=7;, score=0.950 total time=   0.0s\n",
      "[CV 2/5] END algorithm=ball_tree, leaf_size=27, n_neighbors=7;, score=0.938 total time=   0.0s\n",
      "[CV 3/5] END algorithm=ball_tree, leaf_size=27, n_neighbors=7;, score=0.963 total time=   0.0s\n",
      "[CV 4/5] END algorithm=ball_tree, leaf_size=27, n_neighbors=7;, score=0.987 total time=   0.0s\n",
      "[CV 5/5] END algorithm=ball_tree, leaf_size=27, n_neighbors=7;, score=0.962 total time=   0.0s\n",
      "[CV 1/5] END algorithm=ball_tree, leaf_size=27, n_neighbors=9;, score=0.950 total time=   0.0s\n",
      "[CV 2/5] END algorithm=ball_tree, leaf_size=27, n_neighbors=9;, score=0.938 total time=   0.0s\n",
      "[CV 3/5] END algorithm=ball_tree, leaf_size=27, n_neighbors=9;, score=0.963 total time=   0.0s\n",
      "[CV 4/5] END algorithm=ball_tree, leaf_size=27, n_neighbors=9;, score=0.987 total time=   0.0s\n",
      "[CV 5/5] END algorithm=ball_tree, leaf_size=27, n_neighbors=9;, score=0.975 total time=   0.0s\n",
      "[CV 1/5] END algorithm=ball_tree, leaf_size=27, n_neighbors=10;, score=0.950 total time=   0.0s\n",
      "[CV 2/5] END algorithm=ball_tree, leaf_size=27, n_neighbors=10;, score=0.925 total time=   0.0s\n",
      "[CV 3/5] END algorithm=ball_tree, leaf_size=27, n_neighbors=10;, score=0.963 total time=   0.0s\n",
      "[CV 4/5] END algorithm=ball_tree, leaf_size=27, n_neighbors=10;, score=0.975 total time=   0.0s\n",
      "[CV 5/5] END algorithm=ball_tree, leaf_size=27, n_neighbors=10;, score=0.962 total time=   0.0s\n",
      "[CV 1/5] END algorithm=ball_tree, leaf_size=27, n_neighbors=11;, score=0.950 total time=   0.0s\n",
      "[CV 2/5] END algorithm=ball_tree, leaf_size=27, n_neighbors=11;, score=0.925 total time=   0.0s\n",
      "[CV 3/5] END algorithm=ball_tree, leaf_size=27, n_neighbors=11;, score=0.963 total time=   0.0s\n",
      "[CV 4/5] END algorithm=ball_tree, leaf_size=27, n_neighbors=11;, score=0.975 total time=   0.0s\n",
      "[CV 5/5] END algorithm=ball_tree, leaf_size=27, n_neighbors=11;, score=0.962 total time=   0.0s\n",
      "[CV 1/5] END algorithm=ball_tree, leaf_size=27, n_neighbors=12;, score=0.938 total time=   0.0s\n",
      "[CV 2/5] END algorithm=ball_tree, leaf_size=27, n_neighbors=12;, score=0.912 total time=   0.0s\n",
      "[CV 3/5] END algorithm=ball_tree, leaf_size=27, n_neighbors=12;, score=0.963 total time=   0.0s\n",
      "[CV 4/5] END algorithm=ball_tree, leaf_size=27, n_neighbors=12;, score=0.975 total time=   0.0s\n",
      "[CV 5/5] END algorithm=ball_tree, leaf_size=27, n_neighbors=12;, score=0.962 total time=   0.0s\n",
      "[CV 1/5] END algorithm=ball_tree, leaf_size=27, n_neighbors=13;, score=0.938 total time=   0.0s\n",
      "[CV 2/5] END algorithm=ball_tree, leaf_size=27, n_neighbors=13;, score=0.912 total time=   0.0s\n",
      "[CV 3/5] END algorithm=ball_tree, leaf_size=27, n_neighbors=13;, score=0.963 total time=   0.0s\n",
      "[CV 4/5] END algorithm=ball_tree, leaf_size=27, n_neighbors=13;, score=0.975 total time=   0.0s\n",
      "[CV 5/5] END algorithm=ball_tree, leaf_size=27, n_neighbors=13;, score=0.975 total time=   0.0s\n",
      "[CV 1/5] END algorithm=ball_tree, leaf_size=30, n_neighbors=3;, score=0.975 total time=   0.0s\n",
      "[CV 2/5] END algorithm=ball_tree, leaf_size=30, n_neighbors=3;, score=0.938 total time=   0.0s\n",
      "[CV 3/5] END algorithm=ball_tree, leaf_size=30, n_neighbors=3;, score=0.950 total time=   0.0s\n",
      "[CV 4/5] END algorithm=ball_tree, leaf_size=30, n_neighbors=3;, score=0.987 total time=   0.0s\n",
      "[CV 5/5] END algorithm=ball_tree, leaf_size=30, n_neighbors=3;, score=0.975 total time=   0.0s\n",
      "[CV 1/5] END algorithm=ball_tree, leaf_size=30, n_neighbors=5;, score=0.950 total time=   0.0s\n",
      "[CV 2/5] END algorithm=ball_tree, leaf_size=30, n_neighbors=5;, score=0.938 total time=   0.0s\n",
      "[CV 3/5] END algorithm=ball_tree, leaf_size=30, n_neighbors=5;, score=0.950 total time=   0.0s\n",
      "[CV 4/5] END algorithm=ball_tree, leaf_size=30, n_neighbors=5;, score=0.975 total time=   0.0s\n",
      "[CV 5/5] END algorithm=ball_tree, leaf_size=30, n_neighbors=5;, score=0.937 total time=   0.0s\n",
      "[CV 1/5] END algorithm=ball_tree, leaf_size=30, n_neighbors=7;, score=0.950 total time=   0.0s\n",
      "[CV 2/5] END algorithm=ball_tree, leaf_size=30, n_neighbors=7;, score=0.938 total time=   0.0s\n",
      "[CV 3/5] END algorithm=ball_tree, leaf_size=30, n_neighbors=7;, score=0.963 total time=   0.0s\n",
      "[CV 4/5] END algorithm=ball_tree, leaf_size=30, n_neighbors=7;, score=0.987 total time=   0.0s\n",
      "[CV 5/5] END algorithm=ball_tree, leaf_size=30, n_neighbors=7;, score=0.962 total time=   0.0s\n",
      "[CV 1/5] END algorithm=ball_tree, leaf_size=30, n_neighbors=9;, score=0.950 total time=   0.0s\n",
      "[CV 2/5] END algorithm=ball_tree, leaf_size=30, n_neighbors=9;, score=0.938 total time=   0.0s\n",
      "[CV 3/5] END algorithm=ball_tree, leaf_size=30, n_neighbors=9;, score=0.963 total time=   0.0s\n",
      "[CV 4/5] END algorithm=ball_tree, leaf_size=30, n_neighbors=9;, score=0.987 total time=   0.0s\n"
     ]
    },
    {
     "name": "stdout",
     "output_type": "stream",
     "text": [
      "[CV 5/5] END algorithm=ball_tree, leaf_size=30, n_neighbors=9;, score=0.975 total time=   0.0s\n",
      "[CV 1/5] END algorithm=ball_tree, leaf_size=30, n_neighbors=10;, score=0.950 total time=   0.0s\n",
      "[CV 2/5] END algorithm=ball_tree, leaf_size=30, n_neighbors=10;, score=0.925 total time=   0.0s\n",
      "[CV 3/5] END algorithm=ball_tree, leaf_size=30, n_neighbors=10;, score=0.963 total time=   0.0s\n",
      "[CV 4/5] END algorithm=ball_tree, leaf_size=30, n_neighbors=10;, score=0.975 total time=   0.0s\n",
      "[CV 5/5] END algorithm=ball_tree, leaf_size=30, n_neighbors=10;, score=0.962 total time=   0.0s\n",
      "[CV 1/5] END algorithm=ball_tree, leaf_size=30, n_neighbors=11;, score=0.950 total time=   0.0s\n",
      "[CV 2/5] END algorithm=ball_tree, leaf_size=30, n_neighbors=11;, score=0.925 total time=   0.0s\n",
      "[CV 3/5] END algorithm=ball_tree, leaf_size=30, n_neighbors=11;, score=0.963 total time=   0.0s\n",
      "[CV 4/5] END algorithm=ball_tree, leaf_size=30, n_neighbors=11;, score=0.975 total time=   0.0s\n",
      "[CV 5/5] END algorithm=ball_tree, leaf_size=30, n_neighbors=11;, score=0.962 total time=   0.0s\n",
      "[CV 1/5] END algorithm=ball_tree, leaf_size=30, n_neighbors=12;, score=0.938 total time=   0.0s\n",
      "[CV 2/5] END algorithm=ball_tree, leaf_size=30, n_neighbors=12;, score=0.912 total time=   0.0s\n",
      "[CV 3/5] END algorithm=ball_tree, leaf_size=30, n_neighbors=12;, score=0.963 total time=   0.0s\n",
      "[CV 4/5] END algorithm=ball_tree, leaf_size=30, n_neighbors=12;, score=0.975 total time=   0.0s\n",
      "[CV 5/5] END algorithm=ball_tree, leaf_size=30, n_neighbors=12;, score=0.962 total time=   0.0s\n",
      "[CV 1/5] END algorithm=ball_tree, leaf_size=30, n_neighbors=13;, score=0.938 total time=   0.0s\n",
      "[CV 2/5] END algorithm=ball_tree, leaf_size=30, n_neighbors=13;, score=0.912 total time=   0.0s\n",
      "[CV 3/5] END algorithm=ball_tree, leaf_size=30, n_neighbors=13;, score=0.963 total time=   0.0s\n",
      "[CV 4/5] END algorithm=ball_tree, leaf_size=30, n_neighbors=13;, score=0.975 total time=   0.0s\n",
      "[CV 5/5] END algorithm=ball_tree, leaf_size=30, n_neighbors=13;, score=0.975 total time=   0.0s\n",
      "[CV 1/5] END algorithm=ball_tree, leaf_size=32, n_neighbors=3;, score=0.975 total time=   0.0s\n",
      "[CV 2/5] END algorithm=ball_tree, leaf_size=32, n_neighbors=3;, score=0.938 total time=   0.0s\n",
      "[CV 3/5] END algorithm=ball_tree, leaf_size=32, n_neighbors=3;, score=0.950 total time=   0.0s\n",
      "[CV 4/5] END algorithm=ball_tree, leaf_size=32, n_neighbors=3;, score=0.987 total time=   0.0s\n",
      "[CV 5/5] END algorithm=ball_tree, leaf_size=32, n_neighbors=3;, score=0.975 total time=   0.0s\n",
      "[CV 1/5] END algorithm=ball_tree, leaf_size=32, n_neighbors=5;, score=0.950 total time=   0.0s\n",
      "[CV 2/5] END algorithm=ball_tree, leaf_size=32, n_neighbors=5;, score=0.938 total time=   0.0s\n",
      "[CV 3/5] END algorithm=ball_tree, leaf_size=32, n_neighbors=5;, score=0.950 total time=   0.0s\n",
      "[CV 4/5] END algorithm=ball_tree, leaf_size=32, n_neighbors=5;, score=0.975 total time=   0.0s\n",
      "[CV 5/5] END algorithm=ball_tree, leaf_size=32, n_neighbors=5;, score=0.937 total time=   0.0s\n",
      "[CV 1/5] END algorithm=ball_tree, leaf_size=32, n_neighbors=7;, score=0.950 total time=   0.0s\n",
      "[CV 2/5] END algorithm=ball_tree, leaf_size=32, n_neighbors=7;, score=0.938 total time=   0.0s\n",
      "[CV 3/5] END algorithm=ball_tree, leaf_size=32, n_neighbors=7;, score=0.963 total time=   0.0s\n",
      "[CV 4/5] END algorithm=ball_tree, leaf_size=32, n_neighbors=7;, score=0.987 total time=   0.0s\n",
      "[CV 5/5] END algorithm=ball_tree, leaf_size=32, n_neighbors=7;, score=0.962 total time=   0.0s\n",
      "[CV 1/5] END algorithm=ball_tree, leaf_size=32, n_neighbors=9;, score=0.950 total time=   0.0s\n",
      "[CV 2/5] END algorithm=ball_tree, leaf_size=32, n_neighbors=9;, score=0.938 total time=   0.0s\n",
      "[CV 3/5] END algorithm=ball_tree, leaf_size=32, n_neighbors=9;, score=0.963 total time=   0.0s\n",
      "[CV 4/5] END algorithm=ball_tree, leaf_size=32, n_neighbors=9;, score=0.987 total time=   0.0s\n",
      "[CV 5/5] END algorithm=ball_tree, leaf_size=32, n_neighbors=9;, score=0.975 total time=   0.0s\n",
      "[CV 1/5] END algorithm=ball_tree, leaf_size=32, n_neighbors=10;, score=0.950 total time=   0.0s\n",
      "[CV 2/5] END algorithm=ball_tree, leaf_size=32, n_neighbors=10;, score=0.925 total time=   0.0s\n",
      "[CV 3/5] END algorithm=ball_tree, leaf_size=32, n_neighbors=10;, score=0.963 total time=   0.0s\n",
      "[CV 4/5] END algorithm=ball_tree, leaf_size=32, n_neighbors=10;, score=0.975 total time=   0.0s\n",
      "[CV 5/5] END algorithm=ball_tree, leaf_size=32, n_neighbors=10;, score=0.962 total time=   0.0s\n",
      "[CV 1/5] END algorithm=ball_tree, leaf_size=32, n_neighbors=11;, score=0.950 total time=   0.0s\n",
      "[CV 2/5] END algorithm=ball_tree, leaf_size=32, n_neighbors=11;, score=0.925 total time=   0.0s\n",
      "[CV 3/5] END algorithm=ball_tree, leaf_size=32, n_neighbors=11;, score=0.963 total time=   0.0s\n",
      "[CV 4/5] END algorithm=ball_tree, leaf_size=32, n_neighbors=11;, score=0.975 total time=   0.0s\n",
      "[CV 5/5] END algorithm=ball_tree, leaf_size=32, n_neighbors=11;, score=0.962 total time=   0.0s\n",
      "[CV 1/5] END algorithm=ball_tree, leaf_size=32, n_neighbors=12;, score=0.938 total time=   0.0s\n",
      "[CV 2/5] END algorithm=ball_tree, leaf_size=32, n_neighbors=12;, score=0.912 total time=   0.0s\n",
      "[CV 3/5] END algorithm=ball_tree, leaf_size=32, n_neighbors=12;, score=0.963 total time=   0.0s\n",
      "[CV 4/5] END algorithm=ball_tree, leaf_size=32, n_neighbors=12;, score=0.975 total time=   0.0s\n",
      "[CV 5/5] END algorithm=ball_tree, leaf_size=32, n_neighbors=12;, score=0.962 total time=   0.0s\n",
      "[CV 1/5] END algorithm=ball_tree, leaf_size=32, n_neighbors=13;, score=0.938 total time=   0.0s\n",
      "[CV 2/5] END algorithm=ball_tree, leaf_size=32, n_neighbors=13;, score=0.912 total time=   0.0s\n",
      "[CV 3/5] END algorithm=ball_tree, leaf_size=32, n_neighbors=13;, score=0.963 total time=   0.0s\n",
      "[CV 4/5] END algorithm=ball_tree, leaf_size=32, n_neighbors=13;, score=0.975 total time=   0.0s\n",
      "[CV 5/5] END algorithm=ball_tree, leaf_size=32, n_neighbors=13;, score=0.975 total time=   0.0s\n",
      "[CV 1/5] END algorithm=ball_tree, leaf_size=34, n_neighbors=3;, score=0.975 total time=   0.0s\n",
      "[CV 2/5] END algorithm=ball_tree, leaf_size=34, n_neighbors=3;, score=0.938 total time=   0.0s\n",
      "[CV 3/5] END algorithm=ball_tree, leaf_size=34, n_neighbors=3;, score=0.950 total time=   0.0s\n",
      "[CV 4/5] END algorithm=ball_tree, leaf_size=34, n_neighbors=3;, score=0.987 total time=   0.0s\n",
      "[CV 5/5] END algorithm=ball_tree, leaf_size=34, n_neighbors=3;, score=0.975 total time=   0.0s\n",
      "[CV 1/5] END algorithm=ball_tree, leaf_size=34, n_neighbors=5;, score=0.950 total time=   0.0s\n",
      "[CV 2/5] END algorithm=ball_tree, leaf_size=34, n_neighbors=5;, score=0.938 total time=   0.0s\n",
      "[CV 3/5] END algorithm=ball_tree, leaf_size=34, n_neighbors=5;, score=0.950 total time=   0.0s\n",
      "[CV 4/5] END algorithm=ball_tree, leaf_size=34, n_neighbors=5;, score=0.975 total time=   0.0s\n",
      "[CV 5/5] END algorithm=ball_tree, leaf_size=34, n_neighbors=5;, score=0.937 total time=   0.0s\n",
      "[CV 1/5] END algorithm=ball_tree, leaf_size=34, n_neighbors=7;, score=0.950 total time=   0.0s\n",
      "[CV 2/5] END algorithm=ball_tree, leaf_size=34, n_neighbors=7;, score=0.938 total time=   0.0s\n",
      "[CV 3/5] END algorithm=ball_tree, leaf_size=34, n_neighbors=7;, score=0.963 total time=   0.0s\n",
      "[CV 4/5] END algorithm=ball_tree, leaf_size=34, n_neighbors=7;, score=0.987 total time=   0.0s\n",
      "[CV 5/5] END algorithm=ball_tree, leaf_size=34, n_neighbors=7;, score=0.962 total time=   0.0s\n",
      "[CV 1/5] END algorithm=ball_tree, leaf_size=34, n_neighbors=9;, score=0.950 total time=   0.0s\n",
      "[CV 2/5] END algorithm=ball_tree, leaf_size=34, n_neighbors=9;, score=0.938 total time=   0.0s\n",
      "[CV 3/5] END algorithm=ball_tree, leaf_size=34, n_neighbors=9;, score=0.963 total time=   0.0s\n",
      "[CV 4/5] END algorithm=ball_tree, leaf_size=34, n_neighbors=9;, score=0.987 total time=   0.0s\n",
      "[CV 5/5] END algorithm=ball_tree, leaf_size=34, n_neighbors=9;, score=0.975 total time=   0.0s\n",
      "[CV 1/5] END algorithm=ball_tree, leaf_size=34, n_neighbors=10;, score=0.950 total time=   0.0s\n",
      "[CV 2/5] END algorithm=ball_tree, leaf_size=34, n_neighbors=10;, score=0.925 total time=   0.0s\n",
      "[CV 3/5] END algorithm=ball_tree, leaf_size=34, n_neighbors=10;, score=0.963 total time=   0.0s\n",
      "[CV 4/5] END algorithm=ball_tree, leaf_size=34, n_neighbors=10;, score=0.975 total time=   0.0s\n",
      "[CV 5/5] END algorithm=ball_tree, leaf_size=34, n_neighbors=10;, score=0.962 total time=   0.0s\n",
      "[CV 1/5] END algorithm=ball_tree, leaf_size=34, n_neighbors=11;, score=0.950 total time=   0.0s\n",
      "[CV 2/5] END algorithm=ball_tree, leaf_size=34, n_neighbors=11;, score=0.925 total time=   0.0s\n",
      "[CV 3/5] END algorithm=ball_tree, leaf_size=34, n_neighbors=11;, score=0.963 total time=   0.0s\n",
      "[CV 4/5] END algorithm=ball_tree, leaf_size=34, n_neighbors=11;, score=0.975 total time=   0.0s\n",
      "[CV 5/5] END algorithm=ball_tree, leaf_size=34, n_neighbors=11;, score=0.962 total time=   0.0s\n",
      "[CV 1/5] END algorithm=ball_tree, leaf_size=34, n_neighbors=12;, score=0.938 total time=   0.0s\n",
      "[CV 2/5] END algorithm=ball_tree, leaf_size=34, n_neighbors=12;, score=0.912 total time=   0.0s\n",
      "[CV 3/5] END algorithm=ball_tree, leaf_size=34, n_neighbors=12;, score=0.963 total time=   0.0s\n",
      "[CV 4/5] END algorithm=ball_tree, leaf_size=34, n_neighbors=12;, score=0.975 total time=   0.0s\n",
      "[CV 5/5] END algorithm=ball_tree, leaf_size=34, n_neighbors=12;, score=0.962 total time=   0.0s\n",
      "[CV 1/5] END algorithm=ball_tree, leaf_size=34, n_neighbors=13;, score=0.938 total time=   0.0s\n"
     ]
    },
    {
     "name": "stdout",
     "output_type": "stream",
     "text": [
      "[CV 2/5] END algorithm=ball_tree, leaf_size=34, n_neighbors=13;, score=0.912 total time=   0.0s\n",
      "[CV 3/5] END algorithm=ball_tree, leaf_size=34, n_neighbors=13;, score=0.963 total time=   0.0s\n",
      "[CV 4/5] END algorithm=ball_tree, leaf_size=34, n_neighbors=13;, score=0.975 total time=   0.0s\n",
      "[CV 5/5] END algorithm=ball_tree, leaf_size=34, n_neighbors=13;, score=0.975 total time=   0.0s\n",
      "[CV 1/5] END algorithm=kd_tree, leaf_size=18, n_neighbors=3;, score=0.975 total time=   0.0s\n",
      "[CV 2/5] END algorithm=kd_tree, leaf_size=18, n_neighbors=3;, score=0.938 total time=   0.0s\n",
      "[CV 3/5] END algorithm=kd_tree, leaf_size=18, n_neighbors=3;, score=0.950 total time=   0.0s\n",
      "[CV 4/5] END algorithm=kd_tree, leaf_size=18, n_neighbors=3;, score=0.987 total time=   0.0s\n",
      "[CV 5/5] END algorithm=kd_tree, leaf_size=18, n_neighbors=3;, score=0.975 total time=   0.0s\n",
      "[CV 1/5] END algorithm=kd_tree, leaf_size=18, n_neighbors=5;, score=0.950 total time=   0.0s\n",
      "[CV 2/5] END algorithm=kd_tree, leaf_size=18, n_neighbors=5;, score=0.938 total time=   0.0s\n",
      "[CV 3/5] END algorithm=kd_tree, leaf_size=18, n_neighbors=5;, score=0.950 total time=   0.0s\n",
      "[CV 4/5] END algorithm=kd_tree, leaf_size=18, n_neighbors=5;, score=0.975 total time=   0.0s\n",
      "[CV 5/5] END algorithm=kd_tree, leaf_size=18, n_neighbors=5;, score=0.937 total time=   0.0s\n",
      "[CV 1/5] END algorithm=kd_tree, leaf_size=18, n_neighbors=7;, score=0.950 total time=   0.0s\n",
      "[CV 2/5] END algorithm=kd_tree, leaf_size=18, n_neighbors=7;, score=0.938 total time=   0.0s\n",
      "[CV 3/5] END algorithm=kd_tree, leaf_size=18, n_neighbors=7;, score=0.963 total time=   0.0s\n",
      "[CV 4/5] END algorithm=kd_tree, leaf_size=18, n_neighbors=7;, score=0.987 total time=   0.0s\n",
      "[CV 5/5] END algorithm=kd_tree, leaf_size=18, n_neighbors=7;, score=0.962 total time=   0.0s\n",
      "[CV 1/5] END algorithm=kd_tree, leaf_size=18, n_neighbors=9;, score=0.950 total time=   0.0s\n",
      "[CV 2/5] END algorithm=kd_tree, leaf_size=18, n_neighbors=9;, score=0.938 total time=   0.0s\n",
      "[CV 3/5] END algorithm=kd_tree, leaf_size=18, n_neighbors=9;, score=0.963 total time=   0.0s\n",
      "[CV 4/5] END algorithm=kd_tree, leaf_size=18, n_neighbors=9;, score=0.987 total time=   0.0s\n",
      "[CV 5/5] END algorithm=kd_tree, leaf_size=18, n_neighbors=9;, score=0.975 total time=   0.0s\n",
      "[CV 1/5] END algorithm=kd_tree, leaf_size=18, n_neighbors=10;, score=0.950 total time=   0.0s\n",
      "[CV 2/5] END algorithm=kd_tree, leaf_size=18, n_neighbors=10;, score=0.925 total time=   0.0s\n",
      "[CV 3/5] END algorithm=kd_tree, leaf_size=18, n_neighbors=10;, score=0.963 total time=   0.0s\n",
      "[CV 4/5] END algorithm=kd_tree, leaf_size=18, n_neighbors=10;, score=0.975 total time=   0.0s\n",
      "[CV 5/5] END algorithm=kd_tree, leaf_size=18, n_neighbors=10;, score=0.962 total time=   0.0s\n",
      "[CV 1/5] END algorithm=kd_tree, leaf_size=18, n_neighbors=11;, score=0.950 total time=   0.0s\n",
      "[CV 2/5] END algorithm=kd_tree, leaf_size=18, n_neighbors=11;, score=0.925 total time=   0.0s\n",
      "[CV 3/5] END algorithm=kd_tree, leaf_size=18, n_neighbors=11;, score=0.963 total time=   0.0s\n",
      "[CV 4/5] END algorithm=kd_tree, leaf_size=18, n_neighbors=11;, score=0.975 total time=   0.0s\n",
      "[CV 5/5] END algorithm=kd_tree, leaf_size=18, n_neighbors=11;, score=0.962 total time=   0.0s\n",
      "[CV 1/5] END algorithm=kd_tree, leaf_size=18, n_neighbors=12;, score=0.938 total time=   0.0s\n",
      "[CV 2/5] END algorithm=kd_tree, leaf_size=18, n_neighbors=12;, score=0.912 total time=   0.0s\n",
      "[CV 3/5] END algorithm=kd_tree, leaf_size=18, n_neighbors=12;, score=0.963 total time=   0.0s\n",
      "[CV 4/5] END algorithm=kd_tree, leaf_size=18, n_neighbors=12;, score=0.975 total time=   0.0s\n",
      "[CV 5/5] END algorithm=kd_tree, leaf_size=18, n_neighbors=12;, score=0.962 total time=   0.0s\n",
      "[CV 1/5] END algorithm=kd_tree, leaf_size=18, n_neighbors=13;, score=0.938 total time=   0.0s\n",
      "[CV 2/5] END algorithm=kd_tree, leaf_size=18, n_neighbors=13;, score=0.912 total time=   0.0s\n",
      "[CV 3/5] END algorithm=kd_tree, leaf_size=18, n_neighbors=13;, score=0.963 total time=   0.0s\n",
      "[CV 4/5] END algorithm=kd_tree, leaf_size=18, n_neighbors=13;, score=0.975 total time=   0.0s\n",
      "[CV 5/5] END algorithm=kd_tree, leaf_size=18, n_neighbors=13;, score=0.975 total time=   0.0s\n",
      "[CV 1/5] END algorithm=kd_tree, leaf_size=20, n_neighbors=3;, score=0.975 total time=   0.0s\n",
      "[CV 2/5] END algorithm=kd_tree, leaf_size=20, n_neighbors=3;, score=0.938 total time=   0.0s\n",
      "[CV 3/5] END algorithm=kd_tree, leaf_size=20, n_neighbors=3;, score=0.950 total time=   0.0s\n",
      "[CV 4/5] END algorithm=kd_tree, leaf_size=20, n_neighbors=3;, score=0.987 total time=   0.0s\n",
      "[CV 5/5] END algorithm=kd_tree, leaf_size=20, n_neighbors=3;, score=0.975 total time=   0.0s\n",
      "[CV 1/5] END algorithm=kd_tree, leaf_size=20, n_neighbors=5;, score=0.950 total time=   0.0s\n",
      "[CV 2/5] END algorithm=kd_tree, leaf_size=20, n_neighbors=5;, score=0.938 total time=   0.0s\n",
      "[CV 3/5] END algorithm=kd_tree, leaf_size=20, n_neighbors=5;, score=0.950 total time=   0.0s\n",
      "[CV 4/5] END algorithm=kd_tree, leaf_size=20, n_neighbors=5;, score=0.975 total time=   0.0s\n",
      "[CV 5/5] END algorithm=kd_tree, leaf_size=20, n_neighbors=5;, score=0.937 total time=   0.0s\n",
      "[CV 1/5] END algorithm=kd_tree, leaf_size=20, n_neighbors=7;, score=0.950 total time=   0.0s\n",
      "[CV 2/5] END algorithm=kd_tree, leaf_size=20, n_neighbors=7;, score=0.938 total time=   0.0s\n",
      "[CV 3/5] END algorithm=kd_tree, leaf_size=20, n_neighbors=7;, score=0.963 total time=   0.0s\n",
      "[CV 4/5] END algorithm=kd_tree, leaf_size=20, n_neighbors=7;, score=0.987 total time=   0.0s\n",
      "[CV 5/5] END algorithm=kd_tree, leaf_size=20, n_neighbors=7;, score=0.962 total time=   0.0s\n",
      "[CV 1/5] END algorithm=kd_tree, leaf_size=20, n_neighbors=9;, score=0.950 total time=   0.0s\n",
      "[CV 2/5] END algorithm=kd_tree, leaf_size=20, n_neighbors=9;, score=0.938 total time=   0.0s\n",
      "[CV 3/5] END algorithm=kd_tree, leaf_size=20, n_neighbors=9;, score=0.963 total time=   0.0s\n",
      "[CV 4/5] END algorithm=kd_tree, leaf_size=20, n_neighbors=9;, score=0.987 total time=   0.0s\n",
      "[CV 5/5] END algorithm=kd_tree, leaf_size=20, n_neighbors=9;, score=0.975 total time=   0.0s\n",
      "[CV 1/5] END algorithm=kd_tree, leaf_size=20, n_neighbors=10;, score=0.950 total time=   0.0s\n",
      "[CV 2/5] END algorithm=kd_tree, leaf_size=20, n_neighbors=10;, score=0.925 total time=   0.0s\n",
      "[CV 3/5] END algorithm=kd_tree, leaf_size=20, n_neighbors=10;, score=0.963 total time=   0.0s\n",
      "[CV 4/5] END algorithm=kd_tree, leaf_size=20, n_neighbors=10;, score=0.975 total time=   0.0s\n",
      "[CV 5/5] END algorithm=kd_tree, leaf_size=20, n_neighbors=10;, score=0.962 total time=   0.0s\n",
      "[CV 1/5] END algorithm=kd_tree, leaf_size=20, n_neighbors=11;, score=0.950 total time=   0.0s\n",
      "[CV 2/5] END algorithm=kd_tree, leaf_size=20, n_neighbors=11;, score=0.925 total time=   0.0s\n",
      "[CV 3/5] END algorithm=kd_tree, leaf_size=20, n_neighbors=11;, score=0.963 total time=   0.0s\n",
      "[CV 4/5] END algorithm=kd_tree, leaf_size=20, n_neighbors=11;, score=0.975 total time=   0.0s\n",
      "[CV 5/5] END algorithm=kd_tree, leaf_size=20, n_neighbors=11;, score=0.962 total time=   0.0s\n",
      "[CV 1/5] END algorithm=kd_tree, leaf_size=20, n_neighbors=12;, score=0.938 total time=   0.0s\n",
      "[CV 2/5] END algorithm=kd_tree, leaf_size=20, n_neighbors=12;, score=0.912 total time=   0.0s\n",
      "[CV 3/5] END algorithm=kd_tree, leaf_size=20, n_neighbors=12;, score=0.963 total time=   0.0s\n",
      "[CV 4/5] END algorithm=kd_tree, leaf_size=20, n_neighbors=12;, score=0.975 total time=   0.0s\n",
      "[CV 5/5] END algorithm=kd_tree, leaf_size=20, n_neighbors=12;, score=0.962 total time=   0.0s\n",
      "[CV 1/5] END algorithm=kd_tree, leaf_size=20, n_neighbors=13;, score=0.938 total time=   0.0s\n",
      "[CV 2/5] END algorithm=kd_tree, leaf_size=20, n_neighbors=13;, score=0.912 total time=   0.0s\n",
      "[CV 3/5] END algorithm=kd_tree, leaf_size=20, n_neighbors=13;, score=0.963 total time=   0.0s\n",
      "[CV 4/5] END algorithm=kd_tree, leaf_size=20, n_neighbors=13;, score=0.975 total time=   0.0s\n",
      "[CV 5/5] END algorithm=kd_tree, leaf_size=20, n_neighbors=13;, score=0.975 total time=   0.0s\n",
      "[CV 1/5] END algorithm=kd_tree, leaf_size=25, n_neighbors=3;, score=0.975 total time=   0.0s\n",
      "[CV 2/5] END algorithm=kd_tree, leaf_size=25, n_neighbors=3;, score=0.938 total time=   0.0s\n",
      "[CV 3/5] END algorithm=kd_tree, leaf_size=25, n_neighbors=3;, score=0.950 total time=   0.0s\n",
      "[CV 4/5] END algorithm=kd_tree, leaf_size=25, n_neighbors=3;, score=0.987 total time=   0.0s\n",
      "[CV 5/5] END algorithm=kd_tree, leaf_size=25, n_neighbors=3;, score=0.975 total time=   0.0s\n",
      "[CV 1/5] END algorithm=kd_tree, leaf_size=25, n_neighbors=5;, score=0.950 total time=   0.0s\n",
      "[CV 2/5] END algorithm=kd_tree, leaf_size=25, n_neighbors=5;, score=0.938 total time=   0.0s\n",
      "[CV 3/5] END algorithm=kd_tree, leaf_size=25, n_neighbors=5;, score=0.950 total time=   0.0s\n",
      "[CV 4/5] END algorithm=kd_tree, leaf_size=25, n_neighbors=5;, score=0.975 total time=   0.0s\n",
      "[CV 5/5] END algorithm=kd_tree, leaf_size=25, n_neighbors=5;, score=0.937 total time=   0.0s\n",
      "[CV 1/5] END algorithm=kd_tree, leaf_size=25, n_neighbors=7;, score=0.950 total time=   0.0s\n"
     ]
    },
    {
     "name": "stdout",
     "output_type": "stream",
     "text": [
      "[CV 2/5] END algorithm=kd_tree, leaf_size=25, n_neighbors=7;, score=0.938 total time=   0.0s\n",
      "[CV 3/5] END algorithm=kd_tree, leaf_size=25, n_neighbors=7;, score=0.963 total time=   0.0s\n",
      "[CV 4/5] END algorithm=kd_tree, leaf_size=25, n_neighbors=7;, score=0.987 total time=   0.0s\n",
      "[CV 5/5] END algorithm=kd_tree, leaf_size=25, n_neighbors=7;, score=0.962 total time=   0.0s\n",
      "[CV 1/5] END algorithm=kd_tree, leaf_size=25, n_neighbors=9;, score=0.950 total time=   0.0s\n",
      "[CV 2/5] END algorithm=kd_tree, leaf_size=25, n_neighbors=9;, score=0.938 total time=   0.0s\n",
      "[CV 3/5] END algorithm=kd_tree, leaf_size=25, n_neighbors=9;, score=0.963 total time=   0.0s\n",
      "[CV 4/5] END algorithm=kd_tree, leaf_size=25, n_neighbors=9;, score=0.987 total time=   0.0s\n",
      "[CV 5/5] END algorithm=kd_tree, leaf_size=25, n_neighbors=9;, score=0.975 total time=   0.0s\n",
      "[CV 1/5] END algorithm=kd_tree, leaf_size=25, n_neighbors=10;, score=0.950 total time=   0.0s\n",
      "[CV 2/5] END algorithm=kd_tree, leaf_size=25, n_neighbors=10;, score=0.925 total time=   0.0s\n",
      "[CV 3/5] END algorithm=kd_tree, leaf_size=25, n_neighbors=10;, score=0.963 total time=   0.0s\n",
      "[CV 4/5] END algorithm=kd_tree, leaf_size=25, n_neighbors=10;, score=0.975 total time=   0.0s\n",
      "[CV 5/5] END algorithm=kd_tree, leaf_size=25, n_neighbors=10;, score=0.962 total time=   0.0s\n",
      "[CV 1/5] END algorithm=kd_tree, leaf_size=25, n_neighbors=11;, score=0.950 total time=   0.0s\n",
      "[CV 2/5] END algorithm=kd_tree, leaf_size=25, n_neighbors=11;, score=0.925 total time=   0.0s\n",
      "[CV 3/5] END algorithm=kd_tree, leaf_size=25, n_neighbors=11;, score=0.963 total time=   0.0s\n",
      "[CV 4/5] END algorithm=kd_tree, leaf_size=25, n_neighbors=11;, score=0.975 total time=   0.0s\n",
      "[CV 5/5] END algorithm=kd_tree, leaf_size=25, n_neighbors=11;, score=0.962 total time=   0.0s\n",
      "[CV 1/5] END algorithm=kd_tree, leaf_size=25, n_neighbors=12;, score=0.938 total time=   0.0s\n",
      "[CV 2/5] END algorithm=kd_tree, leaf_size=25, n_neighbors=12;, score=0.912 total time=   0.0s\n",
      "[CV 3/5] END algorithm=kd_tree, leaf_size=25, n_neighbors=12;, score=0.963 total time=   0.0s\n",
      "[CV 4/5] END algorithm=kd_tree, leaf_size=25, n_neighbors=12;, score=0.975 total time=   0.0s\n",
      "[CV 5/5] END algorithm=kd_tree, leaf_size=25, n_neighbors=12;, score=0.962 total time=   0.0s\n",
      "[CV 1/5] END algorithm=kd_tree, leaf_size=25, n_neighbors=13;, score=0.938 total time=   0.0s\n",
      "[CV 2/5] END algorithm=kd_tree, leaf_size=25, n_neighbors=13;, score=0.912 total time=   0.0s\n",
      "[CV 3/5] END algorithm=kd_tree, leaf_size=25, n_neighbors=13;, score=0.963 total time=   0.0s\n",
      "[CV 4/5] END algorithm=kd_tree, leaf_size=25, n_neighbors=13;, score=0.975 total time=   0.0s\n",
      "[CV 5/5] END algorithm=kd_tree, leaf_size=25, n_neighbors=13;, score=0.975 total time=   0.0s\n",
      "[CV 1/5] END algorithm=kd_tree, leaf_size=27, n_neighbors=3;, score=0.975 total time=   0.0s\n",
      "[CV 2/5] END algorithm=kd_tree, leaf_size=27, n_neighbors=3;, score=0.938 total time=   0.0s\n",
      "[CV 3/5] END algorithm=kd_tree, leaf_size=27, n_neighbors=3;, score=0.950 total time=   0.0s\n",
      "[CV 4/5] END algorithm=kd_tree, leaf_size=27, n_neighbors=3;, score=0.987 total time=   0.0s\n",
      "[CV 5/5] END algorithm=kd_tree, leaf_size=27, n_neighbors=3;, score=0.975 total time=   0.0s\n",
      "[CV 1/5] END algorithm=kd_tree, leaf_size=27, n_neighbors=5;, score=0.950 total time=   0.0s\n",
      "[CV 2/5] END algorithm=kd_tree, leaf_size=27, n_neighbors=5;, score=0.938 total time=   0.0s\n",
      "[CV 3/5] END algorithm=kd_tree, leaf_size=27, n_neighbors=5;, score=0.950 total time=   0.0s\n",
      "[CV 4/5] END algorithm=kd_tree, leaf_size=27, n_neighbors=5;, score=0.975 total time=   0.0s\n",
      "[CV 5/5] END algorithm=kd_tree, leaf_size=27, n_neighbors=5;, score=0.937 total time=   0.0s\n",
      "[CV 1/5] END algorithm=kd_tree, leaf_size=27, n_neighbors=7;, score=0.950 total time=   0.0s\n",
      "[CV 2/5] END algorithm=kd_tree, leaf_size=27, n_neighbors=7;, score=0.938 total time=   0.0s\n",
      "[CV 3/5] END algorithm=kd_tree, leaf_size=27, n_neighbors=7;, score=0.963 total time=   0.0s\n",
      "[CV 4/5] END algorithm=kd_tree, leaf_size=27, n_neighbors=7;, score=0.987 total time=   0.0s\n",
      "[CV 5/5] END algorithm=kd_tree, leaf_size=27, n_neighbors=7;, score=0.962 total time=   0.0s\n",
      "[CV 1/5] END algorithm=kd_tree, leaf_size=27, n_neighbors=9;, score=0.950 total time=   0.0s\n",
      "[CV 2/5] END algorithm=kd_tree, leaf_size=27, n_neighbors=9;, score=0.938 total time=   0.0s\n",
      "[CV 3/5] END algorithm=kd_tree, leaf_size=27, n_neighbors=9;, score=0.963 total time=   0.0s\n",
      "[CV 4/5] END algorithm=kd_tree, leaf_size=27, n_neighbors=9;, score=0.987 total time=   0.0s\n",
      "[CV 5/5] END algorithm=kd_tree, leaf_size=27, n_neighbors=9;, score=0.975 total time=   0.0s\n",
      "[CV 1/5] END algorithm=kd_tree, leaf_size=27, n_neighbors=10;, score=0.950 total time=   0.0s\n",
      "[CV 2/5] END algorithm=kd_tree, leaf_size=27, n_neighbors=10;, score=0.925 total time=   0.0s\n",
      "[CV 3/5] END algorithm=kd_tree, leaf_size=27, n_neighbors=10;, score=0.963 total time=   0.0s\n",
      "[CV 4/5] END algorithm=kd_tree, leaf_size=27, n_neighbors=10;, score=0.975 total time=   0.0s\n",
      "[CV 5/5] END algorithm=kd_tree, leaf_size=27, n_neighbors=10;, score=0.962 total time=   0.0s\n",
      "[CV 1/5] END algorithm=kd_tree, leaf_size=27, n_neighbors=11;, score=0.950 total time=   0.0s\n",
      "[CV 2/5] END algorithm=kd_tree, leaf_size=27, n_neighbors=11;, score=0.925 total time=   0.0s\n",
      "[CV 3/5] END algorithm=kd_tree, leaf_size=27, n_neighbors=11;, score=0.963 total time=   0.0s\n",
      "[CV 4/5] END algorithm=kd_tree, leaf_size=27, n_neighbors=11;, score=0.975 total time=   0.0s\n",
      "[CV 5/5] END algorithm=kd_tree, leaf_size=27, n_neighbors=11;, score=0.962 total time=   0.0s\n",
      "[CV 1/5] END algorithm=kd_tree, leaf_size=27, n_neighbors=12;, score=0.938 total time=   0.0s\n",
      "[CV 2/5] END algorithm=kd_tree, leaf_size=27, n_neighbors=12;, score=0.912 total time=   0.0s\n",
      "[CV 3/5] END algorithm=kd_tree, leaf_size=27, n_neighbors=12;, score=0.963 total time=   0.0s\n",
      "[CV 4/5] END algorithm=kd_tree, leaf_size=27, n_neighbors=12;, score=0.975 total time=   0.0s\n",
      "[CV 5/5] END algorithm=kd_tree, leaf_size=27, n_neighbors=12;, score=0.962 total time=   0.0s\n",
      "[CV 1/5] END algorithm=kd_tree, leaf_size=27, n_neighbors=13;, score=0.938 total time=   0.0s\n",
      "[CV 2/5] END algorithm=kd_tree, leaf_size=27, n_neighbors=13;, score=0.912 total time=   0.0s\n",
      "[CV 3/5] END algorithm=kd_tree, leaf_size=27, n_neighbors=13;, score=0.963 total time=   0.0s\n",
      "[CV 4/5] END algorithm=kd_tree, leaf_size=27, n_neighbors=13;, score=0.975 total time=   0.0s\n",
      "[CV 5/5] END algorithm=kd_tree, leaf_size=27, n_neighbors=13;, score=0.975 total time=   0.0s\n",
      "[CV 1/5] END algorithm=kd_tree, leaf_size=30, n_neighbors=3;, score=0.975 total time=   0.0s\n",
      "[CV 2/5] END algorithm=kd_tree, leaf_size=30, n_neighbors=3;, score=0.938 total time=   0.0s\n",
      "[CV 3/5] END algorithm=kd_tree, leaf_size=30, n_neighbors=3;, score=0.950 total time=   0.0s\n",
      "[CV 4/5] END algorithm=kd_tree, leaf_size=30, n_neighbors=3;, score=0.987 total time=   0.0s\n",
      "[CV 5/5] END algorithm=kd_tree, leaf_size=30, n_neighbors=3;, score=0.975 total time=   0.0s\n",
      "[CV 1/5] END algorithm=kd_tree, leaf_size=30, n_neighbors=5;, score=0.950 total time=   0.0s\n",
      "[CV 2/5] END algorithm=kd_tree, leaf_size=30, n_neighbors=5;, score=0.938 total time=   0.0s\n",
      "[CV 3/5] END algorithm=kd_tree, leaf_size=30, n_neighbors=5;, score=0.950 total time=   0.0s\n",
      "[CV 4/5] END algorithm=kd_tree, leaf_size=30, n_neighbors=5;, score=0.975 total time=   0.0s\n",
      "[CV 5/5] END algorithm=kd_tree, leaf_size=30, n_neighbors=5;, score=0.937 total time=   0.0s\n",
      "[CV 1/5] END algorithm=kd_tree, leaf_size=30, n_neighbors=7;, score=0.950 total time=   0.0s\n",
      "[CV 2/5] END algorithm=kd_tree, leaf_size=30, n_neighbors=7;, score=0.938 total time=   0.0s\n",
      "[CV 3/5] END algorithm=kd_tree, leaf_size=30, n_neighbors=7;, score=0.963 total time=   0.0s\n",
      "[CV 4/5] END algorithm=kd_tree, leaf_size=30, n_neighbors=7;, score=0.987 total time=   0.0s\n",
      "[CV 5/5] END algorithm=kd_tree, leaf_size=30, n_neighbors=7;, score=0.962 total time=   0.0s\n",
      "[CV 1/5] END algorithm=kd_tree, leaf_size=30, n_neighbors=9;, score=0.950 total time=   0.0s\n",
      "[CV 2/5] END algorithm=kd_tree, leaf_size=30, n_neighbors=9;, score=0.938 total time=   0.0s\n",
      "[CV 3/5] END algorithm=kd_tree, leaf_size=30, n_neighbors=9;, score=0.963 total time=   0.0s\n",
      "[CV 4/5] END algorithm=kd_tree, leaf_size=30, n_neighbors=9;, score=0.987 total time=   0.0s\n",
      "[CV 5/5] END algorithm=kd_tree, leaf_size=30, n_neighbors=9;, score=0.975 total time=   0.0s\n",
      "[CV 1/5] END algorithm=kd_tree, leaf_size=30, n_neighbors=10;, score=0.950 total time=   0.0s\n",
      "[CV 2/5] END algorithm=kd_tree, leaf_size=30, n_neighbors=10;, score=0.925 total time=   0.0s\n",
      "[CV 3/5] END algorithm=kd_tree, leaf_size=30, n_neighbors=10;, score=0.963 total time=   0.0s\n",
      "[CV 4/5] END algorithm=kd_tree, leaf_size=30, n_neighbors=10;, score=0.975 total time=   0.0s\n",
      "[CV 5/5] END algorithm=kd_tree, leaf_size=30, n_neighbors=10;, score=0.962 total time=   0.0s\n",
      "[CV 1/5] END algorithm=kd_tree, leaf_size=30, n_neighbors=11;, score=0.950 total time=   0.0s\n",
      "[CV 2/5] END algorithm=kd_tree, leaf_size=30, n_neighbors=11;, score=0.925 total time=   0.0s\n",
      "[CV 3/5] END algorithm=kd_tree, leaf_size=30, n_neighbors=11;, score=0.963 total time=   0.0s\n"
     ]
    },
    {
     "name": "stdout",
     "output_type": "stream",
     "text": [
      "[CV 4/5] END algorithm=kd_tree, leaf_size=30, n_neighbors=11;, score=0.975 total time=   0.0s\n",
      "[CV 5/5] END algorithm=kd_tree, leaf_size=30, n_neighbors=11;, score=0.962 total time=   0.0s\n",
      "[CV 1/5] END algorithm=kd_tree, leaf_size=30, n_neighbors=12;, score=0.938 total time=   0.0s\n",
      "[CV 2/5] END algorithm=kd_tree, leaf_size=30, n_neighbors=12;, score=0.912 total time=   0.0s\n",
      "[CV 3/5] END algorithm=kd_tree, leaf_size=30, n_neighbors=12;, score=0.963 total time=   0.0s\n",
      "[CV 4/5] END algorithm=kd_tree, leaf_size=30, n_neighbors=12;, score=0.975 total time=   0.0s\n",
      "[CV 5/5] END algorithm=kd_tree, leaf_size=30, n_neighbors=12;, score=0.962 total time=   0.0s\n",
      "[CV 1/5] END algorithm=kd_tree, leaf_size=30, n_neighbors=13;, score=0.938 total time=   0.0s\n",
      "[CV 2/5] END algorithm=kd_tree, leaf_size=30, n_neighbors=13;, score=0.912 total time=   0.0s\n",
      "[CV 3/5] END algorithm=kd_tree, leaf_size=30, n_neighbors=13;, score=0.963 total time=   0.0s\n",
      "[CV 4/5] END algorithm=kd_tree, leaf_size=30, n_neighbors=13;, score=0.975 total time=   0.0s\n",
      "[CV 5/5] END algorithm=kd_tree, leaf_size=30, n_neighbors=13;, score=0.975 total time=   0.0s\n",
      "[CV 1/5] END algorithm=kd_tree, leaf_size=32, n_neighbors=3;, score=0.975 total time=   0.0s\n",
      "[CV 2/5] END algorithm=kd_tree, leaf_size=32, n_neighbors=3;, score=0.938 total time=   0.0s\n",
      "[CV 3/5] END algorithm=kd_tree, leaf_size=32, n_neighbors=3;, score=0.950 total time=   0.0s\n",
      "[CV 4/5] END algorithm=kd_tree, leaf_size=32, n_neighbors=3;, score=0.987 total time=   0.0s\n",
      "[CV 5/5] END algorithm=kd_tree, leaf_size=32, n_neighbors=3;, score=0.975 total time=   0.0s\n",
      "[CV 1/5] END algorithm=kd_tree, leaf_size=32, n_neighbors=5;, score=0.950 total time=   0.0s\n",
      "[CV 2/5] END algorithm=kd_tree, leaf_size=32, n_neighbors=5;, score=0.938 total time=   0.0s\n",
      "[CV 3/5] END algorithm=kd_tree, leaf_size=32, n_neighbors=5;, score=0.950 total time=   0.0s\n",
      "[CV 4/5] END algorithm=kd_tree, leaf_size=32, n_neighbors=5;, score=0.975 total time=   0.0s\n",
      "[CV 5/5] END algorithm=kd_tree, leaf_size=32, n_neighbors=5;, score=0.937 total time=   0.0s\n",
      "[CV 1/5] END algorithm=kd_tree, leaf_size=32, n_neighbors=7;, score=0.950 total time=   0.0s\n",
      "[CV 2/5] END algorithm=kd_tree, leaf_size=32, n_neighbors=7;, score=0.938 total time=   0.0s\n",
      "[CV 3/5] END algorithm=kd_tree, leaf_size=32, n_neighbors=7;, score=0.963 total time=   0.0s\n",
      "[CV 4/5] END algorithm=kd_tree, leaf_size=32, n_neighbors=7;, score=0.987 total time=   0.0s\n",
      "[CV 5/5] END algorithm=kd_tree, leaf_size=32, n_neighbors=7;, score=0.962 total time=   0.0s\n",
      "[CV 1/5] END algorithm=kd_tree, leaf_size=32, n_neighbors=9;, score=0.950 total time=   0.0s\n",
      "[CV 2/5] END algorithm=kd_tree, leaf_size=32, n_neighbors=9;, score=0.938 total time=   0.0s\n",
      "[CV 3/5] END algorithm=kd_tree, leaf_size=32, n_neighbors=9;, score=0.963 total time=   0.0s\n",
      "[CV 4/5] END algorithm=kd_tree, leaf_size=32, n_neighbors=9;, score=0.987 total time=   0.0s\n",
      "[CV 5/5] END algorithm=kd_tree, leaf_size=32, n_neighbors=9;, score=0.975 total time=   0.0s\n",
      "[CV 1/5] END algorithm=kd_tree, leaf_size=32, n_neighbors=10;, score=0.950 total time=   0.0s\n",
      "[CV 2/5] END algorithm=kd_tree, leaf_size=32, n_neighbors=10;, score=0.925 total time=   0.0s\n",
      "[CV 3/5] END algorithm=kd_tree, leaf_size=32, n_neighbors=10;, score=0.963 total time=   0.0s\n",
      "[CV 4/5] END algorithm=kd_tree, leaf_size=32, n_neighbors=10;, score=0.975 total time=   0.0s\n",
      "[CV 5/5] END algorithm=kd_tree, leaf_size=32, n_neighbors=10;, score=0.962 total time=   0.0s\n",
      "[CV 1/5] END algorithm=kd_tree, leaf_size=32, n_neighbors=11;, score=0.950 total time=   0.0s\n",
      "[CV 2/5] END algorithm=kd_tree, leaf_size=32, n_neighbors=11;, score=0.925 total time=   0.0s\n",
      "[CV 3/5] END algorithm=kd_tree, leaf_size=32, n_neighbors=11;, score=0.963 total time=   0.0s\n",
      "[CV 4/5] END algorithm=kd_tree, leaf_size=32, n_neighbors=11;, score=0.975 total time=   0.0s\n",
      "[CV 5/5] END algorithm=kd_tree, leaf_size=32, n_neighbors=11;, score=0.962 total time=   0.0s\n",
      "[CV 1/5] END algorithm=kd_tree, leaf_size=32, n_neighbors=12;, score=0.938 total time=   0.0s\n",
      "[CV 2/5] END algorithm=kd_tree, leaf_size=32, n_neighbors=12;, score=0.912 total time=   0.0s\n",
      "[CV 3/5] END algorithm=kd_tree, leaf_size=32, n_neighbors=12;, score=0.963 total time=   0.0s\n",
      "[CV 4/5] END algorithm=kd_tree, leaf_size=32, n_neighbors=12;, score=0.975 total time=   0.0s\n",
      "[CV 5/5] END algorithm=kd_tree, leaf_size=32, n_neighbors=12;, score=0.962 total time=   0.0s\n",
      "[CV 1/5] END algorithm=kd_tree, leaf_size=32, n_neighbors=13;, score=0.938 total time=   0.0s\n",
      "[CV 2/5] END algorithm=kd_tree, leaf_size=32, n_neighbors=13;, score=0.912 total time=   0.0s\n",
      "[CV 3/5] END algorithm=kd_tree, leaf_size=32, n_neighbors=13;, score=0.963 total time=   0.0s\n",
      "[CV 4/5] END algorithm=kd_tree, leaf_size=32, n_neighbors=13;, score=0.975 total time=   0.0s\n",
      "[CV 5/5] END algorithm=kd_tree, leaf_size=32, n_neighbors=13;, score=0.975 total time=   0.0s\n",
      "[CV 1/5] END algorithm=kd_tree, leaf_size=34, n_neighbors=3;, score=0.975 total time=   0.0s\n",
      "[CV 2/5] END algorithm=kd_tree, leaf_size=34, n_neighbors=3;, score=0.938 total time=   0.0s\n",
      "[CV 3/5] END algorithm=kd_tree, leaf_size=34, n_neighbors=3;, score=0.950 total time=   0.0s\n",
      "[CV 4/5] END algorithm=kd_tree, leaf_size=34, n_neighbors=3;, score=0.987 total time=   0.0s\n",
      "[CV 5/5] END algorithm=kd_tree, leaf_size=34, n_neighbors=3;, score=0.975 total time=   0.0s\n",
      "[CV 1/5] END algorithm=kd_tree, leaf_size=34, n_neighbors=5;, score=0.950 total time=   0.0s\n",
      "[CV 2/5] END algorithm=kd_tree, leaf_size=34, n_neighbors=5;, score=0.938 total time=   0.0s\n",
      "[CV 3/5] END algorithm=kd_tree, leaf_size=34, n_neighbors=5;, score=0.950 total time=   0.0s\n",
      "[CV 4/5] END algorithm=kd_tree, leaf_size=34, n_neighbors=5;, score=0.975 total time=   0.0s\n",
      "[CV 5/5] END algorithm=kd_tree, leaf_size=34, n_neighbors=5;, score=0.937 total time=   0.0s\n",
      "[CV 1/5] END algorithm=kd_tree, leaf_size=34, n_neighbors=7;, score=0.950 total time=   0.0s\n",
      "[CV 2/5] END algorithm=kd_tree, leaf_size=34, n_neighbors=7;, score=0.938 total time=   0.0s\n",
      "[CV 3/5] END algorithm=kd_tree, leaf_size=34, n_neighbors=7;, score=0.963 total time=   0.0s\n",
      "[CV 4/5] END algorithm=kd_tree, leaf_size=34, n_neighbors=7;, score=0.987 total time=   0.0s\n",
      "[CV 5/5] END algorithm=kd_tree, leaf_size=34, n_neighbors=7;, score=0.962 total time=   0.0s\n",
      "[CV 1/5] END algorithm=kd_tree, leaf_size=34, n_neighbors=9;, score=0.950 total time=   0.0s\n",
      "[CV 2/5] END algorithm=kd_tree, leaf_size=34, n_neighbors=9;, score=0.938 total time=   0.0s\n",
      "[CV 3/5] END algorithm=kd_tree, leaf_size=34, n_neighbors=9;, score=0.963 total time=   0.0s\n",
      "[CV 4/5] END algorithm=kd_tree, leaf_size=34, n_neighbors=9;, score=0.987 total time=   0.0s\n",
      "[CV 5/5] END algorithm=kd_tree, leaf_size=34, n_neighbors=9;, score=0.975 total time=   0.0s\n",
      "[CV 1/5] END algorithm=kd_tree, leaf_size=34, n_neighbors=10;, score=0.950 total time=   0.0s\n",
      "[CV 2/5] END algorithm=kd_tree, leaf_size=34, n_neighbors=10;, score=0.925 total time=   0.0s\n",
      "[CV 3/5] END algorithm=kd_tree, leaf_size=34, n_neighbors=10;, score=0.963 total time=   0.0s\n",
      "[CV 4/5] END algorithm=kd_tree, leaf_size=34, n_neighbors=10;, score=0.975 total time=   0.0s\n",
      "[CV 5/5] END algorithm=kd_tree, leaf_size=34, n_neighbors=10;, score=0.962 total time=   0.0s\n",
      "[CV 1/5] END algorithm=kd_tree, leaf_size=34, n_neighbors=11;, score=0.950 total time=   0.0s\n",
      "[CV 2/5] END algorithm=kd_tree, leaf_size=34, n_neighbors=11;, score=0.925 total time=   0.0s\n",
      "[CV 3/5] END algorithm=kd_tree, leaf_size=34, n_neighbors=11;, score=0.963 total time=   0.0s\n",
      "[CV 4/5] END algorithm=kd_tree, leaf_size=34, n_neighbors=11;, score=0.975 total time=   0.0s\n",
      "[CV 5/5] END algorithm=kd_tree, leaf_size=34, n_neighbors=11;, score=0.962 total time=   0.0s\n",
      "[CV 1/5] END algorithm=kd_tree, leaf_size=34, n_neighbors=12;, score=0.938 total time=   0.0s\n",
      "[CV 2/5] END algorithm=kd_tree, leaf_size=34, n_neighbors=12;, score=0.912 total time=   0.0s\n",
      "[CV 3/5] END algorithm=kd_tree, leaf_size=34, n_neighbors=12;, score=0.963 total time=   0.0s\n",
      "[CV 4/5] END algorithm=kd_tree, leaf_size=34, n_neighbors=12;, score=0.975 total time=   0.0s\n",
      "[CV 5/5] END algorithm=kd_tree, leaf_size=34, n_neighbors=12;, score=0.962 total time=   0.0s\n",
      "[CV 1/5] END algorithm=kd_tree, leaf_size=34, n_neighbors=13;, score=0.938 total time=   0.0s\n",
      "[CV 2/5] END algorithm=kd_tree, leaf_size=34, n_neighbors=13;, score=0.912 total time=   0.0s\n",
      "[CV 3/5] END algorithm=kd_tree, leaf_size=34, n_neighbors=13;, score=0.963 total time=   0.0s\n",
      "[CV 4/5] END algorithm=kd_tree, leaf_size=34, n_neighbors=13;, score=0.975 total time=   0.0s\n",
      "[CV 5/5] END algorithm=kd_tree, leaf_size=34, n_neighbors=13;, score=0.975 total time=   0.0s\n",
      "[CV 1/5] END algorithm=brute, leaf_size=18, n_neighbors=3;, score=0.975 total time=   0.0s\n",
      "[CV 2/5] END algorithm=brute, leaf_size=18, n_neighbors=3;, score=0.938 total time=   0.0s\n",
      "[CV 3/5] END algorithm=brute, leaf_size=18, n_neighbors=3;, score=0.950 total time=   0.0s\n",
      "[CV 4/5] END algorithm=brute, leaf_size=18, n_neighbors=3;, score=0.987 total time=   0.0s\n",
      "[CV 5/5] END algorithm=brute, leaf_size=18, n_neighbors=3;, score=0.975 total time=   0.0s\n",
      "[CV 1/5] END algorithm=brute, leaf_size=18, n_neighbors=5;, score=0.950 total time=   0.0s\n",
      "[CV 2/5] END algorithm=brute, leaf_size=18, n_neighbors=5;, score=0.938 total time=   0.0s\n"
     ]
    },
    {
     "name": "stdout",
     "output_type": "stream",
     "text": [
      "[CV 3/5] END algorithm=brute, leaf_size=18, n_neighbors=5;, score=0.950 total time=   0.0s\n",
      "[CV 4/5] END algorithm=brute, leaf_size=18, n_neighbors=5;, score=0.975 total time=   0.0s\n",
      "[CV 5/5] END algorithm=brute, leaf_size=18, n_neighbors=5;, score=0.937 total time=   0.0s\n",
      "[CV 1/5] END algorithm=brute, leaf_size=18, n_neighbors=7;, score=0.950 total time=   0.0s\n",
      "[CV 2/5] END algorithm=brute, leaf_size=18, n_neighbors=7;, score=0.938 total time=   0.0s\n",
      "[CV 3/5] END algorithm=brute, leaf_size=18, n_neighbors=7;, score=0.963 total time=   0.0s\n",
      "[CV 4/5] END algorithm=brute, leaf_size=18, n_neighbors=7;, score=0.987 total time=   0.0s\n",
      "[CV 5/5] END algorithm=brute, leaf_size=18, n_neighbors=7;, score=0.962 total time=   0.0s\n",
      "[CV 1/5] END algorithm=brute, leaf_size=18, n_neighbors=9;, score=0.950 total time=   0.0s\n",
      "[CV 2/5] END algorithm=brute, leaf_size=18, n_neighbors=9;, score=0.938 total time=   0.0s\n",
      "[CV 3/5] END algorithm=brute, leaf_size=18, n_neighbors=9;, score=0.963 total time=   0.0s\n",
      "[CV 4/5] END algorithm=brute, leaf_size=18, n_neighbors=9;, score=0.987 total time=   0.0s\n",
      "[CV 5/5] END algorithm=brute, leaf_size=18, n_neighbors=9;, score=0.975 total time=   0.0s\n",
      "[CV 1/5] END algorithm=brute, leaf_size=18, n_neighbors=10;, score=0.950 total time=   0.0s\n",
      "[CV 2/5] END algorithm=brute, leaf_size=18, n_neighbors=10;, score=0.925 total time=   0.0s\n",
      "[CV 3/5] END algorithm=brute, leaf_size=18, n_neighbors=10;, score=0.963 total time=   0.0s\n",
      "[CV 4/5] END algorithm=brute, leaf_size=18, n_neighbors=10;, score=0.975 total time=   0.0s\n",
      "[CV 5/5] END algorithm=brute, leaf_size=18, n_neighbors=10;, score=0.962 total time=   0.0s\n",
      "[CV 1/5] END algorithm=brute, leaf_size=18, n_neighbors=11;, score=0.950 total time=   0.0s\n",
      "[CV 2/5] END algorithm=brute, leaf_size=18, n_neighbors=11;, score=0.925 total time=   0.0s\n",
      "[CV 3/5] END algorithm=brute, leaf_size=18, n_neighbors=11;, score=0.963 total time=   0.0s\n",
      "[CV 4/5] END algorithm=brute, leaf_size=18, n_neighbors=11;, score=0.975 total time=   0.0s\n",
      "[CV 5/5] END algorithm=brute, leaf_size=18, n_neighbors=11;, score=0.962 total time=   0.0s\n",
      "[CV 1/5] END algorithm=brute, leaf_size=18, n_neighbors=12;, score=0.938 total time=   0.0s\n",
      "[CV 2/5] END algorithm=brute, leaf_size=18, n_neighbors=12;, score=0.912 total time=   0.0s\n",
      "[CV 3/5] END algorithm=brute, leaf_size=18, n_neighbors=12;, score=0.963 total time=   0.0s\n",
      "[CV 4/5] END algorithm=brute, leaf_size=18, n_neighbors=12;, score=0.975 total time=   0.0s\n",
      "[CV 5/5] END algorithm=brute, leaf_size=18, n_neighbors=12;, score=0.962 total time=   0.0s\n",
      "[CV 1/5] END algorithm=brute, leaf_size=18, n_neighbors=13;, score=0.938 total time=   0.0s\n",
      "[CV 2/5] END algorithm=brute, leaf_size=18, n_neighbors=13;, score=0.912 total time=   0.0s\n",
      "[CV 3/5] END algorithm=brute, leaf_size=18, n_neighbors=13;, score=0.963 total time=   0.0s\n",
      "[CV 4/5] END algorithm=brute, leaf_size=18, n_neighbors=13;, score=0.975 total time=   0.0s\n",
      "[CV 5/5] END algorithm=brute, leaf_size=18, n_neighbors=13;, score=0.975 total time=   0.0s\n",
      "[CV 1/5] END algorithm=brute, leaf_size=20, n_neighbors=3;, score=0.975 total time=   0.0s\n",
      "[CV 2/5] END algorithm=brute, leaf_size=20, n_neighbors=3;, score=0.938 total time=   0.0s\n",
      "[CV 3/5] END algorithm=brute, leaf_size=20, n_neighbors=3;, score=0.950 total time=   0.0s\n",
      "[CV 4/5] END algorithm=brute, leaf_size=20, n_neighbors=3;, score=0.987 total time=   0.0s\n",
      "[CV 5/5] END algorithm=brute, leaf_size=20, n_neighbors=3;, score=0.975 total time=   0.0s\n",
      "[CV 1/5] END algorithm=brute, leaf_size=20, n_neighbors=5;, score=0.950 total time=   0.0s\n",
      "[CV 2/5] END algorithm=brute, leaf_size=20, n_neighbors=5;, score=0.938 total time=   0.0s\n",
      "[CV 3/5] END algorithm=brute, leaf_size=20, n_neighbors=5;, score=0.950 total time=   0.0s\n",
      "[CV 4/5] END algorithm=brute, leaf_size=20, n_neighbors=5;, score=0.975 total time=   0.0s\n",
      "[CV 5/5] END algorithm=brute, leaf_size=20, n_neighbors=5;, score=0.937 total time=   0.0s\n",
      "[CV 1/5] END algorithm=brute, leaf_size=20, n_neighbors=7;, score=0.950 total time=   0.0s\n",
      "[CV 2/5] END algorithm=brute, leaf_size=20, n_neighbors=7;, score=0.938 total time=   0.0s\n",
      "[CV 3/5] END algorithm=brute, leaf_size=20, n_neighbors=7;, score=0.963 total time=   0.0s\n",
      "[CV 4/5] END algorithm=brute, leaf_size=20, n_neighbors=7;, score=0.987 total time=   0.0s\n",
      "[CV 5/5] END algorithm=brute, leaf_size=20, n_neighbors=7;, score=0.962 total time=   0.0s\n",
      "[CV 1/5] END algorithm=brute, leaf_size=20, n_neighbors=9;, score=0.950 total time=   0.0s\n",
      "[CV 2/5] END algorithm=brute, leaf_size=20, n_neighbors=9;, score=0.938 total time=   0.0s\n",
      "[CV 3/5] END algorithm=brute, leaf_size=20, n_neighbors=9;, score=0.963 total time=   0.0s\n",
      "[CV 4/5] END algorithm=brute, leaf_size=20, n_neighbors=9;, score=0.987 total time=   0.0s\n",
      "[CV 5/5] END algorithm=brute, leaf_size=20, n_neighbors=9;, score=0.975 total time=   0.0s\n",
      "[CV 1/5] END algorithm=brute, leaf_size=20, n_neighbors=10;, score=0.950 total time=   0.0s\n",
      "[CV 2/5] END algorithm=brute, leaf_size=20, n_neighbors=10;, score=0.925 total time=   0.0s\n",
      "[CV 3/5] END algorithm=brute, leaf_size=20, n_neighbors=10;, score=0.963 total time=   0.0s\n",
      "[CV 4/5] END algorithm=brute, leaf_size=20, n_neighbors=10;, score=0.975 total time=   0.0s\n",
      "[CV 5/5] END algorithm=brute, leaf_size=20, n_neighbors=10;, score=0.962 total time=   0.0s\n",
      "[CV 1/5] END algorithm=brute, leaf_size=20, n_neighbors=11;, score=0.950 total time=   0.0s\n",
      "[CV 2/5] END algorithm=brute, leaf_size=20, n_neighbors=11;, score=0.925 total time=   0.0s\n",
      "[CV 3/5] END algorithm=brute, leaf_size=20, n_neighbors=11;, score=0.963 total time=   0.0s\n",
      "[CV 4/5] END algorithm=brute, leaf_size=20, n_neighbors=11;, score=0.975 total time=   0.0s\n",
      "[CV 5/5] END algorithm=brute, leaf_size=20, n_neighbors=11;, score=0.962 total time=   0.0s\n",
      "[CV 1/5] END algorithm=brute, leaf_size=20, n_neighbors=12;, score=0.938 total time=   0.0s\n",
      "[CV 2/5] END algorithm=brute, leaf_size=20, n_neighbors=12;, score=0.912 total time=   0.0s\n",
      "[CV 3/5] END algorithm=brute, leaf_size=20, n_neighbors=12;, score=0.963 total time=   0.0s\n",
      "[CV 4/5] END algorithm=brute, leaf_size=20, n_neighbors=12;, score=0.975 total time=   0.0s\n",
      "[CV 5/5] END algorithm=brute, leaf_size=20, n_neighbors=12;, score=0.962 total time=   0.0s\n",
      "[CV 1/5] END algorithm=brute, leaf_size=20, n_neighbors=13;, score=0.938 total time=   0.0s\n",
      "[CV 2/5] END algorithm=brute, leaf_size=20, n_neighbors=13;, score=0.912 total time=   0.0s\n",
      "[CV 3/5] END algorithm=brute, leaf_size=20, n_neighbors=13;, score=0.963 total time=   0.0s\n",
      "[CV 4/5] END algorithm=brute, leaf_size=20, n_neighbors=13;, score=0.975 total time=   0.0s\n",
      "[CV 5/5] END algorithm=brute, leaf_size=20, n_neighbors=13;, score=0.975 total time=   0.0s\n",
      "[CV 1/5] END algorithm=brute, leaf_size=25, n_neighbors=3;, score=0.975 total time=   0.0s\n",
      "[CV 2/5] END algorithm=brute, leaf_size=25, n_neighbors=3;, score=0.938 total time=   0.0s\n",
      "[CV 3/5] END algorithm=brute, leaf_size=25, n_neighbors=3;, score=0.950 total time=   0.0s\n",
      "[CV 4/5] END algorithm=brute, leaf_size=25, n_neighbors=3;, score=0.987 total time=   0.0s\n",
      "[CV 5/5] END algorithm=brute, leaf_size=25, n_neighbors=3;, score=0.975 total time=   0.0s\n",
      "[CV 1/5] END algorithm=brute, leaf_size=25, n_neighbors=5;, score=0.950 total time=   0.0s\n",
      "[CV 2/5] END algorithm=brute, leaf_size=25, n_neighbors=5;, score=0.938 total time=   0.0s\n",
      "[CV 3/5] END algorithm=brute, leaf_size=25, n_neighbors=5;, score=0.950 total time=   0.0s\n",
      "[CV 4/5] END algorithm=brute, leaf_size=25, n_neighbors=5;, score=0.975 total time=   0.0s\n",
      "[CV 5/5] END algorithm=brute, leaf_size=25, n_neighbors=5;, score=0.937 total time=   0.0s\n",
      "[CV 1/5] END algorithm=brute, leaf_size=25, n_neighbors=7;, score=0.950 total time=   0.0s\n",
      "[CV 2/5] END algorithm=brute, leaf_size=25, n_neighbors=7;, score=0.938 total time=   0.0s\n",
      "[CV 3/5] END algorithm=brute, leaf_size=25, n_neighbors=7;, score=0.963 total time=   0.0s\n",
      "[CV 4/5] END algorithm=brute, leaf_size=25, n_neighbors=7;, score=0.987 total time=   0.0s\n",
      "[CV 5/5] END algorithm=brute, leaf_size=25, n_neighbors=7;, score=0.962 total time=   0.0s\n",
      "[CV 1/5] END algorithm=brute, leaf_size=25, n_neighbors=9;, score=0.950 total time=   0.0s\n",
      "[CV 2/5] END algorithm=brute, leaf_size=25, n_neighbors=9;, score=0.938 total time=   0.0s\n",
      "[CV 3/5] END algorithm=brute, leaf_size=25, n_neighbors=9;, score=0.963 total time=   0.0s\n",
      "[CV 4/5] END algorithm=brute, leaf_size=25, n_neighbors=9;, score=0.987 total time=   0.0s\n",
      "[CV 5/5] END algorithm=brute, leaf_size=25, n_neighbors=9;, score=0.975 total time=   0.0s\n",
      "[CV 1/5] END algorithm=brute, leaf_size=25, n_neighbors=10;, score=0.950 total time=   0.0s\n",
      "[CV 2/5] END algorithm=brute, leaf_size=25, n_neighbors=10;, score=0.925 total time=   0.0s\n",
      "[CV 3/5] END algorithm=brute, leaf_size=25, n_neighbors=10;, score=0.963 total time=   0.0s\n",
      "[CV 4/5] END algorithm=brute, leaf_size=25, n_neighbors=10;, score=0.975 total time=   0.0s\n",
      "[CV 5/5] END algorithm=brute, leaf_size=25, n_neighbors=10;, score=0.962 total time=   0.0s\n",
      "[CV 1/5] END algorithm=brute, leaf_size=25, n_neighbors=11;, score=0.950 total time=   0.0s\n",
      "[CV 2/5] END algorithm=brute, leaf_size=25, n_neighbors=11;, score=0.925 total time=   0.0s\n",
      "[CV 3/5] END algorithm=brute, leaf_size=25, n_neighbors=11;, score=0.963 total time=   0.0s\n",
      "[CV 4/5] END algorithm=brute, leaf_size=25, n_neighbors=11;, score=0.975 total time=   0.0s\n",
      "[CV 5/5] END algorithm=brute, leaf_size=25, n_neighbors=11;, score=0.962 total time=   0.0s\n"
     ]
    },
    {
     "name": "stdout",
     "output_type": "stream",
     "text": [
      "[CV 1/5] END algorithm=brute, leaf_size=25, n_neighbors=12;, score=0.938 total time=   0.0s\n",
      "[CV 2/5] END algorithm=brute, leaf_size=25, n_neighbors=12;, score=0.912 total time=   0.0s\n",
      "[CV 3/5] END algorithm=brute, leaf_size=25, n_neighbors=12;, score=0.963 total time=   0.0s\n",
      "[CV 4/5] END algorithm=brute, leaf_size=25, n_neighbors=12;, score=0.975 total time=   0.0s\n",
      "[CV 5/5] END algorithm=brute, leaf_size=25, n_neighbors=12;, score=0.962 total time=   0.0s\n",
      "[CV 1/5] END algorithm=brute, leaf_size=25, n_neighbors=13;, score=0.938 total time=   0.0s\n",
      "[CV 2/5] END algorithm=brute, leaf_size=25, n_neighbors=13;, score=0.912 total time=   0.0s\n",
      "[CV 3/5] END algorithm=brute, leaf_size=25, n_neighbors=13;, score=0.963 total time=   0.0s\n",
      "[CV 4/5] END algorithm=brute, leaf_size=25, n_neighbors=13;, score=0.975 total time=   0.0s\n",
      "[CV 5/5] END algorithm=brute, leaf_size=25, n_neighbors=13;, score=0.975 total time=   0.0s\n",
      "[CV 1/5] END algorithm=brute, leaf_size=27, n_neighbors=3;, score=0.975 total time=   0.0s\n",
      "[CV 2/5] END algorithm=brute, leaf_size=27, n_neighbors=3;, score=0.938 total time=   0.0s\n",
      "[CV 3/5] END algorithm=brute, leaf_size=27, n_neighbors=3;, score=0.950 total time=   0.0s\n",
      "[CV 4/5] END algorithm=brute, leaf_size=27, n_neighbors=3;, score=0.987 total time=   0.0s\n",
      "[CV 5/5] END algorithm=brute, leaf_size=27, n_neighbors=3;, score=0.975 total time=   0.0s\n",
      "[CV 1/5] END algorithm=brute, leaf_size=27, n_neighbors=5;, score=0.950 total time=   0.0s\n",
      "[CV 2/5] END algorithm=brute, leaf_size=27, n_neighbors=5;, score=0.938 total time=   0.0s\n",
      "[CV 3/5] END algorithm=brute, leaf_size=27, n_neighbors=5;, score=0.950 total time=   0.0s\n",
      "[CV 4/5] END algorithm=brute, leaf_size=27, n_neighbors=5;, score=0.975 total time=   0.0s\n",
      "[CV 5/5] END algorithm=brute, leaf_size=27, n_neighbors=5;, score=0.937 total time=   0.0s\n",
      "[CV 1/5] END algorithm=brute, leaf_size=27, n_neighbors=7;, score=0.950 total time=   0.0s\n",
      "[CV 2/5] END algorithm=brute, leaf_size=27, n_neighbors=7;, score=0.938 total time=   0.0s\n",
      "[CV 3/5] END algorithm=brute, leaf_size=27, n_neighbors=7;, score=0.963 total time=   0.0s\n",
      "[CV 4/5] END algorithm=brute, leaf_size=27, n_neighbors=7;, score=0.987 total time=   0.0s\n",
      "[CV 5/5] END algorithm=brute, leaf_size=27, n_neighbors=7;, score=0.962 total time=   0.0s\n",
      "[CV 1/5] END algorithm=brute, leaf_size=27, n_neighbors=9;, score=0.950 total time=   0.0s\n",
      "[CV 2/5] END algorithm=brute, leaf_size=27, n_neighbors=9;, score=0.938 total time=   0.0s\n",
      "[CV 3/5] END algorithm=brute, leaf_size=27, n_neighbors=9;, score=0.963 total time=   0.0s\n",
      "[CV 4/5] END algorithm=brute, leaf_size=27, n_neighbors=9;, score=0.987 total time=   0.0s\n",
      "[CV 5/5] END algorithm=brute, leaf_size=27, n_neighbors=9;, score=0.975 total time=   0.0s\n",
      "[CV 1/5] END algorithm=brute, leaf_size=27, n_neighbors=10;, score=0.950 total time=   0.0s\n",
      "[CV 2/5] END algorithm=brute, leaf_size=27, n_neighbors=10;, score=0.925 total time=   0.0s\n",
      "[CV 3/5] END algorithm=brute, leaf_size=27, n_neighbors=10;, score=0.963 total time=   0.0s\n",
      "[CV 4/5] END algorithm=brute, leaf_size=27, n_neighbors=10;, score=0.975 total time=   0.0s\n",
      "[CV 5/5] END algorithm=brute, leaf_size=27, n_neighbors=10;, score=0.962 total time=   0.0s\n",
      "[CV 1/5] END algorithm=brute, leaf_size=27, n_neighbors=11;, score=0.950 total time=   0.0s\n",
      "[CV 2/5] END algorithm=brute, leaf_size=27, n_neighbors=11;, score=0.925 total time=   0.0s\n",
      "[CV 3/5] END algorithm=brute, leaf_size=27, n_neighbors=11;, score=0.963 total time=   0.0s\n",
      "[CV 4/5] END algorithm=brute, leaf_size=27, n_neighbors=11;, score=0.975 total time=   0.0s\n",
      "[CV 5/5] END algorithm=brute, leaf_size=27, n_neighbors=11;, score=0.962 total time=   0.0s\n",
      "[CV 1/5] END algorithm=brute, leaf_size=27, n_neighbors=12;, score=0.938 total time=   0.0s\n",
      "[CV 2/5] END algorithm=brute, leaf_size=27, n_neighbors=12;, score=0.912 total time=   0.0s\n",
      "[CV 3/5] END algorithm=brute, leaf_size=27, n_neighbors=12;, score=0.963 total time=   0.0s\n",
      "[CV 4/5] END algorithm=brute, leaf_size=27, n_neighbors=12;, score=0.975 total time=   0.0s\n",
      "[CV 5/5] END algorithm=brute, leaf_size=27, n_neighbors=12;, score=0.962 total time=   0.0s\n",
      "[CV 1/5] END algorithm=brute, leaf_size=27, n_neighbors=13;, score=0.938 total time=   0.0s\n",
      "[CV 2/5] END algorithm=brute, leaf_size=27, n_neighbors=13;, score=0.912 total time=   0.0s\n",
      "[CV 3/5] END algorithm=brute, leaf_size=27, n_neighbors=13;, score=0.963 total time=   0.0s\n",
      "[CV 4/5] END algorithm=brute, leaf_size=27, n_neighbors=13;, score=0.975 total time=   0.0s\n",
      "[CV 5/5] END algorithm=brute, leaf_size=27, n_neighbors=13;, score=0.975 total time=   0.0s\n",
      "[CV 1/5] END algorithm=brute, leaf_size=30, n_neighbors=3;, score=0.975 total time=   0.0s\n",
      "[CV 2/5] END algorithm=brute, leaf_size=30, n_neighbors=3;, score=0.938 total time=   0.0s\n",
      "[CV 3/5] END algorithm=brute, leaf_size=30, n_neighbors=3;, score=0.950 total time=   0.0s\n",
      "[CV 4/5] END algorithm=brute, leaf_size=30, n_neighbors=3;, score=0.987 total time=   0.0s\n",
      "[CV 5/5] END algorithm=brute, leaf_size=30, n_neighbors=3;, score=0.975 total time=   0.0s\n",
      "[CV 1/5] END algorithm=brute, leaf_size=30, n_neighbors=5;, score=0.950 total time=   0.0s\n",
      "[CV 2/5] END algorithm=brute, leaf_size=30, n_neighbors=5;, score=0.938 total time=   0.0s\n",
      "[CV 3/5] END algorithm=brute, leaf_size=30, n_neighbors=5;, score=0.950 total time=   0.0s\n",
      "[CV 4/5] END algorithm=brute, leaf_size=30, n_neighbors=5;, score=0.975 total time=   0.0s\n",
      "[CV 5/5] END algorithm=brute, leaf_size=30, n_neighbors=5;, score=0.937 total time=   0.0s\n",
      "[CV 1/5] END algorithm=brute, leaf_size=30, n_neighbors=7;, score=0.950 total time=   0.0s\n",
      "[CV 2/5] END algorithm=brute, leaf_size=30, n_neighbors=7;, score=0.938 total time=   0.0s\n",
      "[CV 3/5] END algorithm=brute, leaf_size=30, n_neighbors=7;, score=0.963 total time=   0.0s\n",
      "[CV 4/5] END algorithm=brute, leaf_size=30, n_neighbors=7;, score=0.987 total time=   0.0s\n",
      "[CV 5/5] END algorithm=brute, leaf_size=30, n_neighbors=7;, score=0.962 total time=   0.0s\n",
      "[CV 1/5] END algorithm=brute, leaf_size=30, n_neighbors=9;, score=0.950 total time=   0.0s\n",
      "[CV 2/5] END algorithm=brute, leaf_size=30, n_neighbors=9;, score=0.938 total time=   0.0s\n",
      "[CV 3/5] END algorithm=brute, leaf_size=30, n_neighbors=9;, score=0.963 total time=   0.0s\n",
      "[CV 4/5] END algorithm=brute, leaf_size=30, n_neighbors=9;, score=0.987 total time=   0.0s\n",
      "[CV 5/5] END algorithm=brute, leaf_size=30, n_neighbors=9;, score=0.975 total time=   0.0s\n",
      "[CV 1/5] END algorithm=brute, leaf_size=30, n_neighbors=10;, score=0.950 total time=   0.0s\n",
      "[CV 2/5] END algorithm=brute, leaf_size=30, n_neighbors=10;, score=0.925 total time=   0.0s\n",
      "[CV 3/5] END algorithm=brute, leaf_size=30, n_neighbors=10;, score=0.963 total time=   0.0s\n",
      "[CV 4/5] END algorithm=brute, leaf_size=30, n_neighbors=10;, score=0.975 total time=   0.0s\n",
      "[CV 5/5] END algorithm=brute, leaf_size=30, n_neighbors=10;, score=0.962 total time=   0.0s\n",
      "[CV 1/5] END algorithm=brute, leaf_size=30, n_neighbors=11;, score=0.950 total time=   0.0s\n",
      "[CV 2/5] END algorithm=brute, leaf_size=30, n_neighbors=11;, score=0.925 total time=   0.0s\n",
      "[CV 3/5] END algorithm=brute, leaf_size=30, n_neighbors=11;, score=0.963 total time=   0.0s\n",
      "[CV 4/5] END algorithm=brute, leaf_size=30, n_neighbors=11;, score=0.975 total time=   0.0s\n",
      "[CV 5/5] END algorithm=brute, leaf_size=30, n_neighbors=11;, score=0.962 total time=   0.0s\n",
      "[CV 1/5] END algorithm=brute, leaf_size=30, n_neighbors=12;, score=0.938 total time=   0.0s\n",
      "[CV 2/5] END algorithm=brute, leaf_size=30, n_neighbors=12;, score=0.912 total time=   0.0s\n",
      "[CV 3/5] END algorithm=brute, leaf_size=30, n_neighbors=12;, score=0.963 total time=   0.0s\n",
      "[CV 4/5] END algorithm=brute, leaf_size=30, n_neighbors=12;, score=0.975 total time=   0.0s\n",
      "[CV 5/5] END algorithm=brute, leaf_size=30, n_neighbors=12;, score=0.962 total time=   0.0s\n",
      "[CV 1/5] END algorithm=brute, leaf_size=30, n_neighbors=13;, score=0.938 total time=   0.0s\n",
      "[CV 2/5] END algorithm=brute, leaf_size=30, n_neighbors=13;, score=0.912 total time=   0.0s\n",
      "[CV 3/5] END algorithm=brute, leaf_size=30, n_neighbors=13;, score=0.963 total time=   0.0s\n",
      "[CV 4/5] END algorithm=brute, leaf_size=30, n_neighbors=13;, score=0.975 total time=   0.0s\n",
      "[CV 5/5] END algorithm=brute, leaf_size=30, n_neighbors=13;, score=0.975 total time=   0.0s\n",
      "[CV 1/5] END algorithm=brute, leaf_size=32, n_neighbors=3;, score=0.975 total time=   0.0s\n",
      "[CV 2/5] END algorithm=brute, leaf_size=32, n_neighbors=3;, score=0.938 total time=   0.0s\n"
     ]
    },
    {
     "name": "stdout",
     "output_type": "stream",
     "text": [
      "[CV 3/5] END algorithm=brute, leaf_size=32, n_neighbors=3;, score=0.950 total time=   0.0s\n",
      "[CV 4/5] END algorithm=brute, leaf_size=32, n_neighbors=3;, score=0.987 total time=   0.0s\n",
      "[CV 5/5] END algorithm=brute, leaf_size=32, n_neighbors=3;, score=0.975 total time=   0.0s\n",
      "[CV 1/5] END algorithm=brute, leaf_size=32, n_neighbors=5;, score=0.950 total time=   0.0s\n",
      "[CV 2/5] END algorithm=brute, leaf_size=32, n_neighbors=5;, score=0.938 total time=   0.0s\n",
      "[CV 3/5] END algorithm=brute, leaf_size=32, n_neighbors=5;, score=0.950 total time=   0.0s\n",
      "[CV 4/5] END algorithm=brute, leaf_size=32, n_neighbors=5;, score=0.975 total time=   0.0s\n",
      "[CV 5/5] END algorithm=brute, leaf_size=32, n_neighbors=5;, score=0.937 total time=   0.0s\n",
      "[CV 1/5] END algorithm=brute, leaf_size=32, n_neighbors=7;, score=0.950 total time=   0.0s\n",
      "[CV 2/5] END algorithm=brute, leaf_size=32, n_neighbors=7;, score=0.938 total time=   0.0s\n",
      "[CV 3/5] END algorithm=brute, leaf_size=32, n_neighbors=7;, score=0.963 total time=   0.0s\n",
      "[CV 4/5] END algorithm=brute, leaf_size=32, n_neighbors=7;, score=0.987 total time=   0.0s\n",
      "[CV 5/5] END algorithm=brute, leaf_size=32, n_neighbors=7;, score=0.962 total time=   0.0s\n",
      "[CV 1/5] END algorithm=brute, leaf_size=32, n_neighbors=9;, score=0.950 total time=   0.0s\n",
      "[CV 2/5] END algorithm=brute, leaf_size=32, n_neighbors=9;, score=0.938 total time=   0.0s\n",
      "[CV 3/5] END algorithm=brute, leaf_size=32, n_neighbors=9;, score=0.963 total time=   0.0s\n",
      "[CV 4/5] END algorithm=brute, leaf_size=32, n_neighbors=9;, score=0.987 total time=   0.0s\n",
      "[CV 5/5] END algorithm=brute, leaf_size=32, n_neighbors=9;, score=0.975 total time=   0.0s\n",
      "[CV 1/5] END algorithm=brute, leaf_size=32, n_neighbors=10;, score=0.950 total time=   0.0s\n",
      "[CV 2/5] END algorithm=brute, leaf_size=32, n_neighbors=10;, score=0.925 total time=   0.0s\n",
      "[CV 3/5] END algorithm=brute, leaf_size=32, n_neighbors=10;, score=0.963 total time=   0.0s\n",
      "[CV 4/5] END algorithm=brute, leaf_size=32, n_neighbors=10;, score=0.975 total time=   0.0s\n",
      "[CV 5/5] END algorithm=brute, leaf_size=32, n_neighbors=10;, score=0.962 total time=   0.0s\n",
      "[CV 1/5] END algorithm=brute, leaf_size=32, n_neighbors=11;, score=0.950 total time=   0.0s\n",
      "[CV 2/5] END algorithm=brute, leaf_size=32, n_neighbors=11;, score=0.925 total time=   0.0s\n",
      "[CV 3/5] END algorithm=brute, leaf_size=32, n_neighbors=11;, score=0.963 total time=   0.0s\n",
      "[CV 4/5] END algorithm=brute, leaf_size=32, n_neighbors=11;, score=0.975 total time=   0.0s\n",
      "[CV 5/5] END algorithm=brute, leaf_size=32, n_neighbors=11;, score=0.962 total time=   0.0s\n",
      "[CV 1/5] END algorithm=brute, leaf_size=32, n_neighbors=12;, score=0.938 total time=   0.0s\n",
      "[CV 2/5] END algorithm=brute, leaf_size=32, n_neighbors=12;, score=0.912 total time=   0.0s\n",
      "[CV 3/5] END algorithm=brute, leaf_size=32, n_neighbors=12;, score=0.963 total time=   0.0s\n",
      "[CV 4/5] END algorithm=brute, leaf_size=32, n_neighbors=12;, score=0.975 total time=   0.0s\n",
      "[CV 5/5] END algorithm=brute, leaf_size=32, n_neighbors=12;, score=0.962 total time=   0.0s\n",
      "[CV 1/5] END algorithm=brute, leaf_size=32, n_neighbors=13;, score=0.938 total time=   0.0s\n",
      "[CV 2/5] END algorithm=brute, leaf_size=32, n_neighbors=13;, score=0.912 total time=   0.0s\n",
      "[CV 3/5] END algorithm=brute, leaf_size=32, n_neighbors=13;, score=0.963 total time=   0.0s\n",
      "[CV 4/5] END algorithm=brute, leaf_size=32, n_neighbors=13;, score=0.975 total time=   0.0s\n",
      "[CV 5/5] END algorithm=brute, leaf_size=32, n_neighbors=13;, score=0.975 total time=   0.0s\n",
      "[CV 1/5] END algorithm=brute, leaf_size=34, n_neighbors=3;, score=0.975 total time=   0.0s\n",
      "[CV 2/5] END algorithm=brute, leaf_size=34, n_neighbors=3;, score=0.938 total time=   0.0s\n",
      "[CV 3/5] END algorithm=brute, leaf_size=34, n_neighbors=3;, score=0.950 total time=   0.0s\n",
      "[CV 4/5] END algorithm=brute, leaf_size=34, n_neighbors=3;, score=0.987 total time=   0.0s\n",
      "[CV 5/5] END algorithm=brute, leaf_size=34, n_neighbors=3;, score=0.975 total time=   0.0s\n",
      "[CV 1/5] END algorithm=brute, leaf_size=34, n_neighbors=5;, score=0.950 total time=   0.0s\n",
      "[CV 2/5] END algorithm=brute, leaf_size=34, n_neighbors=5;, score=0.938 total time=   0.0s\n",
      "[CV 3/5] END algorithm=brute, leaf_size=34, n_neighbors=5;, score=0.950 total time=   0.0s\n",
      "[CV 4/5] END algorithm=brute, leaf_size=34, n_neighbors=5;, score=0.975 total time=   0.0s\n",
      "[CV 5/5] END algorithm=brute, leaf_size=34, n_neighbors=5;, score=0.937 total time=   0.0s\n",
      "[CV 1/5] END algorithm=brute, leaf_size=34, n_neighbors=7;, score=0.950 total time=   0.0s\n",
      "[CV 2/5] END algorithm=brute, leaf_size=34, n_neighbors=7;, score=0.938 total time=   0.0s\n",
      "[CV 3/5] END algorithm=brute, leaf_size=34, n_neighbors=7;, score=0.963 total time=   0.0s\n",
      "[CV 4/5] END algorithm=brute, leaf_size=34, n_neighbors=7;, score=0.987 total time=   0.0s\n",
      "[CV 5/5] END algorithm=brute, leaf_size=34, n_neighbors=7;, score=0.962 total time=   0.0s\n",
      "[CV 1/5] END algorithm=brute, leaf_size=34, n_neighbors=9;, score=0.950 total time=   0.0s\n",
      "[CV 2/5] END algorithm=brute, leaf_size=34, n_neighbors=9;, score=0.938 total time=   0.0s\n",
      "[CV 3/5] END algorithm=brute, leaf_size=34, n_neighbors=9;, score=0.963 total time=   0.0s\n",
      "[CV 4/5] END algorithm=brute, leaf_size=34, n_neighbors=9;, score=0.987 total time=   0.0s\n",
      "[CV 5/5] END algorithm=brute, leaf_size=34, n_neighbors=9;, score=0.975 total time=   0.0s\n",
      "[CV 1/5] END algorithm=brute, leaf_size=34, n_neighbors=10;, score=0.950 total time=   0.0s\n",
      "[CV 2/5] END algorithm=brute, leaf_size=34, n_neighbors=10;, score=0.925 total time=   0.0s\n",
      "[CV 3/5] END algorithm=brute, leaf_size=34, n_neighbors=10;, score=0.963 total time=   0.0s\n",
      "[CV 4/5] END algorithm=brute, leaf_size=34, n_neighbors=10;, score=0.975 total time=   0.0s\n",
      "[CV 5/5] END algorithm=brute, leaf_size=34, n_neighbors=10;, score=0.962 total time=   0.0s\n",
      "[CV 1/5] END algorithm=brute, leaf_size=34, n_neighbors=11;, score=0.950 total time=   0.0s\n",
      "[CV 2/5] END algorithm=brute, leaf_size=34, n_neighbors=11;, score=0.925 total time=   0.0s\n",
      "[CV 3/5] END algorithm=brute, leaf_size=34, n_neighbors=11;, score=0.963 total time=   0.0s\n",
      "[CV 4/5] END algorithm=brute, leaf_size=34, n_neighbors=11;, score=0.975 total time=   0.0s\n",
      "[CV 5/5] END algorithm=brute, leaf_size=34, n_neighbors=11;, score=0.962 total time=   0.0s\n",
      "[CV 1/5] END algorithm=brute, leaf_size=34, n_neighbors=12;, score=0.938 total time=   0.0s\n",
      "[CV 2/5] END algorithm=brute, leaf_size=34, n_neighbors=12;, score=0.912 total time=   0.0s\n",
      "[CV 3/5] END algorithm=brute, leaf_size=34, n_neighbors=12;, score=0.963 total time=   0.0s\n",
      "[CV 4/5] END algorithm=brute, leaf_size=34, n_neighbors=12;, score=0.975 total time=   0.0s\n",
      "[CV 5/5] END algorithm=brute, leaf_size=34, n_neighbors=12;, score=0.962 total time=   0.0s\n",
      "[CV 1/5] END algorithm=brute, leaf_size=34, n_neighbors=13;, score=0.938 total time=   0.0s\n",
      "[CV 2/5] END algorithm=brute, leaf_size=34, n_neighbors=13;, score=0.912 total time=   0.0s\n",
      "[CV 3/5] END algorithm=brute, leaf_size=34, n_neighbors=13;, score=0.963 total time=   0.0s\n",
      "[CV 4/5] END algorithm=brute, leaf_size=34, n_neighbors=13;, score=0.975 total time=   0.0s\n",
      "[CV 5/5] END algorithm=brute, leaf_size=34, n_neighbors=13;, score=0.975 total time=   0.0s\n"
     ]
    },
    {
     "data": {
      "text/plain": [
       "GridSearchCV(estimator=KNeighborsClassifier(),\n",
       "             param_grid={'algorithm': ['ball_tree', 'kd_tree', 'brute'],\n",
       "                         'leaf_size': [18, 20, 25, 27, 30, 32, 34],\n",
       "                         'n_neighbors': [3, 5, 7, 9, 10, 11, 12, 13]},\n",
       "             verbose=3)"
      ]
     },
     "execution_count": 78,
     "metadata": {},
     "output_type": "execute_result"
    }
   ],
   "source": [
    "gridsearch.fit(X_train,y_train)"
   ]
  },
  {
   "cell_type": "code",
   "execution_count": 79,
   "id": "8e6748a6",
   "metadata": {},
   "outputs": [
    {
     "data": {
      "text/plain": [
       "{'algorithm': 'ball_tree', 'leaf_size': 18, 'n_neighbors': 3}"
      ]
     },
     "execution_count": 79,
     "metadata": {},
     "output_type": "execute_result"
    }
   ],
   "source": [
    "# let's see the  best parameters according to gridsearch\n",
    "gridsearch.best_params_"
   ]
  },
  {
   "cell_type": "code",
   "execution_count": 80,
   "id": "1275303e",
   "metadata": {},
   "outputs": [],
   "source": [
    "# we will use the best parameters in our k-NN algorithm and check if accuracy is increasing.\n",
    "knn = KNeighborsClassifier(algorithm = 'ball_tree', leaf_size =18, n_neighbors =3)"
   ]
  },
  {
   "cell_type": "code",
   "execution_count": 81,
   "id": "144eae0c",
   "metadata": {},
   "outputs": [
    {
     "data": {
      "text/plain": [
       "KNeighborsClassifier(algorithm='ball_tree', leaf_size=18, n_neighbors=3)"
      ]
     },
     "execution_count": 81,
     "metadata": {},
     "output_type": "execute_result"
    }
   ],
   "source": [
    "knn.fit(X_train,y_train)"
   ]
  },
  {
   "cell_type": "code",
   "execution_count": 83,
   "id": "9f11939c",
   "metadata": {},
   "outputs": [
    {
     "data": {
      "text/plain": [
       "0.9824120603015075"
      ]
     },
     "execution_count": 83,
     "metadata": {},
     "output_type": "execute_result"
    }
   ],
   "source": [
    "knn.score(X_train,y_train)"
   ]
  },
  {
   "cell_type": "code",
   "execution_count": 84,
   "id": "55c5cf3b",
   "metadata": {},
   "outputs": [
    {
     "data": {
      "text/plain": [
       "0.9532163742690059"
      ]
     },
     "execution_count": 84,
     "metadata": {},
     "output_type": "execute_result"
    }
   ],
   "source": [
    "knn.score(X_test,y_test)"
   ]
  },
  {
   "cell_type": "code",
   "execution_count": 86,
   "id": "af8c670e",
   "metadata": {},
   "outputs": [
    {
     "data": {
      "text/plain": [
       "12"
      ]
     },
     "execution_count": 86,
     "metadata": {},
     "output_type": "execute_result"
    }
   ],
   "source": [
    "#k-fold cross validation\n",
    "kfold = KFold(n_splits=12)\n",
    "kfold.get_n_splits(X)"
   ]
  },
  {
   "cell_type": "code",
   "execution_count": 88,
   "id": "2250a501",
   "metadata": {},
   "outputs": [
    {
     "ename": "KeyError",
     "evalue": "\"None of [Int64Index([ 48,  49,  50,  51,  52,  53,  54,  55,  56,  57,\\n            ...\\n            559, 560, 561, 562, 563, 564, 565, 566, 567, 568],\\n           dtype='int64', length=521)] are in the [columns]\"",
     "output_type": "error",
     "traceback": [
      "\u001b[1;31m---------------------------------------------------------------------------\u001b[0m",
      "\u001b[1;31mKeyError\u001b[0m                                  Traceback (most recent call last)",
      "Cell \u001b[1;32mIn [88], line 9\u001b[0m\n\u001b[0;32m      6\u001b[0m test_score \u001b[38;5;241m=\u001b[39m []\n\u001b[0;32m      8\u001b[0m \u001b[38;5;28;01mfor\u001b[39;00m train_index,test_index \u001b[38;5;129;01min\u001b[39;00m kfold\u001b[38;5;241m.\u001b[39msplit(X):\n\u001b[1;32m----> 9\u001b[0m     X_train, X_test \u001b[38;5;241m=\u001b[39m \u001b[43mX\u001b[49m\u001b[43m[\u001b[49m\u001b[43mtrain_index\u001b[49m\u001b[43m]\u001b[49m, X[test_index] \u001b[38;5;66;03m# our scaled data is an array so it can work on x[value]\u001b[39;00m\n\u001b[0;32m     10\u001b[0m     y_train, y_test \u001b[38;5;241m=\u001b[39m y\u001b[38;5;241m.\u001b[39miloc[train_index], y\u001b[38;5;241m.\u001b[39miloc[test_index] \u001b[38;5;66;03m# y is a dataframe so we have to use \"iloc\" to retreive data\u001b[39;00m\n\u001b[0;32m     11\u001b[0m     knn\u001b[38;5;241m.\u001b[39mfit(X_train,y_train)\n",
      "File \u001b[1;32m~\\anaconda3\\lib\\site-packages\\pandas\\core\\frame.py:3511\u001b[0m, in \u001b[0;36mDataFrame.__getitem__\u001b[1;34m(self, key)\u001b[0m\n\u001b[0;32m   3509\u001b[0m     \u001b[38;5;28;01mif\u001b[39;00m is_iterator(key):\n\u001b[0;32m   3510\u001b[0m         key \u001b[38;5;241m=\u001b[39m \u001b[38;5;28mlist\u001b[39m(key)\n\u001b[1;32m-> 3511\u001b[0m     indexer \u001b[38;5;241m=\u001b[39m \u001b[38;5;28;43mself\u001b[39;49m\u001b[38;5;241;43m.\u001b[39;49m\u001b[43mcolumns\u001b[49m\u001b[38;5;241;43m.\u001b[39;49m\u001b[43m_get_indexer_strict\u001b[49m\u001b[43m(\u001b[49m\u001b[43mkey\u001b[49m\u001b[43m,\u001b[49m\u001b[43m \u001b[49m\u001b[38;5;124;43m\"\u001b[39;49m\u001b[38;5;124;43mcolumns\u001b[39;49m\u001b[38;5;124;43m\"\u001b[39;49m\u001b[43m)\u001b[49m[\u001b[38;5;241m1\u001b[39m]\n\u001b[0;32m   3513\u001b[0m \u001b[38;5;66;03m# take() does not accept boolean indexers\u001b[39;00m\n\u001b[0;32m   3514\u001b[0m \u001b[38;5;28;01mif\u001b[39;00m \u001b[38;5;28mgetattr\u001b[39m(indexer, \u001b[38;5;124m\"\u001b[39m\u001b[38;5;124mdtype\u001b[39m\u001b[38;5;124m\"\u001b[39m, \u001b[38;5;28;01mNone\u001b[39;00m) \u001b[38;5;241m==\u001b[39m \u001b[38;5;28mbool\u001b[39m:\n",
      "File \u001b[1;32m~\\anaconda3\\lib\\site-packages\\pandas\\core\\indexes\\base.py:5782\u001b[0m, in \u001b[0;36mIndex._get_indexer_strict\u001b[1;34m(self, key, axis_name)\u001b[0m\n\u001b[0;32m   5779\u001b[0m \u001b[38;5;28;01melse\u001b[39;00m:\n\u001b[0;32m   5780\u001b[0m     keyarr, indexer, new_indexer \u001b[38;5;241m=\u001b[39m \u001b[38;5;28mself\u001b[39m\u001b[38;5;241m.\u001b[39m_reindex_non_unique(keyarr)\n\u001b[1;32m-> 5782\u001b[0m \u001b[38;5;28;43mself\u001b[39;49m\u001b[38;5;241;43m.\u001b[39;49m\u001b[43m_raise_if_missing\u001b[49m\u001b[43m(\u001b[49m\u001b[43mkeyarr\u001b[49m\u001b[43m,\u001b[49m\u001b[43m \u001b[49m\u001b[43mindexer\u001b[49m\u001b[43m,\u001b[49m\u001b[43m \u001b[49m\u001b[43maxis_name\u001b[49m\u001b[43m)\u001b[49m\n\u001b[0;32m   5784\u001b[0m keyarr \u001b[38;5;241m=\u001b[39m \u001b[38;5;28mself\u001b[39m\u001b[38;5;241m.\u001b[39mtake(indexer)\n\u001b[0;32m   5785\u001b[0m \u001b[38;5;28;01mif\u001b[39;00m \u001b[38;5;28misinstance\u001b[39m(key, Index):\n\u001b[0;32m   5786\u001b[0m     \u001b[38;5;66;03m# GH 42790 - Preserve name from an Index\u001b[39;00m\n",
      "File \u001b[1;32m~\\anaconda3\\lib\\site-packages\\pandas\\core\\indexes\\base.py:5842\u001b[0m, in \u001b[0;36mIndex._raise_if_missing\u001b[1;34m(self, key, indexer, axis_name)\u001b[0m\n\u001b[0;32m   5840\u001b[0m     \u001b[38;5;28;01mif\u001b[39;00m use_interval_msg:\n\u001b[0;32m   5841\u001b[0m         key \u001b[38;5;241m=\u001b[39m \u001b[38;5;28mlist\u001b[39m(key)\n\u001b[1;32m-> 5842\u001b[0m     \u001b[38;5;28;01mraise\u001b[39;00m \u001b[38;5;167;01mKeyError\u001b[39;00m(\u001b[38;5;124mf\u001b[39m\u001b[38;5;124m\"\u001b[39m\u001b[38;5;124mNone of [\u001b[39m\u001b[38;5;132;01m{\u001b[39;00mkey\u001b[38;5;132;01m}\u001b[39;00m\u001b[38;5;124m] are in the [\u001b[39m\u001b[38;5;132;01m{\u001b[39;00maxis_name\u001b[38;5;132;01m}\u001b[39;00m\u001b[38;5;124m]\u001b[39m\u001b[38;5;124m\"\u001b[39m)\n\u001b[0;32m   5844\u001b[0m not_found \u001b[38;5;241m=\u001b[39m \u001b[38;5;28mlist\u001b[39m(ensure_index(key)[missing_mask\u001b[38;5;241m.\u001b[39mnonzero()[\u001b[38;5;241m0\u001b[39m]]\u001b[38;5;241m.\u001b[39munique())\n\u001b[0;32m   5845\u001b[0m \u001b[38;5;28;01mraise\u001b[39;00m \u001b[38;5;167;01mKeyError\u001b[39;00m(\u001b[38;5;124mf\u001b[39m\u001b[38;5;124m\"\u001b[39m\u001b[38;5;132;01m{\u001b[39;00mnot_found\u001b[38;5;132;01m}\u001b[39;00m\u001b[38;5;124m not in index\u001b[39m\u001b[38;5;124m\"\u001b[39m)\n",
      "\u001b[1;31mKeyError\u001b[0m: \"None of [Int64Index([ 48,  49,  50,  51,  52,  53,  54,  55,  56,  57,\\n            ...\\n            559, 560, 561, 562, 563, 564, 565, 566, 567, 568],\\n           dtype='int64', length=521)] are in the [columns]\""
     ]
    }
   ],
   "source": [
    "from statistics import mean\n",
    "knn = KNeighborsClassifier(algorithm = 'ball_tree', leaf_size =18, n_neighbors =11)\n",
    "cnt =0\n",
    "count=[]\n",
    "train_score =[]\n",
    "test_score = []\n",
    "\n",
    "for train_index,test_index in kfold.split(X):\n",
    "    X_train, X_test = X[train_index], X[test_index] # our scaled data is an array so it can work on x[value]\n",
    "    y_train, y_test = y.iloc[train_index], y.iloc[test_index] # y is a dataframe so we have to use \"iloc\" to retreive data\n",
    "    knn.fit(X_train,y_train)\n",
    "    train_score_ = knn.score(X_train,y_train)\n",
    "    test_score_ =  knn.score(X_test,y_test)\n",
    "    cnt+=1\n",
    "    count.append(cnt)\n",
    "    train_score.append(train_score_)\n",
    "    test_score.append(test_score_)\n",
    "    \n",
    "    print(\"for k = \", cnt)\n",
    "    print(\"train_score is :  \", train_score_, \"and test score is :  \", test_score_)\n",
    "print(\"************************************************\")\n",
    "print(\"************************************************\")\n",
    "print(\"Average train score is :  \", mean(train_score))\n",
    "print(\"Average test score is :  \", mean(test_score))"
   ]
  },
  {
   "cell_type": "markdown",
   "id": "02e6b1f3",
   "metadata": {},
   "source": [
    "## Naive Bayes"
   ]
  },
  {
   "cell_type": "code",
   "execution_count": 89,
   "id": "63752bb3",
   "metadata": {},
   "outputs": [
    {
     "data": {
      "text/plain": [
       "BernoulliNB()"
      ]
     },
     "execution_count": 89,
     "metadata": {},
     "output_type": "execute_result"
    }
   ],
   "source": [
    "from sklearn.naive_bayes import BernoulliNB\n",
    "classifier = BernoulliNB()\n",
    "classifier.fit(X_train, y_train)"
   ]
  },
  {
   "cell_type": "code",
   "execution_count": 96,
   "id": "d51bb100",
   "metadata": {},
   "outputs": [
    {
     "data": {
      "text/plain": [
       "94.72361809045226"
      ]
     },
     "execution_count": 96,
     "metadata": {},
     "output_type": "execute_result"
    }
   ],
   "source": [
    "y_train_pred = classifier.predict(X_train)\n",
    "naive_train_score = classifier.score(X_train,y_train)*100\n",
    "naive_train_score"
   ]
  },
  {
   "cell_type": "code",
   "execution_count": 90,
   "id": "729e88e6",
   "metadata": {},
   "outputs": [],
   "source": [
    "y_pred = classifier.predict(X_test)"
   ]
  },
  {
   "cell_type": "code",
   "execution_count": 97,
   "id": "bd96a94b",
   "metadata": {},
   "outputs": [
    {
     "name": "stdout",
     "output_type": "stream",
     "text": [
      "Confusion Matrix :\n",
      "[[97 11]\n",
      " [ 3 60]]\n",
      "Accuracy Score : 0.9181286549707602\n",
      "Report : \n",
      "              precision    recall  f1-score   support\n",
      "\n",
      "           0       0.97      0.90      0.93       108\n",
      "           1       0.85      0.95      0.90        63\n",
      "\n",
      "    accuracy                           0.92       171\n",
      "   macro avg       0.91      0.93      0.91       171\n",
      "weighted avg       0.92      0.92      0.92       171\n",
      "\n"
     ]
    }
   ],
   "source": [
    "from sklearn.metrics import confusion_matrix \n",
    "from sklearn.metrics import accuracy_score \n",
    "from sklearn.metrics import classification_report \n",
    "  \n",
    "results = confusion_matrix(y_test, y_pred) \n",
    "  \n",
    "print ('Confusion Matrix :')\n",
    "print(results) \n",
    "print ('Accuracy Score :',accuracy_score(y_test, y_pred) )\n",
    "print ('Report : ')\n",
    "print (classification_report(y_test, y_pred) )"
   ]
  },
  {
   "cell_type": "markdown",
   "id": "d20d602b",
   "metadata": {},
   "source": [
    "## Support Vector Classifier"
   ]
  },
  {
   "cell_type": "code",
   "execution_count": 113,
   "id": "d4c9f370",
   "metadata": {},
   "outputs": [],
   "source": [
    "from sklearn.svm import SVC\n",
    "from sklearn.model_selection import GridSearchCV"
   ]
  },
  {
   "cell_type": "code",
   "execution_count": 114,
   "id": "f4f7de6d",
   "metadata": {},
   "outputs": [],
   "source": [
    "svc = SVC()\n",
    "parameters = {\n",
    "    'gamma' : [0.0001, 0.001, 0.01, 0.1],\n",
    "    'C' : [0.01, 0.05, 0.5, 0.1, 1, 10, 15, 20]\n",
    "}"
   ]
  },
  {
   "cell_type": "code",
   "execution_count": 115,
   "id": "6d02022b",
   "metadata": {},
   "outputs": [
    {
     "data": {
      "text/plain": [
       "GridSearchCV(estimator=SVC(),\n",
       "             param_grid={'C': [0.01, 0.05, 0.5, 0.1, 1, 10, 15, 20],\n",
       "                         'gamma': [0.0001, 0.001, 0.01, 0.1]})"
      ]
     },
     "execution_count": 115,
     "metadata": {},
     "output_type": "execute_result"
    }
   ],
   "source": [
    "grid_search = GridSearchCV(svc, parameters)\n",
    "grid_search.fit(X_train, y_train)"
   ]
  },
  {
   "cell_type": "code",
   "execution_count": 116,
   "id": "84faa93f",
   "metadata": {},
   "outputs": [
    {
     "data": {
      "text/plain": [
       "{'C': 10, 'gamma': 0.01}"
      ]
     },
     "execution_count": 116,
     "metadata": {},
     "output_type": "execute_result"
    }
   ],
   "source": [
    "# best parameters\n",
    "\n",
    "grid_search.best_params_"
   ]
  },
  {
   "cell_type": "code",
   "execution_count": 117,
   "id": "aa633b2f",
   "metadata": {},
   "outputs": [
    {
     "data": {
      "text/plain": [
       "SVC(C=10, gamma=0.01)"
      ]
     },
     "execution_count": 117,
     "metadata": {},
     "output_type": "execute_result"
    }
   ],
   "source": [
    "svc = SVC(C = 10, gamma = 0.01)\n",
    "svc.fit(X_train, y_train)"
   ]
  },
  {
   "cell_type": "code",
   "execution_count": 118,
   "id": "a57868fe",
   "metadata": {},
   "outputs": [],
   "source": [
    "# model predictions \n",
    "\n",
    "y_pred = svc.predict(X_test)"
   ]
  },
  {
   "cell_type": "code",
   "execution_count": 119,
   "id": "7cc713bc",
   "metadata": {},
   "outputs": [
    {
     "name": "stdout",
     "output_type": "stream",
     "text": [
      "0.9899497487437185\n",
      "0.9824561403508771\n"
     ]
    }
   ],
   "source": [
    "# accuracy score\n",
    "\n",
    "print(accuracy_score(y_train, svc.predict(X_train)))\n",
    "\n",
    "svc_acc = accuracy_score(y_test, svc.predict(X_test))\n",
    "print(svc_acc)"
   ]
  },
  {
   "cell_type": "code",
   "execution_count": 120,
   "id": "b695f958",
   "metadata": {},
   "outputs": [],
   "source": [
    "# confusion matrix\n",
    "\n",
    "cf_matrix=confusion_matrix(y_test, y_pred)"
   ]
  },
  {
   "cell_type": "code",
   "execution_count": 121,
   "id": "ec7004aa",
   "metadata": {},
   "outputs": [
    {
     "data": {
      "text/plain": [
       "array([[106,   2],\n",
       "       [  1,  62]], dtype=int64)"
      ]
     },
     "execution_count": 121,
     "metadata": {},
     "output_type": "execute_result"
    }
   ],
   "source": [
    "cf_matrix"
   ]
  },
  {
   "cell_type": "code",
   "execution_count": 123,
   "id": "c6ba9914",
   "metadata": {},
   "outputs": [
    {
     "name": "stdout",
     "output_type": "stream",
     "text": [
      "              precision    recall  f1-score   support\n",
      "\n",
      "           0       0.99      0.98      0.99       108\n",
      "           1       0.97      0.98      0.98        63\n",
      "\n",
      "    accuracy                           0.98       171\n",
      "   macro avg       0.98      0.98      0.98       171\n",
      "weighted avg       0.98      0.98      0.98       171\n",
      "\n"
     ]
    }
   ],
   "source": [
    "# classification report\n",
    "\n",
    "print(classification_report(y_test, y_pred))"
   ]
  },
  {
   "cell_type": "markdown",
   "id": "2d005775",
   "metadata": {},
   "source": [
    "## Decision Tree"
   ]
  },
  {
   "cell_type": "code",
   "execution_count": 124,
   "id": "3a040137",
   "metadata": {},
   "outputs": [
    {
     "name": "stdout",
     "output_type": "stream",
     "text": [
      "Requirement already satisfied: graphviz in c:\\users\\user\\anaconda3\\lib\\site-packages (0.20.1)\n"
     ]
    }
   ],
   "source": [
    "! pip install graphviz"
   ]
  },
  {
   "cell_type": "code",
   "execution_count": 125,
   "id": "7f08657b",
   "metadata": {},
   "outputs": [
    {
     "name": "stdout",
     "output_type": "stream",
     "text": [
      "Requirement already satisfied: pydotplus in c:\\users\\user\\anaconda3\\lib\\site-packages (2.0.2)\n",
      "Requirement already satisfied: pyparsing>=2.0.1 in c:\\users\\user\\anaconda3\\lib\\site-packages (from pydotplus) (3.0.4)\n"
     ]
    }
   ],
   "source": [
    "! pip install pydotplus"
   ]
  },
  {
   "cell_type": "code",
   "execution_count": 126,
   "id": "e0e95032",
   "metadata": {},
   "outputs": [],
   "source": [
    "import graphviz\n",
    "from sklearn.tree import DecisionTreeClassifier, export_graphviz\n",
    "from sklearn import tree\n",
    "from IPython.display import Image  \n",
    "from sklearn.tree import export_graphviz\n",
    "import pydotplus"
   ]
  },
  {
   "cell_type": "code",
   "execution_count": 128,
   "id": "772366fb",
   "metadata": {},
   "outputs": [
    {
     "data": {
      "text/plain": [
       "DecisionTreeClassifier()"
      ]
     },
     "execution_count": 128,
     "metadata": {},
     "output_type": "execute_result"
    }
   ],
   "source": [
    "#let's first visualize the tree on the data without doing any pre processing\n",
    "clf = DecisionTreeClassifier()\n",
    "clf.fit(X_train,y_train)"
   ]
  },
  {
   "cell_type": "code",
   "execution_count": 129,
   "id": "bea8c32a",
   "metadata": {},
   "outputs": [
    {
     "data": {
      "text/plain": [
       "['radius_mean',\n",
       " 'texture_mean',\n",
       " 'perimeter_mean',\n",
       " 'area_mean',\n",
       " 'smoothness_mean',\n",
       " 'compactness_mean',\n",
       " 'concavity_mean',\n",
       " 'concave points_mean',\n",
       " 'symmetry_mean',\n",
       " 'fractal_dimension_mean',\n",
       " 'radius_se',\n",
       " 'texture_se',\n",
       " 'perimeter_se',\n",
       " 'area_se',\n",
       " 'smoothness_se',\n",
       " 'compactness_se',\n",
       " 'concavity_se',\n",
       " 'concave points_se',\n",
       " 'symmetry_se',\n",
       " 'fractal_dimension_se',\n",
       " 'radius_worst',\n",
       " 'texture_worst',\n",
       " 'perimeter_worst',\n",
       " 'area_worst',\n",
       " 'smoothness_worst',\n",
       " 'compactness_worst',\n",
       " 'concavity_worst',\n",
       " 'concave points_worst',\n",
       " 'symmetry_worst',\n",
       " 'fractal_dimension_worst']"
      ]
     },
     "execution_count": 129,
     "metadata": {},
     "output_type": "execute_result"
    }
   ],
   "source": [
    "feature_name=list(X.columns)\n",
    "class_name = list(y_train.unique())\n",
    "feature_name"
   ]
  },
  {
   "cell_type": "code",
   "execution_count": 130,
   "id": "8cc57f56",
   "metadata": {},
   "outputs": [
    {
     "data": {
      "text/plain": [
       "[0, 1]"
      ]
     },
     "execution_count": 130,
     "metadata": {},
     "output_type": "execute_result"
    }
   ],
   "source": [
    "class_name"
   ]
  },
  {
   "cell_type": "code",
   "execution_count": 131,
   "id": "840bb6e6",
   "metadata": {},
   "outputs": [
    {
     "ename": "InvocationException",
     "evalue": "GraphViz's executables not found",
     "output_type": "error",
     "traceback": [
      "\u001b[1;31m---------------------------------------------------------------------------\u001b[0m",
      "\u001b[1;31mInvocationException\u001b[0m                       Traceback (most recent call last)",
      "Cell \u001b[1;32mIn [131], line 5\u001b[0m\n\u001b[0;32m      3\u001b[0m \u001b[38;5;66;03m# Draw graph\u001b[39;00m\n\u001b[0;32m      4\u001b[0m graph \u001b[38;5;241m=\u001b[39m pydotplus\u001b[38;5;241m.\u001b[39mgraph_from_dot_data(dot_data)  \n\u001b[1;32m----> 5\u001b[0m \u001b[43mgraph\u001b[49m\u001b[38;5;241;43m.\u001b[39;49m\u001b[43mwrite_png\u001b[49m\u001b[43m(\u001b[49m\u001b[38;5;124;43m\"\u001b[39;49m\u001b[38;5;124;43mmyTree.png\u001b[39;49m\u001b[38;5;124;43m\"\u001b[39;49m\u001b[43m)\u001b[49m\n\u001b[0;32m      6\u001b[0m \u001b[38;5;66;03m# Show graph\u001b[39;00m\n\u001b[0;32m      7\u001b[0m Image(graph\u001b[38;5;241m.\u001b[39mcreate_png())\n",
      "File \u001b[1;32m~\\anaconda3\\lib\\site-packages\\pydotplus\\graphviz.py:1810\u001b[0m, in \u001b[0;36mDot.__init__.<locals>.<lambda>\u001b[1;34m(path, f, prog)\u001b[0m\n\u001b[0;32m   1800\u001b[0m     f\u001b[38;5;241m.\u001b[39m\u001b[38;5;18m__doc__\u001b[39m \u001b[38;5;241m=\u001b[39m (\n\u001b[0;32m   1801\u001b[0m         \u001b[38;5;124;03m'''Refer to the docstring accompanying the'''\u001b[39;00m\n\u001b[0;32m   1802\u001b[0m         \u001b[38;5;124;03m''''create' method for more information.'''\u001b[39;00m\n\u001b[0;32m   1803\u001b[0m     )\n\u001b[0;32m   1805\u001b[0m \u001b[38;5;28;01mfor\u001b[39;00m frmt \u001b[38;5;129;01min\u001b[39;00m \u001b[38;5;28mself\u001b[39m\u001b[38;5;241m.\u001b[39mformats \u001b[38;5;241m+\u001b[39m [\u001b[38;5;124m'\u001b[39m\u001b[38;5;124mraw\u001b[39m\u001b[38;5;124m'\u001b[39m]:\n\u001b[0;32m   1806\u001b[0m     \u001b[38;5;28mself\u001b[39m\u001b[38;5;241m.\u001b[39m\u001b[38;5;21m__setattr__\u001b[39m(\n\u001b[0;32m   1807\u001b[0m         \u001b[38;5;124m'\u001b[39m\u001b[38;5;124mwrite_\u001b[39m\u001b[38;5;124m'\u001b[39m \u001b[38;5;241m+\u001b[39m frmt,\n\u001b[0;32m   1808\u001b[0m         \u001b[38;5;28;01mlambda\u001b[39;00m path,\n\u001b[0;32m   1809\u001b[0m         f\u001b[38;5;241m=\u001b[39mfrmt,\n\u001b[1;32m-> 1810\u001b[0m         prog\u001b[38;5;241m=\u001b[39m\u001b[38;5;28mself\u001b[39m\u001b[38;5;241m.\u001b[39mprog: \u001b[38;5;28;43mself\u001b[39;49m\u001b[38;5;241;43m.\u001b[39;49m\u001b[43mwrite\u001b[49m\u001b[43m(\u001b[49m\u001b[43mpath\u001b[49m\u001b[43m,\u001b[49m\u001b[43m \u001b[49m\u001b[38;5;28;43mformat\u001b[39;49m\u001b[38;5;241;43m=\u001b[39;49m\u001b[43mf\u001b[49m\u001b[43m,\u001b[49m\u001b[43m \u001b[49m\u001b[43mprog\u001b[49m\u001b[38;5;241;43m=\u001b[39;49m\u001b[43mprog\u001b[49m\u001b[43m)\u001b[49m\n\u001b[0;32m   1811\u001b[0m     )\n\u001b[0;32m   1813\u001b[0m     f \u001b[38;5;241m=\u001b[39m \u001b[38;5;28mself\u001b[39m\u001b[38;5;241m.\u001b[39m\u001b[38;5;18m__dict__\u001b[39m[\u001b[38;5;124m'\u001b[39m\u001b[38;5;124mwrite_\u001b[39m\u001b[38;5;124m'\u001b[39m \u001b[38;5;241m+\u001b[39m frmt]\n\u001b[0;32m   1814\u001b[0m     f\u001b[38;5;241m.\u001b[39m\u001b[38;5;18m__doc__\u001b[39m \u001b[38;5;241m=\u001b[39m (\n\u001b[0;32m   1815\u001b[0m         \u001b[38;5;124;03m'''Refer to the docstring accompanying the'''\u001b[39;00m\n\u001b[0;32m   1816\u001b[0m         \u001b[38;5;124;03m''''write' method for more information.'''\u001b[39;00m\n\u001b[0;32m   1817\u001b[0m     )\n",
      "File \u001b[1;32m~\\anaconda3\\lib\\site-packages\\pydotplus\\graphviz.py:1918\u001b[0m, in \u001b[0;36mDot.write\u001b[1;34m(self, path, prog, format)\u001b[0m\n\u001b[0;32m   1915\u001b[0m         fobj\u001b[38;5;241m.\u001b[39mwrite(data)\n\u001b[0;32m   1917\u001b[0m     \u001b[38;5;28;01melse\u001b[39;00m:\n\u001b[1;32m-> 1918\u001b[0m         fobj\u001b[38;5;241m.\u001b[39mwrite(\u001b[38;5;28;43mself\u001b[39;49m\u001b[38;5;241;43m.\u001b[39;49m\u001b[43mcreate\u001b[49m\u001b[43m(\u001b[49m\u001b[43mprog\u001b[49m\u001b[43m,\u001b[49m\u001b[43m \u001b[49m\u001b[38;5;28;43mformat\u001b[39;49m\u001b[43m)\u001b[49m)\n\u001b[0;32m   1919\u001b[0m \u001b[38;5;28;01mfinally\u001b[39;00m:\n\u001b[0;32m   1920\u001b[0m     \u001b[38;5;28;01mif\u001b[39;00m close:\n",
      "File \u001b[1;32m~\\anaconda3\\lib\\site-packages\\pydotplus\\graphviz.py:1959\u001b[0m, in \u001b[0;36mDot.create\u001b[1;34m(self, prog, format)\u001b[0m\n\u001b[0;32m   1957\u001b[0m     \u001b[38;5;28mself\u001b[39m\u001b[38;5;241m.\u001b[39mprogs \u001b[38;5;241m=\u001b[39m find_graphviz()\n\u001b[0;32m   1958\u001b[0m     \u001b[38;5;28;01mif\u001b[39;00m \u001b[38;5;28mself\u001b[39m\u001b[38;5;241m.\u001b[39mprogs \u001b[38;5;129;01mis\u001b[39;00m \u001b[38;5;28;01mNone\u001b[39;00m:\n\u001b[1;32m-> 1959\u001b[0m         \u001b[38;5;28;01mraise\u001b[39;00m InvocationException(\n\u001b[0;32m   1960\u001b[0m             \u001b[38;5;124m'\u001b[39m\u001b[38;5;124mGraphViz\u001b[39m\u001b[38;5;130;01m\\'\u001b[39;00m\u001b[38;5;124ms executables not found\u001b[39m\u001b[38;5;124m'\u001b[39m)\n\u001b[0;32m   1962\u001b[0m \u001b[38;5;28;01mif\u001b[39;00m prog \u001b[38;5;129;01mnot\u001b[39;00m \u001b[38;5;129;01min\u001b[39;00m \u001b[38;5;28mself\u001b[39m\u001b[38;5;241m.\u001b[39mprogs:\n\u001b[0;32m   1963\u001b[0m     \u001b[38;5;28;01mraise\u001b[39;00m InvocationException(\n\u001b[0;32m   1964\u001b[0m         \u001b[38;5;124m'\u001b[39m\u001b[38;5;124mGraphViz\u001b[39m\u001b[38;5;130;01m\\'\u001b[39;00m\u001b[38;5;124ms executable \u001b[39m\u001b[38;5;124m\"\u001b[39m\u001b[38;5;132;01m%s\u001b[39;00m\u001b[38;5;124m\"\u001b[39m\u001b[38;5;124m not found\u001b[39m\u001b[38;5;124m'\u001b[39m \u001b[38;5;241m%\u001b[39m prog)\n",
      "\u001b[1;31mInvocationException\u001b[0m: GraphViz's executables not found"
     ]
    }
   ],
   "source": [
    "# create a dot_file which stores the tree structure\n",
    "dot_data = export_graphviz(clf,feature_names = feature_name,rounded = True,filled = True)\n",
    "# Draw graph\n",
    "graph = pydotplus.graph_from_dot_data(dot_data)  \n",
    "graph.write_png(\"myTree.png\")\n",
    "# Show graph\n",
    "Image(graph.create_png())"
   ]
  },
  {
   "cell_type": "code",
   "execution_count": 133,
   "id": "0feb2762",
   "metadata": {},
   "outputs": [
    {
     "data": {
      "text/plain": [
       "1.0"
      ]
     },
     "execution_count": 133,
     "metadata": {},
     "output_type": "execute_result"
    }
   ],
   "source": [
    "clf.score(X_train,y_train)"
   ]
  },
  {
   "cell_type": "code",
   "execution_count": 135,
   "id": "e22570f1",
   "metadata": {},
   "outputs": [],
   "source": [
    "py_pred = clf.predict(X_test)"
   ]
  },
  {
   "cell_type": "code",
   "execution_count": 174,
   "id": "f34e1689",
   "metadata": {},
   "outputs": [
    {
     "data": {
      "text/plain": [
       "0.9415204678362573"
      ]
     },
     "execution_count": 174,
     "metadata": {},
     "output_type": "execute_result"
    }
   ],
   "source": [
    "# accuracy of our classification tree\n",
    "clf_score = clf.score(X_test,y_test)\n",
    "clf_score"
   ]
  },
  {
   "cell_type": "code",
   "execution_count": 138,
   "id": "4ee2afb9",
   "metadata": {},
   "outputs": [],
   "source": [
    "# we are tuning three hyperparameters right now, we are passing the different values for both parameters\n",
    "grid_param = {\n",
    "    'criterion': ['gini', 'entropy'],\n",
    "    'max_depth' : range(2,32,1),\n",
    "    'min_samples_leaf' : range(1,10,1),\n",
    "    'min_samples_split': range(2,10,1),\n",
    "    'splitter' : ['best', 'random']\n",
    "    \n",
    "}"
   ]
  },
  {
   "cell_type": "code",
   "execution_count": 139,
   "id": "ad4986d0",
   "metadata": {},
   "outputs": [],
   "source": [
    "grid_search = GridSearchCV(estimator=clf,\n",
    "                     param_grid=grid_param,\n",
    "                     cv=5,\n",
    "                    n_jobs =-1)"
   ]
  },
  {
   "cell_type": "code",
   "execution_count": 141,
   "id": "bde4f7ef",
   "metadata": {},
   "outputs": [
    {
     "data": {
      "text/plain": [
       "GridSearchCV(cv=5, estimator=DecisionTreeClassifier(), n_jobs=-1,\n",
       "             param_grid={'criterion': ['gini', 'entropy'],\n",
       "                         'max_depth': range(2, 32),\n",
       "                         'min_samples_leaf': range(1, 10),\n",
       "                         'min_samples_split': range(2, 10),\n",
       "                         'splitter': ['best', 'random']})"
      ]
     },
     "execution_count": 141,
     "metadata": {},
     "output_type": "execute_result"
    }
   ],
   "source": [
    "grid_search.fit(X_train,y_train)"
   ]
  },
  {
   "cell_type": "code",
   "execution_count": 142,
   "id": "548fb587",
   "metadata": {},
   "outputs": [
    {
     "name": "stdout",
     "output_type": "stream",
     "text": [
      "{'criterion': 'gini', 'max_depth': 16, 'min_samples_leaf': 6, 'min_samples_split': 3, 'splitter': 'random'}\n"
     ]
    }
   ],
   "source": [
    "best_parameters = grid_search.best_params_\n",
    "print(best_parameters)"
   ]
  },
  {
   "cell_type": "code",
   "execution_count": 143,
   "id": "12e12e55",
   "metadata": {},
   "outputs": [
    {
     "data": {
      "text/plain": [
       "0.9648734177215189"
      ]
     },
     "execution_count": 143,
     "metadata": {},
     "output_type": "execute_result"
    }
   ],
   "source": [
    "grid_search.best_score_"
   ]
  },
  {
   "cell_type": "code",
   "execution_count": 145,
   "id": "3b2bd4b5",
   "metadata": {},
   "outputs": [
    {
     "data": {
      "text/plain": [
       "DecisionTreeClassifier(max_depth=16, min_samples_leaf=6, min_samples_split=3,\n",
       "                       splitter='random')"
      ]
     },
     "execution_count": 145,
     "metadata": {},
     "output_type": "execute_result"
    }
   ],
   "source": [
    "clf = DecisionTreeClassifier(criterion = 'gini', max_depth =16, min_samples_leaf= 6, min_samples_split= 3, splitter ='random')\n",
    "clf.fit(X_train,y_train)"
   ]
  },
  {
   "cell_type": "code",
   "execution_count": 147,
   "id": "8497cf4a",
   "metadata": {},
   "outputs": [
    {
     "data": {
      "text/plain": [
       "0.9415204678362573"
      ]
     },
     "execution_count": 147,
     "metadata": {},
     "output_type": "execute_result"
    }
   ],
   "source": [
    "clf.score(X_test,y_test)"
   ]
  },
  {
   "cell_type": "markdown",
   "id": "8acb598a",
   "metadata": {},
   "source": [
    "## Random Forest Classifier"
   ]
  },
  {
   "cell_type": "code",
   "execution_count": 148,
   "id": "c11ceb9f",
   "metadata": {},
   "outputs": [],
   "source": [
    "from sklearn.ensemble import RandomForestClassifier"
   ]
  },
  {
   "cell_type": "code",
   "execution_count": 149,
   "id": "e06e8b73",
   "metadata": {},
   "outputs": [
    {
     "data": {
      "text/plain": [
       "RandomForestClassifier(criterion='entropy', max_depth=11, min_samples_leaf=2,\n",
       "                       min_samples_split=3, n_estimators=130)"
      ]
     },
     "execution_count": 149,
     "metadata": {},
     "output_type": "execute_result"
    }
   ],
   "source": [
    "rand_clf = RandomForestClassifier(criterion = 'entropy', max_depth = 11, max_features = 'auto',\n",
    "                                  min_samples_leaf = 2, min_samples_split = 3, n_estimators = 130)\n",
    "rand_clf.fit(X_train, y_train)"
   ]
  },
  {
   "cell_type": "code",
   "execution_count": 150,
   "id": "53997225",
   "metadata": {},
   "outputs": [],
   "source": [
    "y_pred = rand_clf.predict(X_test)"
   ]
  },
  {
   "cell_type": "code",
   "execution_count": 151,
   "id": "5a018355",
   "metadata": {},
   "outputs": [
    {
     "name": "stdout",
     "output_type": "stream",
     "text": [
      "0.992462311557789\n",
      "0.9707602339181286\n"
     ]
    }
   ],
   "source": [
    "# accuracy score\n",
    "\n",
    "print(accuracy_score(y_train, rand_clf.predict(X_train)))\n",
    "\n",
    "ran_clf_acc = accuracy_score(y_test, y_pred)\n",
    "print(ran_clf_acc)"
   ]
  },
  {
   "cell_type": "code",
   "execution_count": 152,
   "id": "19789cff",
   "metadata": {},
   "outputs": [
    {
     "name": "stdout",
     "output_type": "stream",
     "text": [
      "              precision    recall  f1-score   support\n",
      "\n",
      "           0       0.97      0.98      0.98       108\n",
      "           1       0.97      0.95      0.96        63\n",
      "\n",
      "    accuracy                           0.97       171\n",
      "   macro avg       0.97      0.97      0.97       171\n",
      "weighted avg       0.97      0.97      0.97       171\n",
      "\n"
     ]
    }
   ],
   "source": [
    "# classification report\n",
    "print(classification_report(y_test, y_pred))"
   ]
  },
  {
   "cell_type": "markdown",
   "id": "f284bcd7",
   "metadata": {},
   "source": [
    "## Gradient Boosting Classifier"
   ]
  },
  {
   "cell_type": "code",
   "execution_count": 153,
   "id": "6a619a62",
   "metadata": {},
   "outputs": [
    {
     "name": "stdout",
     "output_type": "stream",
     "text": [
      "Fitting 5 folds for each of 32 candidates, totalling 160 fits\n"
     ]
    },
    {
     "data": {
      "text/plain": [
       "GridSearchCV(cv=5, estimator=GradientBoostingClassifier(), n_jobs=-1,\n",
       "             param_grid={'learning_rate': [0.001, 0.1, 1, 10],\n",
       "                         'loss': ['deviance', 'exponential'],\n",
       "                         'n_estimators': [100, 150, 180, 200]},\n",
       "             verbose=1)"
      ]
     },
     "execution_count": 153,
     "metadata": {},
     "output_type": "execute_result"
    }
   ],
   "source": [
    "from sklearn.ensemble import GradientBoostingClassifier\n",
    "\n",
    "gbc = GradientBoostingClassifier()\n",
    "\n",
    "parameters = {\n",
    "    'loss': ['deviance', 'exponential'],\n",
    "    'learning_rate': [0.001, 0.1, 1, 10],\n",
    "    'n_estimators': [100, 150, 180, 200]\n",
    "}\n",
    "\n",
    "grid_search_gbc = GridSearchCV(gbc, parameters, cv = 5, n_jobs = -1, verbose = 1)\n",
    "grid_search_gbc.fit(X_train, y_train)"
   ]
  },
  {
   "cell_type": "code",
   "execution_count": 155,
   "id": "c77628a9",
   "metadata": {},
   "outputs": [
    {
     "data": {
      "text/plain": [
       "{'learning_rate': 1, 'loss': 'deviance', 'n_estimators': 150}"
      ]
     },
     "execution_count": 155,
     "metadata": {},
     "output_type": "execute_result"
    }
   ],
   "source": [
    "# best parameters \n",
    "\n",
    "grid_search_gbc.best_params_"
   ]
  },
  {
   "cell_type": "code",
   "execution_count": 156,
   "id": "9b0d8323",
   "metadata": {},
   "outputs": [
    {
     "data": {
      "text/plain": [
       "GradientBoostingClassifier(learning_rate=1, loss='exponential',\n",
       "                           n_estimators=180)"
      ]
     },
     "execution_count": 156,
     "metadata": {},
     "output_type": "execute_result"
    }
   ],
   "source": [
    "gbc = GradientBoostingClassifier(learning_rate = 1, loss = 'exponential', n_estimators = 180)\n",
    "gbc.fit(X_train, y_train)"
   ]
  },
  {
   "cell_type": "code",
   "execution_count": 157,
   "id": "2c418472",
   "metadata": {},
   "outputs": [],
   "source": [
    "y_pred = gbc.predict(X_test)"
   ]
  },
  {
   "cell_type": "code",
   "execution_count": 158,
   "id": "cff7a7cc",
   "metadata": {},
   "outputs": [
    {
     "name": "stdout",
     "output_type": "stream",
     "text": [
      "1.0\n",
      "0.9824561403508771\n"
     ]
    }
   ],
   "source": [
    "# accuracy score\n",
    "\n",
    "print(accuracy_score(y_train, gbc.predict(X_train)))\n",
    "\n",
    "gbc_acc = accuracy_score(y_test, y_pred)\n",
    "print(gbc_acc)"
   ]
  },
  {
   "cell_type": "code",
   "execution_count": 159,
   "id": "f3e6b322",
   "metadata": {},
   "outputs": [
    {
     "name": "stdout",
     "output_type": "stream",
     "text": [
      "              precision    recall  f1-score   support\n",
      "\n",
      "           0       0.98      0.99      0.99       108\n",
      "           1       0.98      0.97      0.98        63\n",
      "\n",
      "    accuracy                           0.98       171\n",
      "   macro avg       0.98      0.98      0.98       171\n",
      "weighted avg       0.98      0.98      0.98       171\n",
      "\n"
     ]
    }
   ],
   "source": [
    "# classification report\n",
    "\n",
    "print(classification_report(y_test, y_pred))"
   ]
  },
  {
   "cell_type": "markdown",
   "id": "0a56a735",
   "metadata": {},
   "source": [
    "## Extreme Gradient Boosting"
   ]
  },
  {
   "cell_type": "code",
   "execution_count": 160,
   "id": "23fe460f",
   "metadata": {},
   "outputs": [
    {
     "data": {
      "text/plain": [
       "XGBClassifier(base_score=0.5, booster='gbtree', callbacks=None,\n",
       "              colsample_bylevel=1, colsample_bynode=1, colsample_bytree=1,\n",
       "              early_stopping_rounds=None, enable_categorical=False,\n",
       "              eval_metric=None, feature_types=None, gamma=0, gpu_id=-1,\n",
       "              grow_policy='depthwise', importance_type=None,\n",
       "              interaction_constraints='', learning_rate=0.5, max_bin=256,\n",
       "              max_cat_threshold=64, max_cat_to_onehot=4, max_delta_step=0,\n",
       "              max_depth=5, max_leaves=0, min_child_weight=1, missing=nan,\n",
       "              monotone_constraints='()', n_estimators=180, n_jobs=0,\n",
       "              num_parallel_tree=1, predictor='auto', random_state=0, ...)"
      ]
     },
     "execution_count": 160,
     "metadata": {},
     "output_type": "execute_result"
    }
   ],
   "source": [
    "from xgboost import XGBClassifier \n",
    "\n",
    "xgb = XGBClassifier(objective = 'binary:logistic', learning_rate = 0.5, max_depth = 5, n_estimators = 180)\n",
    "\n",
    "xgb.fit(X_train, y_train)"
   ]
  },
  {
   "cell_type": "code",
   "execution_count": 161,
   "id": "fb3b7031",
   "metadata": {},
   "outputs": [],
   "source": [
    "y_pred = xgb.predict(X_test)"
   ]
  },
  {
   "cell_type": "code",
   "execution_count": 162,
   "id": "3984a2a6",
   "metadata": {},
   "outputs": [
    {
     "name": "stdout",
     "output_type": "stream",
     "text": [
      "1.0\n",
      "0.9707602339181286\n"
     ]
    }
   ],
   "source": [
    "# accuracy score\n",
    "\n",
    "print(accuracy_score(y_train, xgb.predict(X_train)))\n",
    "\n",
    "xgb_acc = accuracy_score(y_test, y_pred)\n",
    "print(xgb_acc)"
   ]
  },
  {
   "cell_type": "code",
   "execution_count": 163,
   "id": "83dcc574",
   "metadata": {},
   "outputs": [
    {
     "name": "stdout",
     "output_type": "stream",
     "text": [
      "              precision    recall  f1-score   support\n",
      "\n",
      "           0       0.97      0.98      0.98       108\n",
      "           1       0.97      0.95      0.96        63\n",
      "\n",
      "    accuracy                           0.97       171\n",
      "   macro avg       0.97      0.97      0.97       171\n",
      "weighted avg       0.97      0.97      0.97       171\n",
      "\n"
     ]
    }
   ],
   "source": [
    "# classification report\n",
    "\n",
    "print(classification_report(y_test, y_pred))"
   ]
  },
  {
   "cell_type": "code",
   "execution_count": 181,
   "id": "072c38a1",
   "metadata": {},
   "outputs": [
    {
     "data": {
      "text/html": [
       "<div>\n",
       "<style scoped>\n",
       "    .dataframe tbody tr th:only-of-type {\n",
       "        vertical-align: middle;\n",
       "    }\n",
       "\n",
       "    .dataframe tbody tr th {\n",
       "        vertical-align: top;\n",
       "    }\n",
       "\n",
       "    .dataframe thead th {\n",
       "        text-align: right;\n",
       "    }\n",
       "</style>\n",
       "<table border=\"1\" class=\"dataframe\">\n",
       "  <thead>\n",
       "    <tr style=\"text-align: right;\">\n",
       "      <th></th>\n",
       "      <th>Model</th>\n",
       "      <th>Score</th>\n",
       "    </tr>\n",
       "  </thead>\n",
       "  <tbody>\n",
       "    <tr>\n",
       "      <th>3</th>\n",
       "      <td>DT</td>\n",
       "      <td>0.941520</td>\n",
       "    </tr>\n",
       "    <tr>\n",
       "      <th>0</th>\n",
       "      <td>Logistic Regression</td>\n",
       "      <td>0.970760</td>\n",
       "    </tr>\n",
       "    <tr>\n",
       "      <th>1</th>\n",
       "      <td>KNN</td>\n",
       "      <td>0.970760</td>\n",
       "    </tr>\n",
       "    <tr>\n",
       "      <th>4</th>\n",
       "      <td>RF</td>\n",
       "      <td>0.970760</td>\n",
       "    </tr>\n",
       "    <tr>\n",
       "      <th>6</th>\n",
       "      <td>XgBoost</td>\n",
       "      <td>0.970760</td>\n",
       "    </tr>\n",
       "    <tr>\n",
       "      <th>2</th>\n",
       "      <td>SVC</td>\n",
       "      <td>0.982456</td>\n",
       "    </tr>\n",
       "    <tr>\n",
       "      <th>5</th>\n",
       "      <td>Gradient Boosting Classifier</td>\n",
       "      <td>0.982456</td>\n",
       "    </tr>\n",
       "  </tbody>\n",
       "</table>\n",
       "</div>"
      ],
      "text/plain": [
       "                          Model     Score\n",
       "3                            DT  0.941520\n",
       "0           Logistic Regression  0.970760\n",
       "1                           KNN  0.970760\n",
       "4                            RF  0.970760\n",
       "6                       XgBoost  0.970760\n",
       "2                           SVC  0.982456\n",
       "5  Gradient Boosting Classifier  0.982456"
      ]
     },
     "execution_count": 181,
     "metadata": {},
     "output_type": "execute_result"
    }
   ],
   "source": [
    "models = pd.DataFrame({\n",
    "    'Model': ['Logistic Regression', 'KNN', 'SVC', 'DT', 'RF', 'Gradient Boosting Classifier','XgBoost'],\n",
    "    'Score': [log_reg_acc, knn_acc, svc_acc, clf_score, ran_clf_acc, gbc_acc, xgb_acc]\n",
    "})\n",
    "\n",
    "models.sort_values(by = 'Score')"
   ]
  },
  {
   "cell_type": "code",
   "execution_count": 182,
   "id": "ec0a087a",
   "metadata": {},
   "outputs": [
    {
     "data": {
      "image/png": "[encoded data removed]",
      "text/plain": [
       "<Figure size 720x288 with 1 Axes>"
      ]
     },
     "metadata": {
      "needs_background": "light"
     },
     "output_type": "display_data"
    }
   ],
   "source": [
    "models = ['Logistic Regression', 'KNN', 'SVC', 'DT', 'RF', 'GB','XgBoost', ]\n",
    "model_accuracy = [log_reg_acc, knn_acc, svc_acc, clf_score, ran_clf_acc, gbc_acc, xgb_acc]\n",
    "\n",
    "fig = plt.figure(figsize=(10, 4))\n",
    "plt.bar(models, model_accuracy, width=0.4)\n",
    "plt.title('Most Accurate Model for Predictions')\n",
    "plt.xlabel('Models Implemented on the Dataset')\n",
    "plt.ylabel('Accuracy for the Implemented Model')\n",
    "plt.show()"
   ]
  },
  {
   "cell_type": "code",
   "execution_count": 154,
   "id": "7b977049",
   "metadata": {},
   "outputs": [
    {
     "name": "stdout",
     "output_type": "stream",
     "text": [
      "Requirement already satisfied: xgboost in c:\\users\\user\\anaconda3\\lib\\site-packages (1.7.1)\n",
      "Requirement already satisfied: scipy in c:\\users\\user\\anaconda3\\lib\\site-packages (from xgboost) (1.7.3)\n",
      "Requirement already satisfied: numpy in c:\\users\\user\\anaconda3\\lib\\site-packages (from xgboost) (1.21.5)\n"
     ]
    }
   ],
   "source": [
    "! pip install xgboost"
   ]
  },
  {
   "cell_type": "code",
   "execution_count": 185,
   "id": "cf87b2b3",
   "metadata": {},
   "outputs": [],
   "source": [
    "model_params = {\n",
    "    'svm': {\n",
    "        'model': SVC(gamma='auto'),\n",
    "        'params' : {\n",
    "            'C': [1,10,20],\n",
    "            'kernel': ['rbf','linear']\n",
    "        }  \n",
    "    },\n",
    "    'random_forest': {\n",
    "        'model': RandomForestClassifier(),\n",
    "        'params' : {\n",
    "            'n_estimators': [1,5,10]\n",
    "        }\n",
    "    },\n",
    "    'logistic_regression' : {\n",
    "        'model': LogisticRegression(solver='liblinear',multi_class='auto'),\n",
    "        'params': {\n",
    "            'C': [1,5,10]\n",
    "        }\n",
    "    },\n",
    "    'knn' : {\n",
    "        'model' : KNeighborsClassifier(),\n",
    "        'params' : {\n",
    "             'algorithm' : ['ball_tree', 'kd_tree', 'brute'],\n",
    "             'leaf_size' : [18,20,25,27,30,32,34],\n",
    "             'n_neighbors' : [3,5,7,9,10,11,12,13]\n",
    "        }\n",
    "    },\n",
    "    'Decision_Tree' : {\n",
    "        'model' : DecisionTreeClassifier(),\n",
    "        'params' : {\n",
    "            'criterion': ['gini', 'entropy'],\n",
    "            'max_depth' : range(2,32,1),\n",
    "            'min_samples_leaf' : range(1,10,1),\n",
    "            'min_samples_split': range(2,10,1),\n",
    "            'splitter' : ['best', 'random']\n",
    "        }\n",
    "    }\n",
    "}"
   ]
  },
  {
   "cell_type": "code",
   "execution_count": 186,
   "id": "3702ff7e",
   "metadata": {},
   "outputs": [
    {
     "data": {
      "text/html": [
       "<div>\n",
       "<style scoped>\n",
       "    .dataframe tbody tr th:only-of-type {\n",
       "        vertical-align: middle;\n",
       "    }\n",
       "\n",
       "    .dataframe tbody tr th {\n",
       "        vertical-align: top;\n",
       "    }\n",
       "\n",
       "    .dataframe thead th {\n",
       "        text-align: right;\n",
       "    }\n",
       "</style>\n",
       "<table border=\"1\" class=\"dataframe\">\n",
       "  <thead>\n",
       "    <tr style=\"text-align: right;\">\n",
       "      <th></th>\n",
       "      <th>model</th>\n",
       "      <th>best_score</th>\n",
       "      <th>best_params</th>\n",
       "    </tr>\n",
       "  </thead>\n",
       "  <tbody>\n",
       "    <tr>\n",
       "      <th>0</th>\n",
       "      <td>svm</td>\n",
       "      <td>0.977468</td>\n",
       "      <td>{'C': 1, 'kernel': 'linear'}</td>\n",
       "    </tr>\n",
       "    <tr>\n",
       "      <th>1</th>\n",
       "      <td>random_forest</td>\n",
       "      <td>0.952310</td>\n",
       "      <td>{'n_estimators': 10}</td>\n",
       "    </tr>\n",
       "    <tr>\n",
       "      <th>2</th>\n",
       "      <td>logistic_regression</td>\n",
       "      <td>0.979968</td>\n",
       "      <td>{'C': 1}</td>\n",
       "    </tr>\n",
       "    <tr>\n",
       "      <th>3</th>\n",
       "      <td>knn</td>\n",
       "      <td>0.964905</td>\n",
       "      <td>{'algorithm': 'ball_tree', 'leaf_size': 18, 'n...</td>\n",
       "    </tr>\n",
       "    <tr>\n",
       "      <th>4</th>\n",
       "      <td>Decision_Tree</td>\n",
       "      <td>0.962405</td>\n",
       "      <td>{'criterion': 'entropy', 'max_depth': 28, 'min...</td>\n",
       "    </tr>\n",
       "  </tbody>\n",
       "</table>\n",
       "</div>"
      ],
      "text/plain": [
       "                 model  best_score  \\\n",
       "0                  svm    0.977468   \n",
       "1        random_forest    0.952310   \n",
       "2  logistic_regression    0.979968   \n",
       "3                  knn    0.964905   \n",
       "4        Decision_Tree    0.962405   \n",
       "\n",
       "                                         best_params  \n",
       "0                       {'C': 1, 'kernel': 'linear'}  \n",
       "1                               {'n_estimators': 10}  \n",
       "2                                           {'C': 1}  \n",
       "3  {'algorithm': 'ball_tree', 'leaf_size': 18, 'n...  \n",
       "4  {'criterion': 'entropy', 'max_depth': 28, 'min...  "
      ]
     },
     "execution_count": 186,
     "metadata": {},
     "output_type": "execute_result"
    }
   ],
   "source": [
    "scores = []\n",
    "\n",
    "for model_name, mp in model_params.items():\n",
    "    clf =  GridSearchCV(mp['model'], mp['params'], cv=5, return_train_score=False)\n",
    "    clf.fit(X_train, y_train)\n",
    "    scores.append({\n",
    "        'model': model_name,\n",
    "        'best_score': clf.best_score_,\n",
    "        'best_params': clf.best_params_\n",
    "    })\n",
    "    \n",
    "df = pd.DataFrame(scores,columns=['model','best_score','best_params'])\n",
    "df"
   ]
  },
  {
   "cell_type": "code",
   "execution_count": 188,
   "id": "e615a63b",
   "metadata": {},
   "outputs": [
    {
     "data": {
      "text/html": [
       "<div>\n",
       "<style scoped>\n",
       "    .dataframe tbody tr th:only-of-type {\n",
       "        vertical-align: middle;\n",
       "    }\n",
       "\n",
       "    .dataframe tbody tr th {\n",
       "        vertical-align: top;\n",
       "    }\n",
       "\n",
       "    .dataframe thead th {\n",
       "        text-align: right;\n",
       "    }\n",
       "</style>\n",
       "<table border=\"1\" class=\"dataframe\">\n",
       "  <thead>\n",
       "    <tr style=\"text-align: right;\">\n",
       "      <th></th>\n",
       "      <th>model</th>\n",
       "      <th>best_score</th>\n",
       "      <th>best_params</th>\n",
       "    </tr>\n",
       "  </thead>\n",
       "  <tbody>\n",
       "    <tr>\n",
       "      <th>0</th>\n",
       "      <td>svm</td>\n",
       "      <td>0.965042</td>\n",
       "      <td>{'C': 10, 'kernel': 'linear'}</td>\n",
       "    </tr>\n",
       "    <tr>\n",
       "      <th>1</th>\n",
       "      <td>random_forest</td>\n",
       "      <td>0.935630</td>\n",
       "      <td>{'n_estimators': 10}</td>\n",
       "    </tr>\n",
       "    <tr>\n",
       "      <th>2</th>\n",
       "      <td>logistic_regression</td>\n",
       "      <td>0.982521</td>\n",
       "      <td>{'C': 1}</td>\n",
       "    </tr>\n",
       "    <tr>\n",
       "      <th>3</th>\n",
       "      <td>knn</td>\n",
       "      <td>0.958824</td>\n",
       "      <td>{'algorithm': 'ball_tree', 'leaf_size': 18, 'n...</td>\n",
       "    </tr>\n",
       "    <tr>\n",
       "      <th>4</th>\n",
       "      <td>Decision_Tree</td>\n",
       "      <td>0.976471</td>\n",
       "      <td>{'criterion': 'gini', 'max_depth': 22, 'min_sa...</td>\n",
       "    </tr>\n",
       "  </tbody>\n",
       "</table>\n",
       "</div>"
      ],
      "text/plain": [
       "                 model  best_score  \\\n",
       "0                  svm    0.965042   \n",
       "1        random_forest    0.935630   \n",
       "2  logistic_regression    0.982521   \n",
       "3                  knn    0.958824   \n",
       "4        Decision_Tree    0.976471   \n",
       "\n",
       "                                         best_params  \n",
       "0                      {'C': 10, 'kernel': 'linear'}  \n",
       "1                               {'n_estimators': 10}  \n",
       "2                                           {'C': 1}  \n",
       "3  {'algorithm': 'ball_tree', 'leaf_size': 18, 'n...  \n",
       "4  {'criterion': 'gini', 'max_depth': 22, 'min_sa...  "
      ]
     },
     "execution_count": 188,
     "metadata": {},
     "output_type": "execute_result"
    }
   ],
   "source": [
    "scores = []\n",
    "\n",
    "for model_name, mp in model_params.items():\n",
    "    clf =  GridSearchCV(mp['model'], mp['params'], cv=5, return_train_score=False)\n",
    "    clf.fit(X_test, y_test)\n",
    "    scores.append({\n",
    "        'model': model_name,\n",
    "        'best_score': clf.best_score_,\n",
    "        'best_params': clf.best_params_\n",
    "    })\n",
    "    \n",
    "df = pd.DataFrame(scores,columns=['model','best_score','best_params'])\n",
    "df"
   ]
  },
  {
   "cell_type": "code",
   "execution_count": null,
   "id": "79a4a547",
   "metadata": {},
   "outputs": [],
   "source": [
    "models = ['SVM', 'random_forest', 'logistic_regression', 'knn', 'Decision_Tree']\n",
    "model_accuracy = [best_score]\n",
    "\n",
    "fig = plt.figure(figsize=(7, 4))\n",
    "plt.bar(models, model_accuracy, width=0.4)\n",
    "plt.title('Most Accurate Model for Predictions')\n",
    "plt.xlabel('Models Implemented on the Dataset')\n",
    "plt.ylabel('Accuracy for the Implemented Model')\n",
    "plt.show()"
   ]
  },
  {
   "cell_type": "code",
   "execution_count": null,
   "id": "72ddf631",
   "metadata": {},
   "outputs": [],
   "source": []
  },
  {
   "cell_type": "code",
   "execution_count": null,
   "id": "e96b6eb1",
   "metadata": {},
   "outputs": [],
   "source": []
  },
  {
   "cell_type": "code",
   "execution_count": null,
   "id": "5e0daf77",
   "metadata": {},
   "outputs": [],
   "source": []
  },
  {
   "cell_type": "code",
   "execution_count": null,
   "id": "edf66288",
   "metadata": {},
   "outputs": [],
   "source": []
  },
  {
   "cell_type": "code",
   "execution_count": null,
   "id": "ffc938e0",
   "metadata": {},
   "outputs": [],
   "source": []
  }
 ],
 "metadata": {
  "kernelspec": {
   "display_name": "Python 3 (ipykernel)",
   "language": "python",
   "name": "python3"
  },
  "language_info": {
   "codemirror_mode": {
    "name": "ipython",
    "version": 3
   },
   "file_extension": ".py",
   "mimetype": "text/x-python",
   "name": "python",
   "nbconvert_exporter": "python",
   "pygments_lexer": "ipython3",
   "version": "3.9.12"
  }
 },
 "nbformat": 4,
 "nbformat_minor": 5
}
